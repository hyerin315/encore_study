{
 "cells": [
  {
   "cell_type": "code",
   "execution_count": 3,
   "id": "76931132",
   "metadata": {},
   "outputs": [
    {
     "name": "stdout",
     "output_type": "stream",
     "text": [
      "<class 'pandas.core.frame.DataFrame'>\n",
      "RangeIndex: 440 entries, 0 to 439\n",
      "Data columns (total 3 columns):\n",
      " #   Column  Non-Null Count  Dtype \n",
      "---  ------  --------------  ----- \n",
      " 0   상품명     410 non-null    object\n",
      " 1   성능목록    410 non-null    object\n",
      " 2   가격      440 non-null    int64 \n",
      "dtypes: int64(1), object(2)\n",
      "memory usage: 10.4+ KB\n"
     ]
    },
    {
     "data": {
      "text/html": [
       "<div>\n",
       "<style scoped>\n",
       "    .dataframe tbody tr th:only-of-type {\n",
       "        vertical-align: middle;\n",
       "    }\n",
       "\n",
       "    .dataframe tbody tr th {\n",
       "        vertical-align: top;\n",
       "    }\n",
       "\n",
       "    .dataframe thead th {\n",
       "        text-align: right;\n",
       "    }\n",
       "</style>\n",
       "<table border=\"1\" class=\"dataframe\">\n",
       "  <thead>\n",
       "    <tr style=\"text-align: right;\">\n",
       "      <th></th>\n",
       "      <th>상품명</th>\n",
       "      <th>성능목록</th>\n",
       "      <th>가격</th>\n",
       "    </tr>\n",
       "  </thead>\n",
       "  <tbody>\n",
       "    <tr>\n",
       "      <th>0</th>\n",
       "      <td>LG전자 오브제컬렉션 코드제로 ThinQ A9S AO9571</td>\n",
       "      <td>핸디/스틱청소기 / 핸디+스틱형 / 무선형 / 흡입+걸레겸용 / [성능] 2중터보싸...</td>\n",
       "      <td>1203710</td>\n",
       "    </tr>\n",
       "    <tr>\n",
       "      <th>1</th>\n",
       "      <td>WJTluUC3Kx</td>\n",
       "      <td>WJTluUC3Kx685978</td>\n",
       "      <td>685978</td>\n",
       "    </tr>\n",
       "    <tr>\n",
       "      <th>2</th>\n",
       "      <td>샤오미 CLEANFLY 차량용 무선 청소기 3세대 (해외구매)</td>\n",
       "      <td>차량용청소기 / 무선 / 흡입력: 16,800Pa / 최대출력: 120W / 헤파필...</td>\n",
       "      <td>50080</td>\n",
       "    </tr>\n",
       "    <tr>\n",
       "      <th>3</th>\n",
       "      <td>샤오미 미지아 차량용 핸디 무선 청소기 (해외구매)</td>\n",
       "      <td>차량용청소기 / 무선 / 흡입력: 13,000Pa / 최대출력: 120W / 헤파필...</td>\n",
       "      <td>36230</td>\n",
       "    </tr>\n",
       "    <tr>\n",
       "      <th>4</th>\n",
       "      <td>LG전자 코드제로 A9 A9100S</td>\n",
       "      <td>핸디/스틱청소기 / 핸디+스틱형 / 무선형 / 흡입+걸레겸용 / [성능] 2중터보싸...</td>\n",
       "      <td>462570</td>\n",
       "    </tr>\n",
       "  </tbody>\n",
       "</table>\n",
       "</div>"
      ],
      "text/plain": [
       "                                  상품명  \\\n",
       "0   LG전자 오브제컬렉션 코드제로 ThinQ A9S AO9571   \n",
       "1                          WJTluUC3Kx   \n",
       "2  샤오미 CLEANFLY 차량용 무선 청소기 3세대 (해외구매)   \n",
       "3        샤오미 미지아 차량용 핸디 무선 청소기 (해외구매)   \n",
       "4                 LG전자 코드제로 A9 A9100S   \n",
       "\n",
       "                                                성능목록       가격  \n",
       "0  핸디/스틱청소기 / 핸디+스틱형 / 무선형 / 흡입+걸레겸용 / [성능] 2중터보싸...  1203710  \n",
       "1                                   WJTluUC3Kx685978   685978  \n",
       "2  차량용청소기 / 무선 / 흡입력: 16,800Pa / 최대출력: 120W / 헤파필...    50080  \n",
       "3  차량용청소기 / 무선 / 흡입력: 13,000Pa / 최대출력: 120W / 헤파필...    36230  \n",
       "4  핸디/스틱청소기 / 핸디+스틱형 / 무선형 / 흡입+걸레겸용 / [성능] 2중터보싸...   462570  "
      ]
     },
     "execution_count": 3,
     "metadata": {},
     "output_type": "execute_result"
    }
   ],
   "source": [
    "#다나와 크롤링 결과 가져오기\n",
    "import pandas as pd\n",
    "\n",
    "data = pd.read_excel(\"data4/danawa_crawling_result.xlsx\")\n",
    "data.info()\n",
    "data.head()"
   ]
  },
  {
   "cell_type": "code",
   "execution_count": 4,
   "id": "27efb3a6",
   "metadata": {},
   "outputs": [
    {
     "data": {
      "text/plain": [
       "0     LG전자 오브제컬렉션 코드제로 ThinQ A9S AO9571\n",
       "1                            WJTluUC3Kx\n",
       "2    샤오미 CLEANFLY 차량용 무선 청소기 3세대 (해외구매)\n",
       "3          샤오미 미지아 차량용 핸디 무선 청소기 (해외구매)\n",
       "4                   LG전자 코드제로 A9 A9100S\n",
       "5                           샤오미 드리미 V10\n",
       "6                                   NaN\n",
       "7                 삼성전자 제트 VS20T9278S3CS\n",
       "8             LG전자 코드제로 ThinQ A9S A9700\n",
       "9      샤오미 LYDSTO 핸디형 에어펌프 진공청소기 (해외구매)\n",
       "Name: 상품명, dtype: object"
      ]
     },
     "execution_count": 4,
     "metadata": {},
     "output_type": "execute_result"
    }
   ],
   "source": [
    "#상품명 10개 가져오기\n",
    "data['상품명'][:10]"
   ]
  },
  {
   "cell_type": "code",
   "execution_count": 234,
   "id": "e5f6b3ab",
   "metadata": {},
   "outputs": [
    {
     "data": {
      "text/plain": [
       "['샤오미', '드리미 V10']"
      ]
     },
     "execution_count": 234,
     "metadata": {},
     "output_type": "execute_result"
    }
   ],
   "source": [
    "#회사명과 모델명을 공백으로 구분 - split 사용 복습\n",
    "title = '샤오미 드리미 V10'\n",
    "info = title.split(\" \", 1)#첫 번째 공백에 대해서만 구분\n",
    "info"
   ]
  },
  {
   "cell_type": "code",
   "execution_count": 265,
   "id": "479444e5",
   "metadata": {},
   "outputs": [
    {
     "name": "stdout",
     "output_type": "stream",
     "text": [
      "440\n",
      "400\n",
      "400\n"
     ]
    }
   ],
   "source": [
    "#회사명과 모델명 분리\n",
    "company_list = []\n",
    "product_list = []\n",
    "price_list = []\n",
    "for index, title in enumerate(data['상품명']): #enumerate : value와 index 저장\n",
    "    try:\n",
    "        title_info = title.split(' ', 1)\n",
    "        company_name = title_info[0]\n",
    "        product_name = title_info[1]\n",
    "#        print(title_info) #분리된 title\n",
    "        company_list.append(company_name)\n",
    "        product_list.append(product_name)\n",
    "        price_list.append(data['가격'][index])#가격의 인덱스를 바로 뽑기\n",
    "        \n",
    "    except:\n",
    "        continue\n",
    "        \n",
    "print(len(data))\n",
    "print(len(company_list))\n",
    "print(len(price_list))"
   ]
  },
  {
   "cell_type": "code",
   "execution_count": 266,
   "id": "23d5f984",
   "metadata": {},
   "outputs": [
    {
     "data": {
      "text/plain": [
       "'핸디/스틱청소기 / 핸디+스틱형 / 무선형 / 흡입+걸레겸용 / [성능] 2중터보싸이클론 / 스마트인버터모터 / 흡입력: 210W / 소비전력: 590W / [배터리] 분리형 / 리튬이온 (2개) / 전압: 25.2V / 충전시간: 4시간 / 사용시간: 1시간(개당) / [필터] 헤파필터 / 5단계여과 / [기능] 자동물공급 / 디스플레이표시창 / 배터리잔량표시 / WiFi / [구성품] 바닥 / 물걸레 / 침구 / 솔형 / 틈새 / 올인원타워 / [부가] 알레르기인증(BAF) / 미세먼지인증(SLG) / 색상: 카밍베이지 / 무게: 2.6kg / 먼지통자동비움 / 크기(가로x세로x깊이): 250x1120x260mm'"
      ]
     },
     "execution_count": 266,
     "metadata": {},
     "output_type": "execute_result"
    }
   ],
   "source": [
    "#스펙목록 정리\n",
    "data['성능목록'][0]"
   ]
  },
  {
   "cell_type": "code",
   "execution_count": 267,
   "id": "cce87561",
   "metadata": {},
   "outputs": [
    {
     "data": {
      "text/plain": [
       "['핸디/스틱청소기',\n",
       " '핸디+스틱형',\n",
       " '무선형',\n",
       " '흡입+걸레겸용',\n",
       " '[성능] 2중터보싸이클론',\n",
       " '스마트인버터모터',\n",
       " '흡입력: 210W',\n",
       " '소비전력: 590W',\n",
       " '[배터리] 분리형',\n",
       " '리튬이온 (2개)',\n",
       " '전압: 25.2V',\n",
       " '충전시간: 4시간',\n",
       " '사용시간: 1시간(개당)',\n",
       " '[필터] 헤파필터',\n",
       " '5단계여과',\n",
       " '[기능] 자동물공급',\n",
       " '디스플레이표시창',\n",
       " '배터리잔량표시',\n",
       " 'WiFi',\n",
       " '[구성품] 바닥',\n",
       " '물걸레',\n",
       " '침구',\n",
       " '솔형',\n",
       " '틈새',\n",
       " '올인원타워',\n",
       " '[부가] 알레르기인증(BAF)',\n",
       " '미세먼지인증(SLG)',\n",
       " '색상: 카밍베이지',\n",
       " '무게: 2.6kg',\n",
       " '먼지통자동비움',\n",
       " '크기(가로x세로x깊이): 250x1120x260mm']"
      ]
     },
     "execution_count": 267,
     "metadata": {},
     "output_type": "execute_result"
    }
   ],
   "source": [
    "#첫 번쨰 제품의 스펙목록 분리\n",
    "spec_list = data['성능목록'][0].split(' / ')\n",
    "spec_list"
   ]
  },
  {
   "cell_type": "code",
   "execution_count": 268,
   "id": "8350dbf8",
   "metadata": {},
   "outputs": [
    {
     "data": {
      "text/plain": [
       "'핸디/스틱청소기'"
      ]
     },
     "execution_count": 268,
     "metadata": {},
     "output_type": "execute_result"
    }
   ],
   "source": [
    "#카테고리 정보 추출\n",
    "category = spec_list[0]\n",
    "category"
   ]
  },
  {
   "cell_type": "code",
   "execution_count": 269,
   "id": "fb7766db",
   "metadata": {},
   "outputs": [
    {
     "name": "stdout",
     "output_type": "stream",
     "text": [
      "사용시간: 1시간(개당)\n",
      "흡입력: 210W\n"
     ]
    }
   ],
   "source": [
    "#사용시간, 흡입력이 포함된 원소추출\n",
    "for spec in spec_list:\n",
    "    if '사용시간' in spec:\n",
    "        use_time_spec = spec\n",
    "    elif '흡입력' in spec:\n",
    "        suction_spec = spec\n",
    "\n",
    "print(use_time_spec)\n",
    "print(suction_spec)"
   ]
  },
  {
   "cell_type": "code",
   "execution_count": 270,
   "id": "84047f62",
   "metadata": {},
   "outputs": [
    {
     "name": "stdout",
     "output_type": "stream",
     "text": [
      "1시간(개당)\n",
      "210W\n"
     ]
    }
   ],
   "source": [
    "#정량적인 수치 추출\n",
    "use_time_value = use_time_spec.split(' ')[1].strip()\n",
    "suction_value = suction_spec.split(' ')[1].strip()\n",
    "print(use_time_value)\n",
    "print(suction_value)"
   ]
  },
  {
   "cell_type": "code",
   "execution_count": 271,
   "id": "28c9855e",
   "metadata": {},
   "outputs": [],
   "source": [
    "#카테고리, 사용시간, 흡입력 추출 \n",
    "category_list = []\n",
    "use_time_list = []\n",
    "suction_list = []\n",
    "for spec_data in data['성능목록']:\n",
    "    #오류 잡기\n",
    "    try:\n",
    "        # ' / ' 기준으로 스펙 분리하기 \n",
    "        spec_list = spec_data.split(' / ')\n",
    "        \n",
    "        if len(spec_list) > 1:\n",
    "            # 카테고리 추출하기\n",
    "            category = spec_list[0]\n",
    "            category_list.append(category)\n",
    "\n",
    "            # 사용시간, 흡입력 추출 \n",
    "            # 사용시간, 흡입력 정보가 없는 제품을 위해 변수를 생성 \n",
    "            use_time_value = None\n",
    "            suction_value = None\n",
    "\n",
    "            # spec_list의 각 원소에서 사용시간, 흡입력 수치 추출\n",
    "            for spec in spec_list:\n",
    "                if '사용시간' in spec:\n",
    "                    use_time_value = spec.split(' ')[1].strip()\n",
    "                if '흡입력' in spec:\n",
    "                    suction_value = spec.split(' ')[1].strip()\n",
    "\n",
    "            use_time_list.append(use_time_value)\n",
    "            suction_list.append(suction_value)\n",
    "        \n",
    "    except:\n",
    "        continue"
   ]
  },
  {
   "cell_type": "code",
   "execution_count": 272,
   "id": "dbbc5984",
   "metadata": {},
   "outputs": [
    {
     "name": "stdout",
     "output_type": "stream",
     "text": [
      "카테고리 400 ['핸디/스틱청소기', '차량용청소기', '차량용청소기', '핸디/스틱청소기', '핸디/스틱청소기']\n",
      "사용시간 400 ['1시간(개당)', '25분', '9~30분', '40분(개당)', '1시간(개당)']\n",
      "흡입력 400 ['210W', '16,800Pa', '13,000Pa', None, '22000Pa']\n"
     ]
    }
   ],
   "source": [
    "#카테고리, 사용시간, 흡입력에 대한 전처리 결과 확인\n",
    "print('카테고리', len(category_list), category_list[0:5])\n",
    "print('사용시간', len(use_time_list), use_time_list[0:5])\n",
    "print('흡입력', len(suction_list), suction_list[0:5])"
   ]
  },
  {
   "cell_type": "code",
   "execution_count": 273,
   "id": "bc2c2692",
   "metadata": {},
   "outputs": [
    {
     "name": "stdout",
     "output_type": "stream",
     "text": [
      "['핸디/스틱청소기', '차량용청소기', '차량용청소기', '핸디/스틱청소기', '핸디/스틱청소기', '핸디/스틱청소기', '핸디/스틱청소기', '차량용청소기', '핸디/스틱청소기', '핸디/스틱청소기', '핸디/스틱청소기', '핸디/스틱청소기', '핸디/스틱청소기', '로봇청소기', '핸디/스틱청소기', '차량용청소기', '차량용청소기', '핸디/스틱청소기', '차량용청소기', '핸디/스틱청소기', '욕실청소기', '물걸레청소기', '핸디/스틱청소기', '핸디/스틱청소기', '핸디/스틱청소기', '핸디/스틱청소기', '핸디/스틱청소기', '핸디/스틱청소기', '핸디/스틱청소기', '핸디/스틱청소기', '핸디/스틱청소기', '핸디/스틱청소기', '핸디/스틱청소기', '핸디/스틱청소기', '차량용청소기', '핸디/스틱청소기', '물걸레청소기', '핸디/스틱청소기', '핸디/스틱청소기', '핸디/스틱청소기', '로봇청소기', '핸디/스틱청소기', '핸디/스틱청소기', '물걸레청소기', '핸디/스틱청소기', '핸디/스틱청소기', '침구청소기', '핸디/스틱청소기', '핸디/스틱청소기', '핸디/스틱청소기', '핸디/스틱청소기', '핸디/스틱청소기', '핸디/스틱청소기', '핸디/스틱청소기', '핸디/스틱청소기', '핸디/스틱청소기', '핸디/스틱청소기', '핸디/스틱청소기', '핸디/스틱청소기', '핸디/스틱청소기', '핸디/스틱청소기', '핸디/스틱청소기', '핸디/스틱청소기', '욕실청소기', '핸디/스틱청소기', '핸디/스틱청소기', '핸디/스틱청소기', '물걸레청소기', '핸디/스틱청소기', '물걸레청소기', '핸디/스틱청소기', '핸디/스틱청소기', '핸디/스틱청소기', '핸디/스틱청소기', '핸디/스틱청소기', '핸디/스틱청소기', '차량용청소기', '핸디/스틱청소기', '물걸레청소기', '물걸레청소기', '핸디/스틱청소기', '핸디/스틱청소기', '핸디/스틱청소기', '핸디/스틱청소기', '핸디/스틱청소기', '핸디/스틱청소기', '물걸레청소기', '핸디/스틱청소기', '핸디/스틱청소기', '핸디/스틱청소기', '차량용청소기', '핸디/스틱청소기', '핸디/스틱청소기', '핸디/스틱청소기', '핸디/스틱청소기', '핸디/스틱청소기', '핸디/스틱청소기', '물걸레청소기', '핸디/스틱청소기', '핸디/스틱청소기', '핸디/스틱청소기', '핸디/스틱청소기', '핸디/스틱청소기', '핸디/스틱청소기', '물걸레청소기', '핸디/스틱청소기', '핸디/스틱청소기', '핸디/스틱청소기', '핸디/스틱청소기', '물걸레청소기', '물걸레청소기', '핸디/스틱청소기', '핸디/스틱청소기', '핸디/스틱청소기', '핸디/스틱청소기', '핸디/스틱청소기', '핸디/스틱청소기', '핸디/스틱청소기', '핸디/스틱청소기', '핸디/스틱청소기', '핸디/스틱청소기', '핸디/스틱청소기', '핸디/스틱청소기', '핸디/스틱청소기', '핸디/스틱청소기', '핸디/스틱청소기', '핸디/스틱청소기', '핸디/스틱청소기', '핸디/스틱청소기', '핸디/스틱청소기', '핸디/스틱청소기', '핸디/스틱청소기', '핸디/스틱청소기', '핸디/스틱청소기', '핸디/스틱청소기', '핸디/스틱청소기', '핸디/스틱청소기', '핸디/스틱청소기', '핸디/스틱청소기', '핸디/스틱청소기', '핸디/스틱청소기', '핸디/스틱청소기', '핸디/스틱청소기', '핸디/스틱청소기', '핸디/스틱청소기', '핸디/스틱청소기', '핸디/스틱청소기', '핸디/스틱청소기', '핸디/스틱청소기', '물걸레청소기', '차량용청소기', '핸디/스틱청소기', '핸디/스틱청소기', '물걸레청소기', '차량용청소기', '차량용청소기', '핸디/스틱청소기', '차량용청소기', '침구청소기', '핸디/스틱청소기', '핸디/스틱청소기', '핸디/스틱청소기', '물걸레청소기', '침구청소기', '핸디/스틱청소기', '차량용청소기', '차량용청소기', '차량용청소기', '물걸레청소기', '침구청소기', '핸디/스틱청소기', '핸디/스틱청소기', '핸디/스틱청소기', '차량용청소기', '핸디/스틱청소기', '침구청소기', '핸디/스틱청소기', '핸디/스틱청소기', '핸디/스틱청소기', '핸디/스틱청소기', '차량용청소기', '핸디/스틱청소기', '핸디/스틱청소기', '핸디/스틱청소기', '핸디/스틱청소기', '핸디/스틱청소기', '차량용청소기', '핸디/스틱청소기', '핸디/스틱청소기', '차량용청소기', '차량용청소기', '핸디/스틱청소기', '차량용청소기', '핸디/스틱청소기', '핸디/스틱청소기', '핸디/스틱청소기', '핸디/스틱청소기', '핸디/스틱청소기', '핸디/스틱청소기', '핸디/스틱청소기', '핸디/스틱청소기', '핸디/스틱청소기', '핸디/스틱청소기', '욕실청소기', '핸디/스틱청소기', '핸디/스틱청소기', '핸디/스틱청소기', '핸디/스틱청소기', '핸디/스틱청소기', '핸디/스틱청소기', '물걸레청소기', '핸디/스틱청소기', '핸디/스틱청소기', '핸디/스틱청소기', '핸디/스틱청소기', '핸디/스틱청소기', '핸디/스틱청소기', '핸디/스틱청소기', '핸디/스틱청소기', '차량용청소기', '핸디/스틱청소기', '핸디/스틱청소기', '핸디/스틱청소기', '차량용청소기', '차량용청소기', '핸디/스틱청소기', '침구청소기', '핸디/스틱청소기', '핸디/스틱청소기', '핸디/스틱청소기', '핸디/스틱청소기', '핸디/스틱청소기', '핸디/스틱청소기', '핸디/스틱청소기', '핸디/스틱청소기', '핸디/스틱청소기', '핸디/스틱청소기', '핸디/스틱청소기', '핸디/스틱청소기', '핸디/스틱청소기', '물걸레청소기', '핸디/스틱청소기', '핸디/스틱청소기', '핸디/스틱청소기', '핸디/스틱청소기', '물걸레청소기', '핸디/스틱청소기', '핸디/스틱청소기', '핸디/스틱청소기', '욕실청소기', '핸디/스틱청소기', '침구청소기', '핸디/스틱청소기', '핸디/스틱청소기', '물걸레청소기', '핸디/스틱청소기', '핸디/스틱청소기', '핸디/스틱청소기', '핸디/스틱청소기', '차량용청소기', '욕실청소기', '침구청소기', '핸디/스틱청소기', '차량용청소기', '핸디/스틱청소기', '핸디/스틱청소기', '핸디/스틱청소기', '차량용청소기', '침구청소기', '업소용청소기', '핸디/스틱청소기', '핸디/스틱청소기', '핸디/스틱청소기', '물걸레청소기', '핸디/스틱청소기', '핸디/스틱청소기', '물걸레청소기', '핸디/스틱청소기', '차량용청소기', '물걸레청소기', '핸디/스틱청소기', '핸디/스틱청소기', '핸디/스틱청소기', '핸디/스틱청소기', '업소용청소기', '핸디/스틱청소기', '핸디/스틱청소기', '핸디/스틱청소기', '핸디/스틱청소기', '핸디/스틱청소기', '업소용청소기', '물걸레청소기', '핸디/스틱청소기', '핸디/스틱청소기', '핸디/스틱청소기', '핸디/스틱청소기', '핸디/스틱청소기', '핸디/스틱청소기', '물걸레청소기', '핸디/스틱청소기', '핸디/스틱청소기', '핸디/스틱청소기', '핸디/스틱청소기', '물걸레청소기', '핸디/스틱청소기', '핸디/스틱청소기', '차량용청소기', '차량용청소기', '핸디/스틱청소기', '차량용청소기', '물걸레청소기', '핸디/스틱청소기', '핸디/스틱청소기', '물걸레청소기', '핸디/스틱청소기', '핸디/스틱청소기', '핸디/스틱청소기', '핸디/스틱청소기', '핸디/스틱청소기', '욕실청소기', '핸디/스틱청소기', '욕실청소기', '물걸레청소기', '핸디/스틱청소기', '핸디/스틱청소기', '핸디/스틱청소기', '차량용청소기', '핸디/스틱청소기', '차량용청소기', '차량용청소기', '핸디/스틱청소기', '핸디/스틱청소기', '로봇청소기', '핸디/스틱청소기', '물걸레청소기', '핸디/스틱청소기', '핸디/스틱청소기+로봇청소기', '핸디/스틱청소기', '차량용청소기', '핸디/스틱청소기', '핸디/스틱청소기', '핸디/스틱청소기', '핸디/스틱청소기', '핸디/스틱청소기', '핸디/스틱청소기', '핸디/스틱청소기', '핸디/스틱청소기', '핸디/스틱청소기', '핸디/스틱청소기', '핸디/스틱청소기', '물걸레청소기', '핸디/스틱청소기', '핸디/스틱청소기', '물걸레청소기', '핸디/스틱청소기', '핸디/스틱청소기', '핸디/스틱청소기', '핸디/스틱청소기', '핸디/스틱청소기', '핸디/스틱청소기', '침구청소기', '차량용청소기', '핸디/스틱청소기', '핸디/스틱청소기', '핸디/스틱청소기', '차량용청소기', '핸디/스틱청소기', '물걸레청소기', '핸디/스틱청소기', '핸디/스틱청소기', '핸디/스틱청소기', '핸디/스틱청소기', '핸디/스틱청소기', '핸디/스틱청소기', '욕실청소기', '핸디/스틱청소기', '핸디/스틱청소기', '욕실청소기', '핸디/스틱청소기', '물걸레청소기', '핸디/스틱청소기', '핸디/스틱청소기', '핸디/스틱청소기', '물걸레청소기', '물걸레청소기', '핸디/스틱청소기', '핸디/스틱청소기', '핸디/스틱청소기', '핸디/스틱청소기', '핸디/스틱청소기', '핸디/스틱청소기', '침구청소기', '차량용청소기', '핸디/스틱청소기', '핸디/스틱청소기', '진공청소기', '핸디/스틱청소기', '핸디/스틱청소기', '차량용청소기', '차량용청소기']\n"
     ]
    }
   ],
   "source": [
    "print(category_list)"
   ]
  },
  {
   "cell_type": "code",
   "execution_count": 274,
   "id": "51812e59",
   "metadata": {},
   "outputs": [
    {
     "name": "stdout",
     "output_type": "stream",
     "text": [
      "['1시간(개당)', '25분', '9~30분', '40분(개당)', '1시간(개당)', '1시간(개당)', '1시간(개당)', '15~30분', '1시간(개당)', '1시간(개당)', '45분(개당)', '60분(개당)', '40분(개당)', '3시간(개당)', '20분(개당)', '30분', '17분', '1시간(개당)', '15~28분', '42분(개당)', '1시간40분(개당)', '30분(개당)', '1시간(개당)', '50분(개당)', '1시간(개당)', '1시간(개당)', '1시간30분(개당)', '1시간(개당)', '1시간(개당)', '50분(개당)', '1시간(개당)', '1시간(개당)', '1시간(개당)', '53분(개당)', '30분', '1시간(개당)', '50분(개당)', '1시간(개당)', '40분(개당)', '1시간(개당)', '3시간(개당)', '1시간(개당)', '1시간(개당)', '30분(개당)', '10분(개당)', '1시간(개당)', '25분(개당)', '30분(개당)', '45분(개당)', '40분(개당)', '35분(개당)', '1시간(개당)', '50분(개당)', '1시간(개당)', '53분(개당)', '20분(개당)', '1시간(개당)', '1시간(개당)', '1시간(개당)', '1시간(개당)', '50분(개당)', '1시간(개당)', '24분(개당)', '50분(개당)', '50분(개당)', '1시간(개당)', '20분(개당)', '1시간20분(개당)', '1시간(개당)', '30분(개당)', '45분(개당)', '40분(개당)', '20분(개당)', '30분(개당)', '1시간(개당)', '50분(개당)', '12분(고속),25분(저속)', '1시간(개당)', '4시간(개당)', '30분(개당)', '1시간(개당)', '1시간(개당)', '1시간(개당)', '50분(개당)', '1시간(개당)', '30분(개당)', '30분(개당)', '28분(개당)', '40분(개당)', '1시간(개당)', '20분', '20분(개당)', '1시간(개당)', '40분(개당)', '40분(개당)', '60분(개당)', '40분(개당)', None, '1시간(개당)', '1시간10분(개당)', '1시간(개당)', '40분(개당)', '40분(개당)', '40분(강),', '40분(개당)', '45분(개당)', '1시간(개당)', '40분(개당)', '30분(개당)', '80분(개당)', '60분(개당)', '35분(개당)', '35분(개당)', '1시간(개당)', '1시간20분(개당)', '1시간(개당)', '1시간5분(개당)', '40분(개당)', '40분(개당)', '40분(개당)', '40분(개당)', '30분(개당)', '20분(개당)', '40분(개당)', '45분(개당)', '40분(개당)', '40분(개당)', '20~30분(개당)', '30분(개당)', '40분(개당)', '40분(개당)', '40분(개당)', '30분(개당)', '50분(개당)', '45분(개당)', '1시간(개당)', '40분(개당)', '40분(개당)', '40분(개당)', '40분(개당)', '40분(개당)', '40분(개당)', '40분(개당)', '40분(개당)', '35분(개당)', '1시간30분(개당)', '48분(개당)', '48분(개당)', None, '1시간(개당)', '20~28분', None, '55분(개당)', '30분(개당)', '30분', '30분', '12분(개당)', '25분', '50분(개당)', '50분(개당)', '2시간(개당)', '42분(개당)', '1시간(개당)', '1시간30분(개당)', '40분(개당)', '30분', None, '20분', '1시간30분(개당)', '1시간30분(개당)', None, '40분(개당)', '30분(개당)', '15분', '1시간10분(개당)', '25분(개당)', '30분(개당)', '1시간(개당)', '40분(개당)', '1시간(개당)', '24분', '45분(개당)', '1시간(개당)', '20분(개당)', None, '30분(개당)', '10~17분', '50분(개당)', '45분(개당)', '25분', '15분', '1시간(개당)', '17분', '40분(개당)', '25분(개당)', '1시간(개당)', '1시간(개당)', None, '45분(개당)', None, '40분(개당)', '30분(개당)', None, '1시간(개당)', '11분(개당)', '20분(개당)', '7분(개당)', '1시간(개당)', '1시간(개당)', '48분(개당)', None, '30분(개당)', '40분(개당)', '1시간(개당)', '1시간30분(개당)', '55분(개당)', '50분(개당)', '30분(개당)', '15분(개당)', '18분', '45분(개당)', '12분(개당)', '20분(개당)', '15~30분', None, '1시간(개당)', '40분(개당)', '20분(개당)', '10~15분(개당)', '50분(개당)', '30분(개당)', '25분(개당)', '1시간5분(개당)', '20분(개당)', '1시간(개당)', '48분(개당)', '8분(개당)', '40분(개당)', '48분(개당)', '22분(개당)', '37분(개당)', None, '1시간(개당)', '30분(개당)', '12분(개당)', '30분(개당)', '40분(개당)', '30분(개당)', '40분(개당)', '1시간50분(개당)', '11분(개당)', '1시간30분(개당)', '50분(개당)', '35분(개당)', '30분(개당)', None, '15분(개당)', None, '1시간10분(개당)', None, '사용시간:', '1시간(개당)', '5~10분(개당)', '13분', '20분(개당)', '35분(개당)', '8~12분(개당)', '25분', '25분(개당)', None, '30분(개당)', '35분(개당)', '35분(개당)', '30분(개당)', '14분(개당)', '55분(개당)', '30분(개당)', '1시간(개당)', None, '40분(개당)', '40분(개당)', '30분(개당)', '30분(개당)', '1시간(개당)', None, '50분(개당)', '22분(개당)', '1시간(개당)', '35분(개당)', '18분(개당)', '35분(개당)', '1시간(개당)', '1시간(개당)', '15분(개당)', '45분(개당)', '40분(개당)', '53분(개당)', '15분(개당)', '5시간(개당)', '40분(개당)', '18분(개당)', '12분(개당)', '25분(개당)', '30분(개당)', '30분(개당)', '25분(개당)', '20분', '30분', '35분(개당)', '20분', '50분(개당)', '40분(개당)', '35분(개당)', '50분(개당)', '38분(개당)', '10분(개당)', '1시간(개당)', '20분(개당)', '55분(개당)', '1시간30분(개당)', None, '1시간40분(개당)', '30분(개당)', '1시간(개당)', '45분(개당)', None, None, '20분(개당)', '25분', '15분', '1시간(개당)', '40분(개당)', '1시간(개당)', '1시간(개당)', '45분(개당)', '30분(개당)', '1시간(개당)', '11분(개당)', '13분', '48분(개당)', '1시간(개당)', '30분(개당)', '35분(개당)', '28분(개당)', '1시간(개당)', '45분(개당)', '1시간20분(개당)', '40분(개당)', '9분(개당)', None, '20분(개당)', '35분(개당)', '40분(개당)', '25분(개당)', '45분(개당)', '1시간10분(개당)', '35분(개당)', '1시간(개당)', '1시간(개당)', '20분(개당)', '8~28분(개당)', '12~20분', '40분(개당)', '33분(개당)', '15분(개당)', '20분', '50분(개당)', '50분(개당)', '35분(개당)', '1시간(개당)', '20분(개당)', '40분(개당)', '48분(개당)', '45분(개당)', '1시간30분~2시간(개당)', '35분(개당)', '1시간(개당)', '2시간30분(개당)', '25분(개당)', '30분(개당)', '40분(개당)', '18분(개당)', '1시간(개당)', '1시간20분(개당)', '31분(개당)', '40분(개당)', '35분(개당)', '30분(개당)', '16분(개당)', '30분(개당)', None, '40분(개당)', None, '28분(개당)', '45분(개당)', '50분', '40분(개당)', '15분(개당)', '15분', '20분']\n"
     ]
    }
   ],
   "source": [
    "print(use_time_list)"
   ]
  },
  {
   "cell_type": "code",
   "execution_count": 275,
   "id": "647924ca",
   "metadata": {},
   "outputs": [],
   "source": [
    "#사용시간을 분 단위로 조정하는 함수\n",
    "def convert_time_minute(time):\n",
    "    try:\n",
    "        #'~' 있을때\n",
    "        if '~' in time:\n",
    "            hour_m = time.split('~')[0] #'~' 앞의 숫자 가져오기\n",
    "                                        #ex) 1시간20분~2시간 -> 앞의 것(1시간20분)만 가져오기\n",
    "            \n",
    "            # 앞의 숫자에'시간'이 있는 경우\n",
    "            if '시간' in hour_m:\n",
    "                hour = hour_m.split('시간')[0] #'시간' 앞의 숫자 가져오기\n",
    "                \n",
    "                #앞의 숫자에 '분'이 있는 경우\n",
    "                if '분' in hour_m:\n",
    "                    minute = hour_m.split('시간')[-1].split('분')[0]\n",
    "                    \n",
    "                    #'분'에 '~'가 있는 경우\n",
    "                    if '~' in minute:\n",
    "                        minute = minute.split('~')[1]\n",
    "\n",
    "                #앞의 숫자에 시간만 있고, '분'이 없는 경우\n",
    "                else:\n",
    "                    minute = 0\n",
    "                \n",
    "            else:\n",
    "                #'시간'이 없고 '분'만 있는 경우\n",
    "                hour = 0\n",
    "                minute = hour_m.split('분')[0]\n",
    "                \n",
    "                if '~' in minute:\n",
    "                    minute = minute.split('~')[1].strip()\n",
    "\n",
    "        \n",
    "        #'~' 없을때\n",
    "        else:\n",
    "            if '시간' in time:\n",
    "                hour = time.split('시간')[0]\n",
    "                if '분' in time:\n",
    "                    minute = time.split('시간')[-1].split('분')[0]\n",
    "#                     if '~' in minute:\n",
    "#                         minute = minute.split('~')[1]\n",
    "                else:\n",
    "                    minute = 0\n",
    "\n",
    "            else:\n",
    "                hour = 0\n",
    "                minute = time.split('분')[0]\n",
    "#                 if '~' in minute:\n",
    "#                     minute = minute.split('~')[1]\n",
    "\n",
    "        return int(hour) * 60 + int(minute) #문자열인 '시간'을 숫자형(분 형태)으로 변환 후, \n",
    "                                             #기존 문자열 '분'을 숫자형으로 변환해 더함\n",
    "    except Exception as e:\n",
    "        print(e)"
   ]
  },
  {
   "cell_type": "code",
   "execution_count": 276,
   "id": "6e748617",
   "metadata": {},
   "outputs": [
    {
     "name": "stdout",
     "output_type": "stream",
     "text": [
      "40분(개당) = 40\n",
      "4분 = 4\n",
      "1시간30분(개당) = 90\n",
      "9~10분 = 9\n",
      "1시간9~10분 = 60\n",
      "1시간30분~2시간 = 90\n",
      "argument of type 'NoneType' is not iterable\n",
      "None = None\n"
     ]
    }
   ],
   "source": [
    "#사용시간을 분 단위로 조정하는 함수의 테스트\n",
    "times = ['40분(개당)', '4분', '1시간30분(개당)', '9~10분', '1시간9~10분', '1시간30분~2시간', None]\n",
    "for time in times:\n",
    "    time_value = convert_time_minute(time)\n",
    "    print(time, '=', time_value)"
   ]
  },
  {
   "cell_type": "code",
   "execution_count": 277,
   "id": "cb1c999c",
   "metadata": {},
   "outputs": [
    {
     "name": "stdout",
     "output_type": "stream",
     "text": [
      "argument of type 'NoneType' is not iterable\n",
      "argument of type 'NoneType' is not iterable\n",
      "argument of type 'NoneType' is not iterable\n",
      "argument of type 'NoneType' is not iterable\n",
      "argument of type 'NoneType' is not iterable\n",
      "argument of type 'NoneType' is not iterable\n",
      "argument of type 'NoneType' is not iterable\n",
      "argument of type 'NoneType' is not iterable\n",
      "argument of type 'NoneType' is not iterable\n",
      "argument of type 'NoneType' is not iterable\n",
      "argument of type 'NoneType' is not iterable\n",
      "argument of type 'NoneType' is not iterable\n",
      "argument of type 'NoneType' is not iterable\n",
      "argument of type 'NoneType' is not iterable\n",
      "argument of type 'NoneType' is not iterable\n",
      "invalid literal for int() with base 10: '사용'\n",
      "argument of type 'NoneType' is not iterable\n",
      "argument of type 'NoneType' is not iterable\n",
      "argument of type 'NoneType' is not iterable\n",
      "argument of type 'NoneType' is not iterable\n",
      "argument of type 'NoneType' is not iterable\n",
      "argument of type 'NoneType' is not iterable\n",
      "argument of type 'NoneType' is not iterable\n",
      "argument of type 'NoneType' is not iterable\n",
      "argument of type 'NoneType' is not iterable\n",
      "400\n",
      "[60, 25, 9, 40, 60, 60, 60, 15, 60, 60]\n"
     ]
    }
   ],
   "source": [
    "new_use_time_list = []\n",
    "for time in use_time_list:\n",
    "    time_value = convert_time_minute(time)\n",
    "    new_use_time_list.append(time_value)\n",
    "\n",
    "print(len(new_use_time_list))    \n",
    "print(new_use_time_list[:10])"
   ]
  },
  {
   "cell_type": "code",
   "execution_count": 278,
   "id": "5a38120d",
   "metadata": {},
   "outputs": [
    {
     "data": {
      "text/plain": [
       "['210W',\n",
       " '16,800Pa',\n",
       " '13,000Pa',\n",
       " None,\n",
       " '22000Pa',\n",
       " '200W',\n",
       " '200W',\n",
       " '10,000Pa',\n",
       " '200W',\n",
       " '210W']"
      ]
     },
     "execution_count": 278,
     "metadata": {},
     "output_type": "execute_result"
    }
   ],
   "source": [
    "#흡입력이 pa, w, aw단위로 혼재되어 있다\n",
    "suction_list[:10]"
   ]
  },
  {
   "cell_type": "code",
   "execution_count": 279,
   "id": "372a2e0d",
   "metadata": {},
   "outputs": [],
   "source": [
    "#흡입력 단위를 통일시키는 함수\n",
    "def get_suction(value):\n",
    "    try:\n",
    "        value = value.upper()\n",
    "        \n",
    "        #AW, W형 값이 있다면\n",
    "        if 'AW' in value or 'W' in value: \n",
    "            result = value.replace(\"A\", \"\").replace(\"W\", \"\") #'A'와 'W' 삭제\n",
    "            result = int(result.replace(\",\",\"\")) #','가 있으면 빈공간으로 replace\n",
    "        \n",
    "        #PA형 값이 있다면\n",
    "        elif 'PA' in value:\n",
    "            result = value.replace(\"PA\",\"\") #'PA' 삭제\n",
    "            result = int(result.replace(\",\",\"\"))/100 #','가 있으면 빈공간으로 replace 후, 100으로 나눔\n",
    "        \n",
    "        #그 외의 값\n",
    "        else:\n",
    "            result = None\n",
    "            \n",
    "        return result\n",
    "    \n",
    "    except Exception as er:\n",
    "        print(er)\n",
    "        return None"
   ]
  },
  {
   "cell_type": "code",
   "execution_count": 280,
   "id": "95ee7a4c",
   "metadata": {},
   "outputs": [
    {
     "name": "stdout",
     "output_type": "stream",
     "text": [
      "100W = 100\n",
      "10AW = 10\n",
      "10,000Pa = 100.0\n"
     ]
    }
   ],
   "source": [
    "#흡입력 단위 통일시키는 함수 테스트 코드\n",
    "suction = ['100W','10AW',\"10,000Pa\"]\n",
    "for power in suction:\n",
    "    value = get_suction(power)\n",
    "    print(power, \"=\", value)"
   ]
  },
  {
   "cell_type": "code",
   "execution_count": 281,
   "id": "6e7fb38e",
   "metadata": {},
   "outputs": [
    {
     "name": "stdout",
     "output_type": "stream",
     "text": [
      "'NoneType' object has no attribute 'upper'\n",
      "'NoneType' object has no attribute 'upper'\n",
      "'NoneType' object has no attribute 'upper'\n",
      "'NoneType' object has no attribute 'upper'\n",
      "'NoneType' object has no attribute 'upper'\n",
      "'NoneType' object has no attribute 'upper'\n",
      "'NoneType' object has no attribute 'upper'\n",
      "'NoneType' object has no attribute 'upper'\n",
      "'NoneType' object has no attribute 'upper'\n",
      "'NoneType' object has no attribute 'upper'\n",
      "'NoneType' object has no attribute 'upper'\n",
      "'NoneType' object has no attribute 'upper'\n",
      "'NoneType' object has no attribute 'upper'\n",
      "'NoneType' object has no attribute 'upper'\n",
      "'NoneType' object has no attribute 'upper'\n",
      "'NoneType' object has no attribute 'upper'\n",
      "'NoneType' object has no attribute 'upper'\n",
      "'NoneType' object has no attribute 'upper'\n",
      "'NoneType' object has no attribute 'upper'\n",
      "'NoneType' object has no attribute 'upper'\n",
      "'NoneType' object has no attribute 'upper'\n",
      "'NoneType' object has no attribute 'upper'\n",
      "'NoneType' object has no attribute 'upper'\n",
      "'NoneType' object has no attribute 'upper'\n",
      "'NoneType' object has no attribute 'upper'\n",
      "'NoneType' object has no attribute 'upper'\n",
      "'NoneType' object has no attribute 'upper'\n",
      "'NoneType' object has no attribute 'upper'\n",
      "'NoneType' object has no attribute 'upper'\n",
      "'NoneType' object has no attribute 'upper'\n",
      "'NoneType' object has no attribute 'upper'\n",
      "'NoneType' object has no attribute 'upper'\n",
      "'NoneType' object has no attribute 'upper'\n",
      "'NoneType' object has no attribute 'upper'\n",
      "'NoneType' object has no attribute 'upper'\n",
      "'NoneType' object has no attribute 'upper'\n",
      "'NoneType' object has no attribute 'upper'\n",
      "'NoneType' object has no attribute 'upper'\n",
      "'NoneType' object has no attribute 'upper'\n",
      "'NoneType' object has no attribute 'upper'\n",
      "'NoneType' object has no attribute 'upper'\n",
      "'NoneType' object has no attribute 'upper'\n",
      "'NoneType' object has no attribute 'upper'\n",
      "'NoneType' object has no attribute 'upper'\n",
      "'NoneType' object has no attribute 'upper'\n",
      "'NoneType' object has no attribute 'upper'\n",
      "'NoneType' object has no attribute 'upper'\n",
      "'NoneType' object has no attribute 'upper'\n",
      "'NoneType' object has no attribute 'upper'\n",
      "'NoneType' object has no attribute 'upper'\n",
      "'NoneType' object has no attribute 'upper'\n",
      "'NoneType' object has no attribute 'upper'\n",
      "'NoneType' object has no attribute 'upper'\n",
      "'NoneType' object has no attribute 'upper'\n",
      "'NoneType' object has no attribute 'upper'\n",
      "'NoneType' object has no attribute 'upper'\n",
      "'NoneType' object has no attribute 'upper'\n",
      "'NoneType' object has no attribute 'upper'\n",
      "'NoneType' object has no attribute 'upper'\n",
      "'NoneType' object has no attribute 'upper'\n",
      "'NoneType' object has no attribute 'upper'\n",
      "'NoneType' object has no attribute 'upper'\n",
      "'NoneType' object has no attribute 'upper'\n",
      "'NoneType' object has no attribute 'upper'\n",
      "'NoneType' object has no attribute 'upper'\n",
      "'NoneType' object has no attribute 'upper'\n",
      "'NoneType' object has no attribute 'upper'\n",
      "'NoneType' object has no attribute 'upper'\n",
      "'NoneType' object has no attribute 'upper'\n",
      "'NoneType' object has no attribute 'upper'\n",
      "'NoneType' object has no attribute 'upper'\n",
      "'NoneType' object has no attribute 'upper'\n",
      "'NoneType' object has no attribute 'upper'\n",
      "'NoneType' object has no attribute 'upper'\n",
      "'NoneType' object has no attribute 'upper'\n",
      "'NoneType' object has no attribute 'upper'\n",
      "'NoneType' object has no attribute 'upper'\n",
      "'NoneType' object has no attribute 'upper'\n",
      "'NoneType' object has no attribute 'upper'\n",
      "'NoneType' object has no attribute 'upper'\n",
      "'NoneType' object has no attribute 'upper'\n",
      "'NoneType' object has no attribute 'upper'\n",
      "'NoneType' object has no attribute 'upper'\n",
      "'NoneType' object has no attribute 'upper'\n",
      "'NoneType' object has no attribute 'upper'\n",
      "'NoneType' object has no attribute 'upper'\n",
      "'NoneType' object has no attribute 'upper'\n",
      "'NoneType' object has no attribute 'upper'\n",
      "'NoneType' object has no attribute 'upper'\n",
      "'NoneType' object has no attribute 'upper'\n",
      "'NoneType' object has no attribute 'upper'\n",
      "'NoneType' object has no attribute 'upper'\n",
      "'NoneType' object has no attribute 'upper'\n",
      "'NoneType' object has no attribute 'upper'\n",
      "'NoneType' object has no attribute 'upper'\n",
      "'NoneType' object has no attribute 'upper'\n",
      "'NoneType' object has no attribute 'upper'\n",
      "'NoneType' object has no attribute 'upper'\n",
      "'NoneType' object has no attribute 'upper'\n",
      "'NoneType' object has no attribute 'upper'\n",
      "'NoneType' object has no attribute 'upper'\n",
      "'NoneType' object has no attribute 'upper'\n",
      "'NoneType' object has no attribute 'upper'\n",
      "'NoneType' object has no attribute 'upper'\n",
      "'NoneType' object has no attribute 'upper'\n",
      "'NoneType' object has no attribute 'upper'\n",
      "'NoneType' object has no attribute 'upper'\n",
      "'NoneType' object has no attribute 'upper'\n",
      "'NoneType' object has no attribute 'upper'\n",
      "'NoneType' object has no attribute 'upper'\n",
      "'NoneType' object has no attribute 'upper'\n",
      "'NoneType' object has no attribute 'upper'\n",
      "'NoneType' object has no attribute 'upper'\n",
      "'NoneType' object has no attribute 'upper'\n",
      "'NoneType' object has no attribute 'upper'\n",
      "'NoneType' object has no attribute 'upper'\n",
      "'NoneType' object has no attribute 'upper'\n",
      "'NoneType' object has no attribute 'upper'\n",
      "'NoneType' object has no attribute 'upper'\n",
      "'NoneType' object has no attribute 'upper'\n",
      "'NoneType' object has no attribute 'upper'\n",
      "'NoneType' object has no attribute 'upper'\n",
      "'NoneType' object has no attribute 'upper'\n",
      "'NoneType' object has no attribute 'upper'\n",
      "'NoneType' object has no attribute 'upper'\n",
      "'NoneType' object has no attribute 'upper'\n",
      "'NoneType' object has no attribute 'upper'\n",
      "'NoneType' object has no attribute 'upper'\n",
      "'NoneType' object has no attribute 'upper'\n",
      "'NoneType' object has no attribute 'upper'\n",
      "'NoneType' object has no attribute 'upper'\n",
      "'NoneType' object has no attribute 'upper'\n",
      "'NoneType' object has no attribute 'upper'\n",
      "'NoneType' object has no attribute 'upper'\n",
      "'NoneType' object has no attribute 'upper'\n",
      "'NoneType' object has no attribute 'upper'\n",
      "'NoneType' object has no attribute 'upper'\n",
      "'NoneType' object has no attribute 'upper'\n",
      "'NoneType' object has no attribute 'upper'\n",
      "'NoneType' object has no attribute 'upper'\n",
      "'NoneType' object has no attribute 'upper'\n",
      "'NoneType' object has no attribute 'upper'\n",
      "'NoneType' object has no attribute 'upper'\n",
      "'NoneType' object has no attribute 'upper'\n",
      "'NoneType' object has no attribute 'upper'\n",
      "'NoneType' object has no attribute 'upper'\n",
      "'NoneType' object has no attribute 'upper'\n",
      "'NoneType' object has no attribute 'upper'\n",
      "'NoneType' object has no attribute 'upper'\n",
      "'NoneType' object has no attribute 'upper'\n",
      "'NoneType' object has no attribute 'upper'\n",
      "'NoneType' object has no attribute 'upper'\n",
      "'NoneType' object has no attribute 'upper'\n",
      "400\n",
      "[210, 168.0, 130.0, None, 220.0, 200, 200, 100.0, 200, 210]\n"
     ]
    }
   ],
   "source": [
    "#흡입력 단위 통일시키기\n",
    "new_suction_list = []\n",
    "for power in suction_list:\n",
    "    value = get_suction (power)\n",
    "    new_suction_list.append(value)\n",
    "     \n",
    "print(len(new_suction_list))\n",
    "print(new_suction_list[:10])"
   ]
  },
  {
   "cell_type": "code",
   "execution_count": 282,
   "id": "1ced837a",
   "metadata": {},
   "outputs": [
    {
     "name": "stdout",
     "output_type": "stream",
     "text": [
      "<class 'pandas.core.frame.DataFrame'>\n",
      "RangeIndex: 440 entries, 0 to 439\n",
      "Data columns (total 3 columns):\n",
      " #   Column  Non-Null Count  Dtype \n",
      "---  ------  --------------  ----- \n",
      " 0   상품명     410 non-null    object\n",
      " 1   성능목록    410 non-null    object\n",
      " 2   가격      440 non-null    int64 \n",
      "dtypes: int64(1), object(2)\n",
      "memory usage: 10.4+ KB\n"
     ]
    }
   ],
   "source": [
    "data.info()"
   ]
  },
  {
   "cell_type": "code",
   "execution_count": 283,
   "id": "c872703f",
   "metadata": {},
   "outputs": [
    {
     "name": "stdout",
     "output_type": "stream",
     "text": [
      "400\n",
      "400\n",
      "400\n",
      "400\n",
      "400\n",
      "400\n"
     ]
    }
   ],
   "source": [
    "print(len(company_list))\n",
    "print(len(category_list))\n",
    "print(len(product_list))\n",
    "print(len(price_list)) #가격을 다른 데이터와 같은 인덱스 값으로 가져온다\n",
    "print(len(new_use_time_list))\n",
    "print(len(suction_list))"
   ]
  },
  {
   "cell_type": "code",
   "execution_count": 284,
   "id": "19587951",
   "metadata": {},
   "outputs": [
    {
     "data": {
      "text/html": [
       "<div>\n",
       "<style scoped>\n",
       "    .dataframe tbody tr th:only-of-type {\n",
       "        vertical-align: middle;\n",
       "    }\n",
       "\n",
       "    .dataframe tbody tr th {\n",
       "        vertical-align: top;\n",
       "    }\n",
       "\n",
       "    .dataframe thead th {\n",
       "        text-align: right;\n",
       "    }\n",
       "</style>\n",
       "<table border=\"1\" class=\"dataframe\">\n",
       "  <thead>\n",
       "    <tr style=\"text-align: right;\">\n",
       "      <th></th>\n",
       "      <th>카테고리</th>\n",
       "      <th>회사명</th>\n",
       "      <th>제품</th>\n",
       "      <th>가격</th>\n",
       "      <th>사용시간</th>\n",
       "      <th>흡입력</th>\n",
       "    </tr>\n",
       "  </thead>\n",
       "  <tbody>\n",
       "    <tr>\n",
       "      <th>0</th>\n",
       "      <td>핸디/스틱청소기</td>\n",
       "      <td>LG전자</td>\n",
       "      <td>오브제컬렉션 코드제로 ThinQ A9S AO9571</td>\n",
       "      <td>1203710</td>\n",
       "      <td>60.0</td>\n",
       "      <td>210.0</td>\n",
       "    </tr>\n",
       "    <tr>\n",
       "      <th>1</th>\n",
       "      <td>차량용청소기</td>\n",
       "      <td>샤오미</td>\n",
       "      <td>CLEANFLY 차량용 무선 청소기 3세대 (해외구매)</td>\n",
       "      <td>50080</td>\n",
       "      <td>25.0</td>\n",
       "      <td>168.0</td>\n",
       "    </tr>\n",
       "    <tr>\n",
       "      <th>2</th>\n",
       "      <td>차량용청소기</td>\n",
       "      <td>샤오미</td>\n",
       "      <td>미지아 차량용 핸디 무선 청소기 (해외구매)</td>\n",
       "      <td>36230</td>\n",
       "      <td>9.0</td>\n",
       "      <td>130.0</td>\n",
       "    </tr>\n",
       "    <tr>\n",
       "      <th>3</th>\n",
       "      <td>핸디/스틱청소기</td>\n",
       "      <td>LG전자</td>\n",
       "      <td>코드제로 A9 A9100S</td>\n",
       "      <td>462570</td>\n",
       "      <td>40.0</td>\n",
       "      <td>NaN</td>\n",
       "    </tr>\n",
       "    <tr>\n",
       "      <th>4</th>\n",
       "      <td>핸디/스틱청소기</td>\n",
       "      <td>샤오미</td>\n",
       "      <td>드리미 V10</td>\n",
       "      <td>156320</td>\n",
       "      <td>60.0</td>\n",
       "      <td>220.0</td>\n",
       "    </tr>\n",
       "  </tbody>\n",
       "</table>\n",
       "</div>"
      ],
      "text/plain": [
       "       카테고리   회사명                              제품       가격  사용시간    흡입력\n",
       "0  핸디/스틱청소기  LG전자    오브제컬렉션 코드제로 ThinQ A9S AO9571  1203710  60.0  210.0\n",
       "1    차량용청소기   샤오미  CLEANFLY 차량용 무선 청소기 3세대 (해외구매)    50080  25.0  168.0\n",
       "2    차량용청소기   샤오미        미지아 차량용 핸디 무선 청소기 (해외구매)    36230   9.0  130.0\n",
       "3  핸디/스틱청소기  LG전자                  코드제로 A9 A9100S   462570  40.0    NaN\n",
       "4  핸디/스틱청소기   샤오미                         드리미 V10   156320  60.0  220.0"
      ]
     },
     "execution_count": 284,
     "metadata": {},
     "output_type": "execute_result"
    }
   ],
   "source": [
    "#전처리 데이터 확인\n",
    "pd_data = pd.DataFrame()\n",
    "pd_data['카테고리'] = category_list\n",
    "pd_data['회사명'] = company_list\n",
    "pd_data['제품'] = product_list\n",
    "pd_data['가격'] = price_list\n",
    "pd_data['사용시간'] = new_use_time_list\n",
    "pd_data['흡입력'] = new_suction_list\n",
    "pd_data.head()"
   ]
  },
  {
   "cell_type": "code",
   "execution_count": 285,
   "id": "68a3cf7f",
   "metadata": {},
   "outputs": [
    {
     "data": {
      "text/plain": [
       "핸디/스틱청소기          295\n",
       "차량용청소기             41\n",
       "물걸레청소기             36\n",
       "침구청소기              11\n",
       "욕실청소기               9\n",
       "로봇청소기               3\n",
       "업소용청소기              3\n",
       "진공청소기               1\n",
       "핸디/스틱청소기+로봇청소기      1\n",
       "Name: 카테고리, dtype: int64"
      ]
     },
     "execution_count": 285,
     "metadata": {},
     "output_type": "execute_result"
    }
   ],
   "source": [
    "#카테고리 분류 기준 및 데이터 개수 점검\n",
    "pd_data['카테고리'].value_counts()"
   ]
  },
  {
   "cell_type": "code",
   "execution_count": 286,
   "id": "57ab4655",
   "metadata": {},
   "outputs": [
    {
     "data": {
      "text/plain": [
       "295"
      ]
     },
     "execution_count": 286,
     "metadata": {},
     "output_type": "execute_result"
    }
   ],
   "source": [
    "#핸디/스틱 청소기만 선택\n",
    "pd_data_final = pd_data[pd_data['카테고리'].isin(['핸디/스틱청소기'])]\n",
    "len(pd_data_final)"
   ]
  },
  {
   "cell_type": "code",
   "execution_count": 287,
   "id": "0675705c",
   "metadata": {},
   "outputs": [
    {
     "data": {
      "text/plain": [
       "핸디/스틱청소기    295\n",
       "Name: 카테고리, dtype: int64"
      ]
     },
     "execution_count": 287,
     "metadata": {},
     "output_type": "execute_result"
    }
   ],
   "source": [
    "pd_data_final['카테고리'].value_counts()"
   ]
  },
  {
   "cell_type": "code",
   "execution_count": 288,
   "id": "6ea082fe",
   "metadata": {},
   "outputs": [],
   "source": [
    "#엑셀로 저장\n",
    "pd_data_final.to_excel('data4/danawa_data_final.xlsx', index = False)"
   ]
  },
  {
   "cell_type": "markdown",
   "id": "3e9558d4",
   "metadata": {},
   "source": [
    "###  무선청소기 모델별 비교분석"
   ]
  },
  {
   "cell_type": "code",
   "execution_count": 289,
   "id": "cfd50c09",
   "metadata": {},
   "outputs": [
    {
     "name": "stdout",
     "output_type": "stream",
     "text": [
      "<class 'pandas.core.frame.DataFrame'>\n",
      "RangeIndex: 295 entries, 0 to 294\n",
      "Data columns (total 6 columns):\n",
      " #   Column  Non-Null Count  Dtype  \n",
      "---  ------  --------------  -----  \n",
      " 0   카테고리    295 non-null    object \n",
      " 1   회사명     295 non-null    object \n",
      " 2   제품      295 non-null    object \n",
      " 3   가격      295 non-null    int64  \n",
      " 4   사용시간    281 non-null    float64\n",
      " 5   흡입력     177 non-null    float64\n",
      "dtypes: float64(2), int64(1), object(3)\n",
      "memory usage: 14.0+ KB\n"
     ]
    }
   ],
   "source": [
    "#데이터 불러오기\n",
    "danawa_data = pd.read_excel('data4/danawa_data_final.xlsx')\n",
    "danawa_data.info()"
   ]
  },
  {
   "cell_type": "code",
   "execution_count": 290,
   "id": "8bc1548c",
   "metadata": {},
   "outputs": [
    {
     "data": {
      "text/html": [
       "<div>\n",
       "<style scoped>\n",
       "    .dataframe tbody tr th:only-of-type {\n",
       "        vertical-align: middle;\n",
       "    }\n",
       "\n",
       "    .dataframe tbody tr th {\n",
       "        vertical-align: top;\n",
       "    }\n",
       "\n",
       "    .dataframe thead th {\n",
       "        text-align: right;\n",
       "    }\n",
       "</style>\n",
       "<table border=\"1\" class=\"dataframe\">\n",
       "  <thead>\n",
       "    <tr style=\"text-align: right;\">\n",
       "      <th></th>\n",
       "      <th>카테고리</th>\n",
       "      <th>회사명</th>\n",
       "      <th>제품</th>\n",
       "      <th>가격</th>\n",
       "      <th>사용시간</th>\n",
       "      <th>흡입력</th>\n",
       "    </tr>\n",
       "  </thead>\n",
       "  <tbody>\n",
       "    <tr>\n",
       "      <th>0</th>\n",
       "      <td>핸디/스틱청소기</td>\n",
       "      <td>LG전자</td>\n",
       "      <td>오브제컬렉션 코드제로 ThinQ A9S AO9571</td>\n",
       "      <td>1203710</td>\n",
       "      <td>60.0</td>\n",
       "      <td>210.0</td>\n",
       "    </tr>\n",
       "    <tr>\n",
       "      <th>1</th>\n",
       "      <td>핸디/스틱청소기</td>\n",
       "      <td>LG전자</td>\n",
       "      <td>코드제로 A9 A9100S</td>\n",
       "      <td>462570</td>\n",
       "      <td>40.0</td>\n",
       "      <td>NaN</td>\n",
       "    </tr>\n",
       "    <tr>\n",
       "      <th>2</th>\n",
       "      <td>핸디/스틱청소기</td>\n",
       "      <td>샤오미</td>\n",
       "      <td>드리미 V10</td>\n",
       "      <td>156320</td>\n",
       "      <td>60.0</td>\n",
       "      <td>220.0</td>\n",
       "    </tr>\n",
       "    <tr>\n",
       "      <th>3</th>\n",
       "      <td>핸디/스틱청소기</td>\n",
       "      <td>삼성전자</td>\n",
       "      <td>제트 VS20T9278S3CS</td>\n",
       "      <td>634940</td>\n",
       "      <td>60.0</td>\n",
       "      <td>200.0</td>\n",
       "    </tr>\n",
       "    <tr>\n",
       "      <th>4</th>\n",
       "      <td>핸디/스틱청소기</td>\n",
       "      <td>LG전자</td>\n",
       "      <td>코드제로 ThinQ A9S A9700</td>\n",
       "      <td>875390</td>\n",
       "      <td>60.0</td>\n",
       "      <td>200.0</td>\n",
       "    </tr>\n",
       "  </tbody>\n",
       "</table>\n",
       "</div>"
      ],
      "text/plain": [
       "       카테고리   회사명                            제품       가격  사용시간    흡입력\n",
       "0  핸디/스틱청소기  LG전자  오브제컬렉션 코드제로 ThinQ A9S AO9571  1203710  60.0  210.0\n",
       "1  핸디/스틱청소기  LG전자                코드제로 A9 A9100S   462570  40.0    NaN\n",
       "2  핸디/스틱청소기   샤오미                       드리미 V10   156320  60.0  220.0\n",
       "3  핸디/스틱청소기  삼성전자              제트 VS20T9278S3CS   634940  60.0  200.0\n",
       "4  핸디/스틱청소기  LG전자          코드제로 ThinQ A9S A9700   875390  60.0  200.0"
      ]
     },
     "execution_count": 290,
     "metadata": {},
     "output_type": "execute_result"
    }
   ],
   "source": [
    "danawa_data.head()"
   ]
  },
  {
   "cell_type": "code",
   "execution_count": 291,
   "id": "0e9f1577",
   "metadata": {},
   "outputs": [
    {
     "data": {
      "text/html": [
       "<div>\n",
       "<style scoped>\n",
       "    .dataframe tbody tr th:only-of-type {\n",
       "        vertical-align: middle;\n",
       "    }\n",
       "\n",
       "    .dataframe tbody tr th {\n",
       "        vertical-align: top;\n",
       "    }\n",
       "\n",
       "    .dataframe thead th {\n",
       "        text-align: right;\n",
       "    }\n",
       "</style>\n",
       "<table border=\"1\" class=\"dataframe\">\n",
       "  <thead>\n",
       "    <tr style=\"text-align: right;\">\n",
       "      <th></th>\n",
       "      <th>카테고리</th>\n",
       "      <th>회사명</th>\n",
       "      <th>제품</th>\n",
       "      <th>가격</th>\n",
       "      <th>사용시간</th>\n",
       "      <th>흡입력</th>\n",
       "    </tr>\n",
       "  </thead>\n",
       "  <tbody>\n",
       "    <tr>\n",
       "      <th>127</th>\n",
       "      <td>핸디/스틱청소기</td>\n",
       "      <td>리하스</td>\n",
       "      <td>LH20</td>\n",
       "      <td>299000</td>\n",
       "      <td>120.0</td>\n",
       "      <td>330.0</td>\n",
       "    </tr>\n",
       "    <tr>\n",
       "      <th>119</th>\n",
       "      <td>핸디/스틱청소기</td>\n",
       "      <td>샤오미</td>\n",
       "      <td>드리미 V11</td>\n",
       "      <td>242730</td>\n",
       "      <td>90.0</td>\n",
       "      <td>250.0</td>\n",
       "    </tr>\n",
       "    <tr>\n",
       "      <th>165</th>\n",
       "      <td>핸디/스틱청소기</td>\n",
       "      <td>로보락</td>\n",
       "      <td>H6</td>\n",
       "      <td>439000</td>\n",
       "      <td>90.0</td>\n",
       "      <td>250.0</td>\n",
       "    </tr>\n",
       "    <tr>\n",
       "      <th>17</th>\n",
       "      <td>핸디/스틱청소기</td>\n",
       "      <td>샤오미</td>\n",
       "      <td>드리미 V12</td>\n",
       "      <td>309430</td>\n",
       "      <td>90.0</td>\n",
       "      <td>270.0</td>\n",
       "    </tr>\n",
       "    <tr>\n",
       "      <th>257</th>\n",
       "      <td>핸디/스틱청소기</td>\n",
       "      <td>도노</td>\n",
       "      <td>SY-306</td>\n",
       "      <td>179000</td>\n",
       "      <td>80.0</td>\n",
       "      <td>220.0</td>\n",
       "    </tr>\n",
       "  </tbody>\n",
       "</table>\n",
       "</div>"
      ],
      "text/plain": [
       "         카테고리  회사명       제품      가격   사용시간    흡입력\n",
       "127  핸디/스틱청소기  리하스     LH20  299000  120.0  330.0\n",
       "119  핸디/스틱청소기  샤오미  드리미 V11  242730   90.0  250.0\n",
       "165  핸디/스틱청소기  로보락       H6  439000   90.0  250.0\n",
       "17   핸디/스틱청소기  샤오미  드리미 V12  309430   90.0  270.0\n",
       "257  핸디/스틱청소기   도노   SY-306  179000   80.0  220.0"
      ]
     },
     "execution_count": 291,
     "metadata": {},
     "output_type": "execute_result"
    }
   ],
   "source": [
    "#흡입력 기준정렬\n",
    "top_list = danawa_data.sort_values(['사용시간'], ascending= False) #내림차순 정렬\n",
    "top_list.head()"
   ]
  },
  {
   "cell_type": "code",
   "execution_count": 292,
   "id": "8cf23782",
   "metadata": {},
   "outputs": [
    {
     "data": {
      "text/html": [
       "<div>\n",
       "<style scoped>\n",
       "    .dataframe tbody tr th:only-of-type {\n",
       "        vertical-align: middle;\n",
       "    }\n",
       "\n",
       "    .dataframe tbody tr th {\n",
       "        vertical-align: top;\n",
       "    }\n",
       "\n",
       "    .dataframe thead th {\n",
       "        text-align: right;\n",
       "    }\n",
       "</style>\n",
       "<table border=\"1\" class=\"dataframe\">\n",
       "  <thead>\n",
       "    <tr style=\"text-align: right;\">\n",
       "      <th></th>\n",
       "      <th>카테고리</th>\n",
       "      <th>회사명</th>\n",
       "      <th>제품</th>\n",
       "      <th>가격</th>\n",
       "      <th>사용시간</th>\n",
       "      <th>흡입력</th>\n",
       "    </tr>\n",
       "  </thead>\n",
       "  <tbody>\n",
       "    <tr>\n",
       "      <th>127</th>\n",
       "      <td>핸디/스틱청소기</td>\n",
       "      <td>리하스</td>\n",
       "      <td>LH20</td>\n",
       "      <td>299000</td>\n",
       "      <td>120.0</td>\n",
       "      <td>330.0</td>\n",
       "    </tr>\n",
       "    <tr>\n",
       "      <th>119</th>\n",
       "      <td>핸디/스틱청소기</td>\n",
       "      <td>샤오미</td>\n",
       "      <td>드리미 V11</td>\n",
       "      <td>242730</td>\n",
       "      <td>90.0</td>\n",
       "      <td>250.0</td>\n",
       "    </tr>\n",
       "    <tr>\n",
       "      <th>165</th>\n",
       "      <td>핸디/스틱청소기</td>\n",
       "      <td>로보락</td>\n",
       "      <td>H6</td>\n",
       "      <td>439000</td>\n",
       "      <td>90.0</td>\n",
       "      <td>250.0</td>\n",
       "    </tr>\n",
       "    <tr>\n",
       "      <th>17</th>\n",
       "      <td>핸디/스틱청소기</td>\n",
       "      <td>샤오미</td>\n",
       "      <td>드리미 V12</td>\n",
       "      <td>309430</td>\n",
       "      <td>90.0</td>\n",
       "      <td>270.0</td>\n",
       "    </tr>\n",
       "    <tr>\n",
       "      <th>257</th>\n",
       "      <td>핸디/스틱청소기</td>\n",
       "      <td>도노</td>\n",
       "      <td>SY-306</td>\n",
       "      <td>179000</td>\n",
       "      <td>80.0</td>\n",
       "      <td>220.0</td>\n",
       "    </tr>\n",
       "  </tbody>\n",
       "</table>\n",
       "</div>"
      ],
      "text/plain": [
       "         카테고리  회사명       제품      가격   사용시간    흡입력\n",
       "127  핸디/스틱청소기  리하스     LH20  299000  120.0  330.0\n",
       "119  핸디/스틱청소기  샤오미  드리미 V11  242730   90.0  250.0\n",
       "165  핸디/스틱청소기  로보락       H6  439000   90.0  250.0\n",
       "17   핸디/스틱청소기  샤오미  드리미 V12  309430   90.0  270.0\n",
       "257  핸디/스틱청소기   도노   SY-306  179000   80.0  220.0"
      ]
     },
     "execution_count": 292,
     "metadata": {},
     "output_type": "execute_result"
    }
   ],
   "source": [
    "#사용시간 기준정렬\n",
    "top_list = danawa_data.sort_values(['사용시간'], ascending = False)\n",
    "top_list.head()"
   ]
  },
  {
   "cell_type": "code",
   "execution_count": 293,
   "id": "2d2c2775",
   "metadata": {},
   "outputs": [
    {
     "data": {
      "text/html": [
       "<div>\n",
       "<style scoped>\n",
       "    .dataframe tbody tr th:only-of-type {\n",
       "        vertical-align: middle;\n",
       "    }\n",
       "\n",
       "    .dataframe tbody tr th {\n",
       "        vertical-align: top;\n",
       "    }\n",
       "\n",
       "    .dataframe thead th {\n",
       "        text-align: right;\n",
       "    }\n",
       "</style>\n",
       "<table border=\"1\" class=\"dataframe\">\n",
       "  <thead>\n",
       "    <tr style=\"text-align: right;\">\n",
       "      <th></th>\n",
       "      <th>카테고리</th>\n",
       "      <th>회사명</th>\n",
       "      <th>제품</th>\n",
       "      <th>가격</th>\n",
       "      <th>사용시간</th>\n",
       "      <th>흡입력</th>\n",
       "    </tr>\n",
       "  </thead>\n",
       "  <tbody>\n",
       "    <tr>\n",
       "      <th>127</th>\n",
       "      <td>핸디/스틱청소기</td>\n",
       "      <td>리하스</td>\n",
       "      <td>LH20</td>\n",
       "      <td>299000</td>\n",
       "      <td>120.0</td>\n",
       "      <td>330.0</td>\n",
       "    </tr>\n",
       "    <tr>\n",
       "      <th>17</th>\n",
       "      <td>핸디/스틱청소기</td>\n",
       "      <td>샤오미</td>\n",
       "      <td>드리미 V12</td>\n",
       "      <td>309430</td>\n",
       "      <td>90.0</td>\n",
       "      <td>270.0</td>\n",
       "    </tr>\n",
       "    <tr>\n",
       "      <th>119</th>\n",
       "      <td>핸디/스틱청소기</td>\n",
       "      <td>샤오미</td>\n",
       "      <td>드리미 V11</td>\n",
       "      <td>242730</td>\n",
       "      <td>90.0</td>\n",
       "      <td>250.0</td>\n",
       "    </tr>\n",
       "    <tr>\n",
       "      <th>165</th>\n",
       "      <td>핸디/스틱청소기</td>\n",
       "      <td>로보락</td>\n",
       "      <td>H6</td>\n",
       "      <td>439000</td>\n",
       "      <td>90.0</td>\n",
       "      <td>250.0</td>\n",
       "    </tr>\n",
       "    <tr>\n",
       "      <th>257</th>\n",
       "      <td>핸디/스틱청소기</td>\n",
       "      <td>도노</td>\n",
       "      <td>SY-306</td>\n",
       "      <td>179000</td>\n",
       "      <td>80.0</td>\n",
       "      <td>220.0</td>\n",
       "    </tr>\n",
       "  </tbody>\n",
       "</table>\n",
       "</div>"
      ],
      "text/plain": [
       "         카테고리  회사명       제품      가격   사용시간    흡입력\n",
       "127  핸디/스틱청소기  리하스     LH20  299000  120.0  330.0\n",
       "17   핸디/스틱청소기  샤오미  드리미 V12  309430   90.0  270.0\n",
       "119  핸디/스틱청소기  샤오미  드리미 V11  242730   90.0  250.0\n",
       "165  핸디/스틱청소기  로보락       H6  439000   90.0  250.0\n",
       "257  핸디/스틱청소기   도노   SY-306  179000   80.0  220.0"
      ]
     },
     "execution_count": 293,
     "metadata": {},
     "output_type": "execute_result"
    }
   ],
   "source": [
    "#사용시간, 흡입력을 기준으로 정렬\n",
    "#사용시간 & 흡립력 Top 리스트\n",
    "top_list = danawa_data.sort_values(['사용시간', '흡입력'], ascending = False)\n",
    "top_list.head()"
   ]
  },
  {
   "cell_type": "code",
   "execution_count": 294,
   "id": "9933af41",
   "metadata": {},
   "outputs": [
    {
     "name": "stdout",
     "output_type": "stream",
     "text": [
      "가격 평균값 : 381915.0779661017\n",
      "흡입력 평균값 : 175.28813559322035\n",
      "사용시간 평균값 : 42.754448398576514\n"
     ]
    }
   ],
   "source": [
    "#평균값 정리\n",
    "price_mean_value = danawa_data['가격'].mean()\n",
    "suction_mean_value = danawa_data['흡입력'].mean()\n",
    "use_time_mean_value = danawa_data['사용시간'].mean()\n",
    "print('가격 평균값 :', price_mean_value)\n",
    "print('흡입력 평균값 :', suction_mean_value)\n",
    "print('사용시간 평균값 :', use_time_mean_value)"
   ]
  },
  {
   "cell_type": "code",
   "execution_count": 295,
   "id": "1bc49d2b",
   "metadata": {},
   "outputs": [
    {
     "data": {
      "text/html": [
       "<div>\n",
       "<style scoped>\n",
       "    .dataframe tbody tr th:only-of-type {\n",
       "        vertical-align: middle;\n",
       "    }\n",
       "\n",
       "    .dataframe tbody tr th {\n",
       "        vertical-align: top;\n",
       "    }\n",
       "\n",
       "    .dataframe thead th {\n",
       "        text-align: right;\n",
       "    }\n",
       "</style>\n",
       "<table border=\"1\" class=\"dataframe\">\n",
       "  <thead>\n",
       "    <tr style=\"text-align: right;\">\n",
       "      <th></th>\n",
       "      <th>카테고리</th>\n",
       "      <th>회사명</th>\n",
       "      <th>제품</th>\n",
       "      <th>가격</th>\n",
       "      <th>사용시간</th>\n",
       "      <th>흡입력</th>\n",
       "    </tr>\n",
       "  </thead>\n",
       "  <tbody>\n",
       "    <tr>\n",
       "      <th>2</th>\n",
       "      <td>핸디/스틱청소기</td>\n",
       "      <td>샤오미</td>\n",
       "      <td>드리미 V10</td>\n",
       "      <td>156320</td>\n",
       "      <td>60.0</td>\n",
       "      <td>220.0</td>\n",
       "    </tr>\n",
       "    <tr>\n",
       "      <th>8</th>\n",
       "      <td>핸디/스틱청소기</td>\n",
       "      <td>샤오미</td>\n",
       "      <td>드리미 V9</td>\n",
       "      <td>108760</td>\n",
       "      <td>60.0</td>\n",
       "      <td>200.0</td>\n",
       "    </tr>\n",
       "    <tr>\n",
       "      <th>17</th>\n",
       "      <td>핸디/스틱청소기</td>\n",
       "      <td>샤오미</td>\n",
       "      <td>드리미 V12</td>\n",
       "      <td>309430</td>\n",
       "      <td>90.0</td>\n",
       "      <td>270.0</td>\n",
       "    </tr>\n",
       "    <tr>\n",
       "      <th>30</th>\n",
       "      <td>핸디/스틱청소기</td>\n",
       "      <td>샤오미</td>\n",
       "      <td>로이드미 Z1</td>\n",
       "      <td>268000</td>\n",
       "      <td>60.0</td>\n",
       "      <td>220.0</td>\n",
       "    </tr>\n",
       "    <tr>\n",
       "      <th>39</th>\n",
       "      <td>핸디/스틱청소기</td>\n",
       "      <td>샤오미</td>\n",
       "      <td>드리미 V10 ARES</td>\n",
       "      <td>205760</td>\n",
       "      <td>60.0</td>\n",
       "      <td>220.0</td>\n",
       "    </tr>\n",
       "    <tr>\n",
       "      <th>50</th>\n",
       "      <td>핸디/스틱청소기</td>\n",
       "      <td>샤오미</td>\n",
       "      <td>SHUNZAO Z11</td>\n",
       "      <td>145100</td>\n",
       "      <td>60.0</td>\n",
       "      <td>260.0</td>\n",
       "    </tr>\n",
       "    <tr>\n",
       "      <th>59</th>\n",
       "      <td>핸디/스틱청소기</td>\n",
       "      <td>샤오미</td>\n",
       "      <td>드리미 V10P</td>\n",
       "      <td>224900</td>\n",
       "      <td>60.0</td>\n",
       "      <td>220.0</td>\n",
       "    </tr>\n",
       "    <tr>\n",
       "      <th>60</th>\n",
       "      <td>핸디/스틱청소기</td>\n",
       "      <td>샤오미</td>\n",
       "      <td>SHUNZAO Z11 PRO</td>\n",
       "      <td>232990</td>\n",
       "      <td>60.0</td>\n",
       "      <td>260.0</td>\n",
       "    </tr>\n",
       "    <tr>\n",
       "      <th>82</th>\n",
       "      <td>핸디/스틱청소기</td>\n",
       "      <td>샤오미</td>\n",
       "      <td>로이드미 제로</td>\n",
       "      <td>216380</td>\n",
       "      <td>60.0</td>\n",
       "      <td>220.0</td>\n",
       "    </tr>\n",
       "    <tr>\n",
       "      <th>90</th>\n",
       "      <td>핸디/스틱청소기</td>\n",
       "      <td>원더스리빙</td>\n",
       "      <td>원더스 다이나킹 Z9</td>\n",
       "      <td>299000</td>\n",
       "      <td>65.0</td>\n",
       "      <td>220.0</td>\n",
       "    </tr>\n",
       "  </tbody>\n",
       "</table>\n",
       "</div>"
      ],
      "text/plain": [
       "        카테고리    회사명               제품      가격  사용시간    흡입력\n",
       "2   핸디/스틱청소기    샤오미          드리미 V10  156320  60.0  220.0\n",
       "8   핸디/스틱청소기    샤오미           드리미 V9  108760  60.0  200.0\n",
       "17  핸디/스틱청소기    샤오미          드리미 V12  309430  90.0  270.0\n",
       "30  핸디/스틱청소기    샤오미          로이드미 Z1  268000  60.0  220.0\n",
       "39  핸디/스틱청소기    샤오미     드리미 V10 ARES  205760  60.0  220.0\n",
       "50  핸디/스틱청소기    샤오미      SHUNZAO Z11  145100  60.0  260.0\n",
       "59  핸디/스틱청소기    샤오미         드리미 V10P  224900  60.0  220.0\n",
       "60  핸디/스틱청소기    샤오미  SHUNZAO Z11 PRO  232990  60.0  260.0\n",
       "82  핸디/스틱청소기    샤오미          로이드미 제로  216380  60.0  220.0\n",
       "90  핸디/스틱청소기  원더스리빙      원더스 다이나킹 Z9  299000  65.0  220.0"
      ]
     },
     "execution_count": 295,
     "metadata": {},
     "output_type": "execute_result"
    }
   ],
   "source": [
    "#평균을 이용해 가성비 좋은 제품 탐색\n",
    "condition_data = danawa_data [\n",
    "    (danawa_data['가격'] <= price_mean_value) &\n",
    "    (danawa_data['흡입력'] >= suction_mean_value) &\n",
    "    (danawa_data['사용시간'] >= use_time_mean_value)\n",
    "]\n",
    "\n",
    "condition_data.head(10)"
   ]
  },
  {
   "cell_type": "markdown",
   "id": "892e6528",
   "metadata": {},
   "source": [
    "### 데이터 시각화"
   ]
  },
  {
   "cell_type": "code",
   "execution_count": 296,
   "id": "c18d9147",
   "metadata": {},
   "outputs": [
    {
     "data": {
      "text/plain": [
       "173"
      ]
     },
     "execution_count": 296,
     "metadata": {},
     "output_type": "execute_result"
    }
   ],
   "source": [
    "#결측값 제거\n",
    "chart_data = danawa_data.dropna(axis = 0) #하나라도 값이 없는 행은 제거해주겠다\n",
    "len(chart_data)"
   ]
  },
  {
   "cell_type": "code",
   "execution_count": 297,
   "id": "816bef06",
   "metadata": {},
   "outputs": [],
   "source": [
    "#흡입력, 사용시간 최대, 최소\n",
    "suction_max_value = chart_data['흡입력'].max()\n",
    "suction_mean_value = chart_data['흡입력'].mean()\n",
    "use_time_max_value = chart_data['사용시간'].max()\n",
    "use_time_mean_value = chart_data['사용시간'].mean()"
   ]
  },
  {
   "cell_type": "code",
   "execution_count": 298,
   "id": "7846fbac",
   "metadata": {},
   "outputs": [],
   "source": [
    "#라이브러리 임포트 및 한글 글꼴 설정\n",
    "from matplotlib import font_manager, rc\n",
    "import matplotlib.pyplot as plt\n",
    "import seaborn as sns\n",
    "import platform \n",
    "# 그래프에서 한글 표기를 위한 글꼴 변경(윈도우, macOS에 대해 처리)\n",
    "font_path = ''\n",
    "if platform.system() == 'Windows': \n",
    "    font_path = 'c:/Windows/Fonts/malgun.ttf'\n",
    "    font_name = font_manager.FontProperties(fname = font_path).get_name()\n",
    "    rc('font', family = font_name)\n",
    "elif platform.system() == 'Darwin':\n",
    "    font_path = '/Users/$USER/Library/Fonts/AppleGothic.ttf'\n",
    "    rc('font', family = 'AppleGothic')\n",
    "else: \n",
    "    print('Check your OS system')"
   ]
  },
  {
   "cell_type": "code",
   "execution_count": 303,
   "id": "bd913638",
   "metadata": {},
   "outputs": [
    {
     "data": {
      "image/png": "[encoded data removed]",
      "text/plain": [
       "<Figure size 1440x720 with 1 Axes>"
      ]
     },
     "metadata": {
      "needs_background": "light"
     },
     "output_type": "display_data"
    }
   ],
   "source": [
    "#청소기 성능 시각화\n",
    "plt.figure(figsize = (20, 10))\n",
    "plt.title(\"무선 핸디/스틱청소기 차트\")\n",
    "\n",
    "sns.scatterplot(x = \"흡입력\", y = \"사용시간\", size = \"가격\", hue = chart_data['회사명'],\n",
    "                data = chart_data, sizes = (10, 1000), legend = False) #size : 원 크기, sizes : 10 ~ 1000사이의 값으로 표시, legend : 범례\n",
    "\n",
    "#기준선 - 평균값\n",
    "#사용시간 평균선\n",
    "plt.plot([0, suction_max_value], #0부터 Max 값 위치까지 그리겠다 (보여지는 위치도 달라짐)\n",
    "         [use_time_mean_value, use_time_mean_value], #직선으로 그리겠다\n",
    "         'r--', #'r--' : 선 색상\n",
    "          lw = 1 #lw : 선의 종류\n",
    "        )\n",
    "\n",
    "#흡입력 평균선\n",
    "plt.plot([suction_mean_value, suction_mean_value], #직선으로 그리겠다\n",
    "          [0, use_time_max_value], #0부터 Max 값 위치까지 그리겠다 (보여지는 위치도 달라짐)\n",
    "          'r--', \n",
    "          lw = 1 ) \n",
    "\n",
    "plt.show()"
   ]
  },
  {
   "cell_type": "code",
   "execution_count": 304,
   "id": "7cdb8bb1",
   "metadata": {},
   "outputs": [
    {
     "data": {
      "text/plain": [
       "20"
      ]
     },
     "execution_count": 304,
     "metadata": {},
     "output_type": "execute_result"
    }
   ],
   "source": [
    "#인기 제품 선택\n",
    "chart_data_selected = chart_data[:20]\n",
    "len(chart_data_selected)"
   ]
  },
  {
   "cell_type": "code",
   "execution_count": 317,
   "id": "bf3146e1",
   "metadata": {},
   "outputs": [
    {
     "name": "stdout",
     "output_type": "stream",
     "text": [
      "흡입력 max 270.0\n",
      "흡입력 mean 194.8\n",
      "사용시간 max 90.0\n",
      "사용시간 mean 59.5\n"
     ]
    }
   ],
   "source": [
    "# 흡입력, 사용시간의 최댓값, 최솟값 구하기\n",
    "suction_max_value = chart_data_selected['흡입력'].max()\n",
    "suction_mean_value = chart_data_selected['흡입력'].mean()\n",
    "use_time_max_value = chart_data_selected['사용시간'].max()\n",
    "use_time_mean_value = chart_data_selected['사용시간'].mean()\n",
    "\n",
    "print(\"흡입력 max\",suction_max_value)\n",
    "print(\"흡입력 mean\",suction_mean_value)\n",
    "print(\"사용시간 max\",use_time_max_value)\n",
    "print(\"사용시간 mean\",use_time_mean_value)"
   ]
  },
  {
   "cell_type": "code",
   "execution_count": 329,
   "id": "6b9dac43",
   "metadata": {},
   "outputs": [
    {
     "data": {
      "image/png": "[encoded data removed]",
      "text/plain": [
       "<Figure size 1440x720 with 1 Axes>"
      ]
     },
     "metadata": {
      "needs_background": "light"
     },
     "output_type": "display_data"
    }
   ],
   "source": [
    "plt.figure(figsize=(20, 10))\n",
    "plt.title(\"무선 핸디/스틱청소기 TOP 20\")\n",
    "\n",
    "sns.scatterplot(x = '흡입력', \n",
    "                y = '사용시간', \n",
    "                size = '가격', \n",
    "                hue = chart_data_selected['회사명'], \n",
    "                data = chart_data_selected, sizes = (100, 2000))\n",
    "\n",
    "#사용시간 평균값\n",
    "plt.plot([60, suction_max_value], \n",
    "         [use_time_mean_value, use_time_mean_value], \n",
    "          'r--', \n",
    "          lw = 1)\n",
    "\n",
    "#흡입력 평균값\n",
    "plt.plot([suction_mean_value, suction_mean_value], \n",
    "         [20, use_time_max_value], \n",
    "         'r--', \n",
    "         lw = 1)\n",
    "\n",
    "for index, row in chart_data_selected.iterrows(): #iterrows() : 한 행의 값을 하나씩 가져옴\n",
    "    x = row['흡입력']\n",
    "    y = row['사용시간']\n",
    "    s = row['제품'].split(' ')[0] #제품 앞의 값만 가져옴 (기니까)\n",
    "    plt.text(x, y, s, size=20)\n",
    "    \n",
    "plt.show()"
   ]
  },
  {
   "cell_type": "code",
   "execution_count": null,
   "id": "2d55341b",
   "metadata": {},
   "outputs": [],
   "source": []
  }
 ],
 "metadata": {
  "kernelspec": {
   "display_name": "pydata",
   "language": "python",
   "name": "pydata"
  },
  "language_info": {
   "codemirror_mode": {
    "name": "ipython",
    "version": 3
   },
   "file_extension": ".py",
   "mimetype": "text/x-python",
   "name": "python",
   "nbconvert_exporter": "python",
   "pygments_lexer": "ipython3",
   "version": "3.7.10"
  }
 },
 "nbformat": 4,
 "nbformat_minor": 5
}
