{
 "cells": [
  {
   "cell_type": "markdown",
   "metadata": {},
   "source": [
    "## 사진 별 폴더 생성으로 수정"
   ]
  },
  {
   "cell_type": "code",
   "execution_count": 52,
   "metadata": {},
   "outputs": [
    {
     "name": "stdout",
     "output_type": "stream",
     "text": [
      "사진을 저장할 폴더를 지정하세요. (예: C:\\LHR\\python\\notebook\\data\\) : C:\\LHR\\python\\notebook\\data\\\n"
     ]
    },
    {
     "data": {
      "text/plain": [
       "['https://cdn.visitkorea.or.kr/img/call?cmd=VIEW&id=74be8475-ae61-4f45-a37e-4c72b233b67b',\n",
       " 'https://cdn.visitkorea.or.kr/img/call?cmd=VIEW&id=ac6a6e95-ebbd-4a55-a560-ab84c0be9e90',\n",
       " 'https://cdn.visitkorea.or.kr/img/call?cmd=VIEW&id=68a69545-8b2b-4d51-ace7-677cc8ee0023',\n",
       " 'https://cdn.visitkorea.or.kr/img/call?cmd=VIEW&id=d3b1ecd4-53b7-4825-b7db-b1e8c6b0ead6',\n",
       " 'https://cdn.visitkorea.or.kr/img/call?cmd=VIEW&id=e78e519c-ae31-45d1-9f1c-954ee8714e9f',\n",
       " 'https://cdn.visitkorea.or.kr/img/call?cmd=VIEW&id=849eb935-e490-4ec5-b350-dae142c1a61b',\n",
       " 'https://cdn.visitkorea.or.kr/img/call?cmd=VIEW&id=8b657bef-7ca9-4480-ba14-070329e3cba3',\n",
       " 'https://cdn.visitkorea.or.kr/img/call?cmd=VIEW&id=feef9ff2-f965-4785-ba98-cf6e39f8389d',\n",
       " 'https://cdn.visitkorea.or.kr/img/call?cmd=VIEW&id=6e838ead-aed3-4a86-a3bb-75d3eb19e323',\n",
       " 'https://cdn.visitkorea.or.kr/img/call?cmd=VIEW&id=70714f1b-c087-452b-a6fb-ea5ae0065bba',\n",
       " 'https://cdn.visitkorea.or.kr/img/call?cmd=VIEW&id=b4d3ec36-9e99-4719-9aba-03aa945831ed',\n",
       " 'https://cdn.visitkorea.or.kr/img/call?cmd=VIEW&id=e7fc502c-6ac6-425f-8abe-b03df582a828']"
      ]
     },
     "execution_count": 52,
     "metadata": {},
     "output_type": "execute_result"
    }
   ],
   "source": [
    "from bs4 import BeautifulSoup\n",
    "from selenium import webdriver\n",
    "import urllib.request\n",
    "import urllib\n",
    "import time\n",
    "import sys\n",
    "import math\n",
    "import os\n",
    "\n",
    "f_dir = input(\"사진을 저장할 폴더를 지정하세요. (예: C:\\\\LHR\\\\python\\\\notebook\\\\data\\\\) : \")\n",
    "#query_txt ='사진저장'\n",
    "\n",
    "path = \"C:/LHR/python/datadown/chromedriver.exe\"\n",
    "driver = webdriver.Chrome(path)\n",
    "\n",
    "s_time = time.time()\n",
    "driver.get('https://korean.visitkorea.or.kr/detail/cs_detail_cos.do?cotid=1923378b-3e45-4ae9-8610-c8235636ba5e&big_category=A01&mid_category=A0100&big_area=39')\n",
    "time.sleep(2)\n",
    "\n",
    "driver.maximize_window() #화면 크기를 크게 한다\n",
    "\n",
    "#스크롤바를 내리는 효과\n",
    "def scroll_down(driver):\n",
    "    driver.execute_script(\"window.scrollTo(0,document.body.scrollHeight);\")\n",
    "    time.sleep(1)\n",
    "\n",
    "scroll_down(driver)\n",
    "\n",
    "img_src2 = [] #img url을 가진 리스트\n",
    "f_dir_list = []\n",
    "\n",
    "for x in range(1, 5):\n",
    "    driver.find_element_by_xpath(\"\"\"//*[@id=\\\"contents\\\"]/div[2]/div[6]/div[1]/div[1]/div/ul/li[{}]/a\"\"\".format(x)).click()\n",
    "    \n",
    "    time.sleep(0.5)\n",
    "\n",
    "    html = driver.page_source\n",
    "    soup = BeautifulSoup(html, 'html.parser')\n",
    "    \n",
    "    #query 이름으로 폴더 생성\n",
    "    tag = soup.find('div', 'cos_cont active')\n",
    "    title = tag.find('div', 'tit_wrap').find('strong').get_text()\n",
    "    print(title)\n",
    "    \n",
    "    now = time.localtime()\n",
    "    s = '{}-{}-{}-{}-{}' .format(now.tm_year, now.tm_mon, now.tm_mday, now.tm_hour, now.tm_min)\n",
    "    \n",
    "    os.makedirs(f_dir + s + '-' + title)\n",
    "    f_dir_name = f_dir + s + '-' + title\n",
    "    f_dir_list.append(f_dir_name)\n",
    "    \n",
    "    tag2 = tag.find('div', 'info_area pc').find_all('a')\n",
    "    \n",
    "    #폴더별 img url을 가진 리스트\n",
    "    img_src1 = []\n",
    "\n",
    "    for i in tag2:\n",
    "        style = i['style'].split('(')[1].split(')')[0] #이미지 태그 하나의 값이 i\n",
    "        img_src1.append(img_src) #리스트에 저장\n",
    "        \n",
    "    img_src2.append(img_src1)\n",
    "\n",
    "\n",
    "#폴더별 이미지 다운로드 실행\n",
    "for i in range(0, len(img_src2)):\n",
    "    file_no = 0 #이미지 순번\n",
    "                #이미지를 저장하려는 위치로 디렉토리를 변경\n",
    "    os.chdir(f_dir_list[i])\n",
    "    \n",
    "    for j in range(0, len(img_src2[i])):\n",
    "        try:\n",
    "            urllib.request.urlretrieve(img_src2[i][j], str(file_no) + '.jpg')\n",
    "        except:\n",
    "            continue\n",
    "        file_no += 1 \n",
    "        time.sleep(0.5)\n",
    "        print(\"{}번째 이미지 저장중입니다============\".format(file_no))\n",
    "\n",
    "#이미지 크롤링 후 요약정보 출력\n",
    "e_time = time.time()\n",
    "t_time = e_time - s_time\n",
    "\n",
    "print(\"=\" * 70)\n",
    "print(\"총 소요시간은 {}초 입니다\".format(round(t_time, 1)))\n",
    "print(\"총 저장건수는 {}건 입니다\".format(file_no))\n",
    "print(\"파일 저장경로 입니다\")\n",
    "for x in f_dir_list:\n",
    "    print(x)\n",
    "print(\"=\" * 70)\n",
    "\n",
    "driver.close()"
   ]
  },
  {
   "cell_type": "code",
   "execution_count": null,
   "metadata": {},
   "outputs": [],
   "source": []
  }
 ],
 "metadata": {
  "kernelspec": {
   "display_name": "pydata",
   "language": "python",
   "name": "pydata"
  },
  "language_info": {
   "codemirror_mode": {
    "name": "ipython",
    "version": 3
   },
   "file_extension": ".py",
   "mimetype": "text/x-python",
   "name": "python",
   "nbconvert_exporter": "python",
   "pygments_lexer": "ipython3",
   "version": "3.7.10"
  }
 },
 "nbformat": 4,
 "nbformat_minor": 4
}
