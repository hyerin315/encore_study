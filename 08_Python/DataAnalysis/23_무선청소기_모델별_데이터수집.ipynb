{
 "cells": [
  {
   "cell_type": "code",
   "execution_count": 1,
   "metadata": {},
   "outputs": [],
   "source": [
    "#selenium으로 다나와 검색 결과 URL에 접속\n",
    "from selenium import webdriver\n",
    "from bs4 import BeautifulSoup"
   ]
  },
  {
   "cell_type": "code",
   "execution_count": 2,
   "metadata": {},
   "outputs": [],
   "source": [
    "driver = webdriver.Chrome('C:/LHR/python/datadown/chromedriver.exe')\n",
    "url = \"http://search.danawa.com/dsearch.php?query=무선청소기&tab=main\"\n",
    "driver.get(url)"
   ]
  },
  {
   "cell_type": "code",
   "execution_count": 3,
   "metadata": {},
   "outputs": [],
   "source": [
    "#웹 페이지의 HTML 정보 가져오기\n",
    "html = driver.page_source\n",
    "soup = BeautifulSoup(html, 'html.parser')"
   ]
  },
  {
   "cell_type": "code",
   "execution_count": 4,
   "metadata": {},
   "outputs": [
    {
     "data": {
      "text/plain": [
       "44"
      ]
     },
     "execution_count": 4,
     "metadata": {},
     "output_type": "execute_result"
    }
   ],
   "source": [
    "#페이지에 대한 무선청소기 정보 가져오기\n",
    "prod_items = soup.select('div.main_prodlist.main_prodlist_list > ul.product_list > li.prod_item') #.을 넣어야 클래스라는 뜻\n",
    "len(prod_items)"
   ]
  },
  {
   "cell_type": "code",
   "execution_count": 5,
   "metadata": {},
   "outputs": [
    {
     "data": {
      "text/plain": [
       "'LG전자 오브제컬렉션 코드제로 ThinQ A9S AO9571'"
      ]
     },
     "execution_count": 5,
     "metadata": {},
     "output_type": "execute_result"
    }
   ],
   "source": [
    "#상품명 정보 가져오기\n",
    "title = prod_items[0].select('p.prod_name > a')[0].text.strip() #리스트 안에 담겨있으므로 [0]붙이기\n",
    "                                                                #빈공간 삭제를 위해 strip()\n",
    "title"
   ]
  },
  {
   "cell_type": "code",
   "execution_count": 6,
   "metadata": {},
   "outputs": [
    {
     "data": {
      "text/plain": [
       "'핸디/스틱청소기 / 핸디+스틱형 / 무선형 / 흡입+걸레겸용 / [성능] 2중터보싸이클론 / 스마트인버터모터 / 흡입력: 210W / 소비전력: 590W / [배터리] 분리형 / 리튬이온 (2개) / 전압: 25.2V / 충전시간: 4시간 / 사용시간: 1시간(개당) / [필터] 헤파필터 / 5단계여과 / [기능] 자동물공급 / 디스플레이표시창 / 배터리잔량표시 / WiFi / [구성품] 바닥 / 물걸레 / 침구 / 솔형 / 틈새 / 올인원타워 / [부가] 알레르기인증(BAF) / 미세먼지인증(SLG) / 색상: 카밍베이지 / 무게: 2.6kg / 먼지통자동비움 / 크기(가로x세로x깊이): 250x1120x260mm'"
      ]
     },
     "execution_count": 6,
     "metadata": {},
     "output_type": "execute_result"
    }
   ],
   "source": [
    "#스펙 목록 정보 가져오기\n",
    "spec_list = prod_items[0].select('div.spec_list')[0].text.strip()\n",
    "#spec_list = prod_itmes[0].select('div.prod_main_info > div.prod_info > dl.prod_spec_set > dd > div.spec_list')\n",
    "spec_list"
   ]
  },
  {
   "cell_type": "code",
   "execution_count": 7,
   "metadata": {},
   "outputs": [],
   "source": [
    "#가격이 오른쪽 화면 끝에 있기때문에 화면을 최대로 크게한다.\n",
    "driver.maximize_window() #크롬드라이버의 브라우저크기 최대로 만들기"
   ]
  },
  {
   "cell_type": "code",
   "execution_count": 8,
   "metadata": {},
   "outputs": [
    {
     "data": {
      "text/plain": [
       "'1203710'"
      ]
     },
     "execution_count": 8,
     "metadata": {},
     "output_type": "execute_result"
    }
   ],
   "source": [
    "#가격정보 가져오기\n",
    "price = prod_items[0].select('li.rank_one > p.price_sect > a > strong')[0].text.strip().replace(\",\",\"\")\n",
    "price"
   ]
  },
  {
   "cell_type": "code",
   "execution_count": 9,
   "metadata": {},
   "outputs": [
    {
     "name": "stdout",
     "output_type": "stream",
     "text": [
      "44\n",
      "[['LG전자 오브제컬렉션 코드제로 ThinQ A9S AO9571', '핸디/스틱청소기 / 핸디+스틱형 / 무선형 / 흡입+걸레겸용 / [성능] 2중터보싸이클론 / 스마트인버터모터 / 흡입력: 210W / 소비전력: 590W / [배터리] 분리형 / 리튬이온 (2개) / 전압: 25.2V / 충전시간: 4시간 / 사용시간: 1시간(개당) / [필터] 헤파필터 / 5단계여과 / [기능] 자동물공급 / 디스플레이표시창 / 배터리잔량표시 / WiFi / [구성품] 바닥 / 물걸레 / 침구 / 솔형 / 틈새 / 올인원타워 / [부가] 알레르기인증(BAF) / 미세먼지인증(SLG) / 색상: 카밍베이지 / 무게: 2.6kg / 먼지통자동비움 / 크기(가로x세로x깊이): 250x1120x260mm', '1203710'], ['19f226OWlt', '19f226OWlt907846', '907846'], ['샤오미 CLEANFLY 차량용 무선 청소기 3세대 (해외구매)', '차량용청소기 / 무선 / 흡입력: 16,800Pa / 최대출력: 120W / 헤파필터 / 스테인리스 필터 / 추가노즐: 틈새, 솔브러쉬, 연장호스 / 사용시간: 25분 / 크기: 369x72mm / 무게: 560g / 충전방식: USB C타입 / 배터리용량: 2,000mAh', '50080'], ['샤오미 미지아 차량용 핸디 무선 청소기 (해외구매)', '차량용청소기 / 무선 / 흡입력: 13,000Pa / 최대출력: 120W / 헤파필터 / 추가노즐: 틈새, 솔브러쉬 / 사용시간: 9~30분 / 버튼 잠금 장치 / 2단 세기 조절 / 크기: 55x267mm / 무게: 500g', '36230'], ['LG전자 코드제로 A9 A9100S', '핸디/스틱청소기 / 핸디+스틱형 / 무선형 / 흡입+걸레겸용 / [성능] 2중터보싸이클론 / 인버터모터 / 소비전력: 450W / [배터리] 분리형 / 리튬이온 / 충전시간: 3시간30분 / 사용시간: 40분(개당) / [필터] 헤파필터 / H13급 / 5단계여과 / [기능] 배터리잔량표시 / [구성품] 바닥 / 솔형 / 틈새 / 거치대 / [부가] 알레르기인증(BAF) / 미세먼지인증(SLG) / 색상: 판타지실버 / 크기(가로x세로x깊이): 250x1120x260mm', '462620'], ['샤오미 드리미 V10', '핸디/스틱청소기 / 핸디+스틱형 / 무선형 / 흡입전용 / [성능] 멀티싸이클론 / BLDC모터 / 흡입력: 140AW / 흡입력: 22000Pa / 소비전력: 450W / [배터리] 용량: 2500mAh / 전압: 25.2V / 충전시간: 3시간30분 / 사용시간: 1시간(개당) / [필터] 헤파필터 / H12급 / 5단계여과 / [구성품] 바닥 / 침구 / 솔형 / 틈새 / 연장툴 / 거치대 / [부가] 먼지통용량: 0.5L / 색상: 화이트 / 무게: 1.5kg', '156320'], ['', '', 0], ['삼성전자 제트 VS20T9278S3CS', '핸디/스틱청소기 / 핸디+스틱형 / 무선형 / 흡입+걸레겸용 / [성능] 싸이클론 / 인버터모터 / 흡입력: 200W / 소비전력: 550W / [배터리] 분리형 / 리튬이온 (2개) / 전압: 21.9V / 충전시간: 3시간30분 / 사용시간: 1시간(개당) / [필터] 헤파필터 / 5단계여과 / [기능] 디스플레이표시창 / 프리볼트 / [구성품] 바닥 / 물걸레 / 침구 / 솔형 / 틈새 / 연장툴 / 거치대 / 청정스테이션 / [부가] 먼지통용량: 0.5L / 미세먼지인증(SLG) / 색상: 티탄+실버 / 크기(가로x세로x깊이): 250x1136x215mm', '634920'], ['LG전자 코드제로 ThinQ A9S A9700', '핸디/스틱청소기 / 핸디+스틱형 / 무선형 / 흡입+걸레겸용 / [성능] 2중터보싸이클론 / 인버터모터 / 흡입력: 200W / 소비전력: 590W / [배터리] 분리형 / 리튬이온 (2개) / 충전시간: 4시간 / 사용시간: 1시간(개당) / [필터] 헤파필터 / H13급 / 5단계여과 / [기능] 자동물공급 / 디스플레이표시창 / 배터리잔량표시 / WiFi / [구성품] 바닥 / 물걸레 / 침구 / 솔형 / 굳은먼지 / 상부청소 / 틈새 / 긴틈새 / 매트리스 / 연장툴 / 거치대 / [부가] 미세먼지인증(SLG) / 색상: 아이언그레이 / 크기(가로x세로x깊이): 250x1120x260mm', '875390'], ['샤오미 LYDSTO 핸디형 에어펌프 진공청소기 (해외구매)', '차량용청소기 / 무선 / 흡입력: 10,000Pa / 스테인리스 필터 / LED라이트 / 사용시간: 15~30분 / 충전방식: USB C타입 / 배터리용량: 2,500mAH / 크기: 315x55mm / 무게: 500g / 압력설정 / 최대압력: 150psi / 에어배출량(분당): 10L', '37300'], ['삼성전자 제트 VS20T9218QDCC', '핸디/스틱청소기 / 핸디+스틱형 / 무선형 / 흡입+걸레겸용 / [성능] 싸이클론 / 인버터모터 / 흡입력: 200W / 소비전력: 550W / [배터리] 분리형 / 리튬이온 / 전압: 21.6V / 충전시간: 3시간30분 / 사용시간: 1시간(개당) / [필터] 헤파필터 / 5단계여과 / [기능] 디스플레이표시창 / 프리볼트 / [구성품] 바닥 / 물걸레 / 솔형 / 틈새 / 연장툴 / 거치대 / 청정스테이션 / [부가] 먼지통용량: 0.5L / 알레르기인증(BAF) / 미세먼지인증(SLG) / 색상: 티탄+그레이 / 무게: 2.64kg / 크기(가로x세로x깊이): 250x1123x215mm', '595140'], ['삼성전자 비스포크 제트 VS20A957D2', '핸디/스틱청소기 / 핸디+스틱형 / 무선형 / 흡입+걸레겸용 / [성능] 제트싸이클론 / 디지털인버터모터 / 흡입력: 210W / [배터리] 분리형 / 리튬이온 (2개) / 용량: 2200mAh / 전압: 25.2V / 충전시간: 3시간30분 / 사용시간: 1시간(개당) / [필터] 5단계여과 / [기능] 자동물공급 / 디스플레이표시창 / 배터리잔량표시 / [구성품] 바닥 / 물걸레 / 솔형 / 틈새 / 거치대 / [부가] 먼지통용량: 0.5L / 알레르기인증(BAF) / 미세먼지인증(SLG) / 색상: 미드나잇블루 / 무게: 2.5kg / 먼지통자동비움 / 일체형청정스테이션 / 액세서리크래들  / 크기(가로x세로x깊이): 250x930x202mm', '1098730'], ['', '', 0], ['일렉트로룩스 WELL Q6 WQ61-1OGG', '핸디/스틱청소기 / 핸디+스틱형 / 무선형 / 흡입전용 / [성능] 싸이클론 / [배터리] 리튬이온 / 전압: 18V / 충전시간: 4시간30분 / 사용시간: 45분(개당) / [필터] 5단계여과 / [기능] 브러쉬자동청소 / 셀프스탠딩 / LED라이트 / 배터리잔량표시 / [구성품] 바닥 / 솔형 / 틈새 / 거치대 / [부가] 먼지통용량: 0.3L / 색상: 그라나이트그레이 / 무게: 2.65kg / 크기(가로x세로x깊이): 386x692x146mm', '146160'], ['샤오미 드리미 V9', '핸디/스틱청소기 / 핸디+스틱형 / 무선형 / [성능] 멀티싸이클론 / BLDC모터 / 흡입력: 120AW / 흡입력: 20000Pa / 소비전력: 400W / [배터리] 용량: 2500mAh / 전압: 25.2V / 충전시간: 3시간30분 / 사용시간: 60분(개당) / [필터] 헤파필터 / 5단계여과 / [구성품] 바닥 / 침구 / 솔형 / 틈새 / 연장툴 / 거치대 / [부가] 먼지통용량: 0.5L / 색상: 화이트 / 무게: 1.5kg', '108760'], ['다이슨 디지털 슬림 플러피+', '핸디/스틱청소기 / 핸디+스틱형 / 무선형 / 흡입전용 / [성능] 싸이클론 / 흡입력: 100AW / [배터리] 분리형 / 충전시간: 3시간30분 / 사용시간: 40분(개당) / [필터] 5단계여과 / [기능] 디스플레이표시창 / [구성품] 슬림소프트롤러 / 미니모터 / 솔형 / 스터번더트 / 틈새 / 매트리스 / 연장툴 / 거치대 / 도킹스테이션 / [부가] 먼지통용량: 0.3L / 색상: 오렌지 / 무게: 1.9kg / 크기(가로x세로x깊이): 250x1100x250mm', '622490'], ['에코백스 디봇 오즈모 T9', '로봇청소기 / 흡입+걸레 / [센서] dToF센서 / 장애물인식센서 / 추락방지센서 / [성능] 흡입력: 3000Pa / 용량: 5200mAh / 충전시간: 6시간 / 사용시간: 3시간(개당) / 소비전력: 50W / [기능] 스마트폰제어: 금지구역, 원격예약 / 바닥감지 / 자동충전 / [부가] 먼지통용량: 0.42L / 물통용량: 0.18L / 색상: 화이트 / 무선형 / 아로마캡슐디퓨저 / 먼지통자동비움 / 크기(가로x세로x깊이): 353x93.6x353mm', '649000'], ['무궁화전자 바로바로 MC-B250', '핸디/스틱청소기 / 핸디+스틱형 / 무선형 / [성능] 흡입력: 60W / [배터리] 니켈수소 / 전압: 10.8V / 충전시간: 8시간 / 사용시간: 20분(개당) / [구성품] 바닥 / 틈새 / 연장툴 / 거치대 / [부가] 무게: 1.3kg / 크기(가로x세로x깊이): 144x387x136mm', '36870'], ['', '', 0], ['샤오미 SHUNZAO 차량용 무선청소기 2세대 Z1 PRO (해외구매)', '차량용청소기 / 무선 / 흡입력: 12,000Pa / 최대출력: 120W / 2중필터 / 추가노즐: 틈새, 솔브러쉬 / LED라이트 / 사용시간: 30분 / 충전시간: 2시간30분 / 충전방식: USB C타입 / 크기: 73x76x336mm / 무게: 610g', '42370'], ['카렉스 파워스톰 미니 무선청소기', '차량용청소기 / 무선 / 흡입력: 12,000Pa / 2중필터 / 헤파필터 / 추가노즐: 틈새, 솔브러쉬 / 사용시간: 17분 / 충전방식: 시거잭, 220V / BLCD모터 / 충전시간: 5시간30분 / 크기: 93x439mm / 무게: 505g', '75490'], ['샤오미 TROUVER POWER 11', '핸디/스틱청소기 / 핸디+스틱형 / 무선형 / 흡입전용 / [성능] 흡입력: 20000Pa / 소비전력: 400W / [배터리] 분리형 / 리튬이온 / 용량: 2500mAh / 전압: 25.2V / 충전시간: 4시간 / 사용시간: 1시간(개당) / [필터] 헤파필터 / 5단계여과 / [기능] 디스플레이표시창 / 배터리잔량표시 / [구성품] 바닥 / 카펫 / 솔형 / 틈새 / 거치대 / [부가] 먼지통용량: 0.4L / 색상: 화이트+오렌지 / 무게: 1.45kg / 크기(가로x세로): 227x1227mm', '136730'], ['리하스 차량용 미니 무선 청소기 TEB-4120', '차량용청소기 / 무선 / 흡입력: 15,000Pa / 최대출력: 120W / 헤파필터 / 스테인리스 필터 / 추가노즐: 틈새, 솔브러쉬, 연장호스 / 사용시간: 15~28분 / 충전시간: 4~5시간 / 색상: 블랙, 스카이블루, 화이트 / 크기: 415mm / 무게: 520g', '99000'], ['일렉트로룩스 ZB3302AK', '핸디/스틱청소기 / 핸디+스틱형 / 무선형 / 흡입전용 / [배터리] 리튬이온 / 전압: 14.4V / 충전시간: 4시간 / 사용시간: 42분(개당) / [필터] 4단계여과 / [기능] 브러쉬자동청소 / 셀프스탠딩 / LED라이트 / 배터리잔량표시 / [구성품] 바닥 / 침구 / 틈새 / 긴틈새 / 패브릭 / 연장툴 / 거치대 / [부가] 먼지통용량: 0.42L / 알레르기인증(BAF) / 색상: 스페이스틸 / 무게: 3.22kg / 크기(가로x세로x깊이): 303x690x162mm', '128780'], ['한샘 트리플 플러스 HSBC-6000W', '욕실청소기 / 스틱형 / 무선형 / 소비전력: 30W / [배터리] 용량: 2000mAh / 충전시간: 4시간 / 사용시간: 1시간40분(개당) / [기능] 프리볼트 / [부가] 색상: 화이트 / 완전방수 / 브러쉬: 평면, 틈새, 스크럽', '50310'], ['휴스톰 듀얼스핀 HS-10000', '물걸레청소기 / 스틱형 / 회전식 / 무선형 / 배터리: 리튬이온 / 용량: 2750mAh / 충전시간: 2시간30분 / 사용시간: 30분(개당) / 전압: 14.6V / [기능] LED라이트 / 가구손상방지 / 각도조절 / 셀프스탠딩 / 배터리잔량표시 / 프리볼트 / [부가] 색상: 블랙 / 무게: 3.7kg / 모터과열방지 / 과충전방지 / 오토스토핑 / 패드: 극세사(벨크로형) / 크기(가로x세로x깊이): 410x1180x205mm', '134440'], ['다이슨 V10 카본파이버', '핸디/스틱청소기 / 핸디+스틱형 / 무선형 / [성능] 싸이클론 / 흡입력: 160AW / 소비전력: 525W / [배터리] 리튬이온 / 전압: 25.2V / 충전시간: 3시간30분 / 사용시간: 1시간(개당) / [구성품] 소프트롤러 / 토크드라이브 / 미니모터 / 솔형 / 더스팅 / 틈새 / 긴틈새 / 연장툴 / 도킹스테이션 / [부가] 무게: 2.5kg / 크기(가로x세로x깊이): 250x1241x256mm', '605270'], ['일렉트로룩스 WELL Q7 WQ71-2OIB', '핸디/스틱청소기 / 핸디+스틱형 / 무선형 / 흡입전용 / [성능] 싸이클론 / [배터리] 리튬이온 / 전압: 21.6V / 충전시간: 4시간30분 / 사용시간: 50분(개당) / [필터] 5단계여과 / [기능] 브러쉬자동청소 / 셀프스탠딩 / LED라이트 / 배터리잔량표시 / [구성품] 바닥 / 솔형 / 더스팅 / 틈새 / 거치대 / [부가] 먼지통용량: 0.3L / 색상: 인디고블루 / 무게: 2.8kg / 크기(가로x세로x깊이): 386x692x140mm', '212990'], ['삼성전자 비스포크 제트 VS20A957G3', '핸디/스틱청소기 / 핸디+스틱형 / 무선형 / 흡입+걸레겸용 / [성능] 제트싸이클론 / 디지털인버터모터 / 흡입력: 210W / [배터리] 분리형 / 리튬이온 (2개) / 용량: 2200mAh / 전압: 25.2V / 충전시간: 3시간30분 / 사용시간: 1시간(개당) / [필터] 5단계여과 / [기능] 자동물공급 / 디스플레이표시창 / 배터리잔량표시 / [구성품] 바닥 / 물걸레 / 펫 / 침구 / 솔형 / 틈새 / 연장툴 / 거치대 / [부가] 먼지통용량: 0.5L / 물통용량: 0.15L / 알레르기인증(BAF) / 미세먼지인증(SLG) / 색상: 미드나잇블루 / 무게: 2.5kg / 먼지통자동비움 / 일체형청정스테이션 / 액세서리크래들  / 크기(가로x세로x깊이): 250x930x202mm', '1486670'], ['LG전자 코드제로 ThinQ A9S A9500', '핸디/스틱청소기 / 핸디+스틱형 / 무선형 / 흡입+걸레겸용 / [성능] 2중터보싸이클론 / 인버터모터 / 흡입력: 200W / 소비전력: 590W / [배터리] 분리형 / 리튬이온 (2개) / 충전시간: 4시간 / 사용시간: 1시간(개당) / [필터] 헤파필터 / H13급 / 5단계여과 / [기능] 디스플레이표시창 / 배터리잔량표시 / WiFi / [구성품] 바닥 / 침구 / 솔형 / 굳은먼지 / 틈새 / 매트리스 / 거치대 / [부가] 미세먼지인증(SLG) / 색상: 아이언그레이 / 크기(가로x세로x깊이): 250x1120x260mm', '759470'], ['샤오미 드리미 V12', '핸디/스틱청소기 / 핸디+스틱형 / 무선형 / 흡입+걸레겸용 / [성능] 싸이클론 / 흡입력: 185AW / 흡입력: 27000Pa / 소비전력: 550W / [배터리] 내장형 / 용량: 3000mAh / 전압: 25.2V / 충전시간: 4시간 / 사용시간: 1시간30분(개당) / [필터] 5단계여과 / [기능] 디스플레이표시창 / LED라이트 / 배터리잔량표시 / [구성품] 바닥 / 물걸레 / 침구 / 솔형 / 틈새 / 연장툴 / 거치대 / [부가] 먼지통용량: 0.5L / 물통용량: 0.25L / 색상: 블랙 / 무게: 1.65kg / 크기(가로x세로): 200x1226mm', '309430'], ['LG전자 코드제로 ThinQ A9S A9300', '핸디/스틱청소기 / 핸디+스틱형 / 무선형 / 흡입+걸레겸용 / [성능] 2중터보싸이클론 / 인버터모터 / 흡입력: 200W / 소비전력: 590W / [배터리] 분리형 / 리튬이온 / 충전시간: 4시간 / 사용시간: 1시간(개당) / [필터] 헤파필터 / H13급 / 5단계여과 / [기능] 디스플레이표시창 / 배터리잔량표시 / WiFi / [구성품] 바닥 / 솔형 / 굳은먼지 / 틈새 / 매트리스 / 거치대 / [부가] 미세먼지인증(SLG) / 색상: 아이언그레이 / 크기(가로x세로x깊이): 250x1120x260mm', '648840'], ['LG전자 코드제로 ThinQ A9S+ AS9471BKT', '핸디/스틱청소기 / 핸디+스틱형 / 무선형 / 흡입+걸레겸용 / [성능] 2중터보싸이클론 / 스마트인버터모터 / 소비전력: 590W / [배터리] 분리형 / 리튬이온 (2개) / 전압: 25.2V / 충전시간: 4시간 / 사용시간: 1시간(개당) / [필터] 헤파필터 / [기능] 자동물공급 / WiFi / [구성품] 바닥 / 물걸레 / 솔형 / 틈새 / 올인원타워 / [부가] 색상: 블랙 / 무게: 2.6kg / 먼지통자동비움 / 크기(가로x세로x깊이): 250x1120x260mm', '1188240'], ['일렉트로룩스 WELL Q7 WQ71-2ESSF', '핸디/스틱청소기 / 핸디+스틱형 / 무선형 / 흡입전용 / [성능] 싸이클론 / [배터리] 리튬이온 / 전압: 21.6V / 충전시간: 4시간30분 / 사용시간: 50분(개당) / [필터] 5단계여과 / [기능] 셀프스탠딩 / LED라이트 / 배터리잔량표시 / [구성품] 바닥 / 솔형 / 더스팅 / 긴틈새 / 거치대 / [부가] 먼지통용량: 0.3L / 색상: 소프트샌드 / 무게: 2.8kg / 크기(가로x세로x깊이): 386x692x146mm', '232840'], ['다이슨 V11 컴플리트', '핸디/스틱청소기 / 핸디+스틱형 / 무선형 / [성능] 싸이클론 / 흡입력: 185AW / 소비전력: 545W / [배터리] 충전시간: 4시간30분 / 사용시간: 1시간(개당) / [기능] 디스플레이표시창 / [구성품] 하이토크 / 소프트롤러 / 미니모터 / 솔형 / 더스팅 / 스터번더트 / 틈새 / 매트리스 / 거치대 / 도킹스테이션 / [부가] 먼지통용량: 0.54L / 색상: 니켈블루 / 무게: 2.95kg / 크기(가로x세로x깊이): 250x1280x261mm', '887200'], ['LG전자 코드제로 ThinQ A9S 펫 A9700BPK', '핸디/스틱청소기 / 핸디+스틱형 / 무선형 / 흡입+걸레겸용 / [성능] 2중터보싸이클론 / 인버터모터 / 흡입력: 200W / 소비전력: 590W / [배터리] 분리형 / 리튬이온 (2개) / 충전시간: 4시간 / 사용시간: 1시간(개당) / [필터] 헤파필터 / H13급 / 5단계여과 / [기능] 자동물공급 / 디스플레이표시창 / 배터리잔량표시 / WiFi / [구성품] 바닥 / 물걸레 / 펫 / 솔형 / 굳은먼지 / 상부청소 / 틈새 / 긴틈새 / 매트리스 / 연장툴 / 거치대 / [부가] 미세먼지인증(SLG) / 색상: 블랙 / 크기(가로x세로x깊이): 250x1120x260mm', '902000'], ['LG전자 코드제로 ThinQ A9S A9370', '핸디/스틱청소기 / 핸디+스틱형 / 무선형 / 흡입+걸레겸용 / [성능] 2중터보싸이클론 / 인버터모터 / 흡입력: 200W / 소비전력: 590W / [배터리] 분리형 / 리튬이온 / 충전시간: 4시간 / 사용시간: 1시간(개당) / [필터] 헤파필터 / H13급 / 5단계여과 / [기능] 자동물공급 / 디스플레이표시창 / 배터리잔량표시 / WiFi / [구성품] 바닥 / 물걸레 / 솔형 / 틈새 / 거치대 / [부가] 미세먼지인증(SLG) / 색상: 판타지실버 / 크기(가로x세로x깊이): 250x1120x260mm', '674310'], ['일렉트로룩스 퓨어 Q9 파워프로 PQ92-3OBF', '핸디/스틱청소기 / 핸디+스틱형 / 무선형 / 흡입전용 / [성능] 싸이클론 / [배터리] 리튬이온 / 전압: 25.2V / 충전시간: 4시간 / 사용시간: 53분(개당) / [필터] 5단계여과 / [기능] 셀프스탠딩 / LED라이트 / 배터리잔량표시 / [구성품] 바닥 / 솔형 / 더스팅 / 틈새 / 거치대 / [부가] 먼지통용량: 0.3L / 색상: 인디고블루 / 무게: 2.89kg / 크기(가로x세로x깊이): 256x1097x155mm', '327930'], ['샤오미 SHUNZAO 차량용 무선청소기 2세대 Z1 (해외구매)', '차량용청소기 / 무선 / 흡입력: 7,000Pa / 최대출력: 90W / 2중필터 / 추가노즐: 틈새, 솔브러쉬 / LED라이트 / 사용시간: 30분 / 충전방식: USB C타입 / 충전시간: 2시간30분 / 크기: 73x76x336mm / 무게: 700g', '24190'], ['다이슨 V10 플러피 오리진', '핸디/스틱청소기 / 핸디+스틱형 / 무선형 / 흡입전용 / [성능] 싸이클론 / 흡입력: 151AW / [배터리] 충전시간: 3시간30분 / 사용시간: 1시간(개당) / [구성품] 소프트롤러 / 미니모터 / 솔형 / 더스팅 / 틈새 / 도킹스테이션 / [부가] 먼지통용량: 0.5L / 색상: 레드 / 무게: 2.5kg / 크기(가로x세로x깊이): 256x1241x250mm', '517970'], ['샤오미 SWDK-D260', '물걸레청소기 / 스틱형 / 왕복식 / 무선형 / 배터리: 리튬이온 / 용량: 2000mAh / 충전시간: 3시간 / 사용시간: 50분(개당) / 전압: 12.6V / [기능] 물분사 / LED라이트 / 프리볼트 / [부가] 색상: 화이트 / 무게: 2.4kg / 110V / 변환어댑터: 필요', '68490'], ['삼성전자 비스포크 제트 VS20A956A3', '핸디/스틱청소기 / 핸디+스틱형 / 무선형 / 흡입+걸레겸용 / [성능] 제트싸이클론 / 디지털인버터모터 / 흡입력: 210W / [배터리] 분리형 / 리튬이온 / 용량: 2200mAh / 전압: 25.2V / 충전시간: 3시간30분 / 사용시간: 1시간(개당) / [필터] 5단계여과 / [기능] 자동물공급 / 디스플레이표시창 / 배터리잔량표시 / [구성품] 바닥 / 솔형 / 틈새 / 연장툴 / 거치대 / [부가] 먼지통용량: 0.5L / 물통용량: 0.15L / 알레르기인증(BAF) / 미세먼지인증(SLG) / 색상: 미드나잇블루 / 무게: 2.5kg / 먼지통자동비움 / 일체형청정스테이션 / 액세서리크래들  / 크기(가로x세로x깊이): 250x930x202mm', '719380'], ['삼성전자 제트 VS15R8500BF', '핸디/스틱청소기 / 핸디+스틱형 / 무선형 / 흡입+걸레겸용 / [성능] 싸이클론 / 인버터모터 / 흡입력: 150W / 소비전력: 410W / [배터리] 분리형 / 리튬이온 / 전압: 21.6V / 충전시간: 3시간30분 / 사용시간: 40분(개당) / [필터] 헤파필터 / 5단계여과 / [기능] 디스플레이표시창 / 프리볼트 / [구성품] 바닥 / 솔형 / 틈새 / 거치대 / [부가] 먼지통용량: 0.5L / 알레르기인증(BAF) / 미세먼지인증(SLG) / 색상: 틸민트 / 무게: 2.57kg / 크기(가로x세로x깊이): 250x1123x215mm', '404040'], ['다이슨 V11 220AW 컴플리트', '핸디/스틱청소기 / 핸디+스틱형 / 무선형 / 흡입전용 / [성능] 루트싸이클론 / 흡입력: 220AW / 소비전력: 545W / [배터리] 충전시간: 4시간30분 / 사용시간: 1시간(개당) / [기능] 디스플레이표시창 / [구성품] 하이토크 / 소프트롤러 / 미니모터 / 솔형 / 더스팅 / 스터번더트 / 틈새 / 매트리스 / 거치대 / 도킹스테이션 / [부가] 먼지통용량: 0.54L / 색상: 니켈블루 / 무게: 2.95kg / 크기(가로x세로x깊이): 250x1280x261mm', '857910']]\n"
     ]
    }
   ],
   "source": [
    "#반복문으로 검색 결과의 1페이지에 대한 상품 정보 추출 (44개의 상품정보 추출)\n",
    "prod_data = []\n",
    "for item in prod_items:\n",
    "    try: # ① 상품명 가져오기\n",
    "        title = item.select('p.prod_name > a')[0].text.strip()\n",
    "    except: # 태그명이 없을 때\n",
    "        title = ''\n",
    "        \n",
    "    try: # ② 스펙 목록 가져오기\n",
    "        spec_list = item.select('div.spec_list')[0].text.strip()\n",
    "    except:\n",
    "        spec_list = ''\n",
    "        \n",
    "    try: # ③ 가격 정보 가져오기 \n",
    "        price = item.select('li.rank_one > p.price_sect > a > strong')[0].text.strip().replace(\",\",\"\")\n",
    "    except:\n",
    "        price = 0\n",
    "    prod_data.append([title, spec_list, price])\n",
    "    \n",
    "print(len(prod_data))\n",
    "print(prod_data)"
   ]
  },
  {
   "cell_type": "code",
   "execution_count": 40,
   "metadata": {},
   "outputs": [],
   "source": [
    "#상품 정보 태그에서 원하는 정보를 추출하는 함수\n",
    "#방법 1\n",
    "def get_prod_items(prod_items):\n",
    "    prod_data = []\n",
    "    for item in prod_items:\n",
    "        try: # ① 상품명 가져오기\n",
    "            title = item.select('p.prod_name > a')[0].text.strip()\n",
    "        except: # 태그명이 없을 때\n",
    "            spec_list = ''\n",
    "\n",
    "        try: # ② 스펙 목록 가져오기\n",
    "            spec_list = item.select('div.spec_list')[0].text.strip()\n",
    "        except:\n",
    "            spec_list = ''\n",
    "\n",
    "        try: # ③ 가격 정보 가져오기 \n",
    "            price = item.select('li.rank_one > p.price_sect > a > strong')[0].text.strip().replace(\",\",\"\")\n",
    "        except:\n",
    "            price = 0\n",
    "        prod_data.append([title, spec_list, price])\n",
    "        \n",
    "    return prod_data"
   ]
  },
  {
   "cell_type": "code",
   "execution_count": null,
   "metadata": {},
   "outputs": [],
   "source": [
    "#방법2\n",
    "def get_prod_items(prod_items):\n",
    "    prod_data = []\n",
    "    for item in prod_items:\n",
    "        try: # ① 상품명 가져오기\n",
    "            title = item.select('p.prod_name > a')[0].text.strip()\n",
    "            # ② 스펙 목록 가져오기\n",
    "            spec_list = item.select('div.spec_list')[0].text.strip()\n",
    "            # ③ 가격 정보 가져오기 \n",
    "            price = item.select('li.rank_one > p.price_sect > a > strong')[0].text.strip().replace(\",\",\"\")\n",
    "        except:\n",
    "            continue\n",
    "        prod_data.append([title, spec_list, price])\n",
    "        \n",
    "    return prod_data"
   ]
  },
  {
   "cell_type": "code",
   "execution_count": 41,
   "metadata": {},
   "outputs": [
    {
     "data": {
      "text/plain": [
       "41"
      ]
     },
     "execution_count": 41,
     "metadata": {},
     "output_type": "execute_result"
    }
   ],
   "source": [
    "prod_data = get_prod_items(prod_items)\n",
    "len(prod_data)"
   ]
  },
  {
   "cell_type": "markdown",
   "metadata": {},
   "source": [
    "### 여러 페이지 정보 불러와 크롤링(URL 활용)"
   ]
  },
  {
   "cell_type": "code",
   "execution_count": 12,
   "metadata": {},
   "outputs": [],
   "source": [
    "#다나와 검색 URL을 만들어주는 함수 '\\'는 한문장을 여러줄로 보여준다.\n",
    "def get_search_page_url(keyword, page):\n",
    "    return 'http://search.danawa.com/dsearch.php?query={}\\\n",
    "&volumeType=allvs&page={}&limit=40&sort=saveDESC&list=list&\\\n",
    "boost=true&addDelivery=N&recommendedSort=Y&defaultUICategoryCode=\\\n",
    "103740&default\\PhysicsCategoryCode=72%7C80%7C81%7C0&defaultVmTab=\\\n",
    "2489&defaultVaTab\\=153378&tab=goods'.format(keyword, page)"
   ]
  },
  {
   "cell_type": "code",
   "execution_count": 13,
   "metadata": {},
   "outputs": [
    {
     "data": {
      "text/plain": [
       "'http://search.danawa.com/dsearch.php?query=무선청소기&volumeType=allvs&page=1&limit=40&sort=saveDESC&list=list&boost=true&addDelivery=N&recommendedSort=Y&defaultUICategoryCode=103740&default\\\\PhysicsCategoryCode=72%7C80%7C81%7C0&defaultVmTab=2489&defaultVaTab\\\\=153378&tab=goods'"
      ]
     },
     "execution_count": 13,
     "metadata": {},
     "output_type": "execute_result"
    }
   ],
   "source": [
    "keyword = '무선청소기'\n",
    "page = '1'\n",
    "url = get_search_page_url(keyword, page)\n",
    "url"
   ]
  },
  {
   "cell_type": "code",
   "execution_count": 14,
   "metadata": {},
   "outputs": [
    {
     "name": "stdout",
     "output_type": "stream",
     "text": [
      "Collecting tqdm\n",
      "  Downloading tqdm-4.60.0-py2.py3-none-any.whl (75 kB)\n",
      "Installing collected packages: tqdm\n",
      "Successfully installed tqdm-4.60.0\n"
     ]
    }
   ],
   "source": [
    "!pip install tqdm"
   ]
  },
  {
   "cell_type": "code",
   "execution_count": 16,
   "metadata": {},
   "outputs": [
    {
     "data": {
      "application/vnd.jupyter.widget-view+json": {
       "model_id": "05f06f2c879042ef8f797875c2d965c3",
       "version_major": 2,
       "version_minor": 0
      },
      "text/plain": [
       "  0%|          | 0/10 [00:00<?, ?it/s]"
      ]
     },
     "metadata": {},
     "output_type": "display_data"
    }
   ],
   "source": [
    "import time\n",
    "from tqdm.notebook import tqdm #반복되어지는 상황을 상태바로 보여줌\n",
    "total_page = 10\n",
    "for page in tqdm(range(1, total_page+1)):\n",
    "    time.sleep(5)"
   ]
  },
  {
   "cell_type": "code",
   "execution_count": 42,
   "metadata": {},
   "outputs": [],
   "source": [
    "#여러 페이지에 걸친 상품정보 수집\n",
    "path = 'C:/LHR/python/datadown/chromedriver.exe'\n",
    "driver = webdriver.Chrome(path)\n",
    "driver.implicitly_wait(3)\n",
    "keyword = '무선청소기'\n",
    "total_page = 10\n",
    "prod_data_total = []"
   ]
  },
  {
   "cell_type": "code",
   "execution_count": 43,
   "metadata": {},
   "outputs": [
    {
     "data": {
      "application/vnd.jupyter.widget-view+json": {
       "model_id": "d9d7a0e22d0b47bda9c4ba38ebc4aae2",
       "version_major": 2,
       "version_minor": 0
      },
      "text/plain": [
       "  0%|          | 0/10 [00:00<?, ?it/s]"
      ]
     },
     "metadata": {},
     "output_type": "display_data"
    }
   ],
   "source": [
    "for page in tqdm(range(1, total_page + 1)):\n",
    "    url = get_search_page_url(keyword, page)\n",
    "    driver.get(url)\n",
    "    \n",
    "    time.sleep(5)\n",
    "    \n",
    "    html = driver.page_source\n",
    "    soup = BeautifulSoup(html, 'html.parser')\n",
    "    prod_items = soup.select('div.main_prodlist.main_prodlist_list > ul.product_list > li.prod_item') #.을 넣어야 클래스라는 뜻\n",
    "    \n",
    "    prod_items_list = get_prod_items(prod_items)\n",
    "    prod_data_total = prod_data_total + prod_items_list\n",
    "    \n",
    "driver.close()"
   ]
  },
  {
   "cell_type": "code",
   "execution_count": 44,
   "metadata": {},
   "outputs": [
    {
     "data": {
      "text/html": [
       "<div>\n",
       "<style scoped>\n",
       "    .dataframe tbody tr th:only-of-type {\n",
       "        vertical-align: middle;\n",
       "    }\n",
       "\n",
       "    .dataframe tbody tr th {\n",
       "        vertical-align: top;\n",
       "    }\n",
       "\n",
       "    .dataframe thead th {\n",
       "        text-align: right;\n",
       "    }\n",
       "</style>\n",
       "<table border=\"1\" class=\"dataframe\">\n",
       "  <thead>\n",
       "    <tr style=\"text-align: right;\">\n",
       "      <th></th>\n",
       "      <th>상품명</th>\n",
       "      <th>성능목록</th>\n",
       "      <th>가격</th>\n",
       "    </tr>\n",
       "  </thead>\n",
       "  <tbody>\n",
       "    <tr>\n",
       "      <th>0</th>\n",
       "      <td>LG전자 오브제컬렉션 코드제로 ThinQ A9S AO9571</td>\n",
       "      <td>핸디/스틱청소기 / 핸디+스틱형 / 무선형 / 흡입+걸레겸용 / [성능] 2중터보싸...</td>\n",
       "      <td>1203710</td>\n",
       "    </tr>\n",
       "    <tr>\n",
       "      <th>1</th>\n",
       "      <td>tXPtWcclg7</td>\n",
       "      <td>tXPtWcclg7165036</td>\n",
       "      <td>165036</td>\n",
       "    </tr>\n",
       "    <tr>\n",
       "      <th>2</th>\n",
       "      <td>샤오미 CLEANFLY 차량용 무선 청소기 3세대 (해외구매)</td>\n",
       "      <td>차량용청소기 / 무선 / 흡입력: 16,800Pa / 최대출력: 120W / 헤파필...</td>\n",
       "      <td>50080</td>\n",
       "    </tr>\n",
       "    <tr>\n",
       "      <th>3</th>\n",
       "      <td>샤오미 미지아 차량용 핸디 무선 청소기 (해외구매)</td>\n",
       "      <td>차량용청소기 / 무선 / 흡입력: 13,000Pa / 최대출력: 120W / 헤파필...</td>\n",
       "      <td>36230</td>\n",
       "    </tr>\n",
       "    <tr>\n",
       "      <th>4</th>\n",
       "      <td>LG전자 코드제로 A9 A9100S</td>\n",
       "      <td>핸디/스틱청소기 / 핸디+스틱형 / 무선형 / 흡입+걸레겸용 / [성능] 2중터보싸...</td>\n",
       "      <td>462570</td>\n",
       "    </tr>\n",
       "  </tbody>\n",
       "</table>\n",
       "</div>"
      ],
      "text/plain": [
       "                                  상품명                                               성능목록       가격\n",
       "0   LG전자 오브제컬렉션 코드제로 ThinQ A9S AO9571  핸디/스틱청소기 / 핸디+스틱형 / 무선형 / 흡입+걸레겸용 / [성능] 2중터보싸...  1203710\n",
       "1                          tXPtWcclg7                                   tXPtWcclg7165036   165036\n",
       "2  샤오미 CLEANFLY 차량용 무선 청소기 3세대 (해외구매)  차량용청소기 / 무선 / 흡입력: 16,800Pa / 최대출력: 120W / 헤파필...    50080\n",
       "3        샤오미 미지아 차량용 핸디 무선 청소기 (해외구매)  차량용청소기 / 무선 / 흡입력: 13,000Pa / 최대출력: 120W / 헤파필...    36230\n",
       "4                 LG전자 코드제로 A9 A9100S  핸디/스틱청소기 / 핸디+스틱형 / 무선형 / 흡입+걸레겸용 / [성능] 2중터보싸...   462570"
      ]
     },
     "execution_count": 44,
     "metadata": {},
     "output_type": "execute_result"
    }
   ],
   "source": [
    "import pandas as pd\n",
    "data = pd.DataFrame(prod_data_total)\n",
    "data.columns = ['상품명', '성능목록', '가격']\n",
    "data.head()"
   ]
  },
  {
   "cell_type": "code",
   "execution_count": 45,
   "metadata": {},
   "outputs": [
    {
     "name": "stdout",
     "output_type": "stream",
     "text": [
      "<class 'pandas.core.frame.DataFrame'>\n",
      "RangeIndex: 410 entries, 0 to 409\n",
      "Data columns (total 3 columns):\n",
      " #   Column  Non-Null Count  Dtype \n",
      "---  ------  --------------  ----- \n",
      " 0   상품명     410 non-null    object\n",
      " 1   성능목록    410 non-null    object\n",
      " 2   가격      410 non-null    object\n",
      "dtypes: object(3)\n",
      "memory usage: 9.7+ KB\n"
     ]
    }
   ],
   "source": [
    "data.info()"
   ]
  },
  {
   "cell_type": "code",
   "execution_count": 46,
   "metadata": {},
   "outputs": [],
   "source": [
    "data.to_excel('./data4/danawa_crawling_result2.xlsx', index = False)"
   ]
  },
  {
   "cell_type": "code",
   "execution_count": null,
   "metadata": {},
   "outputs": [],
   "source": []
  }
 ],
 "metadata": {
  "kernelspec": {
   "display_name": "pydata",
   "language": "python",
   "name": "pydata"
  },
  "language_info": {
   "codemirror_mode": {
    "name": "ipython",
    "version": 3
   },
   "file_extension": ".py",
   "mimetype": "text/x-python",
   "name": "python",
   "nbconvert_exporter": "python",
   "pygments_lexer": "ipython3",
   "version": "3.7.10"
  }
 },
 "nbformat": 4,
 "nbformat_minor": 4
}
