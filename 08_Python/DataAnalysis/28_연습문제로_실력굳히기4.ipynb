{
 "cells": [
  {
   "cell_type": "markdown",
   "id": "218f3df2",
   "metadata": {},
   "source": [
    "#### 문제 1. pdf 형식의 파일 다운로드 받기\n",
    "goole 사이트에서 특정 키워드로 검색한 후 pdf 파일로 제공되는 파일을\n",
    "지정한 폴더로 다운로드 받는 크롤러 만든다.\n",
    "\n",
    "- 지정한 폴더가 존재하지 않으면 생성하여 파일을 다운로드한다"
   ]
  },
  {
   "cell_type": "code",
   "execution_count": 23,
   "id": "e3a28638",
   "metadata": {},
   "outputs": [],
   "source": [
    "#1. 필요한 모듈과 라이브러리 불러오기\n",
    "from bs4 import BeautifulSoup\n",
    "from selenium import webdriver\n",
    "import time\n",
    "import os"
   ]
  },
  {
   "cell_type": "code",
   "execution_count": 24,
   "id": "48993938",
   "metadata": {},
   "outputs": [
    {
     "name": "stdout",
     "output_type": "stream",
     "text": [
      "크롤링할 키워드는 무엇입니까? : 데이터분석 pdf\n",
      "크롤링할 건수는 몇 건입니까? : 10\n",
      "파일을 저장할 경로만 입력해주세요 (ex : C:\\LHR\\python\\notebook\\practice\\practice4\\ ) : C:\\LHR\\python\\notebook\\practice\\practice4\\\n",
      "입력할 경로가 존재하여 C:\\LHR\\python\\notebook\\practice\\practice4\\ 폴더에 저장합니다.\n"
     ]
    }
   ],
   "source": [
    "#2. 검색 키워드, 건수, 저장경로 입력받기\n",
    "query_text = input(\"크롤링할 키워드는 무엇입니까? : \")\n",
    "cnt = input(\"크롤링할 건수는 몇 건입니까? : \")\n",
    "f_dir = input(\"파일을 저장할 경로만 입력해주세요 (ex : C:\\\\LHR\\\\python\\\\notebook\\\\practice\\\\practice4\\\\ ) : \")\n",
    "\n",
    "#저장될 경로가 존재하는지 확인\n",
    "if os.path.isdir(f_dir): \n",
    "    print(f\"입력할 경로가 존재하여 {f_dir} 폴더에 저장합니다.\")\n",
    "else: #없으면 폴더 생성\n",
    "    os.makedirs(f_dir)\n",
    "    print(f'입력한 경로가 존재하지 않아 {f_dir} 을 생성합니다.')"
   ]
  },
  {
   "cell_type": "code",
   "execution_count": 25,
   "id": "845fea69",
   "metadata": {},
   "outputs": [],
   "source": [
    "#3. 크롬 드라이버를 이용해 웹브라우저를 실행\n",
    "\n",
    "path = 'C:/LHR/python/datadown/chromedriver.exe'\n",
    "driver = webdriver.Chrome(path)\n",
    "\n",
    "#pdf를 다운받을 수 있도록 권한설정 (path 설정이 먼저 되어 있어야함)\n",
    "driver.command_executor._commands[\"send_command\"] = (\"POST\", '/session/$sessionId/chromium/send_command')\n",
    "params = {'cmd': 'Page.setDownloadBehavior', 'params': {'behavior': 'allow', 'downloadPath': f_dir}}\n",
    "command_result = driver.execute(\"send_command\", params)\n",
    "\n",
    "driver.get('https://www.google.com/')\n",
    "time.sleep(2)"
   ]
  },
  {
   "cell_type": "code",
   "execution_count": 26,
   "id": "4c2b88ef",
   "metadata": {},
   "outputs": [],
   "source": [
    "#4. 구글 검색 경로 가져와 키워드 입력 및 검색하기\n",
    "element = driver.find_element_by_css_selector('input.gLFyf.gsfi') #클래스끼리 연결 위해 . 찍기\n",
    "element.send_keys(query_text)\n",
    "element.send_keys('\\n') #엔터"
   ]
  },
  {
   "cell_type": "code",
   "execution_count": 27,
   "id": "611b4386",
   "metadata": {},
   "outputs": [
    {
     "name": "stdout",
     "output_type": "stream",
     "text": [
      "10\n"
     ]
    }
   ],
   "source": [
    "time.sleep(1)\n",
    "\n",
    "#5. 페이지 소스 받아오기\n",
    "html = driver.page_source\n",
    "soup = BeautifulSoup(html, 'html.parser')\n",
    "\n",
    "pdf_src = soup.select('div.yuRUbf > a') #div 안의 a태그 가져오기\n",
    "\n",
    "print(len(pdf_src))\n",
    "\n",
    "cnt = int(cnt)\n",
    "\n",
    "#수가 내가 지정한 수보다 크면, 내가 지정한 수만큼만 다운받도록\n",
    "if cnt > len(pdf_src):\n",
    "    cnt = len(pdf_src)"
   ]
  },
  {
   "cell_type": "code",
   "execution_count": 10,
   "id": "c0e185fc",
   "metadata": {},
   "outputs": [
    {
     "name": "stdout",
     "output_type": "stream",
     "text": [
      "10\n"
     ]
    },
    {
     "data": {
      "text/plain": [
       "'https://cs.kangwon.ac.kr/~ysmoon/courses/2017_1/grad/06.pdf'"
      ]
     },
     "execution_count": 10,
     "metadata": {},
     "output_type": "execute_result"
    }
   ],
   "source": [
    "#방법 1\n",
    "# import urllib.request\n",
    "\n",
    "# file_no = 0\n",
    "# pdf_src2 = []\n",
    "# os.chdir(f_dir) #실행경로는 f_dir로 이동했으므로, 다운은 f_dir에서\n",
    "\n",
    "# for i in pdf_src: #10번을 반복하며 가져온다\n",
    "#     try:\n",
    "#         #바로 해도 되지만, 이해하기 쉽게 분리해서 작성\n",
    "#         pdf_src1 = i['href'] #a 태그의 속성 하나하나를 담기\n",
    "#         pdf_src2.append(pdf_src1)\n",
    "        \n",
    "#     except Exception as e:\n",
    "#         print(e)\n",
    "\n",
    "# print(len(pdf_src2))\n",
    "# pdf_src2[0]"
   ]
  },
  {
   "cell_type": "code",
   "execution_count": 28,
   "id": "4fd8674b",
   "metadata": {},
   "outputs": [
    {
     "name": "stdout",
     "output_type": "stream",
     "text": [
      "10\n"
     ]
    },
    {
     "data": {
      "text/plain": [
       "'https://www.kedu.kr/attach/contents/%ED%95%99%EC%8A%B5%EC%9E%90%EB%A3%8C_%EB%B9%85%EB%8D%B0%EC%9D%B4%ED%84%B0%20%EC%89%BD%EA%B2%8C%20%EC%9D%B4%ED%95%B4%ED%95%98%EA%B8%B0.pdf'"
      ]
     },
     "execution_count": 28,
     "metadata": {},
     "output_type": "execute_result"
    }
   ],
   "source": [
    "#방법 2\n",
    "import requests\n",
    "import shutil #jpg 파일, pdf 파일도 갖고 올 수 있음\n",
    "\n",
    "file_no = 0\n",
    "pdf_src2 = []\n",
    "os.chdir(f_dir) #실행경로는 f_dir로 이동했으므로, 다운은 f_dir에서\n",
    "\n",
    "for i in pdf_src: #10번을 반복하며 가져온다\n",
    "    try:\n",
    "        #바로 해도 되지만, 이해하기 쉽게 분리해서 작성\n",
    "        pdf_src1 = i['href'] #a 태그의 속성 하나하나를 담기\n",
    "        pdf_src2.append(pdf_src1)\n",
    "        \n",
    "    except Exception as e:\n",
    "        print(e)\n",
    "\n",
    "print(len(pdf_src2))\n",
    "pdf_src2[0]"
   ]
  },
  {
   "cell_type": "code",
   "execution_count": 29,
   "id": "e966c1e6",
   "metadata": {},
   "outputs": [
    {
     "name": "stdout",
     "output_type": "stream",
     "text": [
      "1 번째 이미지 저장 중입니다...\n",
      "2 번째 이미지 저장 중입니다...\n",
      "3 번째 이미지 저장 중입니다...\n",
      "4 번째 이미지 저장 중입니다...\n",
      "5 번째 이미지 저장 중입니다...\n",
      "6 번째 이미지 저장 중입니다...\n",
      "7 번째 이미지 저장 중입니다...\n",
      "8 번째 이미지 저장 중입니다...\n",
      "9 번째 이미지 저장 중입니다...\n",
      "10 번째 이미지 저장 중입니다...\n",
      "==============================\n",
      "파일이 저장된 폴더명 : C:\\LHR\\python\\notebook\\practice\\practice4\\\n",
      "==============================\n"
     ]
    }
   ],
   "source": [
    "#6. 방법 1 - 다운로드\n",
    "# for i in range(len(pdf_src2)):\n",
    "#     if i == cnt: #cnt값과 같으면 반복문을 빠져나온다\n",
    "#         break\n",
    "    \n",
    "#     try:\n",
    "#         urllib.request.urlretrieve(pdf_src2[i], str(file_no) + '.pdf') #pdf_src2에서 꺼내온 정보를 file_no + .pdf로 저장하겠다\n",
    "    \n",
    "#     except Exception as e:\n",
    "#         print(e)\n",
    "#         continue #문제가 생겨도 계속 되도록\n",
    "    \n",
    "#     file_no += 1\n",
    "#     time.sleep(0.5)\n",
    "#     print(f\"{file_no} 번째 이미지 저장 중입니다...\")\n",
    "\n",
    "#6. 방법 2 - 다운로드    \n",
    "for i in range(len(pdf_src2)):\n",
    "    if i == cnt: #cnt값과 같으면 반복문을 빠져나온다\n",
    "        break\n",
    "    \n",
    "    try:\n",
    "        res = requests.get(pdf_src2[i], stream = True) #stream 형식이다 (True)\n",
    "        with open(str(file_no) + '.pdf', 'wb') as f: #쓰기 형식으로 할 거다, f라는 이름으로 할 거다\n",
    "            res.raw.decode_content = True\n",
    "            shutil.copyfileobj(res.raw, f) #shutil로 카피\n",
    "    \n",
    "    except Exception as e:\n",
    "        print(e)\n",
    "        continue #문제가 생겨도 계속 되도록\n",
    "    \n",
    "    file_no += 1\n",
    "    time.sleep(0.5)\n",
    "    print(f\"{file_no} 번째 이미지 저장 중입니다...\")\n",
    "\n",
    "    \n",
    "#7. 요약정보 출력    \n",
    "print(\"=\" * 30)\n",
    "print(f\"파일이 저장된 폴더명 : {f_dir}\")\n",
    "print(\"=\" * 30)\n",
    "\n",
    "driver.close()"
   ]
  },
  {
   "cell_type": "code",
   "execution_count": null,
   "id": "e0a5f609",
   "metadata": {},
   "outputs": [],
   "source": []
  }
 ],
 "metadata": {
  "kernelspec": {
   "display_name": "pydata",
   "language": "python",
   "name": "pydata"
  },
  "language_info": {
   "codemirror_mode": {
    "name": "ipython",
    "version": 3
   },
   "file_extension": ".py",
   "mimetype": "text/x-python",
   "name": "python",
   "nbconvert_exporter": "python",
   "pygments_lexer": "ipython3",
   "version": "3.7.10"
  }
 },
 "nbformat": 4,
 "nbformat_minor": 5
}
