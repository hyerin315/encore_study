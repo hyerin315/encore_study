{
 "cells": [
  {
   "cell_type": "markdown",
   "id": "34b1cd19",
   "metadata": {},
   "source": [
    "### 문제 2.\n",
    "네이버(www.naver.com)에서 아래 예시와 같이 사용자에게 검색어와 저장할 파일들의 경로를 입력받은 후 해당 키워드로 검색하여 나오는 결과에서 블로그만 선택한 후 처음 페이지에 있는 결과 10건의 게시물에서 아래 예시와 같이 txt 파일로 저장하고 표로 만들어(DataFrame)으로 만들어서  xlsx, csv 형식으로 저장한다."
   ]
  },
  {
   "cell_type": "markdown",
   "id": "9c48d256",
   "metadata": {},
   "source": [
    "-------------------------------------------------------------------------------\n",
    "1) 아래처럼 검색어, 저장할 파일의 경로 파일명을 입력받는다.\n",
    "\n",
    "크롤링할 키워드는 무엇입니까?: 여름여행\n",
    "검색 결과를 저장할 txt 파일경로와 이름을 지정하세요(예:C:\\data_science_202007\\notebook\\data\\exp3.txt): C:\\data_science_202007\\notebook\\data\\exp2.txt\n",
    "검색 결과를 저장할 csv 파일경로와 이름을 지정하세요(예:C:\\data_science_202007\\notebook\\data\\exp3.csv): C:\\data_science_202007\\notebook\\data\\exp2.csv\n",
    "검색 결과를 저장할 xls 파일경로와 이름을 지정하세요(C:\\data_science_202007\\notebook\\data\\exp3.xls): C:\\data_science_202007\\notebook\\data\\exp2.xls"
   ]
  },
  {
   "cell_type": "markdown",
   "id": "9537c4af",
   "metadata": {},
   "source": [
    "2) 검색결과를 블로그에서 아래처럼 추출하여 파일에 저장한다.\n",
    "  1. 목록의 글번호 : 1~10까지 저장\n",
    "  2. 게시물 제목\n",
    "  3. 게시물 요약 내용\n",
    "  4. 게시글 작성 날짜\n",
    "  5. 블로그 닉네임"
   ]
  },
  {
   "cell_type": "code",
   "execution_count": 2,
   "id": "745d5b97",
   "metadata": {},
   "outputs": [],
   "source": [
    "#Step 1. 필요한 모듈과 라이브러리를 로딩하고 검색어와 파일경로를 입력 받는다.\n",
    "from bs4 import BeautifulSoup\n",
    "from selenium import webdriver\n",
    "import time\n",
    "import pandas as pd\n",
    "import math\n",
    "import random\n",
    "import os"
   ]
  },
  {
   "cell_type": "code",
   "execution_count": 5,
   "id": "62160707",
   "metadata": {},
   "outputs": [
    {
     "name": "stdout",
     "output_type": "stream",
     "text": [
      "==================================================\n",
      "[크롤링할 키워드 입력] 여름여행\n",
      "[검색결과를 저장할 txt 파일 경로와 이름 (ex. C:\\LHR\\python\\notebook\\practice\\practice2\\naver2.txt )] C:\\LHR\\python\\notebook\\practice\\practice2\\naver2.txt\n",
      "[검색결과를 저장할 csv 파일 경로와 이름 (ex. C:\\LHR\\python\\notebook\\practice\\practice2\\naver2.csv )] C:\\LHR\\python\\notebook\\practice\\practice2\\naver2.csv\n",
      "[검색결과를 저장할 xlsx 파일 경로와 이름 (ex. C:\\LHR\\python\\notebook\\practice\\practice2\\naver2.xlsx )]C:\\LHR\\python\\notebook\\practice\\practice2\\naver2.xlsx\n"
     ]
    }
   ],
   "source": [
    "print(\"=\" * 50)\n",
    "query_txt = input(\"[크롤링할 키워드 입력] \")\n",
    "f_name = input('[검색결과를 저장할 txt 파일 경로와 이름 (ex. C:\\\\LHR\\\\python\\\\notebook\\\\practice\\\\practice2\\\\naver2.txt )] ')\n",
    "fc_name = input('[검색결과를 저장할 csv 파일 경로와 이름 (ex. C:\\\\LHR\\\\python\\\\notebook\\\\practice\\\\practice2\\\\naver2.csv )] ')\n",
    "fx_name = input('[검색결과를 저장할 xlsx 파일 경로와 이름 (ex. C:\\\\LHR\\\\python\\\\notebook\\\\practice\\\\practice2\\\\naver2.xlsx )]')"
   ]
  },
  {
   "cell_type": "code",
   "execution_count": 6,
   "id": "b9aad7d6",
   "metadata": {},
   "outputs": [],
   "source": [
    "#Step 2. 크롬 드라이버를 사용해서 웹 브라우저를 실행한다.\n",
    "path = \"C:/LHR/python/datadown/chromedriver.exe\"\n",
    "driver = webdriver.Chrome(path)\n",
    "driver.get(\"https://www.naver.com/\")\n",
    "time.sleep(2)"
   ]
  },
  {
   "cell_type": "code",
   "execution_count": 7,
   "id": "7072b439",
   "metadata": {},
   "outputs": [],
   "source": [
    "#Step 3. 검색창의 이름을 찾아서 검색어를 입력한다.\n",
    "element = driver.find_element_by_id(\"query\")\n",
    "element.send_keys(query_txt)\n",
    "element.send_keys(\"\\n\")\n",
    "\n",
    "time.sleep(1)"
   ]
  },
  {
   "cell_type": "code",
   "execution_count": null,
   "id": "63d97d7a",
   "metadata": {},
   "outputs": [],
   "source": [
    "html = driver.page_source\n",
    "soup = BeautifulSoup(html, 'html.parser')\n",
    "content_list = soup.find()"
   ]
  }
 ],
 "metadata": {
  "kernelspec": {
   "display_name": "pydata",
   "language": "python",
   "name": "pydata"
  },
  "language_info": {
   "codemirror_mode": {
    "name": "ipython",
    "version": 3
   },
   "file_extension": ".py",
   "mimetype": "text/x-python",
   "name": "python",
   "nbconvert_exporter": "python",
   "pygments_lexer": "ipython3",
   "version": "3.7.10"
  }
 },
 "nbformat": 4,
 "nbformat_minor": 5
}
