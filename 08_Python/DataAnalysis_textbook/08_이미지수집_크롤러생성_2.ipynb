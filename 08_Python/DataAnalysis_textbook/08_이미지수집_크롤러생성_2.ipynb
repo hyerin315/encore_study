{
 "cells": [
  {
   "cell_type": "code",
   "execution_count": 28,
   "metadata": {},
   "outputs": [],
   "source": [
    "from bs4 import BeautifulSoup\n",
    "from selenium import webdriver\n",
    "import urllib.request\n",
    "import urllib\n",
    "import time\n",
    "import sys\n",
    "import math\n",
    "import os"
   ]
  },
  {
   "cell_type": "code",
   "execution_count": 29,
   "metadata": {},
   "outputs": [
    {
     "name": "stdout",
     "output_type": "stream",
     "text": [
      "사진을 저장할 폴더를 지정하세요. (예: C:\\LHR\\python\\notebook\\data\\) : C:\\LHR\\python\\notebook\\data\\\n"
     ]
    }
   ],
   "source": [
    "f_dir = input(\"사진을 저장할 폴더를 지정하세요. (예: C:\\\\LHR\\\\python\\\\notebook\\\\data\\\\) : \")\n",
    "query_txt ='사진저장'"
   ]
  },
  {
   "cell_type": "code",
   "execution_count": 30,
   "metadata": {},
   "outputs": [],
   "source": [
    "now = time.localtime()\n",
    "s = \"{}-{}-{}-{}-{}\".format(now.tm_year, now.tm_mon, now.tm_mday, now.tm_hour, now.tm_min, now.tm_sec)"
   ]
  },
  {
   "cell_type": "code",
   "execution_count": 31,
   "metadata": {},
   "outputs": [
    {
     "data": {
      "text/plain": [
       "'C:\\\\LHR\\\\python\\\\notebook\\\\data\\\\2021-4-15-10-20-사진저장'"
      ]
     },
     "execution_count": 31,
     "metadata": {},
     "output_type": "execute_result"
    }
   ],
   "source": [
    "os.makedirs(f_dir + s + '-' + query_txt)\n",
    "f_result_dir = f_dir + s + '-' + query_txt #만들어진 결과 출력\n",
    "f_result_dir"
   ]
  },
  {
   "cell_type": "code",
   "execution_count": 32,
   "metadata": {},
   "outputs": [],
   "source": [
    "path = \"C:/LHR/python/datadown/chromedriver.exe\"\n",
    "driver = webdriver.Chrome(path)\n",
    "\n",
    "s_time = time.time()\n",
    "driver.get('https://korean.visitkorea.or.kr/detail/rem_detail.do?cotid=054247db-9860-480e-83ea-899b19fb8b53&con_type=10500')\n",
    "time.sleep(2)\n",
    "\n",
    "#스크롤바를 내리는 효과\n",
    "def scroll_down(driver):\n",
    "    driver.execute_script(\"window.scrollTo(0,document.body.scrollHeight);\")\n",
    "    time.sleep(1)\n",
    "\n",
    "scroll_down(driver)"
   ]
  },
  {
   "cell_type": "code",
   "execution_count": 33,
   "metadata": {},
   "outputs": [
    {
     "data": {
      "text/plain": [
       "['https://cdn.visitkorea.or.kr/img/call?cmd=VIEW&id=df6a3501-8a00-4e54-a002-fcd2784f6cf8',\n",
       " 'https://cdn.visitkorea.or.kr/img/call?cmd=VIEW&id=2540e022-a93f-4356-bb62-66ae4fec74f0',\n",
       " 'https://cdn.visitkorea.or.kr/img/call?cmd=VIEW&id=5d2868d9-383b-4e97-a782-2a99f66bca8b',\n",
       " 'https://cdn.visitkorea.or.kr/img/call?cmd=VIEW&id=16a87c8a-c5e9-452e-8a0d-dff71af3cea4',\n",
       " 'https://cdn.visitkorea.or.kr/img/call?cmd=VIEW&id=e8562079-a629-4d8a-8c94-fdd6f73a2c84',\n",
       " 'https://cdn.visitkorea.or.kr/img/call?cmd=VIEW&id=4324aa65-1524-4e24-ad46-51206ed0c8eb',\n",
       " 'https://cdn.visitkorea.or.kr/img/call?cmd=VIEW&id=77264d00-ba5c-40df-8aeb-af6862dbca52',\n",
       " 'https://cdn.visitkorea.or.kr/img/call?cmd=VIEW&id=28f3579c-9359-4313-8a5c-456a20162f27',\n",
       " 'https://cdn.visitkorea.or.kr/img/call?cmd=VIEW&id=55ad73b0-a291-47bd-9192-df132f74fed3',\n",
       " 'https://cdn.visitkorea.or.kr/img/call?cmd=VIEW&id=fb00493d-9706-40bc-a149-29adf23607de',\n",
       " 'https://cdn.visitkorea.or.kr/img/call?cmd=VIEW&id=a0787d69-c90f-4968-a0ec-00d010fa89fa',\n",
       " 'https://cdn.visitkorea.or.kr/img/call?cmd=VIEW&id=20135b21-f980-4230-9076-e99767d8b7d0',\n",
       " 'https://cdn.visitkorea.or.kr/img/call?cmd=VIEW&id=db62dc5f-3dcf-4baa-bbbe-8c8f4afb4f96',\n",
       " 'https://cdn.visitkorea.or.kr/img/call?cmd=VIEW&id=5f94cfbc-084b-4be9-9978-80c70d49f468']"
      ]
     },
     "execution_count": 33,
     "metadata": {},
     "output_type": "execute_result"
    }
   ],
   "source": [
    "file_no = 0\n",
    "img_src2 = [] #find_all 해서 src 값을 담을 리스트\n",
    "\n",
    "html = driver.page_source\n",
    "soup = BeautifulSoup(html, 'html.parser')\n",
    "tag = soup.find('div', 'info_area pc').find_all('a')\n",
    "\n",
    "for i in tag:\n",
    "    style = i['style'].split('(')[1].split(')')[0] #이미지 태그 하나의 값이 i\n",
    "    img_src2.append(style)\n",
    "\n",
    "img_src2"
   ]
  },
  {
   "cell_type": "code",
   "execution_count": 34,
   "metadata": {},
   "outputs": [
    {
     "name": "stdout",
     "output_type": "stream",
     "text": [
      "1번째 이미지 저장중입니다============\n",
      "2번째 이미지 저장중입니다============\n",
      "3번째 이미지 저장중입니다============\n",
      "4번째 이미지 저장중입니다============\n",
      "5번째 이미지 저장중입니다============\n",
      "6번째 이미지 저장중입니다============\n",
      "7번째 이미지 저장중입니다============\n",
      "8번째 이미지 저장중입니다============\n",
      "9번째 이미지 저장중입니다============\n",
      "10번째 이미지 저장중입니다============\n",
      "11번째 이미지 저장중입니다============\n",
      "12번째 이미지 저장중입니다============\n",
      "13번째 이미지 저장중입니다============\n",
      "14번째 이미지 저장중입니다============\n"
     ]
    }
   ],
   "source": [
    "os.chdir(f_dir + s + '-' + query_txt) #특정 폴더로 경로 이동\n",
    "for i in range(0, len(img_src2)):\n",
    "    try:\n",
    "        urllib.request.urlretrieve(img_src2[i], str(file_no) + '.jpg')\n",
    "    except:\n",
    "        continue\n",
    "    file_no += 1\n",
    "    time.sleep(0.5)\n",
    "    print(\"{}번째 이미지 저장중입니다============\".format(file_no))"
   ]
  },
  {
   "cell_type": "code",
   "execution_count": 35,
   "metadata": {},
   "outputs": [],
   "source": [
    "e_time = time.time()\n",
    "t_time = e_time - s_time"
   ]
  },
  {
   "cell_type": "code",
   "execution_count": 36,
   "metadata": {},
   "outputs": [
    {
     "name": "stdout",
     "output_type": "stream",
     "text": [
      "======================================================================\n",
      "총 소요시간은 25.4초 입니다\n",
      "총 저장건수는 14건 입니다\n",
      "파일 저장경로는 [C:\\LHR\\python\\notebook\\data\\2021-4-15-10-20-사진저장] 입니다\n",
      "======================================================================\n"
     ]
    }
   ],
   "source": [
    "print(\"=\" * 70)\n",
    "print(\"총 소요시간은 {}초 입니다\".format(round(t_time, 1)))\n",
    "print(\"총 저장건수는 {}건 입니다\".format(file_no))\n",
    "print(\"파일 저장경로는 [{}] 입니다\".format(f_result_dir))\n",
    "print(\"=\" * 70)\n",
    "\n",
    "driver.close()"
   ]
  },
  {
   "cell_type": "markdown",
   "metadata": {},
   "source": [
    "## 다른 페이지 수정버전 (a태그 안에 있는 배경이미지 가져오기)"
   ]
  },
  {
   "cell_type": "code",
   "execution_count": 52,
   "metadata": {},
   "outputs": [
    {
     "name": "stdout",
     "output_type": "stream",
     "text": [
      "사진을 저장할 폴더를 지정하세요. (예: C:\\LHR\\python\\notebook\\data\\) : C:\\LHR\\python\\notebook\\data\\\n"
     ]
    },
    {
     "data": {
      "text/plain": [
       "['https://cdn.visitkorea.or.kr/img/call?cmd=VIEW&id=74be8475-ae61-4f45-a37e-4c72b233b67b',\n",
       " 'https://cdn.visitkorea.or.kr/img/call?cmd=VIEW&id=ac6a6e95-ebbd-4a55-a560-ab84c0be9e90',\n",
       " 'https://cdn.visitkorea.or.kr/img/call?cmd=VIEW&id=68a69545-8b2b-4d51-ace7-677cc8ee0023',\n",
       " 'https://cdn.visitkorea.or.kr/img/call?cmd=VIEW&id=d3b1ecd4-53b7-4825-b7db-b1e8c6b0ead6',\n",
       " 'https://cdn.visitkorea.or.kr/img/call?cmd=VIEW&id=e78e519c-ae31-45d1-9f1c-954ee8714e9f',\n",
       " 'https://cdn.visitkorea.or.kr/img/call?cmd=VIEW&id=849eb935-e490-4ec5-b350-dae142c1a61b',\n",
       " 'https://cdn.visitkorea.or.kr/img/call?cmd=VIEW&id=8b657bef-7ca9-4480-ba14-070329e3cba3',\n",
       " 'https://cdn.visitkorea.or.kr/img/call?cmd=VIEW&id=feef9ff2-f965-4785-ba98-cf6e39f8389d',\n",
       " 'https://cdn.visitkorea.or.kr/img/call?cmd=VIEW&id=6e838ead-aed3-4a86-a3bb-75d3eb19e323',\n",
       " 'https://cdn.visitkorea.or.kr/img/call?cmd=VIEW&id=70714f1b-c087-452b-a6fb-ea5ae0065bba',\n",
       " 'https://cdn.visitkorea.or.kr/img/call?cmd=VIEW&id=b4d3ec36-9e99-4719-9aba-03aa945831ed',\n",
       " 'https://cdn.visitkorea.or.kr/img/call?cmd=VIEW&id=e7fc502c-6ac6-425f-8abe-b03df582a828']"
      ]
     },
     "execution_count": 52,
     "metadata": {},
     "output_type": "execute_result"
    }
   ],
   "source": [
    "from bs4 import BeautifulSoup\n",
    "from selenium import webdriver\n",
    "import urllib.request\n",
    "import urllib\n",
    "import time\n",
    "import sys\n",
    "import math\n",
    "import os\n",
    "\n",
    "f_dir = input(\"사진을 저장할 폴더를 지정하세요. (예: C:\\\\LHR\\\\python\\\\notebook\\\\data\\\\) : \")\n",
    "query_txt ='사진저장'\n",
    "\n",
    "now = time.localtime()\n",
    "s = \"{}-{}-{}-{}-{}\".format(now.tm_year, now.tm_mon, now.tm_mday, now.tm_hour, now.tm_min, now.tm_sec)\n",
    "\n",
    "os.makedirs(f_dir + s + '-' + query_txt)\n",
    "f_result_dir = f_dir + s + '-' + query_txt #만들어진 결과 출력\n",
    "f_result_dir\n",
    "\n",
    "path = \"C:/LHR/python/datadown/chromedriver.exe\"\n",
    "driver = webdriver.Chrome(path)\n",
    "\n",
    "s_time = time.time()\n",
    "driver.get('https://korean.visitkorea.or.kr/detail/cs_detail_cos.do?cotid=1923378b-3e45-4ae9-8610-c8235636ba5e&big_category=A01&mid_category=A0100&big_area=39')\n",
    "time.sleep(2)\n",
    "driver.maximize_window() #화면 크기를 크게 한다 (모바일버전과 PC버전의 경로값이의 경로값이 다르기 때문)\n",
    "\n",
    "#스크롤바를 내리는 효과\n",
    "# def scroll_down(driver):\n",
    "#     driver.execute_script(\"window.scrollTo(0,document.body.scrollHeight);\")\n",
    "#     time.sleep(1)\n",
    "\n",
    "# scroll_down(driver)\n",
    "\n",
    "\n",
    "file_no = 0\n",
    "img_src2 = [] #find_all 해서 src 값을 담을 리스트\n",
    "\n",
    "for x in range(1, 5):\n",
    "    driver.find_element_by_xpath(\"\"\"//*[@id=\\\"contents\\\"]/div[2]/div[6]/div[1]/div[1]/div/ul/li[{}]/a\"\"\".format(x)).click()\n",
    "    \n",
    "    time.sleep(0.5)\n",
    "\n",
    "    html = driver.page_source\n",
    "    soup = BeautifulSoup(html, 'html.parser')\n",
    "    \n",
    "    tag = soup.find('div', 'cos_cont active')\n",
    "    tag2 = tag.find('div', 'info_area pc').find_all('a')\n",
    "    tag2\n",
    "\n",
    "    for i in tag2:\n",
    "        style = i['style'].split('(')[1].split(')')[0] #이미지 태그 하나의 값이 i\n",
    "        img_src2.append(style)\n",
    "    \n",
    "img_src2"
   ]
  },
  {
   "cell_type": "code",
   "execution_count": 53,
   "metadata": {},
   "outputs": [
    {
     "name": "stdout",
     "output_type": "stream",
     "text": [
      "1번째 이미지 저장중입니다============\n",
      "2번째 이미지 저장중입니다============\n",
      "3번째 이미지 저장중입니다============\n",
      "4번째 이미지 저장중입니다============\n",
      "5번째 이미지 저장중입니다============\n",
      "6번째 이미지 저장중입니다============\n",
      "7번째 이미지 저장중입니다============\n",
      "8번째 이미지 저장중입니다============\n",
      "9번째 이미지 저장중입니다============\n",
      "10번째 이미지 저장중입니다============\n",
      "11번째 이미지 저장중입니다============\n",
      "12번째 이미지 저장중입니다============\n",
      "======================================================================\n",
      "총 소요시간은 28.0초 입니다\n",
      "총 저장건수는 12건 입니다\n",
      "파일 저장경로는 [C:\\LHR\\python\\notebook\\data\\2021-4-15-12-29-사진저장] 입니다\n",
      "======================================================================\n"
     ]
    }
   ],
   "source": [
    "#img_src2\n",
    "\n",
    "os.chdir(f_dir + s + '-' + query_txt) #이미지 다운로드 받을 특정 폴더로 경로 이동\n",
    "\n",
    "#이미지 다운로드 실행\n",
    "for i in range(0, len(img_src2)):\n",
    "    try:\n",
    "        urllib.request.urlretrieve(img_src2[i], str(file_no) + '.jpg')\n",
    "    except:\n",
    "        continue\n",
    "    file_no += 1 \n",
    "    time.sleep(0.5)\n",
    "    print(\"{}번째 이미지 저장중입니다============\".format(file_no))\n",
    "\n",
    "#이미지 크롤링 후 요약정보 출력\n",
    "e_time = time.time()\n",
    "t_time = e_time - s_time\n",
    "\n",
    "print(\"=\" * 70)\n",
    "print(\"총 소요시간은 {}초 입니다\".format(round(t_time, 1)))\n",
    "print(\"총 저장건수는 {}건 입니다\".format(file_no))\n",
    "print(\"파일 저장경로는 [{}] 입니다\".format(f_result_dir))\n",
    "print(\"=\" * 70)\n",
    "\n",
    "driver.close()"
   ]
  },
  {
   "cell_type": "code",
   "execution_count": null,
   "metadata": {},
   "outputs": [],
   "source": []
  }
 ],
 "metadata": {
  "kernelspec": {
   "display_name": "pydata",
   "language": "python",
   "name": "pydata"
  },
  "language_info": {
   "codemirror_mode": {
    "name": "ipython",
    "version": 3
   },
   "file_extension": ".py",
   "mimetype": "text/x-python",
   "name": "python",
   "nbconvert_exporter": "python",
   "pygments_lexer": "ipython3",
   "version": "3.7.10"
  }
 },
 "nbformat": 4,
 "nbformat_minor": 4
}
