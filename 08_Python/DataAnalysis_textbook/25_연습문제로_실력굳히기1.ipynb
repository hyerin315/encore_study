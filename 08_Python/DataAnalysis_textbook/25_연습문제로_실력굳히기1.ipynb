{
 "cells": [
  {
   "cell_type": "markdown",
   "id": "07f2d2f8",
   "metadata": {},
   "source": [
    "### 문제 1. \n",
    "네이버(www.naver.com) 검색창에서 '여름여행'으로 검색하여 출력되는 섹션을 텍스트로 추출하여 텍스트 파일로 저장하기"
   ]
  },
  {
   "cell_type": "code",
   "execution_count": 21,
   "id": "95bc8c5e",
   "metadata": {},
   "outputs": [],
   "source": [
    "from bs4 import BeautifulSoup\n",
    "from selenium import webdriver\n",
    "import time"
   ]
  },
  {
   "cell_type": "code",
   "execution_count": 22,
   "id": "f7222477",
   "metadata": {},
   "outputs": [
    {
     "name": "stdout",
     "output_type": "stream",
     "text": [
      "==============================\n",
      "==============================\n"
     ]
    }
   ],
   "source": [
    "print('=' * 30)\n",
    "#query_txt = input('크롤링 할 키워드 :: ')\n",
    "query_txt = ('여름여행')\n",
    "#f_name = input('검색결과를 저장할 파일경로와 이름을 지정하세요 (예시 : C:\\LHR\\python\\notebook\\practice\\naver1\\naver1.txt ) :: ')\n",
    "f_name = ('C:\\\\LHR\\\\python\\\\notebook\\\\practice\\\\naver1\\\\naver1.txt')\n",
    "print('=' * 30)\n",
    "\n",
    "path = \"C:/LHR/python/datadown/chromedriver.exe\"\n",
    "driver = webdriver.Chrome(path)\n",
    "driver.get(\"https://www.naver.com/\")\n",
    "time.sleep(2)"
   ]
  },
  {
   "cell_type": "code",
   "execution_count": 23,
   "id": "ef5080b2",
   "metadata": {},
   "outputs": [
    {
     "name": "stdout",
     "output_type": "stream",
     "text": [
      "    41         인플루언서2020.07.03.  푸른솔의 작은 여행~  태안 안면도 1박2일 여름여행코스    근처 여행계획이 있다면 참고하시어 여름휴가나 여름여행코스로 계획하면 좋겠습니다 태안 솔향기길 1코스가 위치한 길에는 숨어있는 보석같은 펜션이 있는데 바로 자드락펜션입니다. 국도에서 좁은 오솔길로 들어서면...   #태안여행코스 #자드락펜션 #해랑해카페    54         2020.06.23.  유연하게 살아감에 대하여  춘천 2박 3일 여름 여행 (feat. 비효율적 루트)    남자친구와 여름맞이로 다녀온 2박 3일 춘천 여행 우리 커플은 빡빡한 스케줄로 여행을 채우는 것을... 먹었던 탓에 맛을 평가할 수 없을 정도로 마비되었다. 처음부터 끝까지 좋았던 2020년 첫번째 여름 여행. 잘 간직해야지.   #남이섬 #춘천여행 #서울근교여행 #2박3일여행 #힐링여행 #한적한곳 #펜션루이 #토담숯불닭갈비 #스파펜션 #카페드220볼트    25         인플루언서2020.07.10.  웹투어 ; 내 마음대로 여행을 디자인한다!  [강원도 여행] 바다, 숲, 액티비티까지! 언택트 여름여행    시원한 여름을 보낼 수 있는 강원도 여행을 사랑하는 사람들과 함께 즐겨보세요:) 강원도 언택트 여름 여행 고성 Previous image Next image 가진 해변 / 하늬라벤더팜 / 고성갈래길 중 송지호 관망타워 (전체 출처...   #1 #2 #3 #4 #강원도여행 #강원도가볼만한곳 #강원도여행지추천 #강원도바다여행 #강원도숲여행 #고성가볼만한곳   [계곡 추천] 시원한 계곡으로 떠나는 여름 여행!(#계곡추천 #전국계곡추천)             2020.07.10.  꾸준히 행복한 재테크  1.여름여행(2020.07.28-08.01)_준비편    남편의 직업적 특성상 우리는 성수기 또는 주말에만 여행을 할 수 있다. 아이의 여름방학 기간과... 홍천 _ 숙소 https://www.sonohotelsresorts.com/vp/ & #여름여행 #강원도여행 #경상북도여행 #여행계획짜기...   #여름여행 #강원도여행 #경상북도여행 #여행계획짜기 #안동여행 #울진여행 #속초여행 #홍천여행    6         2020.07.08.  무파사 의 일상들  국내 여름 여행지 추천    함께 여행 가시면 좋겠습니다. 뻥 뚫린 바다와 수평선을 보면서 더운 7월-8월을 보내보도록 합시다. 1. [부산]... 정도로 여름에 많은 분들이 찾는 곳이기도 합니다. 국내 여름 여행지 추천에서 가장 많이 나오는 제주도는...   #여름 #휴가철여행지 #여행지 #여름여행지 #강릉 #꽃지 #을왕리 #해운대 #협재    56         공식2020.08.08.  경주시  8월의 경주가볼만한곳 #이달의추천여행 #경주맥문동 #경주해변카페 #경주여름여행지    \"24시간이 모자랄 경주의 올해 마지막 여름\" 사진. 8월의 경주추천여행_경주 피크닉하기 좋은 곳 '헌덕왕릉' 당신은 여행을 할 때 어떤 타입(type)? 여행사 스케줄표 못잖게 엑셀 시트 빼곡히 채운 여행 계획대로 아침부터...   #경주여행추천 #경주여름여행지 #경주해변카페 #경주바다카페 #경주맥문동 #경주황성공원맥문동 #경주피크닉하기좋은곳 #경주여행코스추천 #경주문화관광 #경주엑스포공원   7월의 경주 추천여행 #경주여름여행지 #경주여름가볼만한곳 #경주여행코스(#경주여름여행지 #경주연꽃단지)    34         인플루언서2020.07.22.  맛있는 건 언제나 옳아  산청 여름여행 경남 지리산 대원사계곡길 내원사 황매산    지리산대원사계곡 #지리산내원사 #지리산절 #비로자나불 #지리산내원사삼층석탑 #지리산천왕봉 #산청트릭아트 #황매산 #산청황매산 #산청군 #산청황매산미리내파크 #산청오토캠핑장 #산청여행 #여름여행   #산청대원사계곡길 #대원사계곡 #대원사계곡길 #지리산 #산청대원사 #내원사 #트릭아트 #산청 #경남 #산청여름여행 \n"
     ]
    }
   ],
   "source": [
    "element = driver.find_element_by_id(\"query\")\n",
    "element.send_keys(query_txt)\n",
    "element.send_keys(\"\\n\") #Enter 효과\n",
    "\n",
    "time.sleep(1)\n",
    "\n",
    "full_html = driver.page_source #페이지 정보 갖고오기, 열려진 브라우저의 내용을 주피터 노트북으로 가져온다\n",
    "soup = BeautifulSoup(full_html, 'html.parser')\n",
    "\n",
    "content_list = soup.find('ul','lst_total _list_base').get_text()\n",
    "print(content_list)"
   ]
  },
  {
   "cell_type": "code",
   "execution_count": 24,
   "id": "b0fb41b6",
   "metadata": {},
   "outputs": [
    {
     "data": {
      "text/plain": [
       "'    41         인플루언서2020.07.03.  푸른솔의 작은 여행~  태안 안면도 1박2일 여름여행코스    근처 여행계획이 있다면 참고하시어 여름휴가나 여름여행코스로 계획하면 좋겠습니다 태안 솔향기길 1코스가 위치한 길에는 숨어있는 보석같은 펜션이 있는데 바로 자드락펜션입니다. 국도에서 좁은 오솔길로 들어서면...   #태안여행코스 #자드락펜션 #해랑해카페    54         2020.06.23.  유연하게 살아감에 대하여  춘천 2박 3일 여름 여행 (feat. 비효율적 루트)    남자친구와 여름맞이로 다녀온 2박 3일 춘천 여행 우리 커플은 빡빡한 스케줄로 여행을 채우는 것을... 먹었던 탓에 맛을 평가할 수 없을 정도로 마비되었다. 처음부터 끝까지 좋았던 2020년 첫번째 여름 여행. 잘 간직해야지.   #남이섬 #춘천여행 #서울근교여행 #2박3일여행 #힐링여행 #한적한곳 #펜션루이 #토담숯불닭갈비 #스파펜션 #카페드220볼트    25         인플루언서2020.07.10.  웹투어 ; 내 마음대로 여행을 디자인한다!  [강원도 여행] 바다, 숲, 액티비티까지! 언택트 여름여행    시원한 여름을 보낼 수 있는 강원도 여행을 사랑하는 사람들과 함께 즐겨보세요:) 강원도 언택트 여름 여행 고성 Previous image Next image 가진 해변 / 하늬라벤더팜 / 고성갈래길 중 송지호 관망타워 (전체 출처...   #1 #2 #3 #4 #강원도여행 #강원도가볼만한곳 #강원도여행지추천 #강원도바다여행 #강원도숲여행 #고성가볼만한곳   [계곡 추천] 시원한 계곡으로 떠나는 여름 여행!(#계곡추천 #전국계곡추천)             2020.07.10.  꾸준히 행복한 재테크  1.여름여행(2020.07.28-08.01)_준비편    남편의 직업적 특성상 우리는 성수기 또는 주말에만 여행을 할 수 있다. 아이의 여름방학 기간과... 홍천 _ 숙소 https://www.sonohotelsresorts.com/vp/ & #여름여행 #강원도여행 #경상북도여행 #여행계획짜기...   #여름여행 #강원도여행 #경상북도여행 #여행계획짜기 #안동여행 #울진여행 #속초여행 #홍천여행    6         2020.07.08.  무파사 의 일상들  국내 여름 여행지 추천    함께 여행 가시면 좋겠습니다. 뻥 뚫린 바다와 수평선을 보면서 더운 7월-8월을 보내보도록 합시다. 1. [부산]... 정도로 여름에 많은 분들이 찾는 곳이기도 합니다. 국내 여름 여행지 추천에서 가장 많이 나오는 제주도는...   #여름 #휴가철여행지 #여행지 #여름여행지 #강릉 #꽃지 #을왕리 #해운대 #협재    56         공식2020.08.08.  경주시  8월의 경주가볼만한곳 #이달의추천여행 #경주맥문동 #경주해변카페 #경주여름여행지    \"24시간이 모자랄 경주의 올해 마지막 여름\" 사진. 8월의 경주추천여행_경주 피크닉하기 좋은 곳 \\'헌덕왕릉\\' 당신은 여행을 할 때 어떤 타입(type)? 여행사 스케줄표 못잖게 엑셀 시트 빼곡히 채운 여행 계획대로 아침부터...   #경주여행추천 #경주여름여행지 #경주해변카페 #경주바다카페 #경주맥문동 #경주황성공원맥문동 #경주피크닉하기좋은곳 #경주여행코스추천 #경주문화관광 #경주엑스포공원   7월의 경주 추천여행 #경주여름여행지 #경주여름가볼만한곳 #경주여행코스(#경주여름여행지 #경주연꽃단지)    34         인플루언서2020.07.22.  맛있는 건 언제나 옳아  산청 여름여행 경남 지리산 대원사계곡길 내원사 황매산    지리산대원사계곡 #지리산내원사 #지리산절 #비로자나불 #지리산내원사삼층석탑 #지리산천왕봉 #산청트릭아트 #황매산 #산청황매산 #산청군 #산청황매산미리내파크 #산청오토캠핑장 #산청여행 #여름여행   #산청대원사계곡길 #대원사계곡 #대원사계곡길 #지리산 #산청대원사 #내원사 #트릭아트 #산청 #경남 #산청여름여행 '"
      ]
     },
     "execution_count": 24,
     "metadata": {},
     "output_type": "execute_result"
    }
   ],
   "source": [
    "content_list"
   ]
  },
  {
   "cell_type": "code",
   "execution_count": 34,
   "id": "77bedc03",
   "metadata": {},
   "outputs": [],
   "source": [
    "import sys\n",
    "orig_stdout = sys.stdout #덮어쓰기 방지를 위해 넣어줌\n",
    "f = open(f_name, 'a', encoding='UTF-8') #data 폴더 안에서 확인 가능\n",
    "sys.stdout = f #sys.stdout가 갖고 있는 기본 출력방향을 파일로 바꿈\n",
    "\n",
    "time.sleep(1)"
   ]
  },
  {
   "cell_type": "code",
   "execution_count": 35,
   "id": "36c3519a",
   "metadata": {},
   "outputs": [],
   "source": [
    "print(content_list)"
   ]
  },
  {
   "cell_type": "code",
   "execution_count": 36,
   "id": "979a08e9",
   "metadata": {},
   "outputs": [
    {
     "ename": "InvalidSessionIdException",
     "evalue": "Message: invalid session id\n",
     "output_type": "error",
     "traceback": [
      "\u001b[1;31m---------------------------------------------------------------------------\u001b[0m",
      "\u001b[1;31mInvalidSessionIdException\u001b[0m                 Traceback (most recent call last)",
      "\u001b[1;32m<ipython-input-36-ba2a5cfd5899>\u001b[0m in \u001b[0;36m<module>\u001b[1;34m\u001b[0m\n\u001b[0;32m      4\u001b[0m \u001b[0mprint\u001b[0m\u001b[1;33m(\u001b[0m\u001b[1;34m'요청하신 데이터 수집 작업이 정상적으로 완료되었습니다.'\u001b[0m\u001b[1;33m)\u001b[0m\u001b[1;33m\u001b[0m\u001b[1;33m\u001b[0m\u001b[0m\n\u001b[0;32m      5\u001b[0m \u001b[1;33m\u001b[0m\u001b[0m\n\u001b[1;32m----> 6\u001b[1;33m \u001b[0mdriver\u001b[0m\u001b[1;33m.\u001b[0m\u001b[0mclose\u001b[0m\u001b[1;33m(\u001b[0m\u001b[1;33m)\u001b[0m\u001b[1;33m\u001b[0m\u001b[1;33m\u001b[0m\u001b[0m\n\u001b[0m",
      "\u001b[1;32mC:\\ProgramData\\Anaconda3\\envs\\pydata\\lib\\site-packages\\selenium\\webdriver\\remote\\webdriver.py\u001b[0m in \u001b[0;36mclose\u001b[1;34m(self)\u001b[0m\n\u001b[0;32m    686\u001b[0m             \u001b[0mdriver\u001b[0m\u001b[1;33m.\u001b[0m\u001b[0mclose\u001b[0m\u001b[1;33m(\u001b[0m\u001b[1;33m)\u001b[0m\u001b[1;33m\u001b[0m\u001b[1;33m\u001b[0m\u001b[0m\n\u001b[0;32m    687\u001b[0m         \"\"\"\n\u001b[1;32m--> 688\u001b[1;33m         \u001b[0mself\u001b[0m\u001b[1;33m.\u001b[0m\u001b[0mexecute\u001b[0m\u001b[1;33m(\u001b[0m\u001b[0mCommand\u001b[0m\u001b[1;33m.\u001b[0m\u001b[0mCLOSE\u001b[0m\u001b[1;33m)\u001b[0m\u001b[1;33m\u001b[0m\u001b[1;33m\u001b[0m\u001b[0m\n\u001b[0m\u001b[0;32m    689\u001b[0m \u001b[1;33m\u001b[0m\u001b[0m\n\u001b[0;32m    690\u001b[0m     \u001b[1;32mdef\u001b[0m \u001b[0mquit\u001b[0m\u001b[1;33m(\u001b[0m\u001b[0mself\u001b[0m\u001b[1;33m)\u001b[0m\u001b[1;33m:\u001b[0m\u001b[1;33m\u001b[0m\u001b[1;33m\u001b[0m\u001b[0m\n",
      "\u001b[1;32mC:\\ProgramData\\Anaconda3\\envs\\pydata\\lib\\site-packages\\selenium\\webdriver\\remote\\webdriver.py\u001b[0m in \u001b[0;36mexecute\u001b[1;34m(self, driver_command, params)\u001b[0m\n\u001b[0;32m    319\u001b[0m         \u001b[0mresponse\u001b[0m \u001b[1;33m=\u001b[0m \u001b[0mself\u001b[0m\u001b[1;33m.\u001b[0m\u001b[0mcommand_executor\u001b[0m\u001b[1;33m.\u001b[0m\u001b[0mexecute\u001b[0m\u001b[1;33m(\u001b[0m\u001b[0mdriver_command\u001b[0m\u001b[1;33m,\u001b[0m \u001b[0mparams\u001b[0m\u001b[1;33m)\u001b[0m\u001b[1;33m\u001b[0m\u001b[1;33m\u001b[0m\u001b[0m\n\u001b[0;32m    320\u001b[0m         \u001b[1;32mif\u001b[0m \u001b[0mresponse\u001b[0m\u001b[1;33m:\u001b[0m\u001b[1;33m\u001b[0m\u001b[1;33m\u001b[0m\u001b[0m\n\u001b[1;32m--> 321\u001b[1;33m             \u001b[0mself\u001b[0m\u001b[1;33m.\u001b[0m\u001b[0merror_handler\u001b[0m\u001b[1;33m.\u001b[0m\u001b[0mcheck_response\u001b[0m\u001b[1;33m(\u001b[0m\u001b[0mresponse\u001b[0m\u001b[1;33m)\u001b[0m\u001b[1;33m\u001b[0m\u001b[1;33m\u001b[0m\u001b[0m\n\u001b[0m\u001b[0;32m    322\u001b[0m             response['value'] = self._unwrap_value(\n\u001b[0;32m    323\u001b[0m                 response.get('value', None))\n",
      "\u001b[1;32mC:\\ProgramData\\Anaconda3\\envs\\pydata\\lib\\site-packages\\selenium\\webdriver\\remote\\errorhandler.py\u001b[0m in \u001b[0;36mcheck_response\u001b[1;34m(self, response)\u001b[0m\n\u001b[0;32m    240\u001b[0m                 \u001b[0malert_text\u001b[0m \u001b[1;33m=\u001b[0m \u001b[0mvalue\u001b[0m\u001b[1;33m[\u001b[0m\u001b[1;34m'alert'\u001b[0m\u001b[1;33m]\u001b[0m\u001b[1;33m.\u001b[0m\u001b[0mget\u001b[0m\u001b[1;33m(\u001b[0m\u001b[1;34m'text'\u001b[0m\u001b[1;33m)\u001b[0m\u001b[1;33m\u001b[0m\u001b[1;33m\u001b[0m\u001b[0m\n\u001b[0;32m    241\u001b[0m             \u001b[1;32mraise\u001b[0m \u001b[0mexception_class\u001b[0m\u001b[1;33m(\u001b[0m\u001b[0mmessage\u001b[0m\u001b[1;33m,\u001b[0m \u001b[0mscreen\u001b[0m\u001b[1;33m,\u001b[0m \u001b[0mstacktrace\u001b[0m\u001b[1;33m,\u001b[0m \u001b[0malert_text\u001b[0m\u001b[1;33m)\u001b[0m\u001b[1;33m\u001b[0m\u001b[1;33m\u001b[0m\u001b[0m\n\u001b[1;32m--> 242\u001b[1;33m         \u001b[1;32mraise\u001b[0m \u001b[0mexception_class\u001b[0m\u001b[1;33m(\u001b[0m\u001b[0mmessage\u001b[0m\u001b[1;33m,\u001b[0m \u001b[0mscreen\u001b[0m\u001b[1;33m,\u001b[0m \u001b[0mstacktrace\u001b[0m\u001b[1;33m)\u001b[0m\u001b[1;33m\u001b[0m\u001b[1;33m\u001b[0m\u001b[0m\n\u001b[0m\u001b[0;32m    243\u001b[0m \u001b[1;33m\u001b[0m\u001b[0m\n\u001b[0;32m    244\u001b[0m     \u001b[1;32mdef\u001b[0m \u001b[0m_value_or_default\u001b[0m\u001b[1;33m(\u001b[0m\u001b[0mself\u001b[0m\u001b[1;33m,\u001b[0m \u001b[0mobj\u001b[0m\u001b[1;33m,\u001b[0m \u001b[0mkey\u001b[0m\u001b[1;33m,\u001b[0m \u001b[0mdefault\u001b[0m\u001b[1;33m)\u001b[0m\u001b[1;33m:\u001b[0m\u001b[1;33m\u001b[0m\u001b[1;33m\u001b[0m\u001b[0m\n",
      "\u001b[1;31mInvalidSessionIdException\u001b[0m: Message: invalid session id\n"
     ]
    }
   ],
   "source": [
    "sys.stdout = orig_stdout #원래대로 갖고오기 (출력방향을 다시 모니터로(원래의 값으로) 바꿈)\n",
    "f.close() #클로즈 이후엔 콘솔창 출력되어야함\n",
    "\n",
    "print('요청하신 데이터 수집 작업이 정상적으로 완료되었습니다.')\n",
    "\n",
    "driver.close()"
   ]
  },
  {
   "cell_type": "code",
   "execution_count": null,
   "id": "d2263105",
   "metadata": {},
   "outputs": [],
   "source": []
  }
 ],
 "metadata": {
  "kernelspec": {
   "display_name": "pydata",
   "language": "python",
   "name": "pydata"
  },
  "language_info": {
   "codemirror_mode": {
    "name": "ipython",
    "version": 3
   },
   "file_extension": ".py",
   "mimetype": "text/x-python",
   "name": "python",
   "nbconvert_exporter": "python",
   "pygments_lexer": "ipython3",
   "version": "3.7.10"
  }
 },
 "nbformat": 4,
 "nbformat_minor": 5
}
