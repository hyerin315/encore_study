{
 "cells": [
  {
   "cell_type": "code",
   "execution_count": 5,
   "metadata": {},
   "outputs": [],
   "source": [
    "from selenium import webdriver\n",
    "from bs4 import BeautifulSoup"
   ]
  },
  {
   "cell_type": "code",
   "execution_count": 6,
   "metadata": {},
   "outputs": [],
   "source": [
    "driver = webdriver.Chrome('C:/LHR/python/datadown/chromedriver.exe')\n",
    "url = 'https://www.melon.com/chart/day/index.htm'\n",
    "\n",
    "driver.get(url)"
   ]
  },
  {
   "cell_type": "code",
   "execution_count": 7,
   "metadata": {},
   "outputs": [],
   "source": [
    "html = driver.page_source\n",
    "soup = BeautifulSoup(html, 'html.parser')"
   ]
  },
  {
   "cell_type": "code",
   "execution_count": 8,
   "metadata": {},
   "outputs": [
    {
     "name": "stdout",
     "output_type": "stream",
     "text": [
      "50\n",
      "<tr class=\"lst50\" data-song-no=\"30287019\" id=\"lst50\">\n",
      "<td><div class=\"wrap t_right\"><input class=\"input_check\" name=\"input_check\" title=\"롤린 (Rollin') 곡 선택\" type=\"checkbox\" value=\"30287019\"/></div></td>\n",
      "<td><div class=\"wrap t_center\"><span class=\"rank\">1</span><span class=\"none\">위</span></div></td>\n",
      "<!-- 차트순위 추가 -->\n",
      "<td><div class=\"wrap\">\n",
      "<span class=\"rank_wrap\" title=\"순위 동일\">\n",
      "<span class=\"bullet_icons rank_static\"><span class=\"none\">순위 동일</span></span>\n",
      "<span class=\"none\">0</span>\n",
      "</span>\n",
      "</div></td>\n",
      "<td><div class=\"wrap\">\n",
      "<a class=\"image_typeAll\" href=\"javascript:melon.link.goAlbumDetail('10043575');\" title=\"Rollin'\">\n",
      "<img alt=\"Rollin' - 페이지 이동\" height=\"60\" onerror=\"WEBPOCIMG.defaultAlbumImg(this);\" src=\"https://cdnimg.melon.co.kr/cm2/album/images/100/43/575/10043575_20210302112520_500.jpg/melon/resize/120/quality/80/optimize\" width=\"60\"/>\n",
      "<span class=\"bg_album_frame\"></span>\n",
      "</a>\n",
      "</div></td>\n",
      "<td><div class=\"wrap\">\n",
      "<a class=\"btn button_icons type03 song_info\" href=\"javascript:melon.link.goSongDetail('30287019');\" title=\"롤린 (Rollin') 곡정보\"><span class=\"none\">곡정보</span></a>\n",
      "</div></td>\n",
      "<td><div class=\"wrap\">\n",
      "<div class=\"wrap_song_info\">\n",
      "<div class=\"ellipsis rank01\"><span>\n",
      "<a href=\"javascript:melon.play.playSong('19041201',30287019);\" title=\"롤린 (Rollin') 재생\">롤린 (Rollin')</a>\n",
      "</span></div><br/>\n",
      "<div class=\"ellipsis rank02\">\n",
      "<a href=\"javascript:melon.link.goArtistDetail('531700');\" title=\"브레이브걸스 - 페이지 이동\">브레이브걸스</a><span class=\"checkEllipsis\" style=\"display: none;\"><a href=\"javascript:melon.link.goArtistDetail('531700');\" title=\"브레이브걸스 - 페이지 이동\">브레이브걸스</a></span>\n",
      "</div>\n",
      "</div>\n",
      "</div></td>\n",
      "<td><div class=\"wrap\">\n",
      "<div class=\"wrap_song_info\">\n",
      "<div class=\"ellipsis rank03\">\n",
      "<a href=\"javascript:melon.link.goAlbumDetail('10043575');\" title=\"Rollin' - 페이지 이동\">Rollin'</a>\n",
      "</div>\n",
      "</div>\n",
      "</div></td>\n",
      "<td><div class=\"wrap\">\n",
      "<button class=\"button_etc like\" data-song-menuid=\"19041201\" data-song-no=\"30287019\" title=\"롤린 (Rollin') 좋아요\" type=\"button\"><span class=\"odd_span\">좋아요</span>\n",
      "<span class=\"cnt\">\n",
      "<span class=\"none\">총건수</span>\n",
      "238,642</span></button>\n",
      "</div></td>\n",
      "<td><div class=\"wrap t_center\">\n",
      "<button class=\"button_icons play\" onclick=\"melon.play.playSong('19041201',30287019);\" title=\"듣기\" type=\"button\"><span class=\"none\">듣기</span></button>\n",
      "</div></td>\n",
      "<td><div class=\"wrap t_center\">\n",
      "<button class=\"button_icons scrap\" onclick=\"melon.play.addPlayList('30287019');\" title=\"담기\" type=\"button\"><span class=\"none\">담기</span></button>\n",
      "</div></td>\n",
      "<td><div class=\"wrap t_center\">\n",
      "<button class=\"button_icons download\" onclick=\"melon.buy.goBuyProduct('frm', '30287019', '3C0001', '','0', '19041201');\" title=\"다운로드\" type=\"button\"><span class=\"none\">다운로드</span></button>\n",
      "</div></td>\n",
      "<td><div class=\"wrap t_center\">\n",
      "<button class=\"button_icons video\" onclick=\"melon.link.goMvDetail('19041201', '30287019','song');\" title=\"뮤직비디오\" type=\"button\"><span class=\"none\">뮤직비디오</span></button>\n",
      "</div></td>\n",
      "</tr>\n"
     ]
    }
   ],
   "source": [
    "songs = soup.select('#lst50')\n",
    "print(len(songs))\n",
    "print(songs[0])"
   ]
  },
  {
   "cell_type": "code",
   "execution_count": 12,
   "metadata": {},
   "outputs": [
    {
     "data": {
      "text/plain": [
       "1"
      ]
     },
     "execution_count": 12,
     "metadata": {},
     "output_type": "execute_result"
    }
   ],
   "source": [
    "song = songs[0]\n",
    "\n",
    "title = song.select('div.ellipsis.rank01 > span > a')\n",
    "len(title)"
   ]
  },
  {
   "cell_type": "code",
   "execution_count": 13,
   "metadata": {},
   "outputs": [
    {
     "data": {
      "text/plain": [
       "\"롤린 (Rollin')\""
      ]
     },
     "execution_count": 13,
     "metadata": {},
     "output_type": "execute_result"
    }
   ],
   "source": [
    "title = song.select('div.ellipsis.rank01 > span > a')[0].text #select가 리스트 값을 가져오기 때문에 리스트 안에 하나만 있더라도 첫번째 값을 뽑아내야함\n",
    "title"
   ]
  },
  {
   "cell_type": "code",
   "execution_count": 14,
   "metadata": {},
   "outputs": [
    {
     "data": {
      "text/plain": [
       "'브레이브걸스'"
      ]
     },
     "execution_count": 14,
     "metadata": {},
     "output_type": "execute_result"
    }
   ],
   "source": [
    "singer = song.select('div.ellipsis.rank02 > a')[0].text\n",
    "singer"
   ]
  },
  {
   "cell_type": "code",
   "execution_count": 15,
   "metadata": {},
   "outputs": [
    {
     "data": {
      "text/plain": [
       "50"
      ]
     },
     "execution_count": 15,
     "metadata": {},
     "output_type": "execute_result"
    }
   ],
   "source": [
    "len(songs)    "
   ]
  },
  {
   "cell_type": "code",
   "execution_count": 16,
   "metadata": {},
   "outputs": [
    {
     "name": "stdout",
     "output_type": "stream",
     "text": [
      "롤린 (Rollin') | 브레이브걸스\n",
      "라일락 | 아이유\n",
      "Peaches (Feat. Daniel Caesar & Giveon) | Justin Bieber\n",
      "Celebrity | 아이유\n",
      "운전만해 (We Ride) | 브레이브걸스\n",
      "Timeless | SG 워너비\n",
      "Coin | 아이유\n",
      "내 손을 잡아 | 아이유\n",
      "On The Ground | 로제 (ROSÉ)\n",
      "LOVE DAY (2021) (바른연애 길잡이 X 양요섭, 정은지) | 양요섭\n",
      "Dynamite | 방탄소년단\n",
      "라라라 | SG 워너비\n",
      "그냥 안아달란 말야 | 다비치\n",
      "내사람 | SG 워너비\n",
      "밝게 빛나는 별이 되어 비춰줄게 | 송이한\n",
      "밤하늘의 별을(2020) | 경서\n",
      "잠이 오질 않네요 | 장범준\n",
      "Blueming | 아이유\n",
      "에잇(Prod.&Feat. SUGA of BTS) | 아이유\n",
      "봄 안녕 봄 | 아이유\n",
      "취기를 빌려 (취향저격 그녀 X 산들) | 산들\n",
      "VVS (Feat. JUSTHIS) (Prod. GroovyRoom) | 미란이 (Mirani)\n",
      "Lovesick Girls | BLACKPINK\n",
      "나랑 같이 걸을래 (바른연애 길잡이 X 적재) | 적재\n",
      "흔들리는 꽃들 속에서 네 샴푸향이 느껴진거야 | 장범준\n",
      "어푸 (Ah puh) | 아이유\n",
      "살다가 | SG 워너비\n",
      "이 밤을 빌려 말해요 (바른연애 길잡이 X 10CM) | 10CM\n",
      "Flu | 아이유\n",
      "아이와 나의 바다 | 아이유\n",
      "그날에 나는 맘이 편했을까 | 이예준\n",
      "12:45 (Stripped) | Etham\n",
      "어떻게 이별까지 사랑하겠어, 널 사랑하는 거지 | AKMU (악동뮤지션)\n",
      "오래된 노래 | 스탠딩 에그\n",
      "추억은 만남보다 이별에 남아 | 정동하\n",
      "Savage Love (Laxed - Siren Beat) (BTS Remix) | Jawsh 685\n",
      "멜로디 | ASH ISLAND\n",
      "힘든 건 사랑이 아니다 | 임창정\n",
      "METEOR | 창모 (CHANGMO)\n",
      "2002 | Anne-Marie\n",
      "모든 날, 모든 순간 (Every day, Every Moment) | 폴킴\n",
      "Dolphin | 오마이걸 (OH MY GIRL)\n",
      "돌림노래 (Feat. DEAN) | 아이유\n",
      "사실 나는 (Feat.전건호) | 경서예지\n",
      "봄날 | 방탄소년단\n",
      "Life Goes On | 방탄소년단\n",
      "어떻게 지내 (Prod. By VAN.C) | 오반 (OVAN)\n",
      "아로하 | 조정석\n",
      "오늘도 빛나는 너에게 (To You My Light) (Feat.이라온) | 마크툽 (MAKTUB)\n",
      "고백 (바른연애 길잡이 X 허각) | 허각\n"
     ]
    }
   ],
   "source": [
    "for song in songs:\n",
    "    title = song.select('div.ellipsis.rank01 > span > a')[0].text\n",
    "    singer = song.select('div.ellipsis.rank02 > a')[0].text\n",
    "    print(title, singer, sep = ' | ')"
   ]
  },
  {
   "cell_type": "code",
   "execution_count": 27,
   "metadata": {},
   "outputs": [],
   "source": [
    "#엑셀로 저장\n",
    "import pandas as pd"
   ]
  },
  {
   "cell_type": "code",
   "execution_count": 29,
   "metadata": {},
   "outputs": [
    {
     "name": "stdout",
     "output_type": "stream",
     "text": [
      "1|롤린 (Rollin')|브레이브걸스\n",
      "2|라일락|아이유\n",
      "3|Peaches (Feat. Daniel Caesar & Giveon)|Justin Bieber\n",
      "4|Celebrity|아이유\n",
      "5|운전만해 (We Ride)|브레이브걸스\n",
      "6|Timeless|SG 워너비\n",
      "7|Coin|아이유\n",
      "8|내 손을 잡아|아이유\n",
      "9|On The Ground|로제 (ROSÉ)\n",
      "10|LOVE DAY (2021) (바른연애 길잡이 X 양요섭, 정은지)|양요섭\n",
      "11|Dynamite|방탄소년단\n",
      "12|라라라|SG 워너비\n",
      "13|그냥 안아달란 말야|다비치\n",
      "14|내사람|SG 워너비\n",
      "15|밝게 빛나는 별이 되어 비춰줄게|송이한\n",
      "16|밤하늘의 별을(2020)|경서\n",
      "17|잠이 오질 않네요|장범준\n",
      "18|Blueming|아이유\n",
      "19|에잇(Prod.&Feat. SUGA of BTS)|아이유\n",
      "20|봄 안녕 봄|아이유\n",
      "21|취기를 빌려 (취향저격 그녀 X 산들)|산들\n",
      "22|VVS (Feat. JUSTHIS) (Prod. GroovyRoom)|미란이 (Mirani)\n",
      "23|Lovesick Girls|BLACKPINK\n",
      "24|나랑 같이 걸을래 (바른연애 길잡이 X 적재)|적재\n",
      "25|흔들리는 꽃들 속에서 네 샴푸향이 느껴진거야|장범준\n",
      "26|어푸 (Ah puh)|아이유\n",
      "27|살다가|SG 워너비\n",
      "28|이 밤을 빌려 말해요 (바른연애 길잡이 X 10CM)|10CM\n",
      "29|Flu|아이유\n",
      "30|아이와 나의 바다|아이유\n",
      "31|그날에 나는 맘이 편했을까|이예준\n",
      "32|12:45 (Stripped)|Etham\n",
      "33|어떻게 이별까지 사랑하겠어, 널 사랑하는 거지|AKMU (악동뮤지션)\n",
      "34|오래된 노래|스탠딩 에그\n",
      "35|추억은 만남보다 이별에 남아|정동하\n",
      "36|Savage Love (Laxed - Siren Beat) (BTS Remix)|Jawsh 685\n",
      "37|멜로디|ASH ISLAND\n",
      "38|힘든 건 사랑이 아니다|임창정\n",
      "39|METEOR|창모 (CHANGMO)\n",
      "40|2002|Anne-Marie\n",
      "41|모든 날, 모든 순간 (Every day, Every Moment)|폴킴\n",
      "42|Dolphin|오마이걸 (OH MY GIRL)\n",
      "43|돌림노래 (Feat. DEAN)|아이유\n",
      "44|사실 나는 (Feat.전건호)|경서예지\n",
      "45|봄날|방탄소년단\n",
      "46|Life Goes On|방탄소년단\n",
      "47|어떻게 지내 (Prod. By VAN.C)|오반 (OVAN)\n",
      "48|아로하|조정석\n",
      "49|오늘도 빛나는 너에게 (To You My Light) (Feat.이라온)|마크툽 (MAKTUB)\n",
      "50|고백 (바른연애 길잡이 X 허각)|허각\n"
     ]
    }
   ],
   "source": [
    "no = 1\n",
    "no2 = []\n",
    "titles = []\n",
    "singers = []\n",
    "\n",
    "for song in songs:\n",
    "    title = song.select('div.ellipsis.rank01 > span > a')[0].text\n",
    "    titles.append(title)\n",
    "    \n",
    "    singer = song.select('div.ellipsis.rank02 > a')[0].text\n",
    "    singers.append(singer)\n",
    "    \n",
    "    no2.append(no)\n",
    "    \n",
    "    print(no, title, singer, sep = \"|\")\n",
    "    no += 1"
   ]
  },
  {
   "cell_type": "code",
   "execution_count": 30,
   "metadata": {},
   "outputs": [
    {
     "name": "stdout",
     "output_type": "stream",
     "text": [
      "data2/melon.xlsx에 저장이 완료되었습니다.\n"
     ]
    }
   ],
   "source": [
    "melon = pd.DataFrame()\n",
    "melon['번호'] = no2\n",
    "melon['노래 제목'] = titles\n",
    "melon['가수'] = singers\n",
    "\n",
    "melon.to_excel('data2/melon.xlsx')\n",
    "print('data2/melon.xlsx에 저장이 완료되었습니다.')"
   ]
  },
  {
   "cell_type": "code",
   "execution_count": null,
   "metadata": {},
   "outputs": [],
   "source": []
  }
 ],
 "metadata": {
  "kernelspec": {
   "display_name": "pydata",
   "language": "python",
   "name": "pydata"
  },
  "language_info": {
   "codemirror_mode": {
    "name": "ipython",
    "version": 3
   },
   "file_extension": ".py",
   "mimetype": "text/x-python",
   "name": "python",
   "nbconvert_exporter": "python",
   "pygments_lexer": "ipython3",
   "version": "3.7.10"
  }
 },
 "nbformat": 4,
 "nbformat_minor": 4
}
