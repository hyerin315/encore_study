{
 "cells": [
  {
   "cell_type": "code",
   "execution_count": 1,
   "id": "b66223bd",
   "metadata": {},
   "outputs": [],
   "source": [
    "import pandas as pd\n",
    "fish = pd.read_csv('data/fish.csv')"
   ]
  },
  {
   "cell_type": "code",
   "execution_count": 2,
   "id": "f9daceaf",
   "metadata": {},
   "outputs": [],
   "source": [
    "#입력 및 타깃 데이터 생성\n",
    "fish_input = fish[['Weight','Length','Diagonal','Height','Width']].to_numpy()\n",
    "fish_target = fish['Species'].to_numpy()"
   ]
  },
  {
   "cell_type": "code",
   "execution_count": 3,
   "id": "7be04d5d",
   "metadata": {},
   "outputs": [],
   "source": [
    "#훈련세트와 테스트 세트로 나눈다\n",
    "from sklearn.model_selection import train_test_split\n",
    "train_input, test_input, train_target, test_target = train_test_split(\n",
    "    fish_input, fish_target, random_state = 42\n",
    ")"
   ]
  },
  {
   "cell_type": "code",
   "execution_count": 4,
   "id": "30489b76",
   "metadata": {},
   "outputs": [],
   "source": [
    "#특성을 표준화처리 (단위가 다르면 올바르게 성능이 나오지 않으므로)\n",
    "from sklearn.preprocessing import StandardScaler\n",
    "\n",
    "ss = StandardScaler()\n",
    "ss.fit(train_input) #훈련세트 데이터로만 훈련\n",
    "train_scaled = ss.transform(train_input)\n",
    "test_scaled = ss.transform(test_input)"
   ]
  },
  {
   "cell_type": "code",
   "execution_count": 11,
   "id": "c12358ae",
   "metadata": {},
   "outputs": [
    {
     "data": {
      "text/plain": [
       "SGDClassifier(loss='log', max_iter=100, random_state=42)"
      ]
     },
     "execution_count": 11,
     "metadata": {},
     "output_type": "execute_result"
    }
   ],
   "source": [
    "#SGDClassifier클래스로 확률적 경사 하강법 사용\n",
    "from sklearn.linear_model import SGDClassifier\n",
    "sc = SGDClassifier(loss='log', max_iter=100, random_state=42)\n",
    "sc.fit(train_scaled, train_target)"
   ]
  },
  {
   "cell_type": "code",
   "execution_count": 12,
   "id": "27522bf9",
   "metadata": {},
   "outputs": [
    {
     "name": "stdout",
     "output_type": "stream",
     "text": [
      "0.8403361344537815\n",
      "0.8\n"
     ]
    }
   ],
   "source": [
    "#점수 출력\n",
    "print(sc.score(train_scaled, train_target))\n",
    "print(sc.score(test_scaled, test_target))"
   ]
  },
  {
   "cell_type": "code",
   "execution_count": 13,
   "id": "1aabc3fc",
   "metadata": {},
   "outputs": [
    {
     "name": "stdout",
     "output_type": "stream",
     "text": [
      "0.907563025210084\n",
      "0.925\n"
     ]
    }
   ],
   "source": [
    "sc.partial_fit(train_scaled, train_target) #기존의 데이터를 새로운 데이터로 인식해 다시 돌게 됨\n",
    " \n",
    "print(sc.score(train_scaled, train_target))\n",
    "print(sc.score(test_scaled, test_target))"
   ]
  },
  {
   "cell_type": "code",
   "execution_count": 15,
   "id": "ca8d4ab1",
   "metadata": {},
   "outputs": [],
   "source": [
    "#그래프 그리기\n",
    "import numpy as np\n",
    "\n",
    "sc = SGDClassifier(loss = 'log', random_state = 42) #로지스틱 손실 사용\n",
    "\n",
    "#점수를 저장할 리스트\n",
    "train_score = [] \n",
    "test_score = []\n",
    "classes = np.unique(train_target) #타겟의 목록 생성\n",
    "\n",
    "#300번의 에포크동안 훈련 반복 + 점수 기록\n",
    "for _ in range(0, 300): # _ : 변수명\n",
    "    sc.partial_fit(train_scaled, train_target, classes = classes) #classes로 목록을 넣어서 어떤 것들이 있는지 알려준다\n",
    "   \n",
    "    train_score.append(sc.score(train_scaled, train_target)) #점수를 내서 train_score에 저장한다\n",
    "    test_score.append(sc.score(test_scaled, test_target))"
   ]
  },
  {
   "cell_type": "code",
   "execution_count": 16,
   "id": "ea02f65e",
   "metadata": {},
   "outputs": [
    {
     "data": {
      "image/png": "[encoded data removed]",
      "text/plain": [
       "<Figure size 432x288 with 1 Axes>"
      ]
     },
     "metadata": {
      "needs_background": "light"
     },
     "output_type": "display_data"
    }
   ],
   "source": [
    "import matplotlib.pyplot as plt\n",
    "\n",
    "plt.plot(train_score, label = 'train')\n",
    "plt.plot(test_score, label = 'test')\n",
    "plt.legend #범례\n",
    "plt.xlabel(\"epocj\") #에포크\n",
    "plt.ylabel(\"accuracy\") #정확도\n",
    "plt.show()"
   ]
  },
  {
   "cell_type": "code",
   "execution_count": 17,
   "id": "7dcd585c",
   "metadata": {},
   "outputs": [
    {
     "name": "stdout",
     "output_type": "stream",
     "text": [
      "0.957983193277311\n",
      "0.925\n"
     ]
    }
   ],
   "source": [
    "#100으로 맞추고 모델을 다시 훈련\n",
    "sc = SGDClassifier(loss='log', max_iter=100, tol = None, random_state=42) #None으로 지정하면 자동으로 멈추지 않고 100만큼 반복함\n",
    "sc.fit(train_scaled, train_target)\n",
    "\n",
    "print(sc.score(train_scaled, train_target))\n",
    "print(sc.score(test_scaled, test_target))"
   ]
  },
  {
   "cell_type": "code",
   "execution_count": null,
   "id": "f4c91fc7",
   "metadata": {},
   "outputs": [],
   "source": []
  }
 ],
 "metadata": {
  "kernelspec": {
   "display_name": "pydata",
   "language": "python",
   "name": "pydata"
  },
  "language_info": {
   "codemirror_mode": {
    "name": "ipython",
    "version": 3
   },
   "file_extension": ".py",
   "mimetype": "text/x-python",
   "name": "python",
   "nbconvert_exporter": "python",
   "pygments_lexer": "ipython3",
   "version": "3.7.10"
  }
 },
 "nbformat": 4,
 "nbformat_minor": 5
}
