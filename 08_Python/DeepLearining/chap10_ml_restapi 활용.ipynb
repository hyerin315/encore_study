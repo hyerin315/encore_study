{
 "cells": [
  {
   "cell_type": "code",
   "execution_count": 1,
   "id": "7ed3a8c6",
   "metadata": {},
   "outputs": [],
   "source": [
    "#모델을 만들어 api서비스를 사용하는 방법\n",
    "import requests"
   ]
  },
  {
   "cell_type": "code",
   "execution_count": 2,
   "id": "5b8f7aaa",
   "metadata": {},
   "outputs": [],
   "source": [
    "#주소 요청\n",
    "url = \"http://127.0.0.1:8000/predict\""
   ]
  },
  {
   "cell_type": "code",
   "execution_count": 3,
   "id": "e41ad6f8",
   "metadata": {},
   "outputs": [],
   "source": [
    "payload = {\"age\"      : 20 ,\n",
    "           \"bs_fast\"  : 33 ,\n",
    "           \"bs_pp\"    : 13 ,\n",
    "           \"plasma_r\" : 54 ,\n",
    "           \"plasma_f\" : 67 ,\n",
    "           \"hbA1c\"    : 13 ,\n",
    "           }"
   ]
  },
  {
   "cell_type": "code",
   "execution_count": 4,
   "id": "148743ec",
   "metadata": {},
   "outputs": [],
   "source": [
    "r = requests.post(url, data = payload)"
   ]
  },
  {
   "cell_type": "code",
   "execution_count": 5,
   "id": "8ff361cf",
   "metadata": {},
   "outputs": [
    {
     "data": {
      "text/plain": [
       "{'error': '0',\n",
       " 'message': 'Successfull',\n",
       " 'prediction': 'Type1',\n",
       " 'confidence_score': 43.0}"
      ]
     },
     "execution_count": 5,
     "metadata": {},
     "output_type": "execute_result"
    }
   ],
   "source": [
    "r.json()"
   ]
  },
  {
   "cell_type": "code",
   "execution_count": null,
   "id": "f3b064ea",
   "metadata": {},
   "outputs": [],
   "source": []
  }
 ],
 "metadata": {
  "kernelspec": {
   "display_name": "pydata",
   "language": "python",
   "name": "pydata"
  },
  "language_info": {
   "codemirror_mode": {
    "name": "ipython",
    "version": 3
   },
   "file_extension": ".py",
   "mimetype": "text/x-python",
   "name": "python",
   "nbconvert_exporter": "python",
   "pygments_lexer": "ipython3",
   "version": "3.7.10"
  }
 },
 "nbformat": 4,
 "nbformat_minor": 5
}
