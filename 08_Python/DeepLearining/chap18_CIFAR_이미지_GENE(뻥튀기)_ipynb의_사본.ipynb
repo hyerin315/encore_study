{
  "nbformat": 4,
  "nbformat_minor": 0,
  "metadata": {
    "colab": {
      "name": "CIFAR_이미지_GENE(뻥튀기).ipynb의 사본",
      "provenance": []
    },
    "kernelspec": {
      "name": "python3",
      "display_name": "Python 3"
    },
    "language_info": {
      "name": "python"
    },
    "accelerator": "GPU"
  },
  "cells": [
    {
      "cell_type": "code",
      "metadata": {
        "colab": {
          "base_uri": "https://localhost:8080/"
        },
        "id": "e0hGgPSUAHQ7",
        "outputId": "09c3e9c9-8246-47f3-d38f-7edb6ed8008e"
      },
      "source": [
        "#GPU 할당 확인 코드\n",
        "from tensorflow.python.client import device_lib\n",
        "device_lib.list_local_devices()"
      ],
      "execution_count": null,
      "outputs": [
        {
          "output_type": "execute_result",
          "data": {
            "text/plain": [
              "[name: \"/device:CPU:0\"\n",
              " device_type: \"CPU\"\n",
              " memory_limit: 268435456\n",
              " locality {\n",
              " }\n",
              " incarnation: 17595594340821530396, name: \"/device:GPU:0\"\n",
              " device_type: \"GPU\"\n",
              " memory_limit: 14509932544\n",
              " locality {\n",
              "   bus_id: 1\n",
              "   links {\n",
              "   }\n",
              " }\n",
              " incarnation: 9802372575162041752\n",
              " physical_device_desc: \"device: 0, name: Tesla T4, pci bus id: 0000:00:04.0, compute capability: 7.5\"]"
            ]
          },
          "metadata": {
            "tags": []
          },
          "execution_count": 1
        }
      ]
    },
    {
      "cell_type": "code",
      "metadata": {
        "id": "MXBpHPWhACm9"
      },
      "source": [
        "import tensorflow as tf\n",
        "from tensorflow.keras import datasets, layers, models, regularizers, optimizers\n",
        "from tensorflow.keras.preprocessing.image import ImageDataGenerator\n",
        "import numpy as np"
      ],
      "execution_count": null,
      "outputs": []
    },
    {
      "cell_type": "code",
      "metadata": {
        "colab": {
          "base_uri": "https://localhost:8080/"
        },
        "id": "RaeyewbVAkfJ",
        "outputId": "57e44b85-8eb0-45af-880d-d45c361f97e0"
      },
      "source": [
        "EPOCHS=50\n",
        "NUM_CLASSES = 10\n",
        "    \n",
        "\n",
        "def load_data():\n",
        "    (x_train, y_train), (x_test, y_test) = datasets.cifar10.load_data()\n",
        "    x_train = x_train.astype('float32')\n",
        "    x_test = x_test.astype('float32')\n",
        "\n",
        "    #normalize \n",
        "    mean = np.mean(x_train,axis=(0,1,2,3))\n",
        "    std = np.std(x_train,axis=(0,1,2,3))\n",
        "    x_train = (x_train-mean)/(std+1e-7)\n",
        "    x_test = (x_test-mean)/(std+1e-7)\n",
        "\n",
        "    y_train =  tf.keras.utils.to_categorical(y_train,NUM_CLASSES)\n",
        "    y_test =  tf.keras.utils.to_categorical(y_test,NUM_CLASSES)\n",
        "\n",
        "    return x_train, y_train, x_test, y_test\n",
        "\n",
        "def build_model(): \n",
        "    model = models.Sequential()\n",
        " \n",
        "    #1st blocl\n",
        "    model.add(layers.Conv2D(32, (3,3), padding='same', \n",
        "        input_shape=x_train.shape[1:], activation='relu'))\n",
        "    model.add(layers.BatchNormalization())\n",
        "    model.add(layers.Conv2D(32, (3,3), padding='same', activation='relu'))\n",
        "    model.add(layers.BatchNormalization())\n",
        "    model.add(layers.MaxPooling2D(pool_size=(2,2)))\n",
        "    model.add(layers.Dropout(0.2))\n",
        "\n",
        "    #2nd block\n",
        "    model.add(layers.Conv2D(64, (3,3), padding='same', activation='relu'))\n",
        "    model.add(layers.BatchNormalization())\n",
        "    model.add(layers.Conv2D(64, (3,3), padding='same', activation='relu'))\n",
        "    model.add(layers.BatchNormalization())\n",
        "    model.add(layers.MaxPooling2D(pool_size=(2,2)))\n",
        "    model.add(layers.Dropout(0.3))\n",
        "\n",
        "    #3d block \n",
        "    model.add(layers.Conv2D(128, (3,3), padding='same', activation='relu'))\n",
        "    model.add(layers.BatchNormalization())\n",
        "    model.add(layers.Conv2D(128, (3,3), padding='same', activation='relu'))\n",
        "    model.add(layers.BatchNormalization())\n",
        "    model.add(layers.MaxPooling2D(pool_size=(2,2)))\n",
        "    model.add(layers.Dropout(0.4))\n",
        "\n",
        "    #dense  \n",
        "    model.add(layers.Flatten())\n",
        "    model.add(layers.Dense(NUM_CLASSES, activation='softmax'))\n",
        "    return model\n",
        "\n",
        "    model.summary()\n",
        "\n",
        "    \n",
        "(x_train, y_train, x_test, y_test) = load_data()\n",
        "model = build_model()\n",
        "model.compile(loss='categorical_crossentropy', \n",
        "            optimizer='RMSprop', \n",
        "            metrics=['accuracy'])"
      ],
      "execution_count": null,
      "outputs": [
        {
          "output_type": "stream",
          "text": [
            "Downloading data from https://www.cs.toronto.edu/~kriz/cifar-10-python.tar.gz\n",
            "170500096/170498071 [==============================] - 3s 0us/step\n"
          ],
          "name": "stdout"
        }
      ]
    },
    {
      "cell_type": "code",
      "metadata": {
        "id": "SO4ELgJGAr3e"
      },
      "source": [
        "#image augmentation\n",
        "datagen = ImageDataGenerator(\n",
        "    rotation_range=30,\n",
        "    width_shift_range=0.2,\n",
        "    height_shift_range=0.2,\n",
        "    horizontal_flip=True,\n",
        "    )\n",
        "\n",
        "datagen.fit(x_train)"
      ],
      "execution_count": null,
      "outputs": []
    },
    {
      "cell_type": "code",
      "metadata": {
        "colab": {
          "base_uri": "https://localhost:8080/"
        },
        "id": "ozY0w_XAA5nQ",
        "outputId": "69e7b4f2-4014-46c9-8403-0e4f1032471b"
      },
      "source": [
        "x_train.shape"
      ],
      "execution_count": null,
      "outputs": [
        {
          "output_type": "execute_result",
          "data": {
            "text/plain": [
              "(50000, 32, 32, 3)"
            ]
          },
          "metadata": {
            "tags": []
          },
          "execution_count": 6
        }
      ]
    },
    {
      "cell_type": "code",
      "metadata": {
        "id": "aZdFOQpvBpLt"
      },
      "source": [
        "import keras\n",
        "early_stopping_cb = keras.callbacks.EarlyStopping(patience=3, restore_best_weights=True)"
      ],
      "execution_count": null,
      "outputs": []
    },
    {
      "cell_type": "code",
      "metadata": {
        "colab": {
          "base_uri": "https://localhost:8080/"
        },
        "id": "YljecqKZA9_7",
        "outputId": "83a6cb55-f9cc-42ab-9f42-adffb8791c4c"
      },
      "source": [
        "#train\n",
        "batch_size = 64\n",
        "model.fit_generator(datagen.flow(x_train, y_train, batch_size=batch_size), #훈련데이터 뻥튀기\n",
        "                    epochs=EPOCHS,\n",
        "                    verbose=1,validation_data=(x_test,y_test))\n",
        "\n",
        "#save to disk\n",
        "model_json = model.to_json()\n",
        "with open('model.json', 'w') as json_file:\n",
        "    json_file.write(model_json)\n",
        "model.save_weights('model.h5') "
      ],
      "execution_count": null,
      "outputs": [
        {
          "output_type": "stream",
          "text": [
            "Epoch 1/50\n",
            "  3/782 [..............................] - ETA: 23s - loss: 0.6935 - accuracy: 0.7552"
          ],
          "name": "stdout"
        },
        {
          "output_type": "stream",
          "text": [
            "/usr/local/lib/python3.7/dist-packages/tensorflow/python/keras/engine/training.py:1940: UserWarning: `Model.fit_generator` is deprecated and will be removed in a future version. Please use `Model.fit`, which supports generators.\n",
            "  warnings.warn('`Model.fit_generator` is deprecated and '\n"
          ],
          "name": "stderr"
        },
        {
          "output_type": "stream",
          "text": [
            "782/782 [==============================] - 26s 34ms/step - loss: 0.7560 - accuracy: 0.7396 - val_loss: 0.6016 - val_accuracy: 0.7986\n",
            "Epoch 2/50\n",
            "782/782 [==============================] - 26s 34ms/step - loss: 0.7377 - accuracy: 0.7441 - val_loss: 0.6048 - val_accuracy: 0.7993\n",
            "Epoch 3/50\n",
            "782/782 [==============================] - 26s 33ms/step - loss: 0.7336 - accuracy: 0.7448 - val_loss: 0.7321 - val_accuracy: 0.7675\n",
            "Epoch 4/50\n",
            "782/782 [==============================] - 27s 34ms/step - loss: 0.7136 - accuracy: 0.7540 - val_loss: 0.6332 - val_accuracy: 0.7932\n",
            "Epoch 5/50\n",
            "782/782 [==============================] - 27s 34ms/step - loss: 0.6978 - accuracy: 0.7584 - val_loss: 0.6424 - val_accuracy: 0.7909\n",
            "Epoch 6/50\n",
            "782/782 [==============================] - 26s 33ms/step - loss: 0.6898 - accuracy: 0.7611 - val_loss: 0.6973 - val_accuracy: 0.7766\n",
            "Epoch 7/50\n",
            "782/782 [==============================] - 26s 33ms/step - loss: 0.6849 - accuracy: 0.7651 - val_loss: 0.6045 - val_accuracy: 0.8008\n",
            "Epoch 8/50\n",
            "782/782 [==============================] - 26s 34ms/step - loss: 0.6701 - accuracy: 0.7692 - val_loss: 0.6677 - val_accuracy: 0.7902\n",
            "Epoch 9/50\n",
            "782/782 [==============================] - 26s 34ms/step - loss: 0.6655 - accuracy: 0.7714 - val_loss: 0.6994 - val_accuracy: 0.7795\n",
            "Epoch 10/50\n",
            "782/782 [==============================] - 26s 33ms/step - loss: 0.6578 - accuracy: 0.7713 - val_loss: 0.5932 - val_accuracy: 0.8075\n",
            "Epoch 11/50\n",
            "782/782 [==============================] - 26s 34ms/step - loss: 0.6518 - accuracy: 0.7746 - val_loss: 0.5241 - val_accuracy: 0.8266\n",
            "Epoch 12/50\n",
            "782/782 [==============================] - 27s 34ms/step - loss: 0.6432 - accuracy: 0.7788 - val_loss: 0.6267 - val_accuracy: 0.8039\n",
            "Epoch 13/50\n",
            "782/782 [==============================] - 26s 33ms/step - loss: 0.6368 - accuracy: 0.7813 - val_loss: 0.5729 - val_accuracy: 0.8124\n",
            "Epoch 14/50\n",
            "782/782 [==============================] - 26s 34ms/step - loss: 0.6354 - accuracy: 0.7806 - val_loss: 0.5814 - val_accuracy: 0.8107\n",
            "Epoch 15/50\n",
            "782/782 [==============================] - 26s 34ms/step - loss: 0.6279 - accuracy: 0.7829 - val_loss: 0.5775 - val_accuracy: 0.8153\n",
            "Epoch 16/50\n",
            "782/782 [==============================] - 26s 33ms/step - loss: 0.6213 - accuracy: 0.7856 - val_loss: 0.6772 - val_accuracy: 0.7924\n",
            "Epoch 17/50\n",
            "782/782 [==============================] - 27s 34ms/step - loss: 0.6189 - accuracy: 0.7875 - val_loss: 0.5279 - val_accuracy: 0.8239\n",
            "Epoch 18/50\n",
            "782/782 [==============================] - 26s 34ms/step - loss: 0.6115 - accuracy: 0.7906 - val_loss: 0.5297 - val_accuracy: 0.8311\n",
            "Epoch 19/50\n",
            "782/782 [==============================] - 27s 34ms/step - loss: 0.6044 - accuracy: 0.7930 - val_loss: 0.5927 - val_accuracy: 0.8138\n",
            "Epoch 20/50\n",
            "782/782 [==============================] - 26s 33ms/step - loss: 0.6073 - accuracy: 0.7900 - val_loss: 0.6188 - val_accuracy: 0.8055\n",
            "Epoch 21/50\n",
            "782/782 [==============================] - 26s 33ms/step - loss: 0.6026 - accuracy: 0.7912 - val_loss: 0.5296 - val_accuracy: 0.8274\n",
            "Epoch 22/50\n",
            "782/782 [==============================] - 26s 34ms/step - loss: 0.5936 - accuracy: 0.7951 - val_loss: 0.5955 - val_accuracy: 0.8085\n",
            "Epoch 23/50\n",
            "782/782 [==============================] - 26s 34ms/step - loss: 0.5901 - accuracy: 0.7960 - val_loss: 0.5496 - val_accuracy: 0.8224\n",
            "Epoch 24/50\n",
            "782/782 [==============================] - 26s 34ms/step - loss: 0.5856 - accuracy: 0.7983 - val_loss: 0.4983 - val_accuracy: 0.8361\n",
            "Epoch 25/50\n",
            "782/782 [==============================] - 26s 33ms/step - loss: 0.5904 - accuracy: 0.7962 - val_loss: 0.5029 - val_accuracy: 0.8347\n",
            "Epoch 26/50\n",
            "782/782 [==============================] - 26s 33ms/step - loss: 0.5792 - accuracy: 0.7990 - val_loss: 0.5483 - val_accuracy: 0.8248\n",
            "Epoch 27/50\n",
            "782/782 [==============================] - 26s 33ms/step - loss: 0.5764 - accuracy: 0.8026 - val_loss: 0.5396 - val_accuracy: 0.8298\n",
            "Epoch 28/50\n",
            "782/782 [==============================] - 26s 33ms/step - loss: 0.5778 - accuracy: 0.8026 - val_loss: 0.5478 - val_accuracy: 0.8264\n",
            "Epoch 29/50\n",
            "782/782 [==============================] - 26s 33ms/step - loss: 0.5746 - accuracy: 0.8028 - val_loss: 0.5728 - val_accuracy: 0.8231\n",
            "Epoch 30/50\n",
            "782/782 [==============================] - 26s 33ms/step - loss: 0.5729 - accuracy: 0.8024 - val_loss: 0.5795 - val_accuracy: 0.8156\n",
            "Epoch 31/50\n",
            "782/782 [==============================] - 26s 33ms/step - loss: 0.5702 - accuracy: 0.8018 - val_loss: 0.4813 - val_accuracy: 0.8421\n",
            "Epoch 32/50\n",
            "782/782 [==============================] - 26s 33ms/step - loss: 0.5581 - accuracy: 0.8069 - val_loss: 0.4795 - val_accuracy: 0.8431\n",
            "Epoch 33/50\n",
            "782/782 [==============================] - 26s 33ms/step - loss: 0.5634 - accuracy: 0.8056 - val_loss: 0.5141 - val_accuracy: 0.8378\n",
            "Epoch 34/50\n",
            "782/782 [==============================] - 26s 33ms/step - loss: 0.5567 - accuracy: 0.8086 - val_loss: 0.5941 - val_accuracy: 0.8155\n",
            "Epoch 35/50\n",
            "782/782 [==============================] - 26s 33ms/step - loss: 0.5499 - accuracy: 0.8119 - val_loss: 0.4864 - val_accuracy: 0.8433\n",
            "Epoch 36/50\n",
            "782/782 [==============================] - 26s 34ms/step - loss: 0.5530 - accuracy: 0.8089 - val_loss: 0.4696 - val_accuracy: 0.8455\n",
            "Epoch 37/50\n",
            "782/782 [==============================] - 26s 33ms/step - loss: 0.5487 - accuracy: 0.8107 - val_loss: 0.5057 - val_accuracy: 0.8320\n",
            "Epoch 38/50\n",
            "782/782 [==============================] - 26s 33ms/step - loss: 0.5556 - accuracy: 0.8083 - val_loss: 0.5154 - val_accuracy: 0.8305\n",
            "Epoch 39/50\n",
            "782/782 [==============================] - 26s 33ms/step - loss: 0.5462 - accuracy: 0.8103 - val_loss: 0.5198 - val_accuracy: 0.8380\n",
            "Epoch 40/50\n",
            "782/782 [==============================] - 26s 33ms/step - loss: 0.5444 - accuracy: 0.8125 - val_loss: 0.5340 - val_accuracy: 0.8312\n",
            "Epoch 41/50\n",
            "782/782 [==============================] - 26s 33ms/step - loss: 0.5446 - accuracy: 0.8122 - val_loss: 0.5510 - val_accuracy: 0.8297\n",
            "Epoch 42/50\n",
            "782/782 [==============================] - 26s 33ms/step - loss: 0.5442 - accuracy: 0.8129 - val_loss: 0.4495 - val_accuracy: 0.8552\n",
            "Epoch 43/50\n",
            "782/782 [==============================] - 26s 33ms/step - loss: 0.5410 - accuracy: 0.8140 - val_loss: 0.5070 - val_accuracy: 0.8386\n",
            "Epoch 44/50\n",
            "782/782 [==============================] - 26s 33ms/step - loss: 0.5369 - accuracy: 0.8150 - val_loss: 0.4965 - val_accuracy: 0.8425\n",
            "Epoch 45/50\n",
            "782/782 [==============================] - 26s 33ms/step - loss: 0.5343 - accuracy: 0.8177 - val_loss: 0.5282 - val_accuracy: 0.8398\n",
            "Epoch 46/50\n",
            "782/782 [==============================] - 26s 34ms/step - loss: 0.5268 - accuracy: 0.8186 - val_loss: 0.5568 - val_accuracy: 0.8268\n",
            "Epoch 47/50\n",
            "782/782 [==============================] - 26s 33ms/step - loss: 0.5359 - accuracy: 0.8156 - val_loss: 0.4514 - val_accuracy: 0.8555\n",
            "Epoch 48/50\n",
            "782/782 [==============================] - 26s 33ms/step - loss: 0.5284 - accuracy: 0.8167 - val_loss: 0.4989 - val_accuracy: 0.8426\n",
            "Epoch 49/50\n",
            "782/782 [==============================] - 26s 33ms/step - loss: 0.5257 - accuracy: 0.8175 - val_loss: 0.4950 - val_accuracy: 0.8406\n",
            "Epoch 50/50\n",
            "782/782 [==============================] - 26s 33ms/step - loss: 0.5253 - accuracy: 0.8186 - val_loss: 0.5278 - val_accuracy: 0.8396\n"
          ],
          "name": "stdout"
        }
      ]
    },
    {
      "cell_type": "code",
      "metadata": {
        "colab": {
          "base_uri": "https://localhost:8080/"
        },
        "id": "ptuXgHu8BDv2",
        "outputId": "e48a1690-7aef-4506-95e9-dd575533514a"
      },
      "source": [
        "#test\n",
        "scores = model.evaluate(x_test, y_test, batch_size=128, verbose=1)\n",
        "print('\\nTest result: %.3f loss: %.3f' % (scores[1]*100,scores[0]))"
      ],
      "execution_count": null,
      "outputs": [
        {
          "output_type": "stream",
          "text": [
            "79/79 [==============================] - 1s 5ms/step - loss: 0.5278 - accuracy: 0.8396\n",
            "\n",
            "Test result: 83.960 loss: 0.528\n"
          ],
          "name": "stdout"
        }
      ]
    },
    {
      "cell_type": "code",
      "metadata": {
        "id": "7FdU-gs3MVzM"
      },
      "source": [
        ""
      ],
      "execution_count": null,
      "outputs": []
    }
  ]
}