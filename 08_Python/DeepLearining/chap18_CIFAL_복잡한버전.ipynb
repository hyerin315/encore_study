{
  "nbformat": 4,
  "nbformat_minor": 0,
  "metadata": {
    "colab": {
      "name": "CIFAL_복잡한버전.ipynb",
      "provenance": [],
      "collapsed_sections": []
    },
    "kernelspec": {
      "name": "python3",
      "display_name": "Python 3"
    },
    "language_info": {
      "name": "python"
    },
    "accelerator": "GPU"
  },
  "cells": [
    {
      "cell_type": "code",
      "metadata": {
        "id": "7tAJxV2g6cEA"
      },
      "source": [
        "import tensorflow as tf\n",
        "from tensorflow.keras import datasets, layers, models, regularizers, optimizers\n",
        "from tensorflow.keras.preprocessing.image import ImageDataGenerator\n",
        "import numpy as np"
      ],
      "execution_count": null,
      "outputs": []
    },
    {
      "cell_type": "code",
      "metadata": {
        "id": "NyYQUacn6dzN"
      },
      "source": [
        "EPOCHS=50\n",
        "NUM_CLASSES = 10"
      ],
      "execution_count": null,
      "outputs": []
    },
    {
      "cell_type": "code",
      "metadata": {
        "id": "FLiQM8GU6gCD"
      },
      "source": [
        "def load_data():\n",
        "    (x_train, y_train), (x_test, y_test) = datasets.cifar10.load_data()\n",
        "    x_train = x_train.astype('float32')\n",
        "    x_test = x_test.astype('float32')\n",
        " \n",
        "    # normalize \n",
        "    # 데이타 표준화 시킴\n",
        "    mean = np.mean(x_train,axis=(0,1,2,3))\n",
        "    std = np.std(x_train,axis=(0,1,2,3))\n",
        "    print(f\"mean : {mean}, std : {std}\")\n",
        "\n",
        "    x_train = (x_train-mean)/(std+1e-7)\n",
        "    x_test = (x_test-mean)/(std+1e-7)\n",
        " \n",
        "    y_train =  tf.keras.utils.to_categorical(y_train,NUM_CLASSES)\n",
        "    y_test =  tf.keras.utils.to_categorical(y_test,NUM_CLASSES)\n",
        "\n",
        "    return x_train, y_train, x_test, y_test"
      ],
      "execution_count": null,
      "outputs": []
    },
    {
      "cell_type": "code",
      "metadata": {
        "id": "u6ypCwQP6ip2"
      },
      "source": [
        "def build_model(): \n",
        "    model = models.Sequential()\n",
        "    \n",
        "    #1st blocl\n",
        "    model.add(layers.Conv2D(32, (3,3), padding='same', \n",
        "        input_shape=x_train.shape[1:], activation='relu'))\n",
        "    model.add(layers.BatchNormalization())\n",
        "    model.add(layers.Conv2D(32, (3,3), padding='same', activation='relu'))\n",
        "    model.add(layers.BatchNormalization())\n",
        "    model.add(layers.MaxPooling2D(pool_size=(2,2)))\n",
        "    model.add(layers.Dropout(0.2)) #20%\n",
        "\n",
        "    #2nd block\n",
        "    model.add(layers.Conv2D(64, (3,3), padding='same', activation='relu'))\n",
        "    model.add(layers.BatchNormalization())\n",
        "    model.add(layers.Conv2D(64, (3,3), padding='same', activation='relu'))\n",
        "    model.add(layers.BatchNormalization())\n",
        "    model.add(layers.MaxPooling2D(pool_size=(2,2)))\n",
        "    model.add(layers.Dropout(0.3)) #30%\n",
        "\n",
        "    #3d block \n",
        "    model.add(layers.Conv2D(128, (3,3), padding='same', activation='relu'))\n",
        "    model.add(layers.BatchNormalization())\n",
        "    model.add(layers.Conv2D(128, (3,3), padding='same', activation='relu'))\n",
        "    model.add(layers.BatchNormalization())\n",
        "    model.add(layers.MaxPooling2D(pool_size=(2,2)))\n",
        "    model.add(layers.Dropout(0.4)) #40%\n",
        "\n",
        "    #dense  \n",
        "    model.add(layers.Flatten())\n",
        "    model.add(layers.Dense(NUM_CLASSES, activation='softmax'))\n",
        "    return model\n",
        "\n",
        "    model.summary()"
      ],
      "execution_count": null,
      "outputs": []
    },
    {
      "cell_type": "code",
      "metadata": {
        "colab": {
          "base_uri": "https://localhost:8080/"
        },
        "id": "VWt-_rtg7eN0",
        "outputId": "e56e2d1a-6d7d-443d-a81a-b28d244bc092"
      },
      "source": [
        "(x_train, y_train, x_test, y_test) = load_data()\n",
        "model = build_model()"
      ],
      "execution_count": null,
      "outputs": [
        {
          "output_type": "stream",
          "text": [
            "Downloading data from https://www.cs.toronto.edu/~kriz/cifar-10-python.tar.gz\n",
            "170500096/170498071 [==============================] - 4s 0us/step\n",
            "mean : 120.70748138427734, std : 64.1500244140625\n"
          ],
          "name": "stdout"
        }
      ]
    },
    {
      "cell_type": "code",
      "metadata": {
        "colab": {
          "base_uri": "https://localhost:8080/"
        },
        "id": "_QwO318D7ldW",
        "outputId": "11fc7ef8-0b4a-4fc7-d280-09c1e906892e"
      },
      "source": [
        "model.summary() #parmas는 이전 모델이 더 많은데, 이전 모델은 중간에 한 번 막았고 여기서는 플랫한 뒤 바로 출력해버려서 그럼"
      ],
      "execution_count": null,
      "outputs": [
        {
          "output_type": "stream",
          "text": [
            "Model: \"sequential\"\n",
            "_________________________________________________________________\n",
            "Layer (type)                 Output Shape              Param #   \n",
            "=================================================================\n",
            "conv2d (Conv2D)              (None, 32, 32, 32)        896       \n",
            "_________________________________________________________________\n",
            "batch_normalization (BatchNo (None, 32, 32, 32)        128       \n",
            "_________________________________________________________________\n",
            "conv2d_1 (Conv2D)            (None, 32, 32, 32)        9248      \n",
            "_________________________________________________________________\n",
            "batch_normalization_1 (Batch (None, 32, 32, 32)        128       \n",
            "_________________________________________________________________\n",
            "max_pooling2d (MaxPooling2D) (None, 16, 16, 32)        0         \n",
            "_________________________________________________________________\n",
            "dropout (Dropout)            (None, 16, 16, 32)        0         \n",
            "_________________________________________________________________\n",
            "conv2d_2 (Conv2D)            (None, 16, 16, 64)        18496     \n",
            "_________________________________________________________________\n",
            "batch_normalization_2 (Batch (None, 16, 16, 64)        256       \n",
            "_________________________________________________________________\n",
            "conv2d_3 (Conv2D)            (None, 16, 16, 64)        36928     \n",
            "_________________________________________________________________\n",
            "batch_normalization_3 (Batch (None, 16, 16, 64)        256       \n",
            "_________________________________________________________________\n",
            "max_pooling2d_1 (MaxPooling2 (None, 8, 8, 64)          0         \n",
            "_________________________________________________________________\n",
            "dropout_1 (Dropout)          (None, 8, 8, 64)          0         \n",
            "_________________________________________________________________\n",
            "conv2d_4 (Conv2D)            (None, 8, 8, 128)         73856     \n",
            "_________________________________________________________________\n",
            "batch_normalization_4 (Batch (None, 8, 8, 128)         512       \n",
            "_________________________________________________________________\n",
            "conv2d_5 (Conv2D)            (None, 8, 8, 128)         147584    \n",
            "_________________________________________________________________\n",
            "batch_normalization_5 (Batch (None, 8, 8, 128)         512       \n",
            "_________________________________________________________________\n",
            "max_pooling2d_2 (MaxPooling2 (None, 4, 4, 128)         0         \n",
            "_________________________________________________________________\n",
            "dropout_2 (Dropout)          (None, 4, 4, 128)         0         \n",
            "_________________________________________________________________\n",
            "flatten (Flatten)            (None, 2048)              0         \n",
            "_________________________________________________________________\n",
            "dense (Dense)                (None, 10)                20490     \n",
            "=================================================================\n",
            "Total params: 309,290\n",
            "Trainable params: 308,394\n",
            "Non-trainable params: 896\n",
            "_________________________________________________________________\n"
          ],
          "name": "stdout"
        }
      ]
    },
    {
      "cell_type": "code",
      "metadata": {
        "id": "JdnXkqjG7za6"
      },
      "source": [
        "model.compile(loss='categorical_crossentropy', \n",
        "              optimizer='RMSprop', # sgd, adam ...등등\n",
        "              metrics=['accuracy'])"
      ],
      "execution_count": null,
      "outputs": []
    },
    {
      "cell_type": "code",
      "metadata": {
        "id": "adaWTbVc9Qtr"
      },
      "source": [
        "import keras\n",
        "early_stopping_cb = keras.callbacks.EarlyStopping(patience=3, restore_best_weights=True)"
      ],
      "execution_count": null,
      "outputs": []
    },
    {
      "cell_type": "code",
      "metadata": {
        "colab": {
          "base_uri": "https://localhost:8080/"
        },
        "id": "5INxROlq8SgT",
        "outputId": "b647b8ab-5c98-416a-e7ea-2d9a61f211e3"
      },
      "source": [
        "#train\n",
        "batch_size = 64\n",
        "model.fit(x_train, y_train, batch_size=batch_size,\n",
        "    epochs=EPOCHS, validation_data=(x_test,y_test),\n",
        "    callbacks=[early_stopping_cb]) #epochs : 하나가 다 끝났을 때, batch_size : batch_size만큼 순환을 하고 나면 1epoch"
      ],
      "execution_count": null,
      "outputs": [
        {
          "output_type": "stream",
          "text": [
            "Epoch 1/50\n",
            "782/782 [==============================] - 41s 11ms/step - loss: 1.7746 - accuracy: 0.4682 - val_loss: 1.3428 - val_accuracy: 0.5648\n",
            "Epoch 2/50\n",
            "782/782 [==============================] - 8s 10ms/step - loss: 1.1155 - accuracy: 0.6451 - val_loss: 0.9299 - val_accuracy: 0.6742\n",
            "Epoch 3/50\n",
            "782/782 [==============================] - 8s 10ms/step - loss: 0.8769 - accuracy: 0.7098 - val_loss: 0.8511 - val_accuracy: 0.7312\n",
            "Epoch 4/50\n",
            "782/782 [==============================] - 8s 10ms/step - loss: 0.7555 - accuracy: 0.7465 - val_loss: 0.7134 - val_accuracy: 0.7574\n",
            "Epoch 5/50\n",
            "782/782 [==============================] - 8s 11ms/step - loss: 0.6645 - accuracy: 0.7729 - val_loss: 0.6684 - val_accuracy: 0.7721\n",
            "Epoch 6/50\n",
            "782/782 [==============================] - 8s 11ms/step - loss: 0.5987 - accuracy: 0.7944 - val_loss: 0.6249 - val_accuracy: 0.7898\n",
            "Epoch 7/50\n",
            "782/782 [==============================] - 8s 11ms/step - loss: 0.5420 - accuracy: 0.8138 - val_loss: 0.6277 - val_accuracy: 0.7940\n",
            "Epoch 8/50\n",
            "782/782 [==============================] - 8s 10ms/step - loss: 0.5003 - accuracy: 0.8269 - val_loss: 0.5509 - val_accuracy: 0.8105\n",
            "Epoch 9/50\n",
            "782/782 [==============================] - 8s 11ms/step - loss: 0.4691 - accuracy: 0.8363 - val_loss: 0.5723 - val_accuracy: 0.8107\n",
            "Epoch 10/50\n",
            "782/782 [==============================] - 9s 11ms/step - loss: 0.4373 - accuracy: 0.8481 - val_loss: 0.5575 - val_accuracy: 0.8110\n",
            "Epoch 11/50\n",
            "782/782 [==============================] - 9s 11ms/step - loss: 0.4144 - accuracy: 0.8563 - val_loss: 0.5295 - val_accuracy: 0.8216\n",
            "Epoch 12/50\n",
            "782/782 [==============================] - 9s 11ms/step - loss: 0.3931 - accuracy: 0.8608 - val_loss: 0.4941 - val_accuracy: 0.8358\n",
            "Epoch 13/50\n",
            "782/782 [==============================] - 8s 11ms/step - loss: 0.3733 - accuracy: 0.8678 - val_loss: 0.4974 - val_accuracy: 0.8341\n",
            "Epoch 14/50\n",
            "782/782 [==============================] - 8s 11ms/step - loss: 0.3593 - accuracy: 0.8737 - val_loss: 0.5008 - val_accuracy: 0.8349\n",
            "Epoch 15/50\n",
            "782/782 [==============================] - 8s 11ms/step - loss: 0.3412 - accuracy: 0.8807 - val_loss: 0.4721 - val_accuracy: 0.8434\n",
            "Epoch 16/50\n",
            "782/782 [==============================] - 8s 11ms/step - loss: 0.3250 - accuracy: 0.8836 - val_loss: 0.4895 - val_accuracy: 0.8405\n",
            "Epoch 17/50\n",
            "782/782 [==============================] - 8s 10ms/step - loss: 0.3131 - accuracy: 0.8891 - val_loss: 0.4795 - val_accuracy: 0.8416\n",
            "Epoch 18/50\n",
            "782/782 [==============================] - 8s 11ms/step - loss: 0.3011 - accuracy: 0.8925 - val_loss: 0.4799 - val_accuracy: 0.8399\n"
          ],
          "name": "stdout"
        },
        {
          "output_type": "execute_result",
          "data": {
            "text/plain": [
              "<tensorflow.python.keras.callbacks.History at 0x7f88b00e6290>"
            ]
          },
          "metadata": {
            "tags": []
          },
          "execution_count": 9
        }
      ]
    },
    {
      "cell_type": "code",
      "metadata": {
        "id": "3zwpgfPi8sye",
        "colab": {
          "base_uri": "https://localhost:8080/"
        },
        "outputId": "09053278-937d-4847-edd6-693381102c89"
      },
      "source": [
        "score = model.evaluate(x_test, y_test,\n",
        "                     batch_size=batch_size)\n",
        "print(\"\\nTest score:\", score[0])\n",
        "print('Test accuracy:', score[1])"
      ],
      "execution_count": null,
      "outputs": [
        {
          "output_type": "stream",
          "text": [
            "157/157 [==============================] - 1s 5ms/step - loss: 0.4721 - accuracy: 0.8434\n",
            "\n",
            "Test score: 0.47214293479919434\n",
            "Test accuracy: 0.8434000015258789\n"
          ],
          "name": "stdout"
        }
      ]
    },
    {
      "cell_type": "code",
      "metadata": {
        "id": "AwjCOKwb_XzW"
      },
      "source": [
        ""
      ],
      "execution_count": null,
      "outputs": []
    }
  ]
}