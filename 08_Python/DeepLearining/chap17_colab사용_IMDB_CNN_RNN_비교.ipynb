{
 "cells": [
  {
   "cell_type": "code",
   "execution_count": null,
   "metadata": {
    "id": "JhE3zUNAYj-g"
   },
   "outputs": [],
   "source": [
    "import tensorflow as tf\n",
    "from tensorflow.keras import datasets, layers, models, optimizers"
   ]
  },
  {
   "cell_type": "code",
   "execution_count": null,
   "metadata": {
    "id": "HxwkswNgZE7h"
   },
   "outputs": [],
   "source": [
    "from tensorflow.python.client import device_lib\n",
    "device_lib.list_local_devices()"
   ]
  },
  {
   "cell_type": "code",
   "execution_count": null,
   "metadata": {
    "id": "DCGXxabKZFU8"
   },
   "outputs": [],
   "source": [
    "import tensorflow as tf\n",
    "from tensorflow.keras import datasets, layers, models, preprocessing\n",
    "#import tensorflow_datasets as tfds\n",
    "\n",
    "max_len = 100\n",
    "n_words = 500\n",
    "dim_embedding = 16\n",
    "EPOCHS = 100\n",
    "BATCH_SIZE =64\n"
   ]
  },
  {
   "cell_type": "code",
   "execution_count": null,
   "metadata": {
    "id": "iNovwavnZQrj"
   },
   "outputs": [],
   "source": [
    "\n",
    "def load_data():\n",
    "\t#load data\n",
    "\t(X_train, y_train), (X_test, y_test) = datasets.imdb.load_data(num_words=n_words)\n",
    "\t# Pad sequences with max_len\n",
    "\tX_train = preprocessing.sequence.pad_sequences(X_train, maxlen=max_len)\n",
    "\tX_test = preprocessing.sequence.pad_sequences(X_test, maxlen=max_len)\n",
    "\treturn (X_train, y_train), (X_test, y_test)\n",
    "\n",
    "def build_model():\n",
    "\tmodel = models.Sequential()\n",
    "\t#Input - Emedding Layer\n",
    "\t# the model will take as input an integer matrix of size (batch, input_length)\n",
    "\t# the model will output dimension (input_length, dim_embedding)\n",
    "    # the largest integer in the input should be no larger\n",
    "    # than n_words (vocabulary size).\n",
    "\tmodel.add(layers.Embedding(n_words, \n",
    "\t\tdim_embedding, input_length=max_len))\n",
    "\n",
    "\tmodel.add(layers.Dropout(0.3))\n",
    "\n",
    "\tmodel.add(layers.Conv1D(256, 3, padding='valid', \n",
    "\t\tactivation='relu'))\n",
    "\n",
    "\t#takes the maximum value of either feature vector from each of the n_words features\n",
    "\tmodel.add(layers.GlobalMaxPooling1D())\n",
    "\tmodel.add(layers.Dense(128, activation='relu'))\n",
    "\tmodel.add(layers.Dropout(0.5))\n",
    "\tmodel.add(layers.Dense(1, activation='sigmoid'))\n",
    "\n",
    "\treturn model\n",
    "\n",
    "\n"
   ]
  },
  {
   "cell_type": "code",
   "execution_count": null,
   "metadata": {
    "id": "_1I8_GMbaCVK"
   },
   "outputs": [],
   "source": [
    "from tensorflow import keras"
   ]
  },
  {
   "cell_type": "code",
   "execution_count": null,
   "metadata": {
    "id": "ksQZoMq0ZVyB"
   },
   "outputs": [],
   "source": [
    "(X_train, y_train), (X_test, y_test) = load_data()\n",
    "model=build_model()\n",
    "model.summary()\n",
    "\n",
    "model.compile(optimizer = \"adam\", loss = \"binary_crossentropy\",\n",
    " metrics = [\"accuracy\"]\n",
    ")\n",
    "\n",
    "checkpoint_cb = keras.callbacks.ModelCheckpoint('best-embedding-model.h5')\n",
    "early_stopping_cb = keras.callbacks.EarlyStopping(patience=3,\n",
    "                                                  restore_best_weights=True)\n",
    "\n",
    "score = model.fit(X_train, y_train,\n",
    "        epochs= EPOCHS,\n",
    "        batch_size = BATCH_SIZE,\n",
    "        validation_data = (X_test, y_test),\n",
    "        callbacks=[checkpoint_cb, early_stopping_cb]\n",
    ")\n",
    "\n",
    "score = model.evaluate(X_test, y_test, batch_size=BATCH_SIZE)\n",
    "print(\"\\nTest score:\", score[0])\n",
    "print('Test accuracy:', score[1])"
   ]
  },
  {
   "cell_type": "code",
   "execution_count": null,
   "metadata": {
    "id": "o32S4MK_ZfZP"
   },
   "outputs": [],
   "source": [
    "# RNN 구조"
   ]
  },
  {
   "cell_type": "code",
   "execution_count": null,
   "metadata": {
    "id": "vket3ij6aUtq"
   },
   "outputs": [],
   "source": [
    "model2 = keras.Sequential()\n",
    "\n",
    "model2.add(keras.layers.Embedding(500, 16, input_length=100))\n",
    "model2.add(keras.layers.SimpleRNN(8))\n",
    "model2.add(keras.layers.Dense(1, activation='sigmoid'))\n",
    "\n",
    "model2.summary()"
   ]
  },
  {
   "cell_type": "code",
   "execution_count": null,
   "metadata": {
    "id": "IpQ7FIGcaad4"
   },
   "outputs": [],
   "source": [
    "rmsprop = keras.optimizers.RMSprop(learning_rate=1e-4)\n",
    "model2.compile(optimizer=rmsprop, loss='binary_crossentropy', \n",
    "               metrics=['accuracy'])\n",
    "\n",
    "checkpoint_cb = keras.callbacks.ModelCheckpoint('best-embedding-model.h5')\n",
    "early_stopping_cb = keras.callbacks.EarlyStopping(patience=3,\n",
    "                                                  restore_best_weights=True)\n",
    "\n",
    "# (X_train, y_train), (X_test, y_test)\n",
    "history = model2.fit(X_train, y_train, epochs=100, batch_size=64,\n",
    "                     validation_data=(X_test, y_test),\n",
    "                     callbacks=[checkpoint_cb, early_stopping_cb])\n",
    "\n",
    "score = model.evaluate(X_test, y_test, batch_size=BATCH_SIZE)\n",
    "print(\"\\nTest score:\", score[0])\n",
    "print('Test accuracy:', score[1])"
   ]
  },
  {
   "cell_type": "code",
   "execution_count": null,
   "metadata": {
    "id": "t1ZMo_SvacP5"
   },
   "outputs": [],
   "source": []
  }
 ],
 "metadata": {
  "accelerator": "GPU",
  "colab": {
   "name": "Untitled1.ipynb",
   "private_outputs": true,
   "provenance": []
  },
  "kernelspec": {
   "display_name": "Python 3",
   "language": "python",
   "name": "python3"
  },
  "language_info": {
   "codemirror_mode": {
    "name": "ipython",
    "version": 3
   },
   "file_extension": ".py",
   "mimetype": "text/x-python",
   "name": "python",
   "nbconvert_exporter": "python",
   "pygments_lexer": "ipython3",
   "version": "3.7.10"
  }
 },
 "nbformat": 4,
 "nbformat_minor": 1
}
