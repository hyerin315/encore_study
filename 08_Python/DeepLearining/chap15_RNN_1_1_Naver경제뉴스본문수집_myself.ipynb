{
 "cells": [
  {
   "cell_type": "code",
   "execution_count": 3,
   "id": "a9d20cb9",
   "metadata": {},
   "outputs": [],
   "source": [
    "import requests\n",
    "from selenium import webdriver\n",
    "from bs4 import BeautifulSoup\n",
    "\n",
    "header = {'user-agent':\n",
    "          'Mozilla/5.0 (Windows NT 10.0; Win64; x64) AppleWebKit/537.36 (KHTML, like Gecko) Chrome/90.0.4430.93 Safari/537.36'}\n",
    "\n",
    "r = requests.get(\"https://news.naver.com/main/main.nhn?mode=LSD&mid=sec&sid1=101\", headers = header)\n",
    "html = BeautifulSoup(r.text, \"html.parser\")"
   ]
  },
  {
   "cell_type": "code",
   "execution_count": 6,
   "id": "3b38eb60",
   "metadata": {},
   "outputs": [],
   "source": [
    "cate = html.select(\"ul.nave > li\")"
   ]
  },
  {
   "cell_type": "code",
   "execution_count": 7,
   "id": "cb571d1b",
   "metadata": {},
   "outputs": [
    {
     "data": {
      "text/plain": [
       "[]"
      ]
     },
     "execution_count": 7,
     "metadata": {},
     "output_type": "execute_result"
    }
   ],
   "source": [
    "for c in cate:\n",
    "    cate_link = c.select_one(\"a._sp_each_title\").text\n",
    "    cate_list = ar.select_one(\"span._sp_each_source\").text\n",
    "\n",
    "    print(title, source)"
   ]
  },
  {
   "cell_type": "code",
   "execution_count": null,
   "id": "40a46366",
   "metadata": {},
   "outputs": [],
   "source": []
  }
 ],
 "metadata": {
  "kernelspec": {
   "display_name": "pydata",
   "language": "python",
   "name": "pydata"
  },
  "language_info": {
   "codemirror_mode": {
    "name": "ipython",
    "version": 3
   },
   "file_extension": ".py",
   "mimetype": "text/x-python",
   "name": "python",
   "nbconvert_exporter": "python",
   "pygments_lexer": "ipython3",
   "version": "3.7.10"
  }
 },
 "nbformat": 4,
 "nbformat_minor": 5
}
