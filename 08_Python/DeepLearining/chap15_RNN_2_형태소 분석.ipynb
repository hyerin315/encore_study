{
 "cells": [
  {
   "cell_type": "code",
   "execution_count": 1,
   "metadata": {},
   "outputs": [
    {
     "name": "stdout",
     "output_type": "stream",
     "text": [
      "3.7.10 (default, Feb 26 2021, 13:06:18) [MSC v.1916 64 bit (AMD64)]\n"
     ]
    }
   ],
   "source": [
    "import sys\n",
    "print (sys.version)\n",
    "import requests\n",
    "from bs4 import BeautifulSoup\n",
    "from datetime import date, datetime, timedelta\n",
    "import pandas as pd\n",
    "from urllib import parse\n",
    "import os"
   ]
  },
  {
   "cell_type": "code",
   "execution_count": 2,
   "metadata": {},
   "outputs": [],
   "source": [
    "from konlpy.tag import Mecab, Komoran"
   ]
  },
  {
   "cell_type": "code",
   "execution_count": 3,
   "metadata": {},
   "outputs": [],
   "source": [
    "tokenizer = Komoran()"
   ]
  },
  {
   "cell_type": "markdown",
   "metadata": {},
   "source": [
    "NNG, NNP, NNB, NNM"
   ]
  },
  {
   "cell_type": "markdown",
   "metadata": {},
   "source": [
    "# 코모란에서 사용자 사전 추가 \n",
    "token = Komoran(userdic=\"./user_dict.txt\")"
   ]
  },
  {
   "cell_type": "code",
   "execution_count": null,
   "metadata": {},
   "outputs": [],
   "source": [
    "word_dict ={}\n",
    "for roots, dirs, files in os.walk(\"./20201019\"):\n",
    "    for file in files:\n",
    "        with open(roots + \"/\" + file, \"r\", encoding='utf-8') as f:\n",
    "            for x in f:\n",
    "                for word, morpheme in tokenizer.pos(x.strip()):\n",
    "                    if morpheme in ['NNG', 'NNP', 'NNB', \"NNM\"] and len(word) > 1 :\n",
    "                        if word_dict.get(word) == None:\n",
    "                            word_dict[word] = 1\n",
    "                        else:\n",
    "                            word_dict[word] += 1"
   ]
  },
  {
   "cell_type": "code",
   "execution_count": null,
   "metadata": {},
   "outputs": [],
   "source": [
    "word_dict"
   ]
  },
  {
   "cell_type": "code",
   "execution_count": null,
   "metadata": {},
   "outputs": [],
   "source": [
    "word_dict ={}\n",
    "for cont in rt.title:\n",
    "    for word, morpheme in token.pos(cont):\n",
    "        if morpheme in ['NNG', 'NNP', 'NNB', \"NNM\"] and len(word) > 1 :\n",
    "            if word_dict.get(word) == None:\n",
    "                word_dict[word] = 1\n",
    "            else:\n",
    "                word_dict[word] += 1"
   ]
  },
  {
   "cell_type": "code",
   "execution_count": null,
   "metadata": {},
   "outputs": [],
   "source": [
    "sorted(word_dict.items(), key=lambda x : x[1], reverse=True)"
   ]
  },
  {
   "cell_type": "code",
   "execution_count": null,
   "metadata": {},
   "outputs": [],
   "source": [
    "rt2 = crawling_news2('259', '2019-09-13', '2019-09-19')"
   ]
  },
  {
   "cell_type": "markdown",
   "metadata": {},
   "source": [
    "rt2.iloc[0,1]"
   ]
  },
  {
   "cell_type": "code",
   "execution_count": null,
   "metadata": {},
   "outputs": [],
   "source": [
    "stop_words = {'금융', '금융', '대출'}"
   ]
  },
  {
   "cell_type": "code",
   "execution_count": null,
   "metadata": {},
   "outputs": [],
   "source": [
    "stop_words"
   ]
  },
  {
   "cell_type": "code",
   "execution_count": null,
   "metadata": {},
   "outputs": [],
   "source": [
    "'금융' in stop_words"
   ]
  },
  {
   "cell_type": "code",
   "execution_count": null,
   "metadata": {},
   "outputs": [],
   "source": [
    "list(set([1,1,1,1,1,2,2,3,3,2,3,3,2,3]))"
   ]
  },
  {
   "cell_type": "code",
   "execution_count": null,
   "metadata": {},
   "outputs": [],
   "source": [
    "word_dict2 ={}\n",
    "stop_words = {'금융', '대출'}\n",
    "for cont in rt2.title:\n",
    "    for word, morpheme in token.pos(cont):\n",
    "        if morpheme in ['NNG', 'NNP', 'NNB', \"NNM\"] and len(word) > 1 and \\\n",
    "            word not in stop_words:\n",
    "            if word_dict2.get(word) == None:\n",
    "                word_dict2[word] = 1\n",
    "            else:\n",
    "                word_dict2[word] += 1"
   ]
  },
  {
   "cell_type": "code",
   "execution_count": null,
   "metadata": {},
   "outputs": [],
   "source": [
    "sorted(word_dict2.items(), key=lambda x : x[1], reverse=True)"
   ]
  },
  {
   "cell_type": "markdown",
   "metadata": {},
   "source": [
    "from wordcloud import WordCloud\n",
    "import matplotlib.pyplot as plt\n",
    "wc = WordCloud(\n",
    "    max_font_size=100,\n",
    "    width = 800,\n",
    "    height = 800\n",
    ")"
   ]
  }
 ],
 "metadata": {
  "kernelspec": {
   "display_name": "Python 3",
   "language": "python",
   "name": "python3"
  },
  "language_info": {
   "codemirror_mode": {
    "name": "ipython",
    "version": 3
   },
   "file_extension": ".py",
   "mimetype": "text/x-python",
   "name": "python",
   "nbconvert_exporter": "python",
   "pygments_lexer": "ipython3",
   "version": "3.7.10"
  }
 },
 "nbformat": 4,
 "nbformat_minor": 4
}
