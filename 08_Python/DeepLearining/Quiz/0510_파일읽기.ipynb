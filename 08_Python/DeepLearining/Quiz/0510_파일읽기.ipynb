{
 "cells": [
  {
   "cell_type": "code",
   "execution_count": 2,
   "id": "a18d1a8b",
   "metadata": {},
   "outputs": [],
   "source": [
    "import os"
   ]
  },
  {
   "cell_type": "code",
   "execution_count": 13,
   "id": "384f08f2",
   "metadata": {},
   "outputs": [],
   "source": [
    "import sys"
   ]
  },
  {
   "cell_type": "code",
   "execution_count": 14,
   "id": "506f5ad6",
   "metadata": {
    "scrolled": true
   },
   "outputs": [
    {
     "data": {
      "text/plain": [
       "['/home/encore/workspace',\n",
       " '/home/encore/miniconda3/lib/python38.zip',\n",
       " '/home/encore/miniconda3/lib/python3.8',\n",
       " '/home/encore/miniconda3/lib/python3.8/lib-dynload',\n",
       " '',\n",
       " '/home/encore/miniconda3/lib/python3.8/site-packages',\n",
       " '/home/encore/miniconda3/lib/python3.8/site-packages/IPython/extensions',\n",
       " '/home/encore/.ipython']"
      ]
     },
     "execution_count": 14,
     "metadata": {},
     "output_type": "execute_result"
    }
   ],
   "source": [
    "sys.path"
   ]
  },
  {
   "cell_type": "code",
   "execution_count": 19,
   "id": "c2dfb9e0",
   "metadata": {},
   "outputs": [],
   "source": [
    "name, birth, gender = \"강가연_19961123_3xxxxxx.txt\".split(\"_\")"
   ]
  },
  {
   "cell_type": "code",
   "execution_count": 20,
   "id": "843f488f",
   "metadata": {},
   "outputs": [
    {
     "data": {
      "text/plain": [
       "'강가연'"
      ]
     },
     "execution_count": 20,
     "metadata": {},
     "output_type": "execute_result"
    }
   ],
   "source": [
    "name"
   ]
  },
  {
   "cell_type": "code",
   "execution_count": 21,
   "id": "0f601321",
   "metadata": {},
   "outputs": [
    {
     "data": {
      "text/plain": [
       "'19961123'"
      ]
     },
     "execution_count": 21,
     "metadata": {},
     "output_type": "execute_result"
    }
   ],
   "source": [
    "birth"
   ]
  },
  {
   "cell_type": "code",
   "execution_count": 28,
   "id": "65a2f1f1",
   "metadata": {},
   "outputs": [
    {
     "data": {
      "text/plain": [
       "'4xxxxxx.txt'"
      ]
     },
     "execution_count": 28,
     "metadata": {},
     "output_type": "execute_result"
    }
   ],
   "source": [
    "gender"
   ]
  },
  {
   "cell_type": "code",
   "execution_count": 29,
   "id": "9038ca93",
   "metadata": {},
   "outputs": [],
   "source": [
    "names = []\n",
    "births = []\n",
    "genders = []\n",
    "money = []\n",
    "for roots, dirs, files in os.walk(\"./data\"):\n",
    "    for file in files:\n",
    "        name, birth, gender = file.split(\"_\")\n",
    "        if gender.split(\".\")[-1] != \"txt\": continue\n",
    "        names.append(name)\n",
    "        births.append(birth)\n",
    "        genders.append(gender[0])\n",
    "        with open(roots + \"/\" + file, \"r\") as f:\n",
    "            money.append(f.read())"
   ]
  },
  {
   "cell_type": "code",
   "execution_count": 26,
   "id": "d20749bd",
   "metadata": {},
   "outputs": [],
   "source": [
    "import pandas as pd"
   ]
  },
  {
   "cell_type": "code",
   "execution_count": 33,
   "id": "2af6c9a8",
   "metadata": {},
   "outputs": [],
   "source": [
    "df = pd.DataFrame({\"이름\" : names, \"생년월일\" : births, '성별' : genders , '금액' : money})"
   ]
  },
  {
   "cell_type": "code",
   "execution_count": 50,
   "id": "87a70ee5",
   "metadata": {},
   "outputs": [],
   "source": [
    "from datetime import date, datetime, timedelta"
   ]
  },
  {
   "cell_type": "code",
   "execution_count": 44,
   "id": "c92b4223",
   "metadata": {},
   "outputs": [],
   "source": [
    "a = datetime.strptime(\"20210510\", \"%Y%m%d\") "
   ]
  },
  {
   "cell_type": "code",
   "execution_count": 51,
   "id": "db3bedeb",
   "metadata": {},
   "outputs": [
    {
     "data": {
      "text/plain": [
       "datetime.datetime(2021, 8, 18, 0, 0)"
      ]
     },
     "execution_count": 51,
     "metadata": {},
     "output_type": "execute_result"
    }
   ],
   "source": [
    "a + timedelta(days=100)"
   ]
  },
  {
   "cell_type": "code",
   "execution_count": null,
   "id": "ecbc9159",
   "metadata": {},
   "outputs": [],
   "source": []
  },
  {
   "cell_type": "code",
   "execution_count": 38,
   "id": "bda69ba9",
   "metadata": {},
   "outputs": [],
   "source": [
    "df['생년월일'] = df['생년월일'].apply(lambda x : datetime.strptime(x, \"%Y%m%d\"))"
   ]
  },
  {
   "cell_type": "code",
   "execution_count": 53,
   "id": "c5a23fc5",
   "metadata": {},
   "outputs": [
    {
     "data": {
      "text/plain": [
       "0      1997-03-03\n",
       "1      1971-06-12\n",
       "2      1960-12-31\n",
       "3      1975-09-19\n",
       "4      1995-09-22\n",
       "          ...    \n",
       "9995   1965-05-09\n",
       "9996   1998-07-01\n",
       "9997   1968-09-25\n",
       "9998   1994-06-11\n",
       "9999   1970-06-28\n",
       "Name: 생년월일, Length: 10000, dtype: datetime64[ns]"
      ]
     },
     "execution_count": 53,
     "metadata": {},
     "output_type": "execute_result"
    }
   ],
   "source": [
    "df['생년월일'].apply(lambda x : x + timedelta(days=100) )"
   ]
  },
  {
   "cell_type": "code",
   "execution_count": 59,
   "id": "4c694c7a",
   "metadata": {},
   "outputs": [],
   "source": [
    "df['성별'] = df['성별'].apply(lambda x : '남' if x in ['1', '3'] else '여')"
   ]
  },
  {
   "cell_type": "code",
   "execution_count": 63,
   "id": "29d6194a",
   "metadata": {},
   "outputs": [],
   "source": [
    "df['금액'] = df['금액'].apply(lambda x : int(x.replace(\",\", \"\")))"
   ]
  },
  {
   "cell_type": "code",
   "execution_count": 71,
   "id": "bba2f3b4",
   "metadata": {},
   "outputs": [
    {
     "data": {
      "text/plain": [
       "1996"
      ]
     },
     "execution_count": 71,
     "metadata": {},
     "output_type": "execute_result"
    }
   ],
   "source": [
    "df['생년월일'][0].year"
   ]
  },
  {
   "cell_type": "code",
   "execution_count": 72,
   "id": "96dba6c7",
   "metadata": {},
   "outputs": [],
   "source": [
    "def ages(x):\n",
    "    age = 2021 - x.year + 1\n",
    "    if age <=20:\n",
    "        return '10대'\n",
    "    elif age > 20 and age <= 30:\n",
    "        return '20대'\n",
    "    elif age > 30 and age <= 40:\n",
    "        return '30대'\n",
    "    elif age > 40 and age <= 50:\n",
    "        return '40대'\n",
    "    else:\n",
    "        return '50대'"
   ]
  },
  {
   "cell_type": "code",
   "execution_count": 74,
   "id": "206762c8",
   "metadata": {},
   "outputs": [],
   "source": [
    "df['연령대'] = df['생년월일'].apply(lambda x : ages(x))"
   ]
  },
  {
   "cell_type": "code",
   "execution_count": 77,
   "id": "dff45873",
   "metadata": {},
   "outputs": [],
   "source": [
    "pd.set_option('display.float_format', lambda x: '%.1f' % x)"
   ]
  },
  {
   "cell_type": "code",
   "execution_count": 78,
   "id": "86f154d4",
   "metadata": {},
   "outputs": [
    {
     "data": {
      "text/plain": [
       "연령대\n",
       "20대   11162347.0\n",
       "30대   12753210.8\n",
       "40대   12864653.2\n",
       "50대   12307138.5\n",
       "Name: 금액, dtype: float64"
      ]
     },
     "execution_count": 78,
     "metadata": {},
     "output_type": "execute_result"
    }
   ],
   "source": [
    "df.groupby(\"연령대\")['금액'].mean()"
   ]
  },
  {
   "cell_type": "code",
   "execution_count": null,
   "id": "3cd3dace",
   "metadata": {},
   "outputs": [],
   "source": []
  }
 ],
 "metadata": {
  "kernelspec": {
   "display_name": "Python 3",
   "language": "python",
   "name": "python3"
  },
  "language_info": {
   "codemirror_mode": {
    "name": "ipython",
    "version": 3
   },
   "file_extension": ".py",
   "mimetype": "text/x-python",
   "name": "python",
   "nbconvert_exporter": "python",
   "pygments_lexer": "ipython3",
   "version": "3.7.10"
  }
 },
 "nbformat": 4,
 "nbformat_minor": 5
}
