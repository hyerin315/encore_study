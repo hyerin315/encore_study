{
 "cells": [
  {
   "cell_type": "markdown",
   "metadata": {},
   "source": [
    "# 과제 1\n",
    "* 운용회사 컬럼에서 아래 요구사항대로 변경해주세요 \n",
    "    * 미래에셋자산운용 -> 미래에셋 \n",
    "    * 삼성자산운용, 삼성액티브자산운용 -> 삼성 \n",
    "    * 케이비자산운용 -> KB\n",
    "    * 한국투자신탁운용 -> 한투 \n",
    "    * 엔에이치아문디자산운용 -> NH\n",
    "    * 신영자산운용 -> 신영 \n",
    "    * 나머지 운용사는 -> 기타 "
   ]
  },
  {
   "cell_type": "code",
   "execution_count": 1,
   "metadata": {},
   "outputs": [],
   "source": [
    "import pandas as pd\n",
    "\n",
    "fund_1 = pd.read_excel('./data/18년 6월말 기준 운용사 펀드 판매 현황.xls', header=1)"
   ]
  },
  {
   "cell_type": "code",
   "execution_count": 2,
   "metadata": {},
   "outputs": [
    {
     "data": {
      "text/html": [
       "<div>\n",
       "<style scoped>\n",
       "    .dataframe tbody tr th:only-of-type {\n",
       "        vertical-align: middle;\n",
       "    }\n",
       "\n",
       "    .dataframe tbody tr th {\n",
       "        vertical-align: top;\n",
       "    }\n",
       "\n",
       "    .dataframe thead th {\n",
       "        text-align: right;\n",
       "    }\n",
       "</style>\n",
       "<table border=\"1\" class=\"dataframe\">\n",
       "  <thead>\n",
       "    <tr style=\"text-align: right;\">\n",
       "      <th></th>\n",
       "      <th>운용회사</th>\n",
       "      <th>펀드명</th>\n",
       "      <th>설정일</th>\n",
       "      <th>펀드유형</th>\n",
       "      <th>설정원본</th>\n",
       "      <th>NAV</th>\n",
       "    </tr>\n",
       "  </thead>\n",
       "  <tbody>\n",
       "    <tr>\n",
       "      <th>0</th>\n",
       "      <td>골든브릿지자산운용</td>\n",
       "      <td>골든브릿지고배당목표전환형증권투자신탁S-3[주식혼합]종류Ae</td>\n",
       "      <td>20180305</td>\n",
       "      <td>혼합주식형</td>\n",
       "      <td>60</td>\n",
       "      <td>58</td>\n",
       "    </tr>\n",
       "    <tr>\n",
       "      <th>1</th>\n",
       "      <td>골든브릿지자산운용</td>\n",
       "      <td>골든브릿지고배당목표전환형증권투자신탁S-3[주식혼합]종류Ce</td>\n",
       "      <td>20180305</td>\n",
       "      <td>혼합주식형</td>\n",
       "      <td>11</td>\n",
       "      <td>11</td>\n",
       "    </tr>\n",
       "    <tr>\n",
       "      <th>2</th>\n",
       "      <td>골든브릿지자산운용</td>\n",
       "      <td>골든브릿지고배당증권투자신탁[주식혼합]종류Ae</td>\n",
       "      <td>20180122</td>\n",
       "      <td>혼합주식형</td>\n",
       "      <td>138</td>\n",
       "      <td>128</td>\n",
       "    </tr>\n",
       "  </tbody>\n",
       "</table>\n",
       "</div>"
      ],
      "text/plain": [
       "        운용회사                               펀드명       설정일   펀드유형  설정원본  NAV\n",
       "0  골든브릿지자산운용  골든브릿지고배당목표전환형증권투자신탁S-3[주식혼합]종류Ae  20180305  혼합주식형    60   58\n",
       "1  골든브릿지자산운용  골든브릿지고배당목표전환형증권투자신탁S-3[주식혼합]종류Ce  20180305  혼합주식형    11   11\n",
       "2  골든브릿지자산운용          골든브릿지고배당증권투자신탁[주식혼합]종류Ae  20180122  혼합주식형   138  128"
      ]
     },
     "execution_count": 2,
     "metadata": {},
     "output_type": "execute_result"
    }
   ],
   "source": [
    "fund_1.head(3)"
   ]
  },
  {
   "cell_type": "code",
   "execution_count": 3,
   "metadata": {},
   "outputs": [],
   "source": [
    "fund_1.loc[fund_1['운용회사'] == '미래에셋자산운용', '운용회사'] = '미래에셋'\n",
    "fund_1.loc[fund_1['운용회사'].isin(['삼성자산운용','삼성액티브자산운용']), '운용회사'] = '삼성'\n",
    "fund_1.loc[fund_1['운용회사'] == '케이비자산운용', '운용회사']  = 'KB'\n",
    "fund_1.loc[fund_1['운용회사'] == '한국투자신탁운용', '운용회사']  = '한투'\n",
    "fund_1.loc[fund_1['운용회사'] == '엔에이치아문디자산운용', '운용회사']  = 'NH'\n",
    "fund_1.loc[fund_1['운용회사'] == '신영자산운용', '운용회사']  = '신영'\n",
    "fund_1.loc[~fund_1['운용회사'].isin(['삼성', '한투','미래에셋', 'KB', 'NH', '신영']), '운용회사'] = '기타' # ~ : 반전"
   ]
  },
  {
   "cell_type": "code",
   "execution_count": 4,
   "metadata": {},
   "outputs": [
    {
     "data": {
      "text/plain": [
       "array(['기타', '미래에셋', '삼성', '신영', 'NH', 'KB', '한투'], dtype=object)"
      ]
     },
     "execution_count": 4,
     "metadata": {},
     "output_type": "execute_result"
    }
   ],
   "source": [
    "fund_1['운용회사'].unique()"
   ]
  },
  {
   "cell_type": "markdown",
   "metadata": {},
   "source": [
    "### 1.2 NAV가 백만원 단위에서 억 단위로 될수 있게 변경해주세요 "
   ]
  },
  {
   "cell_type": "code",
   "execution_count": 5,
   "metadata": {},
   "outputs": [],
   "source": [
    "fund_1['NAV'] = fund_1['NAV'].apply(lambda x : x / 100)"
   ]
  },
  {
   "cell_type": "code",
   "execution_count": 6,
   "metadata": {},
   "outputs": [],
   "source": [
    "fund_result = fund_1.groupby(['운용회사'], as_index = False)['NAV'].sum() "
   ]
  },
  {
   "cell_type": "markdown",
   "metadata": {},
   "source": [
    "### 1.3 아래처럼 데이터프레임을 만들어주세요"
   ]
  },
  {
   "cell_type": "code",
   "execution_count": 7,
   "metadata": {},
   "outputs": [],
   "source": [
    "fund_result.set_index(\"운용회사\", inplace = True)"
   ]
  },
  {
   "cell_type": "code",
   "execution_count": 9,
   "metadata": {},
   "outputs": [
    {
     "data": {
      "text/html": [
       "<div>\n",
       "<style scoped>\n",
       "    .dataframe tbody tr th:only-of-type {\n",
       "        vertical-align: middle;\n",
       "    }\n",
       "\n",
       "    .dataframe tbody tr th {\n",
       "        vertical-align: top;\n",
       "    }\n",
       "\n",
       "    .dataframe thead th {\n",
       "        text-align: right;\n",
       "    }\n",
       "</style>\n",
       "<table border=\"1\" class=\"dataframe\">\n",
       "  <thead>\n",
       "    <tr style=\"text-align: right;\">\n",
       "      <th></th>\n",
       "      <th>NAV</th>\n",
       "    </tr>\n",
       "    <tr>\n",
       "      <th>운용회사</th>\n",
       "      <th></th>\n",
       "    </tr>\n",
       "  </thead>\n",
       "  <tbody>\n",
       "    <tr>\n",
       "      <th>KB</th>\n",
       "      <td>9029.11</td>\n",
       "    </tr>\n",
       "    <tr>\n",
       "      <th>NH</th>\n",
       "      <td>7047.08</td>\n",
       "    </tr>\n",
       "    <tr>\n",
       "      <th>기타</th>\n",
       "      <td>37633.93</td>\n",
       "    </tr>\n",
       "    <tr>\n",
       "      <th>미래에셋</th>\n",
       "      <td>12062.57</td>\n",
       "    </tr>\n",
       "    <tr>\n",
       "      <th>삼성</th>\n",
       "      <td>9688.68</td>\n",
       "    </tr>\n",
       "    <tr>\n",
       "      <th>신영</th>\n",
       "      <td>4337.29</td>\n",
       "    </tr>\n",
       "    <tr>\n",
       "      <th>한투</th>\n",
       "      <td>7021.68</td>\n",
       "    </tr>\n",
       "  </tbody>\n",
       "</table>\n",
       "</div>"
      ],
      "text/plain": [
       "           NAV\n",
       "운용회사          \n",
       "KB     9029.11\n",
       "NH     7047.08\n",
       "기타    37633.93\n",
       "미래에셋  12062.57\n",
       "삼성     9688.68\n",
       "신영     4337.29\n",
       "한투     7021.68"
      ]
     },
     "execution_count": 9,
     "metadata": {},
     "output_type": "execute_result"
    }
   ],
   "source": [
    "fund_result"
   ]
  },
  {
   "cell_type": "markdown",
   "metadata": {},
   "source": [
    "### 1.4 아래 그림처럼 시각화를 완성해주세요 "
   ]
  },
  {
   "cell_type": "code",
   "execution_count": null,
   "metadata": {},
   "outputs": [],
   "source": [
    "# matplotlib 한글 폰트 오류 문제 해결\n",
    "import matplotlib.pyplot as plt\n",
    "import matplotlib as mpl"
   ]
  },
  {
   "cell_type": "code",
   "execution_count": 17,
   "metadata": {},
   "outputs": [],
   "source": [
    "fund_result.drop(['기타'], inplace = True)"
   ]
  },
  {
   "cell_type": "code",
   "execution_count": 18,
   "metadata": {},
   "outputs": [
    {
     "data": {
      "image/png": "[encoded data removed]",
      "text/plain": [
       "<Figure size 432x288 with 1 Axes>"
      ]
     },
     "metadata": {},
     "output_type": "display_data"
    }
   ],
   "source": [
    "from matplotlib import font_manager, rc\n",
    "font_path = 'C:\\\\Windows\\\\Fonts\\\\malgun.ttf'   #폰트파일의 위치\n",
    "font_name = font_manager.FontProperties(fname=font_path).get_name()\n",
    "rc('font', family=font_name)\n",
    "\n",
    "with plt.style.context('ggplot'):\n",
    "    ax = fund_result.plot(kind='bar', title=\"18년 6월 운용사 판매현황\", width=0.3)\n",
    "    ax.yaxis.set_major_formatter(mpl.ticker.StrMethodFormatter('{x:,.0f}'))\n",
    "    plt.xticks(rotation=45, fontsize=15)\n",
    "    plt.xlabel('운용회사', fontsize=20)\n",
    "    plt.ylabel('금액(억)', fontsize=20)\n",
    "    plt.legend('')"
   ]
  },
  {
   "attachments": {
    "image.png": {
     "image/png": "[encoded data removed]"
    }
   },
   "cell_type": "markdown",
   "metadata": {},
   "source": [
    "![image.png](attachment:image.png)"
   ]
  },
  {
   "cell_type": "markdown",
   "metadata": {},
   "source": [
    "# 2번째 미션"
   ]
  },
  {
   "cell_type": "code",
   "execution_count": 37,
   "metadata": {},
   "outputs": [],
   "source": [
    "fund_2 = pd.read_excel('./data/1-2 분기별 현황.xlsx')"
   ]
  },
  {
   "cell_type": "code",
   "execution_count": 43,
   "metadata": {},
   "outputs": [],
   "source": [
    "fund_result = fund_1.groupby(['운용회사'], as_index = False)['NAV'].sum() "
   ]
  },
  {
   "cell_type": "code",
   "execution_count": 44,
   "metadata": {},
   "outputs": [
    {
     "data": {
      "text/html": [
       "<div>\n",
       "<style scoped>\n",
       "    .dataframe tbody tr th:only-of-type {\n",
       "        vertical-align: middle;\n",
       "    }\n",
       "\n",
       "    .dataframe tbody tr th {\n",
       "        vertical-align: top;\n",
       "    }\n",
       "\n",
       "    .dataframe thead th {\n",
       "        text-align: right;\n",
       "    }\n",
       "</style>\n",
       "<table border=\"1\" class=\"dataframe\">\n",
       "  <thead>\n",
       "    <tr style=\"text-align: right;\">\n",
       "      <th></th>\n",
       "      <th>운용회사</th>\n",
       "      <th>NAV</th>\n",
       "    </tr>\n",
       "  </thead>\n",
       "  <tbody>\n",
       "    <tr>\n",
       "      <th>0</th>\n",
       "      <td>KB</td>\n",
       "      <td>9029.11</td>\n",
       "    </tr>\n",
       "    <tr>\n",
       "      <th>1</th>\n",
       "      <td>NH</td>\n",
       "      <td>7047.08</td>\n",
       "    </tr>\n",
       "    <tr>\n",
       "      <th>2</th>\n",
       "      <td>기타</td>\n",
       "      <td>37633.93</td>\n",
       "    </tr>\n",
       "    <tr>\n",
       "      <th>3</th>\n",
       "      <td>미래에셋</td>\n",
       "      <td>12062.57</td>\n",
       "    </tr>\n",
       "    <tr>\n",
       "      <th>4</th>\n",
       "      <td>삼성</td>\n",
       "      <td>9688.68</td>\n",
       "    </tr>\n",
       "    <tr>\n",
       "      <th>5</th>\n",
       "      <td>신영</td>\n",
       "      <td>4337.29</td>\n",
       "    </tr>\n",
       "    <tr>\n",
       "      <th>6</th>\n",
       "      <td>한투</td>\n",
       "      <td>7021.68</td>\n",
       "    </tr>\n",
       "  </tbody>\n",
       "</table>\n",
       "</div>"
      ],
      "text/plain": [
       "   운용회사       NAV\n",
       "0    KB   9029.11\n",
       "1    NH   7047.08\n",
       "2    기타  37633.93\n",
       "3  미래에셋  12062.57\n",
       "4    삼성   9688.68\n",
       "5    신영   4337.29\n",
       "6    한투   7021.68"
      ]
     },
     "execution_count": 44,
     "metadata": {},
     "output_type": "execute_result"
    }
   ],
   "source": [
    "fund_result"
   ]
  },
  {
   "cell_type": "code",
   "execution_count": 46,
   "metadata": {},
   "outputs": [],
   "source": [
    "fund_result.loc[7, '운용회사'] = '전체'\n",
    "fund_result.loc[7, 'NAV']= fund_result['NAV'].sum()"
   ]
  },
  {
   "cell_type": "code",
   "execution_count": 47,
   "metadata": {},
   "outputs": [
    {
     "data": {
      "text/html": [
       "<div>\n",
       "<style scoped>\n",
       "    .dataframe tbody tr th:only-of-type {\n",
       "        vertical-align: middle;\n",
       "    }\n",
       "\n",
       "    .dataframe tbody tr th {\n",
       "        vertical-align: top;\n",
       "    }\n",
       "\n",
       "    .dataframe thead th {\n",
       "        text-align: right;\n",
       "    }\n",
       "</style>\n",
       "<table border=\"1\" class=\"dataframe\">\n",
       "  <thead>\n",
       "    <tr style=\"text-align: right;\">\n",
       "      <th></th>\n",
       "      <th>운용회사</th>\n",
       "      <th>NAV</th>\n",
       "    </tr>\n",
       "  </thead>\n",
       "  <tbody>\n",
       "    <tr>\n",
       "      <th>0</th>\n",
       "      <td>KB</td>\n",
       "      <td>9029.11</td>\n",
       "    </tr>\n",
       "    <tr>\n",
       "      <th>1</th>\n",
       "      <td>NH</td>\n",
       "      <td>7047.08</td>\n",
       "    </tr>\n",
       "    <tr>\n",
       "      <th>2</th>\n",
       "      <td>기타</td>\n",
       "      <td>37633.93</td>\n",
       "    </tr>\n",
       "    <tr>\n",
       "      <th>3</th>\n",
       "      <td>미래에셋</td>\n",
       "      <td>12062.57</td>\n",
       "    </tr>\n",
       "    <tr>\n",
       "      <th>4</th>\n",
       "      <td>삼성</td>\n",
       "      <td>9688.68</td>\n",
       "    </tr>\n",
       "    <tr>\n",
       "      <th>5</th>\n",
       "      <td>신영</td>\n",
       "      <td>4337.29</td>\n",
       "    </tr>\n",
       "    <tr>\n",
       "      <th>6</th>\n",
       "      <td>한투</td>\n",
       "      <td>7021.68</td>\n",
       "    </tr>\n",
       "    <tr>\n",
       "      <th>7</th>\n",
       "      <td>전체</td>\n",
       "      <td>86820.34</td>\n",
       "    </tr>\n",
       "  </tbody>\n",
       "</table>\n",
       "</div>"
      ],
      "text/plain": [
       "   운용회사       NAV\n",
       "0    KB   9029.11\n",
       "1    NH   7047.08\n",
       "2    기타  37633.93\n",
       "3  미래에셋  12062.57\n",
       "4    삼성   9688.68\n",
       "5    신영   4337.29\n",
       "6    한투   7021.68\n",
       "7    전체  86820.34"
      ]
     },
     "execution_count": 47,
     "metadata": {},
     "output_type": "execute_result"
    }
   ],
   "source": [
    "fund_result"
   ]
  },
  {
   "cell_type": "markdown",
   "metadata": {},
   "source": [
    "* DataFrame을 만들어주세요 "
   ]
  },
  {
   "cell_type": "code",
   "execution_count": 48,
   "metadata": {},
   "outputs": [
    {
     "data": {
      "text/html": [
       "<div>\n",
       "<style scoped>\n",
       "    .dataframe tbody tr th:only-of-type {\n",
       "        vertical-align: middle;\n",
       "    }\n",
       "\n",
       "    .dataframe tbody tr th {\n",
       "        vertical-align: top;\n",
       "    }\n",
       "\n",
       "    .dataframe thead th {\n",
       "        text-align: right;\n",
       "    }\n",
       "</style>\n",
       "<table border=\"1\" class=\"dataframe\">\n",
       "  <thead>\n",
       "    <tr style=\"text-align: right;\">\n",
       "      <th></th>\n",
       "      <th>구분</th>\n",
       "      <th>2017 1Q</th>\n",
       "      <th>2017 2Q</th>\n",
       "      <th>2017 3Q</th>\n",
       "      <th>2017 4Q</th>\n",
       "      <th>2018 1Q</th>\n",
       "      <th>2018 6월</th>\n",
       "    </tr>\n",
       "  </thead>\n",
       "  <tbody>\n",
       "    <tr>\n",
       "      <th>0</th>\n",
       "      <td>미래에셋</td>\n",
       "      <td>4749</td>\n",
       "      <td>5712</td>\n",
       "      <td>7466</td>\n",
       "      <td>9463</td>\n",
       "      <td>12096</td>\n",
       "      <td>NaN</td>\n",
       "    </tr>\n",
       "    <tr>\n",
       "      <th>1</th>\n",
       "      <td>KB</td>\n",
       "      <td>5140</td>\n",
       "      <td>5272</td>\n",
       "      <td>5826</td>\n",
       "      <td>7030</td>\n",
       "      <td>8597</td>\n",
       "      <td>NaN</td>\n",
       "    </tr>\n",
       "    <tr>\n",
       "      <th>2</th>\n",
       "      <td>삼성</td>\n",
       "      <td>3553</td>\n",
       "      <td>4377</td>\n",
       "      <td>5316</td>\n",
       "      <td>6842</td>\n",
       "      <td>10476</td>\n",
       "      <td>NaN</td>\n",
       "    </tr>\n",
       "    <tr>\n",
       "      <th>3</th>\n",
       "      <td>신영</td>\n",
       "      <td>2459</td>\n",
       "      <td>3060</td>\n",
       "      <td>3549</td>\n",
       "      <td>4094</td>\n",
       "      <td>4328</td>\n",
       "      <td>NaN</td>\n",
       "    </tr>\n",
       "    <tr>\n",
       "      <th>4</th>\n",
       "      <td>NH</td>\n",
       "      <td>3195</td>\n",
       "      <td>3113</td>\n",
       "      <td>5319</td>\n",
       "      <td>6366</td>\n",
       "      <td>7015</td>\n",
       "      <td>NaN</td>\n",
       "    </tr>\n",
       "    <tr>\n",
       "      <th>5</th>\n",
       "      <td>한투</td>\n",
       "      <td>1794</td>\n",
       "      <td>2063</td>\n",
       "      <td>2262</td>\n",
       "      <td>4053</td>\n",
       "      <td>7323</td>\n",
       "      <td>NaN</td>\n",
       "    </tr>\n",
       "    <tr>\n",
       "      <th>6</th>\n",
       "      <td>기타</td>\n",
       "      <td>16244</td>\n",
       "      <td>19268</td>\n",
       "      <td>23137</td>\n",
       "      <td>28381</td>\n",
       "      <td>34261</td>\n",
       "      <td>NaN</td>\n",
       "    </tr>\n",
       "    <tr>\n",
       "      <th>7</th>\n",
       "      <td>전체</td>\n",
       "      <td>37133</td>\n",
       "      <td>42864</td>\n",
       "      <td>52878</td>\n",
       "      <td>66975</td>\n",
       "      <td>84096</td>\n",
       "      <td>NaN</td>\n",
       "    </tr>\n",
       "  </tbody>\n",
       "</table>\n",
       "</div>"
      ],
      "text/plain": [
       "     구분  2017 1Q  2017 2Q  2017 3Q  2017 4Q  2018 1Q  2018 6월\n",
       "0  미래에셋     4749     5712     7466     9463    12096      NaN\n",
       "1    KB     5140     5272     5826     7030     8597      NaN\n",
       "2    삼성     3553     4377     5316     6842    10476      NaN\n",
       "3    신영     2459     3060     3549     4094     4328      NaN\n",
       "4    NH     3195     3113     5319     6366     7015      NaN\n",
       "5    한투     1794     2063     2262     4053     7323      NaN\n",
       "6    기타    16244    19268    23137    28381    34261      NaN\n",
       "7    전체    37133    42864    52878    66975    84096      NaN"
      ]
     },
     "execution_count": 48,
     "metadata": {},
     "output_type": "execute_result"
    }
   ],
   "source": [
    "fund_2"
   ]
  },
  {
   "cell_type": "code",
   "execution_count": 49,
   "metadata": {},
   "outputs": [
    {
     "data": {
      "text/plain": [
       "set()"
      ]
     },
     "execution_count": 49,
     "metadata": {},
     "output_type": "execute_result"
    }
   ],
   "source": [
    "set(fund_result['운용회사']) - set(fund_2.구분.unique())"
   ]
  },
  {
   "cell_type": "code",
   "execution_count": 53,
   "metadata": {},
   "outputs": [
    {
     "data": {
      "text/html": [
       "<div>\n",
       "<style scoped>\n",
       "    .dataframe tbody tr th:only-of-type {\n",
       "        vertical-align: middle;\n",
       "    }\n",
       "\n",
       "    .dataframe tbody tr th {\n",
       "        vertical-align: top;\n",
       "    }\n",
       "\n",
       "    .dataframe thead th {\n",
       "        text-align: right;\n",
       "    }\n",
       "</style>\n",
       "<table border=\"1\" class=\"dataframe\">\n",
       "  <thead>\n",
       "    <tr style=\"text-align: right;\">\n",
       "      <th></th>\n",
       "      <th>구분</th>\n",
       "      <th>2017 1Q</th>\n",
       "      <th>2017 2Q</th>\n",
       "      <th>2017 3Q</th>\n",
       "      <th>2017 4Q</th>\n",
       "      <th>2018 1Q</th>\n",
       "    </tr>\n",
       "  </thead>\n",
       "  <tbody>\n",
       "    <tr>\n",
       "      <th>0</th>\n",
       "      <td>미래에셋</td>\n",
       "      <td>4749</td>\n",
       "      <td>5712</td>\n",
       "      <td>7466</td>\n",
       "      <td>9463</td>\n",
       "      <td>12096</td>\n",
       "    </tr>\n",
       "    <tr>\n",
       "      <th>1</th>\n",
       "      <td>KB</td>\n",
       "      <td>5140</td>\n",
       "      <td>5272</td>\n",
       "      <td>5826</td>\n",
       "      <td>7030</td>\n",
       "      <td>8597</td>\n",
       "    </tr>\n",
       "    <tr>\n",
       "      <th>2</th>\n",
       "      <td>삼성</td>\n",
       "      <td>3553</td>\n",
       "      <td>4377</td>\n",
       "      <td>5316</td>\n",
       "      <td>6842</td>\n",
       "      <td>10476</td>\n",
       "    </tr>\n",
       "    <tr>\n",
       "      <th>3</th>\n",
       "      <td>신영</td>\n",
       "      <td>2459</td>\n",
       "      <td>3060</td>\n",
       "      <td>3549</td>\n",
       "      <td>4094</td>\n",
       "      <td>4328</td>\n",
       "    </tr>\n",
       "    <tr>\n",
       "      <th>4</th>\n",
       "      <td>NH</td>\n",
       "      <td>3195</td>\n",
       "      <td>3113</td>\n",
       "      <td>5319</td>\n",
       "      <td>6366</td>\n",
       "      <td>7015</td>\n",
       "    </tr>\n",
       "    <tr>\n",
       "      <th>5</th>\n",
       "      <td>한투</td>\n",
       "      <td>1794</td>\n",
       "      <td>2063</td>\n",
       "      <td>2262</td>\n",
       "      <td>4053</td>\n",
       "      <td>7323</td>\n",
       "    </tr>\n",
       "    <tr>\n",
       "      <th>6</th>\n",
       "      <td>기타</td>\n",
       "      <td>16244</td>\n",
       "      <td>19268</td>\n",
       "      <td>23137</td>\n",
       "      <td>28381</td>\n",
       "      <td>34261</td>\n",
       "    </tr>\n",
       "    <tr>\n",
       "      <th>7</th>\n",
       "      <td>전체</td>\n",
       "      <td>37133</td>\n",
       "      <td>42864</td>\n",
       "      <td>52878</td>\n",
       "      <td>66975</td>\n",
       "      <td>84096</td>\n",
       "    </tr>\n",
       "  </tbody>\n",
       "</table>\n",
       "</div>"
      ],
      "text/plain": [
       "     구분  2017 1Q  2017 2Q  2017 3Q  2017 4Q  2018 1Q\n",
       "0  미래에셋     4749     5712     7466     9463    12096\n",
       "1    KB     5140     5272     5826     7030     8597\n",
       "2    삼성     3553     4377     5316     6842    10476\n",
       "3    신영     2459     3060     3549     4094     4328\n",
       "4    NH     3195     3113     5319     6366     7015\n",
       "5    한투     1794     2063     2262     4053     7323\n",
       "6    기타    16244    19268    23137    28381    34261\n",
       "7    전체    37133    42864    52878    66975    84096"
      ]
     },
     "execution_count": 53,
     "metadata": {},
     "output_type": "execute_result"
    }
   ],
   "source": [
    "# 깔끔하게 정리\n",
    "fund_2.drop(['2018 6월'], axis = 1, inplace = True)\n",
    "fund_2"
   ]
  },
  {
   "cell_type": "code",
   "execution_count": 54,
   "metadata": {},
   "outputs": [
    {
     "data": {
      "text/html": [
       "<div>\n",
       "<style scoped>\n",
       "    .dataframe tbody tr th:only-of-type {\n",
       "        vertical-align: middle;\n",
       "    }\n",
       "\n",
       "    .dataframe tbody tr th {\n",
       "        vertical-align: top;\n",
       "    }\n",
       "\n",
       "    .dataframe thead th {\n",
       "        text-align: right;\n",
       "    }\n",
       "</style>\n",
       "<table border=\"1\" class=\"dataframe\">\n",
       "  <thead>\n",
       "    <tr style=\"text-align: right;\">\n",
       "      <th></th>\n",
       "      <th>2017 1Q</th>\n",
       "      <th>2017 2Q</th>\n",
       "      <th>2017 3Q</th>\n",
       "      <th>2017 4Q</th>\n",
       "      <th>2018 1Q</th>\n",
       "    </tr>\n",
       "    <tr>\n",
       "      <th>구분</th>\n",
       "      <th></th>\n",
       "      <th></th>\n",
       "      <th></th>\n",
       "      <th></th>\n",
       "      <th></th>\n",
       "    </tr>\n",
       "  </thead>\n",
       "  <tbody>\n",
       "    <tr>\n",
       "      <th>미래에셋</th>\n",
       "      <td>4749</td>\n",
       "      <td>5712</td>\n",
       "      <td>7466</td>\n",
       "      <td>9463</td>\n",
       "      <td>12096</td>\n",
       "    </tr>\n",
       "    <tr>\n",
       "      <th>KB</th>\n",
       "      <td>5140</td>\n",
       "      <td>5272</td>\n",
       "      <td>5826</td>\n",
       "      <td>7030</td>\n",
       "      <td>8597</td>\n",
       "    </tr>\n",
       "    <tr>\n",
       "      <th>삼성</th>\n",
       "      <td>3553</td>\n",
       "      <td>4377</td>\n",
       "      <td>5316</td>\n",
       "      <td>6842</td>\n",
       "      <td>10476</td>\n",
       "    </tr>\n",
       "    <tr>\n",
       "      <th>신영</th>\n",
       "      <td>2459</td>\n",
       "      <td>3060</td>\n",
       "      <td>3549</td>\n",
       "      <td>4094</td>\n",
       "      <td>4328</td>\n",
       "    </tr>\n",
       "    <tr>\n",
       "      <th>NH</th>\n",
       "      <td>3195</td>\n",
       "      <td>3113</td>\n",
       "      <td>5319</td>\n",
       "      <td>6366</td>\n",
       "      <td>7015</td>\n",
       "    </tr>\n",
       "    <tr>\n",
       "      <th>한투</th>\n",
       "      <td>1794</td>\n",
       "      <td>2063</td>\n",
       "      <td>2262</td>\n",
       "      <td>4053</td>\n",
       "      <td>7323</td>\n",
       "    </tr>\n",
       "    <tr>\n",
       "      <th>기타</th>\n",
       "      <td>16244</td>\n",
       "      <td>19268</td>\n",
       "      <td>23137</td>\n",
       "      <td>28381</td>\n",
       "      <td>34261</td>\n",
       "    </tr>\n",
       "    <tr>\n",
       "      <th>전체</th>\n",
       "      <td>37133</td>\n",
       "      <td>42864</td>\n",
       "      <td>52878</td>\n",
       "      <td>66975</td>\n",
       "      <td>84096</td>\n",
       "    </tr>\n",
       "  </tbody>\n",
       "</table>\n",
       "</div>"
      ],
      "text/plain": [
       "      2017 1Q  2017 2Q  2017 3Q  2017 4Q  2018 1Q\n",
       "구분                                               \n",
       "미래에셋     4749     5712     7466     9463    12096\n",
       "KB       5140     5272     5826     7030     8597\n",
       "삼성       3553     4377     5316     6842    10476\n",
       "신영       2459     3060     3549     4094     4328\n",
       "NH       3195     3113     5319     6366     7015\n",
       "한투       1794     2063     2262     4053     7323\n",
       "기타      16244    19268    23137    28381    34261\n",
       "전체      37133    42864    52878    66975    84096"
      ]
     },
     "execution_count": 54,
     "metadata": {},
     "output_type": "execute_result"
    }
   ],
   "source": [
    "fund_2.set_index('구분', inplace = True)\n",
    "fund_2"
   ]
  },
  {
   "cell_type": "code",
   "execution_count": 56,
   "metadata": {},
   "outputs": [
    {
     "data": {
      "text/html": [
       "<div>\n",
       "<style scoped>\n",
       "    .dataframe tbody tr th:only-of-type {\n",
       "        vertical-align: middle;\n",
       "    }\n",
       "\n",
       "    .dataframe tbody tr th {\n",
       "        vertical-align: top;\n",
       "    }\n",
       "\n",
       "    .dataframe thead th {\n",
       "        text-align: right;\n",
       "    }\n",
       "</style>\n",
       "<table border=\"1\" class=\"dataframe\">\n",
       "  <thead>\n",
       "    <tr style=\"text-align: right;\">\n",
       "      <th></th>\n",
       "      <th>2018 6월</th>\n",
       "    </tr>\n",
       "    <tr>\n",
       "      <th>구분</th>\n",
       "      <th></th>\n",
       "    </tr>\n",
       "  </thead>\n",
       "  <tbody>\n",
       "    <tr>\n",
       "      <th>KB</th>\n",
       "      <td>9029.11</td>\n",
       "    </tr>\n",
       "    <tr>\n",
       "      <th>NH</th>\n",
       "      <td>7047.08</td>\n",
       "    </tr>\n",
       "    <tr>\n",
       "      <th>기타</th>\n",
       "      <td>37633.93</td>\n",
       "    </tr>\n",
       "    <tr>\n",
       "      <th>미래에셋</th>\n",
       "      <td>12062.57</td>\n",
       "    </tr>\n",
       "    <tr>\n",
       "      <th>삼성</th>\n",
       "      <td>9688.68</td>\n",
       "    </tr>\n",
       "    <tr>\n",
       "      <th>신영</th>\n",
       "      <td>4337.29</td>\n",
       "    </tr>\n",
       "    <tr>\n",
       "      <th>한투</th>\n",
       "      <td>7021.68</td>\n",
       "    </tr>\n",
       "    <tr>\n",
       "      <th>전체</th>\n",
       "      <td>86820.34</td>\n",
       "    </tr>\n",
       "  </tbody>\n",
       "</table>\n",
       "</div>"
      ],
      "text/plain": [
       "       2018 6월\n",
       "구분            \n",
       "KB     9029.11\n",
       "NH     7047.08\n",
       "기타    37633.93\n",
       "미래에셋  12062.57\n",
       "삼성     9688.68\n",
       "신영     4337.29\n",
       "한투     7021.68\n",
       "전체    86820.34"
      ]
     },
     "execution_count": 56,
     "metadata": {},
     "output_type": "execute_result"
    }
   ],
   "source": [
    "fund_result.columns = ['구분', '2018 6월']\n",
    "fund_result.set_index('구분', inplace = True)\n",
    "fund_result"
   ]
  },
  {
   "cell_type": "code",
   "execution_count": 59,
   "metadata": {},
   "outputs": [
    {
     "data": {
      "text/html": [
       "<div>\n",
       "<style scoped>\n",
       "    .dataframe tbody tr th:only-of-type {\n",
       "        vertical-align: middle;\n",
       "    }\n",
       "\n",
       "    .dataframe tbody tr th {\n",
       "        vertical-align: top;\n",
       "    }\n",
       "\n",
       "    .dataframe thead th {\n",
       "        text-align: right;\n",
       "    }\n",
       "</style>\n",
       "<table border=\"1\" class=\"dataframe\">\n",
       "  <thead>\n",
       "    <tr style=\"text-align: right;\">\n",
       "      <th></th>\n",
       "      <th>2017 1Q</th>\n",
       "      <th>2017 2Q</th>\n",
       "      <th>2017 3Q</th>\n",
       "      <th>2017 4Q</th>\n",
       "      <th>2018 1Q</th>\n",
       "      <th>2018 6월</th>\n",
       "    </tr>\n",
       "    <tr>\n",
       "      <th>구분</th>\n",
       "      <th></th>\n",
       "      <th></th>\n",
       "      <th></th>\n",
       "      <th></th>\n",
       "      <th></th>\n",
       "      <th></th>\n",
       "    </tr>\n",
       "  </thead>\n",
       "  <tbody>\n",
       "    <tr>\n",
       "      <th>미래에셋</th>\n",
       "      <td>4749</td>\n",
       "      <td>5712</td>\n",
       "      <td>7466</td>\n",
       "      <td>9463</td>\n",
       "      <td>12096</td>\n",
       "      <td>12062.57</td>\n",
       "    </tr>\n",
       "    <tr>\n",
       "      <th>KB</th>\n",
       "      <td>5140</td>\n",
       "      <td>5272</td>\n",
       "      <td>5826</td>\n",
       "      <td>7030</td>\n",
       "      <td>8597</td>\n",
       "      <td>9029.11</td>\n",
       "    </tr>\n",
       "    <tr>\n",
       "      <th>삼성</th>\n",
       "      <td>3553</td>\n",
       "      <td>4377</td>\n",
       "      <td>5316</td>\n",
       "      <td>6842</td>\n",
       "      <td>10476</td>\n",
       "      <td>9688.68</td>\n",
       "    </tr>\n",
       "    <tr>\n",
       "      <th>신영</th>\n",
       "      <td>2459</td>\n",
       "      <td>3060</td>\n",
       "      <td>3549</td>\n",
       "      <td>4094</td>\n",
       "      <td>4328</td>\n",
       "      <td>4337.29</td>\n",
       "    </tr>\n",
       "    <tr>\n",
       "      <th>NH</th>\n",
       "      <td>3195</td>\n",
       "      <td>3113</td>\n",
       "      <td>5319</td>\n",
       "      <td>6366</td>\n",
       "      <td>7015</td>\n",
       "      <td>7047.08</td>\n",
       "    </tr>\n",
       "    <tr>\n",
       "      <th>한투</th>\n",
       "      <td>1794</td>\n",
       "      <td>2063</td>\n",
       "      <td>2262</td>\n",
       "      <td>4053</td>\n",
       "      <td>7323</td>\n",
       "      <td>7021.68</td>\n",
       "    </tr>\n",
       "    <tr>\n",
       "      <th>기타</th>\n",
       "      <td>16244</td>\n",
       "      <td>19268</td>\n",
       "      <td>23137</td>\n",
       "      <td>28381</td>\n",
       "      <td>34261</td>\n",
       "      <td>37633.93</td>\n",
       "    </tr>\n",
       "    <tr>\n",
       "      <th>전체</th>\n",
       "      <td>37133</td>\n",
       "      <td>42864</td>\n",
       "      <td>52878</td>\n",
       "      <td>66975</td>\n",
       "      <td>84096</td>\n",
       "      <td>86820.34</td>\n",
       "    </tr>\n",
       "  </tbody>\n",
       "</table>\n",
       "</div>"
      ],
      "text/plain": [
       "      2017 1Q  2017 2Q  2017 3Q  2017 4Q  2018 1Q   2018 6월\n",
       "구분                                                         \n",
       "미래에셋     4749     5712     7466     9463    12096  12062.57\n",
       "KB       5140     5272     5826     7030     8597   9029.11\n",
       "삼성       3553     4377     5316     6842    10476   9688.68\n",
       "신영       2459     3060     3549     4094     4328   4337.29\n",
       "NH       3195     3113     5319     6366     7015   7047.08\n",
       "한투       1794     2063     2262     4053     7323   7021.68\n",
       "기타      16244    19268    23137    28381    34261  37633.93\n",
       "전체      37133    42864    52878    66975    84096  86820.34"
      ]
     },
     "execution_count": 59,
     "metadata": {},
     "output_type": "execute_result"
    }
   ],
   "source": [
    "fund_2.join(fund_result, how = 'inner')"
   ]
  },
  {
   "cell_type": "markdown",
   "metadata": {},
   "source": [
    "* 운용회사 그래프 그리기"
   ]
  },
  {
   "cell_type": "code",
   "execution_count": 63,
   "metadata": {},
   "outputs": [
    {
     "data": {
      "text/plain": [
       "<AxesSubplot:>"
      ]
     },
     "execution_count": 63,
     "metadata": {},
     "output_type": "execute_result"
    },
    {
     "data": {
      "image/png": "[encoded data removed]",
      "text/plain": [
       "<Figure size 432x288 with 1 Axes>"
      ]
     },
     "metadata": {
      "needs_background": "light"
     },
     "output_type": "display_data"
    }
   ],
   "source": [
    "#방법1\n",
    "mission2 = fund_2.join(fund_result, how = 'inner')\n",
    "mission21 = mission2.drop(['전체', '기타'])\n",
    "mission21.T.plot()"
   ]
  },
  {
   "cell_type": "code",
   "execution_count": null,
   "metadata": {},
   "outputs": [],
   "source": [
    "#방법2\n"
   ]
  }
 ],
 "metadata": {
  "kernelspec": {
   "display_name": "Python 3",
   "language": "python",
   "name": "python3"
  },
  "language_info": {
   "codemirror_mode": {
    "name": "ipython",
    "version": 3
   },
   "file_extension": ".py",
   "mimetype": "text/x-python",
   "name": "python",
   "nbconvert_exporter": "python",
   "pygments_lexer": "ipython3",
   "version": "3.7.10"
  }
 },
 "nbformat": 4,
 "nbformat_minor": 2
}
