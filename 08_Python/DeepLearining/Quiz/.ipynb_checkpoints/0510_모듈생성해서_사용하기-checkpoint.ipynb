{
 "cells": [
  {
   "cell_type": "code",
   "execution_count": 3,
   "id": "efd6b2d7",
   "metadata": {},
   "outputs": [],
   "source": [
    "#내가 만든 beautiful.py 함수를 불러와 사용가능\n",
    "import beautiful as bs"
   ]
  },
  {
   "cell_type": "code",
   "execution_count": 5,
   "id": "42d77066",
   "metadata": {},
   "outputs": [
    {
     "name": "stdout",
     "output_type": "stream",
     "text": [
      "test\n"
     ]
    }
   ],
   "source": [
    "bs.aaa()"
   ]
  },
  {
   "cell_type": "code",
   "execution_count": null,
   "id": "bd486d84",
   "metadata": {},
   "outputs": [],
   "source": []
  }
 ],
 "metadata": {
  "kernelspec": {
   "display_name": "Python 3",
   "language": "python",
   "name": "python3"
  },
  "language_info": {
   "codemirror_mode": {
    "name": "ipython",
    "version": 3
   },
   "file_extension": ".py",
   "mimetype": "text/x-python",
   "name": "python",
   "nbconvert_exporter": "python",
   "pygments_lexer": "ipython3",
   "version": "3.7.10"
  }
 },
 "nbformat": 4,
 "nbformat_minor": 5
}
