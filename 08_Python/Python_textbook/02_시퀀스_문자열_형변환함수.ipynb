{
 "cells": [
  {
   "cell_type": "code",
   "execution_count": 3,
   "metadata": {},
   "outputs": [
    {
     "name": "stdout",
     "output_type": "stream",
     "text": [
      "i\n",
      "!\n"
     ]
    }
   ],
   "source": [
    "strdata = 'Time is money!!'\n",
    "print(strdata[5])\n",
    "print(strdata[-2])"
   ]
  },
  {
   "cell_type": "code",
   "execution_count": 7,
   "metadata": {},
   "outputs": [
    {
     "name": "stdout",
     "output_type": "stream",
     "text": [
      "!\n"
     ]
    },
    {
     "data": {
      "text/plain": [
       "'T'"
      ]
     },
     "execution_count": 7,
     "metadata": {},
     "output_type": "execute_result"
    }
   ],
   "source": [
    "print(strdata[-1])\n",
    "strdata[0]"
   ]
  },
  {
   "cell_type": "code",
   "execution_count": 12,
   "metadata": {},
   "outputs": [
    {
     "name": "stdout",
     "output_type": "stream",
     "text": [
      "1\n"
     ]
    }
   ],
   "source": [
    "listdata = [1,2,[1,2,3]]\n",
    "print(listdata[0])"
   ]
  },
  {
   "cell_type": "code",
   "execution_count": 13,
   "metadata": {},
   "outputs": [
    {
     "data": {
      "text/plain": [
       "[1, 2, 3]"
      ]
     },
     "execution_count": 13,
     "metadata": {},
     "output_type": "execute_result"
    }
   ],
   "source": [
    "listdata[-1]"
   ]
  },
  {
   "cell_type": "code",
   "execution_count": 14,
   "metadata": {},
   "outputs": [
    {
     "data": {
      "text/plain": [
       "3"
      ]
     },
     "execution_count": 14,
     "metadata": {},
     "output_type": "execute_result"
    }
   ],
   "source": [
    "listdata[2][-1]"
   ]
  },
  {
   "cell_type": "code",
   "execution_count": 22,
   "metadata": {},
   "outputs": [
    {
     "data": {
      "text/plain": [
       "'ime '"
      ]
     },
     "execution_count": 22,
     "metadata": {},
     "output_type": "execute_result"
    }
   ],
   "source": [
    "strdata[1:5]"
   ]
  },
  {
   "cell_type": "code",
   "execution_count": 23,
   "metadata": {},
   "outputs": [
    {
     "data": {
      "text/plain": [
       "'Time is'"
      ]
     },
     "execution_count": 23,
     "metadata": {},
     "output_type": "execute_result"
    }
   ],
   "source": [
    "strdata[:7]"
   ]
  },
  {
   "cell_type": "code",
   "execution_count": 24,
   "metadata": {},
   "outputs": [
    {
     "data": {
      "text/plain": [
       "'oney!!'"
      ]
     },
     "execution_count": 24,
     "metadata": {},
     "output_type": "execute_result"
    }
   ],
   "source": [
    "strdata[9:]"
   ]
  },
  {
   "cell_type": "code",
   "execution_count": 25,
   "metadata": {},
   "outputs": [
    {
     "data": {
      "text/plain": [
       "'Time is mone'"
      ]
     },
     "execution_count": 25,
     "metadata": {},
     "output_type": "execute_result"
    }
   ],
   "source": [
    "strdata[:-3]"
   ]
  },
  {
   "cell_type": "code",
   "execution_count": 27,
   "metadata": {},
   "outputs": [
    {
     "data": {
      "text/plain": [
       "'y!!'"
      ]
     },
     "execution_count": 27,
     "metadata": {},
     "output_type": "execute_result"
    }
   ],
   "source": [
    "strdata[-3:]"
   ]
  },
  {
   "cell_type": "code",
   "execution_count": 28,
   "metadata": {},
   "outputs": [
    {
     "data": {
      "text/plain": [
       "'Time is money!!'"
      ]
     },
     "execution_count": 28,
     "metadata": {},
     "output_type": "execute_result"
    }
   ],
   "source": [
    "strdata[:]"
   ]
  },
  {
   "cell_type": "code",
   "execution_count": 29,
   "metadata": {},
   "outputs": [
    {
     "data": {
      "text/plain": [
       "'Tm smny!'"
      ]
     },
     "execution_count": 29,
     "metadata": {},
     "output_type": "execute_result"
    }
   ],
   "source": [
    "strdata[::2]"
   ]
  },
  {
   "cell_type": "code",
   "execution_count": 30,
   "metadata": {},
   "outputs": [
    {
     "name": "stdout",
     "output_type": "stream",
     "text": [
      "I love Python\n",
      "I love you\n",
      "[1, 2, 3, 4, 5, 6]\n"
     ]
    }
   ],
   "source": [
    "strdata1 = 'I love '; strdata2 = 'Python'; strdata3 = 'you'\n",
    "print(strdata1 + strdata2)     # ‘I love Python’이 출력됨\n",
    "print(strdata1 + strdata3)     # ‘I love you’가 출력됨\n",
    "\n",
    "listdata1 = [1, 2, 3]; listdata2 = [4, 5, 6]\n",
    "print(listdata1 + listdata2)    # [1, 2, 3, 4, 5, 6]이 출력됨"
   ]
  },
  {
   "cell_type": "code",
   "execution_count": 33,
   "metadata": {},
   "outputs": [
    {
     "data": {
      "text/plain": [
       "'빅뱅이 부르는 뱅~뱅~뱅~'"
      ]
     },
     "execution_count": 33,
     "metadata": {},
     "output_type": "execute_result"
    }
   ],
   "source": [
    "artist = '빅뱅'\n",
    "sing = '뱅~'\n",
    "dispdata = artist + '이 부르는 ' + sing*3\n",
    "dispdata"
   ]
  },
  {
   "cell_type": "code",
   "execution_count": 46,
   "metadata": {},
   "outputs": [
    {
     "data": {
      "text/plain": [
       "13"
      ]
     },
     "execution_count": 46,
     "metadata": {},
     "output_type": "execute_result"
    }
   ],
   "source": [
    "strdata1 = 'I love python'\n",
    "strdata2 = '나는 파이썬을 사랑합니다'\n",
    "listdata = ['a', 'b', 'c', strdata1, strdata2]\n",
    "len(strdata1)"
   ]
  },
  {
   "cell_type": "code",
   "execution_count": 37,
   "metadata": {},
   "outputs": [
    {
     "data": {
      "text/plain": [
       "13"
      ]
     },
     "execution_count": 37,
     "metadata": {},
     "output_type": "execute_result"
    }
   ],
   "source": [
    "len(strdata2)"
   ]
  },
  {
   "cell_type": "code",
   "execution_count": 38,
   "metadata": {},
   "outputs": [
    {
     "data": {
      "text/plain": [
       "5"
      ]
     },
     "execution_count": 38,
     "metadata": {},
     "output_type": "execute_result"
    }
   ],
   "source": [
    "len(listdata)"
   ]
  },
  {
   "cell_type": "code",
   "execution_count": 39,
   "metadata": {},
   "outputs": [
    {
     "data": {
      "text/plain": [
       "13"
      ]
     },
     "execution_count": 39,
     "metadata": {},
     "output_type": "execute_result"
    }
   ],
   "source": [
    "len(listdata[3])"
   ]
  },
  {
   "cell_type": "code",
   "execution_count": 40,
   "metadata": {},
   "outputs": [
    {
     "name": "stdout",
     "output_type": "stream",
     "text": [
      "I love python\n"
     ]
    }
   ],
   "source": [
    "print(listdata[3])"
   ]
  },
  {
   "cell_type": "code",
   "execution_count": 41,
   "metadata": {},
   "outputs": [
    {
     "data": {
      "text/plain": [
       "False"
      ]
     },
     "execution_count": 41,
     "metadata": {},
     "output_type": "execute_result"
    }
   ],
   "source": [
    "listdata =[1, 2, 3, 4]\n",
    "5 in listdata  "
   ]
  },
  {
   "cell_type": "code",
   "execution_count": 42,
   "metadata": {},
   "outputs": [
    {
     "data": {
      "text/plain": [
       "True"
      ]
     },
     "execution_count": 42,
     "metadata": {},
     "output_type": "execute_result"
    }
   ],
   "source": [
    "4 in listdata"
   ]
  },
  {
   "cell_type": "code",
   "execution_count": 44,
   "metadata": {},
   "outputs": [
    {
     "data": {
      "text/plain": [
       "True"
      ]
     },
     "execution_count": 44,
     "metadata": {},
     "output_type": "execute_result"
    }
   ],
   "source": [
    "strdata = 'abcde'\n",
    "'c' in strdata"
   ]
  },
  {
   "cell_type": "code",
   "execution_count": 45,
   "metadata": {},
   "outputs": [
    {
     "data": {
      "text/plain": [
       "False"
      ]
     },
     "execution_count": 45,
     "metadata": {},
     "output_type": "execute_result"
    }
   ],
   "source": [
    "'l' in strdata"
   ]
  },
  {
   "cell_type": "code",
   "execution_count": 47,
   "metadata": {},
   "outputs": [
    {
     "data": {
      "text/plain": [
       "'안녕하세요'"
      ]
     },
     "execution_count": 47,
     "metadata": {},
     "output_type": "execute_result"
    }
   ],
   "source": [
    "'안녕하세요'"
   ]
  },
  {
   "cell_type": "code",
   "execution_count": 48,
   "metadata": {},
   "outputs": [
    {
     "data": {
      "text/plain": [
       "'안녕하세요'"
      ]
     },
     "execution_count": 48,
     "metadata": {},
     "output_type": "execute_result"
    }
   ],
   "source": [
    "\"안녕하세요\""
   ]
  },
  {
   "cell_type": "code",
   "execution_count": 51,
   "metadata": {},
   "outputs": [
    {
     "name": "stdout",
     "output_type": "stream",
     "text": [
      "\n",
      "안녕하세요\n",
      "반갑습니다\n",
      "다시봅시다\n",
      "\n"
     ]
    }
   ],
   "source": [
    "print('''\n",
    "안녕하세요\n",
    "반갑습니다\n",
    "다시봅시다\n",
    "''')"
   ]
  },
  {
   "cell_type": "code",
   "execution_count": 52,
   "metadata": {},
   "outputs": [
    {
     "data": {
      "text/plain": [
       "'\\n안녕하세요\\n반갑습니다\\n다시봅시다\\n'"
      ]
     },
     "execution_count": 52,
     "metadata": {},
     "output_type": "execute_result"
    }
   ],
   "source": [
    "'''\n",
    "안녕하세요\n",
    "반갑습니다\n",
    "다시봅시다\n",
    "'''"
   ]
  },
  {
   "cell_type": "code",
   "execution_count": 57,
   "metadata": {},
   "outputs": [
    {
     "name": "stdout",
     "output_type": "stream",
     "text": [
      "안녕하세요\n",
      "반갑습니다\n",
      "다시봅시다\n",
      "\n"
     ]
    }
   ],
   "source": [
    "print('안녕하세요\\n'\n",
    "      '반갑습니다\\n'\n",
    "      '다시봅시다\\n')"
   ]
  },
  {
   "cell_type": "code",
   "execution_count": 58,
   "metadata": {},
   "outputs": [
    {
     "data": {
      "text/plain": [
       "'다시봅시다Wn'"
      ]
     },
     "execution_count": 58,
     "metadata": {},
     "output_type": "execute_result"
    }
   ],
   "source": [
    "'안녕하세요Wn'\n",
    "'반갑습니다Wn'\n",
    "'다시봅시다Wn'"
   ]
  },
  {
   "cell_type": "code",
   "execution_count": 59,
   "metadata": {},
   "outputs": [
    {
     "name": "stdout",
     "output_type": "stream",
     "text": [
      "안녕하세요 \"홍길동\" 입니다.\n"
     ]
    }
   ],
   "source": [
    "print('안녕하세요 \"홍길동\" 입니다.')"
   ]
  },
  {
   "cell_type": "code",
   "execution_count": 60,
   "metadata": {},
   "outputs": [
    {
     "name": "stdout",
     "output_type": "stream",
     "text": [
      "안녕하세요 '홍길동' 입니다. \n"
     ]
    }
   ],
   "source": [
    "print(\"안녕하세요 '홍길동' 입니다. \")"
   ]
  },
  {
   "cell_type": "code",
   "execution_count": 61,
   "metadata": {},
   "outputs": [
    {
     "name": "stdout",
     "output_type": "stream",
     "text": [
      "안녕하세요 \"홍길동\" 입니다.\n"
     ]
    }
   ],
   "source": [
    "print(\"안녕하세요 \\\"홍길동\\\" 입니다.\")"
   ]
  },
  {
   "cell_type": "code",
   "execution_count": 62,
   "metadata": {},
   "outputs": [
    {
     "name": "stdout",
     "output_type": "stream",
     "text": [
      "안녕하세요 '홍길동' 입니다.\n"
     ]
    }
   ],
   "source": [
    "print('안녕하세요 \\'홍길동\\' 입니다.')"
   ]
  },
  {
   "cell_type": "code",
   "execution_count": 63,
   "metadata": {},
   "outputs": [
    {
     "name": "stdout",
     "output_type": "stream",
     "text": [
      "Python is the best language ever\n",
      "         python is the best language ever         \n",
      "---------python is the best language ever---------\n",
      "2\n",
      "2\n"
     ]
    }
   ],
   "source": [
    "# 문자열 메소드 사용하기\n",
    "our_string='python is the best language ever'\n",
    "\n",
    "# 문자열의 첫 글자를 대문자로\n",
    "print(our_string.capitalize())\n",
    "\n",
    "# 가운데 정렬\n",
    "print(our_string.center(50))\n",
    "print(our_string.center(50,'-'))\n",
    "\n",
    "# 문자열 내에서 부분문자열 세기\n",
    "print(our_string.count('a'))\n",
    "\n",
    "# 부분문자열 발생 횟수 세기\n",
    "state = 'Mississippi'\n",
    "print(state.count('ss'))"
   ]
  },
  {
   "cell_type": "code",
   "execution_count": 64,
   "metadata": {},
   "outputs": [
    {
     "name": "stdout",
     "output_type": "stream",
     "text": [
      "('Hello, my\\xa0', 'n', 'ame is Josh')\n",
      "['He', '', 'o, my\\xa0name is Josh']\n",
      "['He', 'lo, my\\xa0name is Josh']\n",
      "['He', '', 'o, my\\xa0name is Josh']\n"
     ]
    }
   ],
   "source": [
    "# 문자열을 분할(partition)하면, 분리자의 앞 부분, 분리자,\n",
    "# 그리고, 그 분리자의뒷 부분의 세 원소로 이루어진 튜플을 반환\n",
    "x = \"Hello, my name is Josh\"\n",
    "print(x.partition('n'))\n",
    "\n",
    "# 위와 똑같은 x가 있다고 할 때,\n",
    "# 'l'을 분리자로 하여 문자열을 쪼개기(split)\n",
    "print(x.split('l'))\n",
    "\n",
    "# 보는 바와 같이 분리자는 반환되는 목록에 포함되지 않는다.\n",
    "# maxsplits 값을 1로 하여 추가하게 되면, 가장 왼쪽부터 쪼개기가 이루어진다.\n",
    "# maxsplits 값을 2로 주면, 가장 왼쪽 두 개의 쪼개기가 이루어진다.\n",
    "print(x.split('l',1))\n",
    "print(x.split('l',2))"
   ]
  },
  {
   "cell_type": "code",
   "execution_count": 67,
   "metadata": {},
   "outputs": [
    {
     "name": "stdout",
     "output_type": "stream",
     "text": [
      "나는 자바보다 파이썬에 더 익숙합니다.\n",
      "파이썬은 자바보다 5배 더 쉽습니다.\n",
      "5 + 10 = 15\n",
      "작년 세계 경제 성장률은 전년에 비해 5% 포인트 증가했다.\n",
      "12.35%\n",
      "12.35%\n",
      " 12.3%\n"
     ]
    }
   ],
   "source": [
    "txt1 = '자바';txt2='파이썬'\n",
    "num1= 5; num2=10\n",
    "\n",
    "print('나는 %s보다 %s에 더 익숙합니다.' %(txt1, txt2))\n",
    "print('%s은 %s보다 %d배 더 쉽습니다.' %(txt2, txt1, num1))\n",
    "print('%d + %d = %d' %(num1, num2, num1+num2))\n",
    "print('작년 세계 경제 성장률은 전년에 비해 %d%% 포인트 증가했다.' %num1)\n",
    "\n",
    "# 전체 자리수.소수 자리수f, 전체 자리수에 소수 자리수가 포함됨, 반올림 안됨\n",
    "no3 = 12.35\n",
    "print('%3.2f%%' % no3)\n",
    "print('%5.2f%%' % no3)\n",
    "print('%5.1f%%' % no3)"
   ]
  },
  {
   "cell_type": "code",
   "execution_count": 5,
   "metadata": {},
   "outputs": [
    {
     "name": "stdout",
     "output_type": "stream",
     "text": [
      "진행률 100%"
     ]
    }
   ],
   "source": [
    "from time import sleep\n",
    "\n",
    "for i in range(100):\n",
    "    msg = \"\\r진행률 %2d%%\" %(100-i-1)\n",
    "    print(msg, end='')\n",
    "    sleep(0.1) # 0.1초동안 중지됨\n",
    "    \n",
    "for i in range(100):\n",
    "    msg = \"\\r진행률 %2d%%\" %(0+i+1)\n",
    "    print(msg, end='')\n",
    "    sleep(0.1)"
   ]
  },
  {
   "cell_type": "code",
   "execution_count": 1,
   "metadata": {},
   "outputs": [
    {
     "name": "stdout",
     "output_type": "stream",
     "text": [
      "이 문장은 화면폭에 비해 너무 길어 보기가 힘듭니다. 그래서 \\Enter키를 이용해 문장을 다음줄과 연속되도록 했습니다.\n"
     ]
    }
   ],
   "source": [
    "print('이 문장은 화면폭에 비해 너무 길어 보기가 힘듭니다. \\\n",
    "그래서 \\\\Enter키를 이용해 문장을 다음줄과 연속되도록 했습니다.')"
   ]
  },
  {
   "cell_type": "code",
   "execution_count": 6,
   "metadata": {},
   "outputs": [
    {
     "name": "stdout",
     "output_type": "stream",
     "text": [
      "이 문장은 화면폭에 비해 너무 길어 보기가 힘듭니다. \n",
      "그래서 \\Enter키를 이용해 문장을 다음줄과 연속되도록 했습니다.\n"
     ]
    }
   ],
   "source": [
    "print('''이 문장은 화면폭에 비해 너무 길어 보기가 힘듭니다. \n",
    "그래서 \\\\Enter키를 이용해 문장을 다음줄과 연속되도록 했습니다.''')"
   ]
  },
  {
   "cell_type": "code",
   "execution_count": 8,
   "metadata": {},
   "outputs": [
    {
     "name": "stdout",
     "output_type": "stream",
     "text": [
      "나는 파이썬을 사랑합니다.\n",
      "파이썬은 자바보다 훨씬 쉽습니다.\n",
      "Name: John Smith\tgender: Male\tAge: 22\n",
      "작은따옴표(')와 큰 따옴표(\")는 문자열을 정의할 때 사용합니다.\n"
     ]
    }
   ],
   "source": [
    "print('나는 파이썬을 사랑합니다.\\n파이썬은 자바보다 훨씬 쉽습니다.')\n",
    "print('Name: John Smith\\tgender: Male\\tAge: 22')\n",
    "print('작은따옴표(\\')와 큰 따옴표(\")는 문자열을 정의할 때 사용합니다.')"
   ]
  },
  {
   "cell_type": "code",
   "execution_count": 13,
   "metadata": {},
   "outputs": [
    {
     "name": "stdout",
     "output_type": "stream",
     "text": [
      "임의의 문장을 입력하세요:My name is\n"
     ]
    }
   ],
   "source": [
    "msg = input('임의의 문장을 입력하세요:')"
   ]
  },
  {
   "cell_type": "code",
   "execution_count": 14,
   "metadata": {},
   "outputs": [
    {
     "name": "stdout",
     "output_type": "stream",
     "text": [
      "당신이 입력한 문장에는 is가 있습니다.\n"
     ]
    }
   ],
   "source": [
    "if 'is' in msg:\n",
    "    print('당신이 입력한 문장에는 is가 있습니다.')\n",
    "else:\n",
    "    print('당신이 입력한 문장에는 is가 없습니다.')"
   ]
  },
  {
   "cell_type": "code",
   "execution_count": 15,
   "metadata": {},
   "outputs": [],
   "source": [
    "txt = 'A lot of things occur each day, every day.'"
   ]
  },
  {
   "cell_type": "code",
   "execution_count": 16,
   "metadata": {},
   "outputs": [
    {
     "name": "stdout",
     "output_type": "stream",
     "text": [
      "3\n"
     ]
    }
   ],
   "source": [
    "print(txt.count('o'))"
   ]
  },
  {
   "cell_type": "code",
   "execution_count": 17,
   "metadata": {},
   "outputs": [
    {
     "name": "stdout",
     "output_type": "stream",
     "text": [
      "2\n"
     ]
    }
   ],
   "source": [
    "print(txt.count('day'))"
   ]
  },
  {
   "cell_type": "code",
   "execution_count": 19,
   "metadata": {},
   "outputs": [
    {
     "name": "stdout",
     "output_type": "stream",
     "text": [
      "8\n"
     ]
    }
   ],
   "source": [
    "print(txt.count(' '))"
   ]
  },
  {
   "cell_type": "code",
   "execution_count": 20,
   "metadata": {},
   "outputs": [],
   "source": [
    "txt1 = 'A'\n",
    "txt2 = '안녕'\n",
    "txt3 = 'Warcraft Three'\n",
    "txt4 = '3PO'"
   ]
  },
  {
   "cell_type": "code",
   "execution_count": 23,
   "metadata": {},
   "outputs": [
    {
     "name": "stdout",
     "output_type": "stream",
     "text": [
      "True\n"
     ]
    }
   ],
   "source": [
    "print(txt1.isalpha())"
   ]
  },
  {
   "cell_type": "code",
   "execution_count": 25,
   "metadata": {},
   "outputs": [
    {
     "name": "stdout",
     "output_type": "stream",
     "text": [
      "True\n"
     ]
    }
   ],
   "source": [
    "print(txt2.isalpha())"
   ]
  },
  {
   "cell_type": "code",
   "execution_count": 26,
   "metadata": {},
   "outputs": [
    {
     "name": "stdout",
     "output_type": "stream",
     "text": [
      "False\n"
     ]
    }
   ],
   "source": [
    "print(txt3.isalpha())"
   ]
  },
  {
   "cell_type": "code",
   "execution_count": 27,
   "metadata": {},
   "outputs": [],
   "source": [
    "txt1 = '010-1234-5678'\n",
    "txt2 = 'R2D2'\n",
    "txt3 = '1212'"
   ]
  },
  {
   "cell_type": "code",
   "execution_count": 29,
   "metadata": {},
   "outputs": [
    {
     "name": "stdout",
     "output_type": "stream",
     "text": [
      "False\n"
     ]
    }
   ],
   "source": [
    "print(txt1.isdigit())"
   ]
  },
  {
   "cell_type": "code",
   "execution_count": 30,
   "metadata": {},
   "outputs": [
    {
     "name": "stdout",
     "output_type": "stream",
     "text": [
      "False\n"
     ]
    }
   ],
   "source": [
    "print(txt2.isdigit())"
   ]
  },
  {
   "cell_type": "code",
   "execution_count": 31,
   "metadata": {},
   "outputs": [
    {
     "name": "stdout",
     "output_type": "stream",
     "text": [
      "True\n"
     ]
    }
   ],
   "source": [
    "print(txt3.isdigit())"
   ]
  },
  {
   "cell_type": "code",
   "execution_count": 32,
   "metadata": {},
   "outputs": [],
   "source": [
    "txt1 = '안녕하세요?'\n",
    "txt2 = '1. Title-제목을 넣으세요'\n",
    "txt3 = '3피오R2D2'"
   ]
  },
  {
   "cell_type": "code",
   "execution_count": 34,
   "metadata": {},
   "outputs": [
    {
     "data": {
      "text/plain": [
       "False"
      ]
     },
     "execution_count": 34,
     "metadata": {},
     "output_type": "execute_result"
    }
   ],
   "source": [
    "txt1.isalpha()"
   ]
  },
  {
   "cell_type": "code",
   "execution_count": 35,
   "metadata": {},
   "outputs": [
    {
     "data": {
      "text/plain": [
       "False"
      ]
     },
     "execution_count": 35,
     "metadata": {},
     "output_type": "execute_result"
    }
   ],
   "source": [
    "txt2.isalnum()"
   ]
  },
  {
   "cell_type": "code",
   "execution_count": 36,
   "metadata": {},
   "outputs": [
    {
     "data": {
      "text/plain": [
       "True"
      ]
     },
     "execution_count": 36,
     "metadata": {},
     "output_type": "execute_result"
    }
   ],
   "source": [
    "txt3.isalnum()"
   ]
  },
  {
   "cell_type": "code",
   "execution_count": 37,
   "metadata": {},
   "outputs": [],
   "source": [
    "txt = 'A lot of Things occur each day.'"
   ]
  },
  {
   "cell_type": "code",
   "execution_count": 38,
   "metadata": {},
   "outputs": [
    {
     "data": {
      "text/plain": [
       "'A LOT OF THINGS OCCUR EACH DAY.'"
      ]
     },
     "execution_count": 38,
     "metadata": {},
     "output_type": "execute_result"
    }
   ],
   "source": [
    "txt.upper()"
   ]
  },
  {
   "cell_type": "code",
   "execution_count": 39,
   "metadata": {},
   "outputs": [
    {
     "data": {
      "text/plain": [
       "'a lot of things occur each day.'"
      ]
     },
     "execution_count": 39,
     "metadata": {},
     "output_type": "execute_result"
    }
   ],
   "source": [
    "txt.lower()"
   ]
  },
  {
   "cell_type": "code",
   "execution_count": 40,
   "metadata": {},
   "outputs": [],
   "source": [
    "txt = '   양쪽에 공백이 있는 문자열입니다.   '"
   ]
  },
  {
   "cell_type": "code",
   "execution_count": 41,
   "metadata": {},
   "outputs": [
    {
     "name": "stdout",
     "output_type": "stream",
     "text": [
      "<   양쪽에 공백이 있는 문자열입니다.   >\n"
     ]
    }
   ],
   "source": [
    "print('<'+txt+'>')"
   ]
  },
  {
   "cell_type": "code",
   "execution_count": 42,
   "metadata": {},
   "outputs": [
    {
     "name": "stdout",
     "output_type": "stream",
     "text": [
      "<양쪽에 공백이 있는 문자열입니다.   >\n"
     ]
    }
   ],
   "source": [
    "print('<'+txt.lstrip()+'>')"
   ]
  },
  {
   "cell_type": "code",
   "execution_count": 44,
   "metadata": {},
   "outputs": [
    {
     "name": "stdout",
     "output_type": "stream",
     "text": [
      "<   양쪽에 공백이 있는 문자열입니다.>\n"
     ]
    }
   ],
   "source": [
    "print('<'+txt.rstrip()+'>')"
   ]
  },
  {
   "cell_type": "code",
   "execution_count": 45,
   "metadata": {},
   "outputs": [
    {
     "name": "stdout",
     "output_type": "stream",
     "text": [
      "<양쪽에 공백이 있는 문자열입니다.>\n"
     ]
    }
   ],
   "source": [
    "print('<'+txt.strip()+'>')"
   ]
  },
  {
   "cell_type": "code",
   "execution_count": 55,
   "metadata": {},
   "outputs": [
    {
     "data": {
      "text/plain": [
       "['Beautiful', ' is', ' better', 'than', 'ugly']"
      ]
     },
     "execution_count": 55,
     "metadata": {},
     "output_type": "execute_result"
    }
   ],
   "source": [
    "a='Beautiful, is; better*than\\nugly'\n",
    "import re\n",
    "re.split(';|,|\\*|\\n',a)"
   ]
  },
  {
   "cell_type": "code",
   "execution_count": 56,
   "metadata": {},
   "outputs": [],
   "source": [
    "url = 'http://www.naver.com/news/today=20160831'\n",
    "log = 'name:홍길동 age:17 gender:남자 nation:한국'"
   ]
  },
  {
   "cell_type": "code",
   "execution_count": 61,
   "metadata": {},
   "outputs": [
    {
     "name": "stdout",
     "output_type": "stream",
     "text": [
      "['http:', '', 'www.naver.com/news/today=20160831']\n"
     ]
    }
   ],
   "source": [
    "print(url.split('/',2))"
   ]
  },
  {
   "cell_type": "code",
   "execution_count": 62,
   "metadata": {},
   "outputs": [
    {
     "name": "stdout",
     "output_type": "stream",
     "text": [
      "name -> 홍길동\n",
      "age -> 17\n",
      "gender -> 남자\n",
      "nation -> 한국\n"
     ]
    }
   ],
   "source": [
    "ret2 = log.split()\n",
    "\n",
    "for data in ret2:\n",
    "    d1,d2 = data.split(':')\n",
    "    print('%s -> %s'%(d1,d2))"
   ]
  },
  {
   "cell_type": "code",
   "execution_count": 63,
   "metadata": {},
   "outputs": [],
   "source": [
    "loglist = ['2016/08/26 10:12:11', '200', 'OK', '이 또한 지나가리라']\n",
    "bond = ';'"
   ]
  },
  {
   "cell_type": "code",
   "execution_count": 64,
   "metadata": {},
   "outputs": [
    {
     "name": "stdout",
     "output_type": "stream",
     "text": [
      "2016/08/26 10:12:11;200;OK;이 또한 지나가리라\n"
     ]
    }
   ],
   "source": [
    "log = bond.join(loglist)\n",
    "print(log)"
   ]
  },
  {
   "cell_type": "code",
   "execution_count": 88,
   "metadata": {},
   "outputs": [
    {
     "name": "stdout",
     "output_type": "stream",
     "text": [
      "\u0004\n",
      "\n",
      "\n",
      "8.0\n",
      "65\n",
      "67\n",
      "122\n"
     ]
    }
   ],
   "source": [
    "# 정수가 나타내는 문자를 반환\n",
    "print(chr(4))\n",
    " \n",
    "print(chr(10))\n",
    "\n",
    " \n",
    "# 정수를 부동소수점수로 변환\n",
    "print(float(8))\n",
    " \n",
    " \n",
    "# 문자를 나타내는 정수 값으로 변환\n",
    "print(ord('A'))\n",
    " \n",
    "print(ord('C'))\n",
    " \n",
    "print(ord('z'))"
   ]
  },
  {
   "cell_type": "code",
   "execution_count": 76,
   "metadata": {},
   "outputs": [
    {
     "name": "stdout",
     "output_type": "stream",
     "text": [
      "숫자를 입력하세요..03\n"
     ]
    }
   ],
   "source": [
    "numstr = input('숫자를 입력하세요.')"
   ]
  },
  {
   "cell_type": "code",
   "execution_count": 83,
   "metadata": {},
   "outputs": [
    {
     "name": "stdout",
     "output_type": "stream",
     "text": [
      "당신이 입력한 숫자는 실수 <0.030000>입니다.\n"
     ]
    }
   ],
   "source": [
    "try:\n",
    "    num = int(numstr)\n",
    "    print('당신이 입력한 숫자는 정수 <%d>입니다.' %num)\n",
    "except:\n",
    "    try:\n",
    "        num = float(numstr)\n",
    "        print('당신이 입력한 숫자는 실수 <%f>입니다.' %num)\n",
    "    except:\n",
    "        print('+++ 숫자를 입력하세요 +++')"
   ]
  },
  {
   "cell_type": "code",
   "execution_count": 84,
   "metadata": {},
   "outputs": [],
   "source": [
    "num1 = 1234\n",
    "num2 = 3.14"
   ]
  },
  {
   "cell_type": "code",
   "execution_count": 91,
   "metadata": {},
   "outputs": [],
   "source": [
    "numstr1 = str(num1)\n",
    "numstr2 = str(num2)"
   ]
  },
  {
   "cell_type": "code",
   "execution_count": 93,
   "metadata": {},
   "outputs": [
    {
     "name": "stdout",
     "output_type": "stream",
     "text": [
      "num1을 문자열로 변환한 값은 \"1234\"입니다.\n",
      "num2를 문자열로 변환한 값은 \"3.14\"입니다.\n"
     ]
    }
   ],
   "source": [
    "print('num1을 문자열로 변환한 값은 \"%s\"입니다.' %numstr1)\n",
    "print('num2를 문자열로 변환한 값은 \"%s\"입니다.' %numstr2)"
   ]
  },
  {
   "cell_type": "code",
   "execution_count": null,
   "metadata": {},
   "outputs": [],
   "source": []
  }
 ],
 "metadata": {
  "kernelspec": {
   "display_name": "pydata",
   "language": "python",
   "name": "pydata"
  },
  "language_info": {
   "codemirror_mode": {
    "name": "ipython",
    "version": 3
   },
   "file_extension": ".py",
   "mimetype": "text/x-python",
   "name": "python",
   "nbconvert_exporter": "python",
   "pygments_lexer": "ipython3",
   "version": "3.7.10"
  }
 },
 "nbformat": 4,
 "nbformat_minor": 4
}
