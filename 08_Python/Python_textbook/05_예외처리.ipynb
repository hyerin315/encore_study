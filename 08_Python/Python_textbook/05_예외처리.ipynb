{
 "cells": [
  {
   "cell_type": "code",
   "execution_count": 2,
   "metadata": {},
   "outputs": [
    {
     "name": "stdout",
     "output_type": "stream",
     "text": [
      "안녕하세요\n",
      "홍길동\n"
     ]
    }
   ],
   "source": [
    "param = '홍길동'\n",
    "try:\n",
    "    print('안녕하세요')\n",
    "    print(param)\n",
    "except:\n",
    "   print(\"예외가 발생하였습니다.\") "
   ]
  },
  {
   "cell_type": "code",
   "execution_count": 3,
   "metadata": {},
   "outputs": [
    {
     "name": "stdout",
     "output_type": "stream",
     "text": [
      "예외가 발생했습니다.\n"
     ]
    }
   ],
   "source": [
    "try:\n",
    "    print(1/0) #없는 공식\n",
    "except:\n",
    "    print(\"예외가 발생했습니다.\")"
   ]
  },
  {
   "cell_type": "code",
   "execution_count": 5,
   "metadata": {},
   "outputs": [],
   "source": [
    "def divide_numbers(x, y):\n",
    "    try:\n",
    "        return x/y\n",
    "    except ZeroDivisionError:\n",
    "        return 'You cannot divide by zero, try again'"
   ]
  },
  {
   "cell_type": "code",
   "execution_count": 7,
   "metadata": {},
   "outputs": [
    {
     "data": {
      "text/plain": [
       "2.6666666666666665"
      ]
     },
     "execution_count": 7,
     "metadata": {},
     "output_type": "execute_result"
    }
   ],
   "source": [
    "divide_numbers(8,3)"
   ]
  },
  {
   "cell_type": "code",
   "execution_count": 8,
   "metadata": {},
   "outputs": [
    {
     "data": {
      "text/plain": [
       "'You cannot divide by zero, try again'"
      ]
     },
     "execution_count": 8,
     "metadata": {},
     "output_type": "execute_result"
    }
   ],
   "source": [
    "divide_numbers(8,0)"
   ]
  },
  {
   "cell_type": "code",
   "execution_count": 10,
   "metadata": {},
   "outputs": [
    {
     "name": "stdout",
     "output_type": "stream",
     "text": [
      "안녕하세요.\n",
      "100\n",
      "예외가 발생하지 않았습니다.\n"
     ]
    }
   ],
   "source": [
    "try:\n",
    "    print(\"안녕하세요.\")\n",
    "    param = 100\n",
    "    print(param)\n",
    "except:\n",
    "    print(\"예외가 발생했습니다.\")\n",
    "else :\n",
    "    print(\"예외가 발생하지 않았습니다.\")"
   ]
  },
  {
   "cell_type": "code",
   "execution_count": 14,
   "metadata": {},
   "outputs": [
    {
     "name": "stdout",
     "output_type": "stream",
     "text": [
      "Enter a number for the dividend:  2\n",
      "Enter a number to divisor: 0\n",
      "You cannot divide by zero!\n"
     ]
    }
   ],
   "source": [
    "try:\n",
    "    # 작업을 수행\n",
    "    try:\n",
    "        x = input ('Enter a number for the dividend:  ') #나누어질 수\n",
    "        y = input('Enter a number to divisor: ') #나누기를 할 수\n",
    "        x = int(x) # x를 정수형으로 (나누기위해)\n",
    "        y = int(y) # y를 정수형으로 (나누기휘해)\n",
    "    except ValueError: # 잘못된 데이터가 왔을 때\n",
    "        # 예외를 처리하고 바깥의 try-except로 이동\n",
    "        print ('You must enter a numeric value!')\n",
    "    z = x / y\n",
    "except ZeroDivisionError: #0으로 나누려 할 때\n",
    "    # handle exception\n",
    "    print ('You cannot divide by zero!')\n",
    "except TypeError: #숫자만 입력하라는 메세지\n",
    "    print ('Retry and only use numeric values this time!')\n",
    "else: #아무런 문제가 없을 때\n",
    "    print ('Your quotient is: %d' %z)"
   ]
  },
  {
   "cell_type": "code",
   "execution_count": 17,
   "metadata": {},
   "outputs": [
    {
     "name": "stdout",
     "output_type": "stream",
     "text": [
      "첨자(인덱스)를 입력하세요\n",
      "8\n",
      "잘못된 첨자(인덱스)입니다\n"
     ]
    }
   ],
   "source": [
    "my_list = [1, 2, 3]\n",
    "\n",
    "try:\n",
    "    print(\"첨자를 입력하세요\") #첨자 = 인덱스\n",
    "    index = int(input()) #정수형 변환\n",
    "    print(my_list[index]/0)\n",
    "except ZeroDivisionError:\n",
    "    print(\"0으로 나눌 수 없습니다\")\n",
    "except IndexError:\n",
    "    print(\"잘못된 첨자입니다\")"
   ]
  },
  {
   "cell_type": "code",
   "execution_count": 32,
   "metadata": {},
   "outputs": [
    {
     "name": "stdout",
     "output_type": "stream",
     "text": [
      "첨자를 입력하세요\n",
      "5\n",
      "잘못된 첨자입니다. (list index out of range)\n"
     ]
    }
   ],
   "source": [
    "try:\n",
    "    print(\"첨자를 입력하세요\")\n",
    "    index = int(input())\n",
    "    print(my_list[index]/0)\n",
    "except ZeroDivisionError as err:\n",
    "    print(\"0으로 나눌 수 없습니다. ({0})\".format(err))\n",
    "except Exception as err:\n",
    "    print(\"잘못된 첨자입니다. ({})\".format(err))"
   ]
  },
  {
   "cell_type": "code",
   "execution_count": 25,
   "metadata": {},
   "outputs": [
    {
     "name": "stdout",
     "output_type": "stream",
     "text": [
      "첨자를 입력하세요\n",
      "3\n",
      "예외가 발생했습니다. (list index out of range)\n",
      "어떤 일이 있어도 마무리한다\n"
     ]
    }
   ],
   "source": [
    "try:\n",
    "    print(\"첨자를 입력하세요\")\n",
    "    index = int(input())\n",
    "    print(\"my_list[{0}]:{1}\".format(index, my_list[index]))\n",
    "except Exception as err:\n",
    "    print(\"예외가 발생했습니다. ({})\".format(err))\n",
    "else:\n",
    "    print(\"리스트의 요소 출력에 성공했습니다\")\n",
    "finally:\n",
    "    print(\"어떤 일이 있어도 마무리한다\")"
   ]
  },
  {
   "cell_type": "code",
   "execution_count": 30,
   "metadata": {},
   "outputs": [],
   "source": [
    "def some_function():\n",
    "    print(\"1~10 사이의 수를 입력하세요\")\n",
    "    num = int(input()) #정수형으로 넣어주기\n",
    "    if num < 1 or num > 10 :\n",
    "        raise Exception(\"유효하지 않은 숫자입니다. : {}\".format(num)) #파이썬에서는 객체생성시, new를 사용하지 않고 괄호 사용\n",
    "    else:\n",
    "        print(\"입력한 수는 {}입니다.\".format(num)) #3.0이후\n",
    "        #print(\"입력한 수는 %d입니다\" %(num)) : 2.0이후"
   ]
  },
  {
   "cell_type": "code",
   "execution_count": 31,
   "metadata": {},
   "outputs": [
    {
     "name": "stdout",
     "output_type": "stream",
     "text": [
      "1~10 사이의 수를 입력하세요\n",
      "15\n",
      "예외가 발생했습니다.유효하지 않은 숫자입니다. : 15\n"
     ]
    }
   ],
   "source": [
    "try:\n",
    "    some_function()\n",
    "except Exception as err:\n",
    "    print('예외가 발생했습니다.{}'.format(err))"
   ]
  },
  {
   "cell_type": "code",
   "execution_count": 40,
   "metadata": {},
   "outputs": [],
   "source": [
    "def some_function2():\n",
    "    print(\"1~10 사이의 수를 입력하세요\")\n",
    "    num = int(input())\n",
    "    if num < 1 or num > 10 :\n",
    "        raise Exception(\"유효하지 않은 숫자입니다.:{}\".format(num)) #에러가 발생하면\n",
    "    else:\n",
    "        print(\"입력된 수는 {}입니다.\".format(num))"
   ]
  },
  {
   "cell_type": "code",
   "execution_count": 41,
   "metadata": {},
   "outputs": [],
   "source": [
    "def some_function_caller(): #호출하는 함수\n",
    "    try:\n",
    "        some_function2()\n",
    "    except Exception as err: #호출한 곳에서 에러메세지를 출력\n",
    "        print(\"1) 예외가 발생했습니다. {0}\".format(err))\n",
    "        raise #여기서 또 예외가 생기면"
   ]
  },
  {
   "cell_type": "code",
   "execution_count": 42,
   "metadata": {},
   "outputs": [
    {
     "name": "stdout",
     "output_type": "stream",
     "text": [
      "1~10 사이의 수를 입력하세요\n",
      "15\n",
      "1) 예외가 발생했습니다. 유효하지 않은 숫자입니다.:15\n",
      "2) 예외가 발생했습니다. 유효하지 않은 숫자입니다.:15\n"
     ]
    }
   ],
   "source": [
    "try:\n",
    "    some_function_caller()\n",
    "except Exception as err: #호출한 함수 에서 에러메세지 출력\n",
    "    print(\"2) 예외가 발생했습니다. {0}\".format(err))"
   ]
  },
  {
   "cell_type": "code",
   "execution_count": null,
   "metadata": {},
   "outputs": [],
   "source": []
  }
 ],
 "metadata": {
  "kernelspec": {
   "display_name": "pydata",
   "language": "python",
   "name": "pydata"
  },
  "language_info": {
   "codemirror_mode": {
    "name": "ipython",
    "version": 3
   },
   "file_extension": ".py",
   "mimetype": "text/x-python",
   "name": "python",
   "nbconvert_exporter": "python",
   "pygments_lexer": "ipython3",
   "version": "3.7.10"
  }
 },
 "nbformat": 4,
 "nbformat_minor": 4
}
