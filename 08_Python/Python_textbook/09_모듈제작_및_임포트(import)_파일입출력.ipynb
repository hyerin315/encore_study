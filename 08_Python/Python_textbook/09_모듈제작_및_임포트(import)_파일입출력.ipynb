{
 "cells": [
  {
   "cell_type": "code",
   "execution_count": 1,
   "metadata": {},
   "outputs": [
    {
     "name": "stdout",
     "output_type": "stream",
     "text": [
      "Overwriting myMath.py\n"
     ]
    }
   ],
   "source": [
    "%%writefile myMath.py\n",
    "'''\n",
    "모듈을 작성합니다.\n",
    "pi 변수와 두개의 함수가 있습니다.\n",
    "'''\n",
    "\n",
    "pi = 3.14\n",
    "\n",
    "def oneHapN(end):    # 1부터 N까지의 합을 구해주는 함수\n",
    "    sum = 0\n",
    "    for i in range(end):\n",
    "        sum += i+1\n",
    "    return sum\n",
    " \n",
    "def oneGopN(end):    # 1부터 N까지의 곱을 구해주는 함수\n",
    "    total = 1\n",
    "    for i in range(end):\n",
    "        total *= i+1\n",
    "    return total"
   ]
  },
  {
   "cell_type": "code",
   "execution_count": 2,
   "metadata": {},
   "outputs": [],
   "source": [
    "import myMath"
   ]
  },
  {
   "cell_type": "code",
   "execution_count": 3,
   "metadata": {},
   "outputs": [
    {
     "name": "stdout",
     "output_type": "stream",
     "text": [
      "\n",
      "모듈을 작성합니다.\n",
      "pi 변수와 두개의 함수가 있습니다.\n",
      "\n"
     ]
    }
   ],
   "source": [
    "print(myMath.__doc__)"
   ]
  },
  {
   "cell_type": "code",
   "execution_count": 4,
   "metadata": {},
   "outputs": [
    {
     "data": {
      "text/plain": [
       "55"
      ]
     },
     "execution_count": 4,
     "metadata": {},
     "output_type": "execute_result"
    }
   ],
   "source": [
    "myMath.oneHapN(10)"
   ]
  },
  {
   "cell_type": "code",
   "execution_count": 5,
   "metadata": {},
   "outputs": [
    {
     "data": {
      "text/plain": [
       "3628800"
      ]
     },
     "execution_count": 5,
     "metadata": {},
     "output_type": "execute_result"
    }
   ],
   "source": [
    "myMath.oneGopN(10)"
   ]
  },
  {
   "cell_type": "code",
   "execution_count": 6,
   "metadata": {},
   "outputs": [
    {
     "data": {
      "text/plain": [
       "3.14"
      ]
     },
     "execution_count": 6,
     "metadata": {},
     "output_type": "execute_result"
    }
   ],
   "source": [
    "myMath.pi"
   ]
  },
  {
   "cell_type": "code",
   "execution_count": 7,
   "metadata": {},
   "outputs": [],
   "source": [
    "import math #math라는 이미 있는 모듈 import"
   ]
  },
  {
   "cell_type": "code",
   "execution_count": 8,
   "metadata": {},
   "outputs": [
    {
     "data": {
      "text/plain": [
       "3.141592653589793"
      ]
     },
     "execution_count": 8,
     "metadata": {},
     "output_type": "execute_result"
    }
   ],
   "source": [
    "math.pi"
   ]
  },
  {
   "cell_type": "code",
   "execution_count": 9,
   "metadata": {},
   "outputs": [
    {
     "name": "stdout",
     "output_type": "stream",
     "text": [
      "Overwriting first.py\n"
     ]
    }
   ],
   "source": [
    "%%writefile first.py\n",
    "'''\n",
    "내가 만든 모듈입니다\n",
    "내부에는 변수와 함수가 하나씩 있습니다\n",
    "'''\n",
    "\n",
    "print(__name__) #직접실행하면 __main__출력, import되서 실행되면 모듈명 출력\n",
    "\n",
    "first_value = 100\n",
    "\n",
    "def first_func(x,y):\n",
    "    return x + y\n",
    "\n",
    "if __name__ == '__main__':\n",
    "    print() #라인 스킵\n",
    "    print(__doc__)\n",
    "    print(first_value)\n",
    "    print(first_func(10,5))"
   ]
  },
  {
   "cell_type": "code",
   "execution_count": 10,
   "metadata": {},
   "outputs": [
    {
     "name": "stdout",
     "output_type": "stream",
     "text": [
      "__main__\n",
      "\n",
      "\n",
      "내가 만든 모듈입니다\n",
      "내부에는 변수와 함수가 하나씩 있습니다\n",
      "\n",
      "100\n",
      "15\n"
     ]
    }
   ],
   "source": [
    "%run first.py"
   ]
  },
  {
   "cell_type": "code",
   "execution_count": 11,
   "metadata": {},
   "outputs": [
    {
     "name": "stdout",
     "output_type": "stream",
     "text": [
      "first\n"
     ]
    }
   ],
   "source": [
    "import first"
   ]
  },
  {
   "cell_type": "code",
   "execution_count": 12,
   "metadata": {},
   "outputs": [
    {
     "name": "stdout",
     "output_type": "stream",
     "text": [
      "100\n"
     ]
    }
   ],
   "source": [
    "print(first.first_value)"
   ]
  },
  {
   "cell_type": "code",
   "execution_count": 13,
   "metadata": {},
   "outputs": [
    {
     "data": {
      "text/plain": [
       "30"
      ]
     },
     "execution_count": 13,
     "metadata": {},
     "output_type": "execute_result"
    }
   ],
   "source": [
    "first.first_func(10,20)"
   ]
  },
  {
   "cell_type": "code",
   "execution_count": 14,
   "metadata": {},
   "outputs": [
    {
     "name": "stdout",
     "output_type": "stream",
     "text": [
      "\n",
      "내가 만든 모듈입니다\n",
      "내부에는 변수와 함수가 하나씩 있습니다\n",
      "\n"
     ]
    }
   ],
   "source": [
    "print(__doc__)"
   ]
  },
  {
   "cell_type": "code",
   "execution_count": 15,
   "metadata": {},
   "outputs": [],
   "source": [
    "import myMath as my"
   ]
  },
  {
   "cell_type": "code",
   "execution_count": 16,
   "metadata": {},
   "outputs": [
    {
     "data": {
      "text/plain": [
       "3.14"
      ]
     },
     "execution_count": 16,
     "metadata": {},
     "output_type": "execute_result"
    }
   ],
   "source": [
    "my.pi"
   ]
  },
  {
   "cell_type": "code",
   "execution_count": 17,
   "metadata": {},
   "outputs": [
    {
     "data": {
      "text/plain": [
       "3628800"
      ]
     },
     "execution_count": 17,
     "metadata": {},
     "output_type": "execute_result"
    }
   ],
   "source": [
    "my.oneGopN(10)"
   ]
  },
  {
   "cell_type": "code",
   "execution_count": 18,
   "metadata": {},
   "outputs": [],
   "source": [
    "from myMath import pi, oneGopN #이 두 가지만 가져오겠다"
   ]
  },
  {
   "cell_type": "code",
   "execution_count": 19,
   "metadata": {},
   "outputs": [
    {
     "data": {
      "text/plain": [
       "3.14"
      ]
     },
     "execution_count": 19,
     "metadata": {},
     "output_type": "execute_result"
    }
   ],
   "source": [
    "pi"
   ]
  },
  {
   "cell_type": "code",
   "execution_count": 20,
   "metadata": {},
   "outputs": [
    {
     "data": {
      "text/plain": [
       "3628800"
      ]
     },
     "execution_count": 20,
     "metadata": {},
     "output_type": "execute_result"
    }
   ],
   "source": [
    "oneGopN(10)"
   ]
  },
  {
   "cell_type": "code",
   "execution_count": 21,
   "metadata": {},
   "outputs": [
    {
     "data": {
      "text/plain": [
       "55"
      ]
     },
     "execution_count": 21,
     "metadata": {},
     "output_type": "execute_result"
    }
   ],
   "source": [
    "myMath.oneHapN(10)"
   ]
  },
  {
   "cell_type": "code",
   "execution_count": 22,
   "metadata": {},
   "outputs": [],
   "source": [
    "from myMath import *\n",
    "from math import *"
   ]
  },
  {
   "cell_type": "code",
   "execution_count": 23,
   "metadata": {},
   "outputs": [
    {
     "data": {
      "text/plain": [
       "3.141592653589793"
      ]
     },
     "execution_count": 23,
     "metadata": {},
     "output_type": "execute_result"
    }
   ],
   "source": [
    "pi #나중에 임포트한 것으로 나온다"
   ]
  },
  {
   "cell_type": "code",
   "execution_count": 24,
   "metadata": {},
   "outputs": [
    {
     "data": {
      "text/plain": [
       "35"
      ]
     },
     "execution_count": 24,
     "metadata": {},
     "output_type": "execute_result"
    }
   ],
   "source": [
    "import keyword\n",
    "len(keyword.kwlist)"
   ]
  },
  {
   "cell_type": "code",
   "execution_count": 25,
   "metadata": {},
   "outputs": [
    {
     "data": {
      "text/plain": [
       "['False',\n",
       " 'None',\n",
       " 'True',\n",
       " 'and',\n",
       " 'as',\n",
       " 'assert',\n",
       " 'async',\n",
       " 'await',\n",
       " 'break',\n",
       " 'class',\n",
       " 'continue',\n",
       " 'def',\n",
       " 'del',\n",
       " 'elif',\n",
       " 'else',\n",
       " 'except',\n",
       " 'finally']"
      ]
     },
     "execution_count": 25,
     "metadata": {},
     "output_type": "execute_result"
    }
   ],
   "source": [
    "keyword.kwlist[:17] #0번째부터 16번째까지 키워드 확인"
   ]
  },
  {
   "cell_type": "code",
   "execution_count": 26,
   "metadata": {},
   "outputs": [
    {
     "data": {
      "text/plain": [
       "['for',\n",
       " 'from',\n",
       " 'global',\n",
       " 'if',\n",
       " 'import',\n",
       " 'in',\n",
       " 'is',\n",
       " 'lambda',\n",
       " 'nonlocal',\n",
       " 'not',\n",
       " 'or',\n",
       " 'pass',\n",
       " 'raise',\n",
       " 'return',\n",
       " 'try',\n",
       " 'while',\n",
       " 'with',\n",
       " 'yield']"
      ]
     },
     "execution_count": 26,
     "metadata": {},
     "output_type": "execute_result"
    }
   ],
   "source": [
    "keyword.kwlist[17:] #17번째부터 나머지 키워드 확인"
   ]
  },
  {
   "cell_type": "code",
   "execution_count": 27,
   "metadata": {},
   "outputs": [
    {
     "name": "stdout",
     "output_type": "stream",
     "text": [
      "True\n"
     ]
    }
   ],
   "source": [
    "print(keyword.iskeyword('None'))"
   ]
  },
  {
   "cell_type": "code",
   "execution_count": 28,
   "metadata": {},
   "outputs": [
    {
     "name": "stdout",
     "output_type": "stream",
     "text": [
      "False\n"
     ]
    }
   ],
   "source": [
    "print(keyword.iskeyword('int'))"
   ]
  },
  {
   "cell_type": "code",
   "execution_count": 29,
   "metadata": {},
   "outputs": [],
   "source": [
    "import random"
   ]
  },
  {
   "cell_type": "code",
   "execution_count": 30,
   "metadata": {},
   "outputs": [
    {
     "name": "stdout",
     "output_type": "stream",
     "text": [
      "23  19  37  37  7  32  "
     ]
    }
   ],
   "source": [
    "for i in range(6):\n",
    "    number = random.randint(1,45) #임의의 값(정수값)\n",
    "    print(number, ' ', end = '')"
   ]
  },
  {
   "cell_type": "code",
   "execution_count": 31,
   "metadata": {},
   "outputs": [
    {
     "name": "stdout",
     "output_type": "stream",
     "text": [
      "['A', '2', '3', '4', '5', '6', '7', '8', '9', '10', 'J', 'Q', 'K']\n"
     ]
    }
   ],
   "source": [
    "card = ['A', '2', '3', '4', '5', '6', '7', '8', '9', '10', 'J', 'Q', 'K']\n",
    "print(card)"
   ]
  },
  {
   "cell_type": "code",
   "execution_count": 32,
   "metadata": {},
   "outputs": [
    {
     "name": "stdout",
     "output_type": "stream",
     "text": [
      "['5', 'K', 'A', '4', '2', '9', '6', 'J', 'Q', '7', '3', '10', '8']\n"
     ]
    }
   ],
   "source": [
    "random.shuffle(card)\n",
    "print(card)"
   ]
  },
  {
   "cell_type": "code",
   "execution_count": 33,
   "metadata": {},
   "outputs": [
    {
     "data": {
      "text/plain": [
       "'J'"
      ]
     },
     "execution_count": 33,
     "metadata": {},
     "output_type": "execute_result"
    }
   ],
   "source": [
    "random.choice(card)"
   ]
  },
  {
   "cell_type": "code",
   "execution_count": 34,
   "metadata": {},
   "outputs": [],
   "source": [
    "mystr = '최고의 영화 - 죽은 시인의 사회'"
   ]
  },
  {
   "cell_type": "code",
   "execution_count": 35,
   "metadata": {},
   "outputs": [
    {
     "data": {
      "text/plain": [
       "[' ', ' ', ' ']"
      ]
     },
     "execution_count": 35,
     "metadata": {},
     "output_type": "execute_result"
    }
   ],
   "source": [
    "random.sample(mystr, 3) #추출할 개수 입력"
   ]
  },
  {
   "cell_type": "code",
   "execution_count": 36,
   "metadata": {},
   "outputs": [],
   "source": [
    "myList = random.sample(range(1, 46), 6)"
   ]
  },
  {
   "cell_type": "code",
   "execution_count": 37,
   "metadata": {},
   "outputs": [],
   "source": [
    "myList.sort()"
   ]
  },
  {
   "cell_type": "code",
   "execution_count": 38,
   "metadata": {},
   "outputs": [
    {
     "data": {
      "text/plain": [
       "[3, 8, 13, 15, 22, 39]"
      ]
     },
     "execution_count": 38,
     "metadata": {},
     "output_type": "execute_result"
    }
   ],
   "source": [
    "myList"
   ]
  },
  {
   "cell_type": "code",
   "execution_count": 39,
   "metadata": {},
   "outputs": [
    {
     "data": {
      "text/plain": [
       "0.5975224043896827"
      ]
     },
     "execution_count": 39,
     "metadata": {},
     "output_type": "execute_result"
    }
   ],
   "source": [
    "random.random() # 0.0~1.0 사이"
   ]
  },
  {
   "cell_type": "code",
   "execution_count": 40,
   "metadata": {},
   "outputs": [
    {
     "data": {
      "text/plain": [
       "2.3586628294423253"
      ]
     },
     "execution_count": 40,
     "metadata": {},
     "output_type": "execute_result"
    }
   ],
   "source": [
    "random.uniform(0, 10)"
   ]
  },
  {
   "cell_type": "code",
   "execution_count": 41,
   "metadata": {},
   "outputs": [],
   "source": [
    "import time"
   ]
  },
  {
   "cell_type": "code",
   "execution_count": 42,
   "metadata": {},
   "outputs": [
    {
     "name": "stdout",
     "output_type": "stream",
     "text": [
      "현재시각 : 1617846437.3294075\n"
     ]
    }
   ],
   "source": [
    "print(\"현재시각 :\", time.time())"
   ]
  },
  {
   "cell_type": "code",
   "execution_count": 45,
   "metadata": {},
   "outputs": [],
   "source": [
    "def manyloop(max):\n",
    "    t1 = time.time()\n",
    "    for a in range(max):\n",
    "        pass\n",
    "    t2 = time.time() #for문이 다 돌면 다시 넣어줌\n",
    "    print(t2-t1, '초 경과')"
   ]
  },
  {
   "cell_type": "code",
   "execution_count": 46,
   "metadata": {},
   "outputs": [
    {
     "name": "stdout",
     "output_type": "stream",
     "text": [
      "숫자를 입력하세요100\n",
      "0.0 초 경과\n"
     ]
    }
   ],
   "source": [
    "number = input(\"숫자를 입력하세요\") #이렇게 들어오면 무조건 문자열이 되므로\n",
    "manyloop(int(number)) #여기에서 int 변환"
   ]
  },
  {
   "cell_type": "code",
   "execution_count": 47,
   "metadata": {},
   "outputs": [
    {
     "name": "stdout",
     "output_type": "stream",
     "text": [
      "Thu Apr  8 10:47:26 2021\n"
     ]
    }
   ],
   "source": [
    "current = time.ctime()\n",
    "print(current)"
   ]
  },
  {
   "cell_type": "code",
   "execution_count": 48,
   "metadata": {},
   "outputs": [],
   "source": [
    "list_cur = current.split()"
   ]
  },
  {
   "cell_type": "code",
   "execution_count": 49,
   "metadata": {},
   "outputs": [
    {
     "name": "stdout",
     "output_type": "stream",
     "text": [
      "Thu\n",
      "Apr\n",
      "8\n",
      "10:47:26\n",
      "2021\n"
     ]
    }
   ],
   "source": [
    "for t in list_cur:\n",
    "    print(t)"
   ]
  },
  {
   "cell_type": "code",
   "execution_count": 50,
   "metadata": {},
   "outputs": [
    {
     "name": "stdout",
     "output_type": "stream",
     "text": [
      "Thu Apr  8 10:47:28 2021\n",
      "Thu Apr  8 10:47:29 2021\n",
      "Thu Apr  8 10:47:30 2021\n",
      "Thu Apr  8 10:47:31 2021\n",
      "Thu Apr  8 10:47:32 2021\n",
      "Thu Apr  8 10:47:33 2021\n"
     ]
    }
   ],
   "source": [
    "for t in range(6):\n",
    "    print(time.ctime())\n",
    "    time.sleep(1)"
   ]
  },
  {
   "cell_type": "code",
   "execution_count": 51,
   "metadata": {},
   "outputs": [],
   "source": [
    "import datetime"
   ]
  },
  {
   "cell_type": "code",
   "execution_count": 52,
   "metadata": {},
   "outputs": [
    {
     "name": "stdout",
     "output_type": "stream",
     "text": [
      "2021-04-08 10:47:34.286982\n"
     ]
    }
   ],
   "source": [
    "d = datetime.datetime.now()\n",
    "print(d)"
   ]
  },
  {
   "cell_type": "code",
   "execution_count": 53,
   "metadata": {},
   "outputs": [
    {
     "name": "stdout",
     "output_type": "stream",
     "text": [
      "2021/4/8\n"
     ]
    }
   ],
   "source": [
    "print(d.year, d.month, d.day, sep='/')"
   ]
  },
  {
   "cell_type": "code",
   "execution_count": 54,
   "metadata": {},
   "outputs": [
    {
     "name": "stdout",
     "output_type": "stream",
     "text": [
      "10:47:34:286982\n"
     ]
    }
   ],
   "source": [
    "print(d.hour, d.minute, d.second, d.microsecond, sep=':') #마이크로초(100만분의 1초)"
   ]
  },
  {
   "cell_type": "code",
   "execution_count": 55,
   "metadata": {},
   "outputs": [
    {
     "name": "stdout",
     "output_type": "stream",
     "text": [
      "3\n"
     ]
    }
   ],
   "source": [
    "print(d.weekday())"
   ]
  },
  {
   "cell_type": "code",
   "execution_count": 56,
   "metadata": {},
   "outputs": [],
   "source": [
    "f = open('c:/pywork/myfile.txt', 'w') #t를 안적어도 기본 txt"
   ]
  },
  {
   "cell_type": "code",
   "execution_count": 57,
   "metadata": {},
   "outputs": [
    {
     "data": {
      "text/plain": [
       "18"
      ]
     },
     "execution_count": 57,
     "metadata": {},
     "output_type": "execute_result"
    }
   ],
   "source": [
    "f.write('파일을 열었으니 데이터를 저장하자')"
   ]
  },
  {
   "cell_type": "code",
   "execution_count": 58,
   "metadata": {},
   "outputs": [],
   "source": [
    "f.close()"
   ]
  },
  {
   "cell_type": "code",
   "execution_count": 59,
   "metadata": {},
   "outputs": [],
   "source": [
    "s = '''\n",
    "라인1\n",
    "라인2\n",
    "라인3\n",
    "'''"
   ]
  },
  {
   "cell_type": "code",
   "execution_count": 60,
   "metadata": {},
   "outputs": [
    {
     "data": {
      "text/plain": [
       "'\\n라인1\\n라인2\\n라인3\\n'"
      ]
     },
     "execution_count": 60,
     "metadata": {},
     "output_type": "execute_result"
    }
   ],
   "source": [
    "s"
   ]
  },
  {
   "cell_type": "code",
   "execution_count": 61,
   "metadata": {},
   "outputs": [],
   "source": [
    "s2 = ['첫번째\\n', '두번째\\n', '세번째\\n']"
   ]
  },
  {
   "cell_type": "code",
   "execution_count": 62,
   "metadata": {},
   "outputs": [
    {
     "data": {
      "text/plain": [
       "['첫번째\\n', '두번째\\n', '세번째\\n']"
      ]
     },
     "execution_count": 62,
     "metadata": {},
     "output_type": "execute_result"
    }
   ],
   "source": [
    "s2"
   ]
  },
  {
   "cell_type": "code",
   "execution_count": 63,
   "metadata": {},
   "outputs": [],
   "source": [
    "f = open(\"./files/data.txt\", \"w\", encoding='utf-8')"
   ]
  },
  {
   "cell_type": "code",
   "execution_count": 64,
   "metadata": {},
   "outputs": [],
   "source": [
    "f.writelines(s2)"
   ]
  },
  {
   "cell_type": "code",
   "execution_count": 65,
   "metadata": {},
   "outputs": [],
   "source": [
    "f.writelines(s)"
   ]
  },
  {
   "cell_type": "code",
   "execution_count": 66,
   "metadata": {},
   "outputs": [],
   "source": [
    "f.close()"
   ]
  },
  {
   "cell_type": "code",
   "execution_count": 67,
   "metadata": {},
   "outputs": [],
   "source": [
    "f = open('./files/myfile.txt', 'w', encoding='utf-8')"
   ]
  },
  {
   "cell_type": "code",
   "execution_count": 68,
   "metadata": {},
   "outputs": [
    {
     "data": {
      "text/plain": [
       "'\\n자세히 보아야\\n예쁘다\\n오래 보아야\\n사랑스럽다.\\n너도 그렇다\\n \\n풀꽃-나태주 시인\\n'"
      ]
     },
     "execution_count": 68,
     "metadata": {},
     "output_type": "execute_result"
    }
   ],
   "source": [
    "poem = '''\n",
    "자세히 보아야\n",
    "예쁘다\n",
    "오래 보아야\n",
    "사랑스럽다.\n",
    "너도 그렇다\n",
    " \n",
    "풀꽃-나태주 시인\n",
    "'''\n",
    "\n",
    "#3줄 이상이면 자동으로 라인스킵\n",
    "\n",
    "poem"
   ]
  },
  {
   "cell_type": "code",
   "execution_count": 69,
   "metadata": {},
   "outputs": [],
   "source": [
    "f.write(poem)\n",
    "f.close()"
   ]
  },
  {
   "cell_type": "code",
   "execution_count": 70,
   "metadata": {},
   "outputs": [],
   "source": [
    "f = open('./files/myfile.txt', 'r', encoding='utf-8')"
   ]
  },
  {
   "cell_type": "code",
   "execution_count": 71,
   "metadata": {},
   "outputs": [
    {
     "name": "stdout",
     "output_type": "stream",
     "text": [
      "\n",
      "\n",
      "자세히 보아야\n",
      "\n",
      "예쁘다\n",
      "\n",
      "오래 보아야\n",
      "\n",
      "사랑스럽다.\n",
      "\n",
      "너도 그렇다\n",
      "\n",
      " \n",
      "\n",
      "풀꽃-나태주 시인\n",
      "\n"
     ]
    }
   ],
   "source": [
    "while True:\n",
    "    sentence = f.readline()\n",
    "    if not sentence:\n",
    "        break\n",
    "    print(sentence)"
   ]
  },
  {
   "cell_type": "code",
   "execution_count": 72,
   "metadata": {},
   "outputs": [],
   "source": [
    "f.close()"
   ]
  },
  {
   "cell_type": "code",
   "execution_count": 73,
   "metadata": {},
   "outputs": [],
   "source": [
    "f = open('./files/myfile.txt', 'r', encoding=\"utf-8\")"
   ]
  },
  {
   "cell_type": "code",
   "execution_count": 74,
   "metadata": {},
   "outputs": [
    {
     "data": {
      "text/plain": [
       "['\\n',\n",
       " '자세히 보아야\\n',\n",
       " '예쁘다\\n',\n",
       " '오래 보아야\\n',\n",
       " '사랑스럽다.\\n',\n",
       " '너도 그렇다\\n',\n",
       " ' \\n',\n",
       " '풀꽃-나태주 시인\\n']"
      ]
     },
     "execution_count": 74,
     "metadata": {},
     "output_type": "execute_result"
    }
   ],
   "source": [
    "all = f.readlines()\n",
    "all"
   ]
  },
  {
   "cell_type": "code",
   "execution_count": 75,
   "metadata": {},
   "outputs": [
    {
     "name": "stdout",
     "output_type": "stream",
     "text": [
      "\n",
      "\n",
      "자세히 보아야\n",
      "\n",
      "예쁘다\n",
      "\n",
      "오래 보아야\n",
      "\n",
      "사랑스럽다.\n",
      "\n",
      "너도 그렇다\n",
      "\n",
      " \n",
      "\n",
      "풀꽃-나태주 시인\n",
      "\n"
     ]
    }
   ],
   "source": [
    "for sentence in all: #콤마로 연결된 한 줄 한 줄을 읽어옴\n",
    "    print(sentence)"
   ]
  },
  {
   "cell_type": "code",
   "execution_count": 76,
   "metadata": {},
   "outputs": [],
   "source": [
    "f.close()"
   ]
  },
  {
   "cell_type": "code",
   "execution_count": 77,
   "metadata": {},
   "outputs": [],
   "source": [
    "f = open('./files/myfile.txt', 'r', encoding=\"utf-8\")"
   ]
  },
  {
   "cell_type": "code",
   "execution_count": 78,
   "metadata": {},
   "outputs": [],
   "source": [
    "string = f.read()"
   ]
  },
  {
   "cell_type": "code",
   "execution_count": 79,
   "metadata": {},
   "outputs": [
    {
     "name": "stdout",
     "output_type": "stream",
     "text": [
      "\n",
      "자세히 보아야\n",
      "예쁘다\n",
      "오래 보아야\n",
      "사랑스럽다.\n",
      "너도 그렇다\n",
      " \n",
      "풀꽃-나태주 시인\n",
      "\n"
     ]
    }
   ],
   "source": [
    "print(string)"
   ]
  },
  {
   "cell_type": "code",
   "execution_count": 80,
   "metadata": {},
   "outputs": [],
   "source": [
    "f.close()"
   ]
  },
  {
   "cell_type": "code",
   "execution_count": 81,
   "metadata": {},
   "outputs": [],
   "source": [
    "f = open('./files/myfile.txt', 'r', encoding=\"utf-8\")"
   ]
  },
  {
   "cell_type": "code",
   "execution_count": 82,
   "metadata": {},
   "outputs": [
    {
     "name": "stdout",
     "output_type": "stream",
     "text": [
      "\n",
      "자세히 보아야\n",
      "예쁘다\n",
      "오래 보아야\n",
      "사랑스럽다.\n",
      "너도 그렇다\n",
      " \n",
      "풀꽃-나태주 시인\n"
     ]
    }
   ],
   "source": [
    "for line in f:\n",
    "    print(line, end=\"\")"
   ]
  },
  {
   "cell_type": "code",
   "execution_count": 83,
   "metadata": {},
   "outputs": [],
   "source": [
    "f.close()"
   ]
  },
  {
   "cell_type": "code",
   "execution_count": 84,
   "metadata": {},
   "outputs": [
    {
     "data": {
      "text/plain": [
       "['첫번째\\n', '두번째\\n', '세번째\\n']"
      ]
     },
     "execution_count": 84,
     "metadata": {},
     "output_type": "execute_result"
    }
   ],
   "source": [
    "s2"
   ]
  },
  {
   "cell_type": "code",
   "execution_count": 86,
   "metadata": {},
   "outputs": [],
   "source": [
    "fr = open(\"c:/pywork/data2.txt\",\"x\",encoding='utf-8')"
   ]
  },
  {
   "cell_type": "code",
   "execution_count": 87,
   "metadata": {},
   "outputs": [],
   "source": [
    "fr.writelines(s2)"
   ]
  },
  {
   "cell_type": "code",
   "execution_count": 88,
   "metadata": {},
   "outputs": [],
   "source": [
    "fr = open('c:/pywork/data2.txt', 'r', encoding='utf-8')"
   ]
  },
  {
   "cell_type": "code",
   "execution_count": 89,
   "metadata": {},
   "outputs": [
    {
     "name": "stdout",
     "output_type": "stream",
     "text": [
      "첫번째\n",
      "두번째\n",
      "세번째\n"
     ]
    }
   ],
   "source": [
    "for i in fr:\n",
    "    print(i, end=\"\")"
   ]
  },
  {
   "cell_type": "code",
   "execution_count": 90,
   "metadata": {},
   "outputs": [],
   "source": [
    "fr.close()"
   ]
  },
  {
   "cell_type": "code",
   "execution_count": 91,
   "metadata": {},
   "outputs": [
    {
     "name": "stdout",
     "output_type": "stream",
     "text": [
      "\n",
      "자세히 보아야\n",
      "예쁘다\n",
      "오래 보아야\n",
      "사랑스럽다.\n",
      "너도 그렇다\n",
      " \n",
      "풀꽃-나태주 시인\n"
     ]
    }
   ],
   "source": [
    "with open(\"./files/myfile.txt\", 'r', encoding='utf-8') as f: #객체로 만들어 삽입\n",
    "    for line in f:\n",
    "        print(line, end=\"\")"
   ]
  },
  {
   "cell_type": "code",
   "execution_count": 92,
   "metadata": {},
   "outputs": [
    {
     "name": "stdout",
     "output_type": "stream",
     "text": [
      "-----------원본파일------------\n",
      "\n",
      "자세히 보아야\n",
      "예쁘다\n",
      "오래 보아야\n",
      "사랑스럽다.\n",
      "너도 그렇다\n",
      " \n",
      "풀꽃-나태주 시인\n",
      "\n"
     ]
    }
   ],
   "source": [
    "with open('./files/myfile.txt', 'r', encoding=\"utf-8\") as f:\n",
    "    print(\"-----------원본파일------------\")\n",
    "    print(f.read())"
   ]
  },
  {
   "cell_type": "code",
   "execution_count": 93,
   "metadata": {},
   "outputs": [],
   "source": [
    "poem2 = '''\n",
    " \n",
    "하늘 아래 내가 받은\n",
    "가장 커다란 선물은\n",
    "오늘입니다.\n",
    " \n",
    "오늘 받은 선물 가운데서도\n",
    "가장 아름다운 선물은\n",
    "당신입니다.\n",
    " \n",
    "선물-나태주 시인\n",
    " \n",
    "'''"
   ]
  },
  {
   "cell_type": "code",
   "execution_count": 95,
   "metadata": {},
   "outputs": [],
   "source": [
    "with open('./files/myfile.txt', 'a', encoding=\"utf-8\") as f:\n",
    "    f.write(poem2)"
   ]
  },
  {
   "cell_type": "code",
   "execution_count": 96,
   "metadata": {},
   "outputs": [
    {
     "name": "stdout",
     "output_type": "stream",
     "text": [
      "-----------데이터를 추가한 후------------\n",
      "\n",
      "자세히 보아야\n",
      "예쁘다\n",
      "오래 보아야\n",
      "사랑스럽다.\n",
      "너도 그렇다\n",
      " \n",
      "풀꽃-나태주 시인\n",
      "\n",
      " \n",
      "하늘 아래 내가 받은\n",
      "가장 커다란 선물은\n",
      "오늘입니다.\n",
      " \n",
      "오늘 받은 선물 가운데서도\n",
      "가장 아름다운 선물은\n",
      "당신입니다.\n",
      " \n",
      "선물-나태주 시인\n",
      " \n",
      "\n"
     ]
    }
   ],
   "source": [
    "with open('./files/myfile.txt', 'r', encoding=\"utf-8\") as f:\n",
    "    print(\"-----------데이터를 추가한 후------------\")\n",
    "    print(f.read())"
   ]
  },
  {
   "cell_type": "code",
   "execution_count": 97,
   "metadata": {},
   "outputs": [],
   "source": [
    "with open('./files/myfile.txt', 'r', encoding='utf-8') as fr :\n",
    "    with open('./files/myfile_copy.txt', 'w', encoding='utf-8') as fw:\n",
    "        fw.write(fr.read())"
   ]
  },
  {
   "cell_type": "code",
   "execution_count": 98,
   "metadata": {},
   "outputs": [
    {
     "name": "stdout",
     "output_type": "stream",
     "text": [
      "\n",
      "자세히 보아야\n",
      "예쁘다\n",
      "오래 보아야\n",
      "사랑스럽다.\n",
      "너도 그렇다\n",
      " \n",
      "풀꽃-나태주 시인\n",
      "\n",
      " \n",
      "하늘 아래 내가 받은\n",
      "가장 커다란 선물은\n",
      "오늘입니다.\n",
      " \n",
      "오늘 받은 선물 가운데서도\n",
      "가장 아름다운 선물은\n",
      "당신입니다.\n",
      " \n",
      "선물-나태주 시인\n",
      " \n"
     ]
    }
   ],
   "source": [
    "with open('./files/myfile_copy.txt', encoding='utf-8') as fr:\n",
    "    for i in fr:\n",
    "        print(i, end = \"\")"
   ]
  },
  {
   "cell_type": "code",
   "execution_count": 99,
   "metadata": {},
   "outputs": [],
   "source": [
    "bufsize = 1024"
   ]
  },
  {
   "cell_type": "code",
   "execution_count": 100,
   "metadata": {},
   "outputs": [],
   "source": [
    "with open(\"./files/sample.jpg\", 'rb') as frb: #rb : read binury\n",
    "    with open('./files/sample_copy.jpg', 'wb') as fwb: #wb : write binury\n",
    "        data = frb.read(bufsize) \n",
    "        while data: #데이터가 있는지 확인하고 가져오기 위함, 사이즈를 안다면 반복문이 없어도 됨\n",
    "            fwb.write(data)\n",
    "            data = frb.read(bufsize)"
   ]
  },
  {
   "cell_type": "code",
   "execution_count": 107,
   "metadata": {},
   "outputs": [],
   "source": [
    "#파일 삭제\n",
    "from os import remove\n",
    "target_file = './files/sample_copy.jpg'"
   ]
  },
  {
   "cell_type": "code",
   "execution_count": 108,
   "metadata": {},
   "outputs": [
    {
     "name": "stdout",
     "output_type": "stream",
     "text": [
      "[./files/sample_copy.jpg] 파일을 삭제하겠습니까? (y/n)y\n",
      "[./files/sample_copy.jpg]를 삭제했습니다.\n"
     ]
    }
   ],
   "source": [
    "k = input('[{}] 파일을 삭제하겠습니까? (y/n)'.format(target_file))\n",
    "\n",
    "if k == 'y':\n",
    "    remove(target_file)\n",
    "    print('[%s]를 삭제했습니다.' %target_file)"
   ]
  },
  {
   "cell_type": "code",
   "execution_count": 109,
   "metadata": {},
   "outputs": [
    {
     "name": "stdout",
     "output_type": "stream",
     "text": [
      "새로 생성할 디렉토리 이름을 입력하세요../newdir\n",
      "[../newdir]디렉토리를 새로 생성했습니다\n"
     ]
    }
   ],
   "source": [
    "import os\n",
    "newfolder = input('새로 생성할 디렉토리 이름을 입력하세요')\n",
    "try:\n",
    "    os.mkdir(newfolder)\n",
    "    print(\"[{}]디렉토리를 새로 생성했습니다\".format(newfolder))\n",
    "except Exception as e :\n",
    "    print(e)"
   ]
  },
  {
   "cell_type": "code",
   "execution_count": 110,
   "metadata": {},
   "outputs": [
    {
     "name": "stdout",
     "output_type": "stream",
     "text": [
      "[../newdir]디렉토리를 삭제하겠습니까? (y/n)y\n",
      "[../newdir] 디렉토리를 삭제했습니다.\n"
     ]
    }
   ],
   "source": [
    "import os\n",
    "target_folder = \"../newdir\"\n",
    "\n",
    "k = input('[{}]디렉토리를 삭제하겠습니까? (y/n)'.format(target_folder))\n",
    "\n",
    "if k == 'y':\n",
    "    try:\n",
    "        os.rmdir(target_folder)\n",
    "        print('[%s] 디렉토리를 삭제했습니다.' %target_folder)\n",
    "    except Exception as e:\n",
    "        print(e)"
   ]
  },
  {
   "cell_type": "code",
   "execution_count": null,
   "metadata": {},
   "outputs": [],
   "source": []
  }
 ],
 "metadata": {
  "kernelspec": {
   "display_name": "pydata",
   "language": "python",
   "name": "pydata"
  },
  "language_info": {
   "codemirror_mode": {
    "name": "ipython",
    "version": 3
   },
   "file_extension": ".py",
   "mimetype": "text/x-python",
   "name": "python",
   "nbconvert_exporter": "python",
   "pygments_lexer": "ipython3",
   "version": "3.7.10"
  }
 },
 "nbformat": 4,
 "nbformat_minor": 4
}
