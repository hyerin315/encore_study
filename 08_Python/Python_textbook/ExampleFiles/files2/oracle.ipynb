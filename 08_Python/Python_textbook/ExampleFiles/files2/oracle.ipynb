{
 "cells": [
  {
   "cell_type": "code",
   "execution_count": 6,
   "metadata": {},
   "outputs": [],
   "source": [
    "import cx_Oracle"
   ]
  },
  {
   "cell_type": "code",
   "execution_count": 5,
   "metadata": {},
   "outputs": [],
   "source": [
    "conn = cx_Oracle.connect('hr/hr@127.0.0.1:1521/XE')\n",
    "cursor = conn.cursor()"
   ]
  },
  {
   "cell_type": "code",
   "execution_count": 13,
   "metadata": {},
   "outputs": [],
   "source": [
    "cursor.execute('drop table crawling')"
   ]
  },
  {
   "cell_type": "code",
   "execution_count": 14,
   "metadata": {},
   "outputs": [],
   "source": [
    "cursor.execute('''\n",
    "CREATE table crawling(\n",
    "    no    number(7)   not null primary key,\n",
    "    name  varchar(32) not null,\n",
    "    phone varchar(32) not null,\n",
    "    email varchar(64) not null,\n",
    "    rdate date        not null\n",
    ")\n",
    "''')"
   ]
  },
  {
   "cell_type": "code",
   "execution_count": 11,
   "metadata": {},
   "outputs": [
    {
     "ename": "DatabaseError",
     "evalue": "ORA-02289: sequence does not exist",
     "output_type": "error",
     "traceback": [
      "\u001b[1;31m---------------------------------------------------------------------------\u001b[0m",
      "\u001b[1;31mDatabaseError\u001b[0m                             Traceback (most recent call last)",
      "\u001b[1;32m<ipython-input-11-b1250b5d6454>\u001b[0m in \u001b[0;36m<module>\u001b[1;34m\u001b[0m\n\u001b[1;32m----> 1\u001b[1;33m \u001b[0mcursor\u001b[0m\u001b[1;33m.\u001b[0m\u001b[0mexecute\u001b[0m\u001b[1;33m(\u001b[0m\u001b[1;34m'drop sequence crawling_seq'\u001b[0m\u001b[1;33m)\u001b[0m\u001b[1;33m\u001b[0m\u001b[1;33m\u001b[0m\u001b[0m\n\u001b[0m",
      "\u001b[1;31mDatabaseError\u001b[0m: ORA-02289: sequence does not exist"
     ]
    }
   ],
   "source": [
    "cursor.execute('drop sequence crawling_seq')"
   ]
  },
  {
   "cell_type": "code",
   "execution_count": 12,
   "metadata": {},
   "outputs": [],
   "source": [
    "cursor.execute('''\n",
    "    CREATE sequence crawling_seq\n",
    "         start with 1\n",
    "         increment by 1\n",
    "         maxvalue 9999999\n",
    "         cache 2\n",
    "         nocycle\n",
    "''')"
   ]
  },
  {
   "cell_type": "code",
   "execution_count": 1,
   "metadata": {},
   "outputs": [],
   "source": [
    "#1\n",
    "sql = '''\n",
    "INSERT INTO crawling (no, name, phone, email, rdate)\n",
    "VALUES (crawling_seq.nextval, :name, :phone, :email, sysdate)\n",
    "'''"
   ]
  },
  {
   "cell_type": "code",
   "execution_count": 6,
   "metadata": {},
   "outputs": [],
   "source": [
    "result = cursor.execute(sql, ('홍길동', '02-1111-1111', 'mail@mail.com'))"
   ]
  },
  {
   "cell_type": "code",
   "execution_count": 7,
   "metadata": {},
   "outputs": [
    {
     "name": "stdout",
     "output_type": "stream",
     "text": [
      "None\n"
     ]
    }
   ],
   "source": [
    "print(result)"
   ]
  },
  {
   "cell_type": "code",
   "execution_count": 9,
   "metadata": {},
   "outputs": [],
   "source": [
    "cursor.execute(sql, ('나길순', '010-1111-1111', 'mail2@mail.com'))\n",
    "cursor.execute(sql, ('다길동', '010-1111-1112', 'mail3@mail.com'))"
   ]
  },
  {
   "cell_type": "code",
   "execution_count": 10,
   "metadata": {},
   "outputs": [],
   "source": [
    "conn.commit()"
   ]
  },
  {
   "cell_type": "markdown",
   "metadata": {},
   "source": [
    "## 목록"
   ]
  },
  {
   "cell_type": "code",
   "execution_count": 11,
   "metadata": {},
   "outputs": [],
   "source": [
    "sql = '''\n",
    "SELECT no, name, phone, email, rdate\n",
    "FROM crawling\n",
    "ORDER BY no asc\n",
    "'''"
   ]
  },
  {
   "cell_type": "code",
   "execution_count": 12,
   "metadata": {},
   "outputs": [
    {
     "data": {
      "text/plain": [
       "<cx_Oracle.Cursor on <cx_Oracle.Connection to hr@127.0.0.1:1521/XE>>"
      ]
     },
     "execution_count": 12,
     "metadata": {},
     "output_type": "execute_result"
    }
   ],
   "source": [
    "cursor.execute(sql)"
   ]
  },
  {
   "cell_type": "code",
   "execution_count": 13,
   "metadata": {},
   "outputs": [],
   "source": [
    "rows = cursor.fetchall()"
   ]
  },
  {
   "cell_type": "code",
   "execution_count": 14,
   "metadata": {},
   "outputs": [
    {
     "data": {
      "text/plain": [
       "[(1,\n",
       "  '홍길동',\n",
       "  '02-1111-1111',\n",
       "  'mail@mail.com',\n",
       "  datetime.datetime(2021, 4, 13, 9, 25, 25)),\n",
       " (2,\n",
       "  '나길순',\n",
       "  '010-1111-1111',\n",
       "  'mail2@mail.com',\n",
       "  datetime.datetime(2021, 4, 13, 9, 26, 45)),\n",
       " (3,\n",
       "  '다길동',\n",
       "  '010-1111-1112',\n",
       "  'mail3@mail.com',\n",
       "  datetime.datetime(2021, 4, 13, 9, 26, 45))]"
      ]
     },
     "execution_count": 14,
     "metadata": {},
     "output_type": "execute_result"
    }
   ],
   "source": [
    "rows #리스트로 튜플 안에 넣어서 보여줌"
   ]
  },
  {
   "cell_type": "code",
   "execution_count": 15,
   "metadata": {},
   "outputs": [
    {
     "name": "stdout",
     "output_type": "stream",
     "text": [
      "1, 홍길동, 02-1111-1111, mail@mail.com, 2021-04-13 09:25:25\n",
      "2, 나길순, 010-1111-1111, mail2@mail.com, 2021-04-13 09:26:45\n",
      "3, 다길동, 010-1111-1112, mail3@mail.com, 2021-04-13 09:26:45\n"
     ]
    }
   ],
   "source": [
    "for row in rows:\n",
    "    fmt = \"{}, {}, {}, {}, {}\"\n",
    "    print(fmt.format(row[0], row[1], row[2], row[3], row[4]))"
   ]
  },
  {
   "cell_type": "markdown",
   "metadata": {},
   "source": [
    "## 조회"
   ]
  },
  {
   "cell_type": "code",
   "execution_count": 17,
   "metadata": {},
   "outputs": [],
   "source": [
    "sql = '''\n",
    "SELECT no, name, phone, email, rdate\n",
    "FROM crawling\n",
    "WHERE no = :no\n",
    "'''"
   ]
  },
  {
   "cell_type": "code",
   "execution_count": 18,
   "metadata": {},
   "outputs": [
    {
     "data": {
      "text/plain": [
       "<cx_Oracle.Cursor on <cx_Oracle.Connection to hr@127.0.0.1:1521/XE>>"
      ]
     },
     "execution_count": 18,
     "metadata": {},
     "output_type": "execute_result"
    }
   ],
   "source": [
    "cursor.execute(sql,(1,)) #(1,) : 튜플임을 나타내기 위함"
   ]
  },
  {
   "cell_type": "code",
   "execution_count": 19,
   "metadata": {},
   "outputs": [],
   "source": [
    "row = cursor.fetchone()"
   ]
  },
  {
   "cell_type": "code",
   "execution_count": 30,
   "metadata": {},
   "outputs": [
    {
     "name": "stdout",
     "output_type": "stream",
     "text": [
      "1, 홍길동, 02-1111-1111, mail@mail.com, 2021-04-13 09:25:25\n"
     ]
    }
   ],
   "source": [
    "fmt = \"{}, {}, {}, {}, {}\"\n",
    "print(fmt.format(row[0], row[1], row[2], row[3], row[4]))"
   ]
  },
  {
   "cell_type": "markdown",
   "metadata": {},
   "source": [
    "## 조건 추가"
   ]
  },
  {
   "cell_type": "code",
   "execution_count": 23,
   "metadata": {},
   "outputs": [],
   "source": [
    "sql = '''\n",
    "SELECT no, name, phone, email, rdate\n",
    "FROM crawling\n",
    "WHERE email = :email and name = :name\n",
    "'''"
   ]
  },
  {
   "cell_type": "code",
   "execution_count": 24,
   "metadata": {},
   "outputs": [
    {
     "data": {
      "text/plain": [
       "<cx_Oracle.Cursor on <cx_Oracle.Connection to hr@127.0.0.1:1521/XE>>"
      ]
     },
     "execution_count": 24,
     "metadata": {},
     "output_type": "execute_result"
    }
   ],
   "source": [
    "cursor.execute(sql, ('mail@mail.com', '홍길동'))"
   ]
  },
  {
   "cell_type": "code",
   "execution_count": 25,
   "metadata": {},
   "outputs": [
    {
     "name": "stdout",
     "output_type": "stream",
     "text": [
      "1, 홍길동, 02-1111-1111, mail@mail.com, 2021-04-13 09:25:25\n"
     ]
    }
   ],
   "source": [
    "row = cursor.fetchone()\n",
    "if row != None:\n",
    "    fmt = \"{}, {}, {}, {}, {}\"\n",
    "    print(fmt.format(row[0], row[1], row[2], row[3], row[4]))"
   ]
  },
  {
   "cell_type": "markdown",
   "metadata": {},
   "source": [
    "## 수정"
   ]
  },
  {
   "cell_type": "code",
   "execution_count": 27,
   "metadata": {},
   "outputs": [],
   "source": [
    "sql = '''\n",
    "UPDATE crawling\n",
    "SET name = :name, phone = :phone, email = :email, rdate = sysdate\n",
    "WHERE no = :no\n",
    "'''"
   ]
  },
  {
   "cell_type": "code",
   "execution_count": 28,
   "metadata": {},
   "outputs": [],
   "source": [
    "cursor.execute(sql, ('아로미', '000', '0000@mail.com', 1))"
   ]
  },
  {
   "cell_type": "code",
   "execution_count": 29,
   "metadata": {},
   "outputs": [],
   "source": [
    "conn.commit()"
   ]
  },
  {
   "cell_type": "markdown",
   "metadata": {},
   "source": [
    "## 삭제"
   ]
  },
  {
   "cell_type": "code",
   "execution_count": 31,
   "metadata": {},
   "outputs": [],
   "source": [
    "sql = '''\n",
    "DELETE FROM crawling\n",
    "WHERE no = :no\n",
    "'''"
   ]
  },
  {
   "cell_type": "code",
   "execution_count": 32,
   "metadata": {},
   "outputs": [],
   "source": [
    "cursor.execute(sql, (1,))"
   ]
  },
  {
   "cell_type": "code",
   "execution_count": 33,
   "metadata": {},
   "outputs": [],
   "source": [
    "conn.commit()"
   ]
  },
  {
   "cell_type": "code",
   "execution_count": 34,
   "metadata": {},
   "outputs": [],
   "source": [
    "cursor.close()\n",
    "conn.close() #이렇게 닫아주면 쥬피터에서 더이상 연동해서 사용할 수 없음\n",
    "             #재연결 시켜줘야함"
   ]
  },
  {
   "cell_type": "markdown",
   "metadata": {},
   "source": [
    "## pandas와 oracle 데이터 주고받기"
   ]
  },
  {
   "cell_type": "code",
   "execution_count": 1,
   "metadata": {},
   "outputs": [
    {
     "name": "stdout",
     "output_type": "stream",
     "text": [
      "Name: pandas\n",
      "Version: 1.2.3\n",
      "Summary: Powerful data structures for data analysis, time series, and statistics\n",
      "Home-page: https://pandas.pydata.org\n",
      "Author: None\n",
      "Author-email: None\n",
      "License: BSD\n",
      "Location: c:\\programdata\\anaconda3\\envs\\pydata\\lib\\site-packages\n",
      "Requires: python-dateutil, pytz, numpy\n",
      "Required-by: seaborn\n"
     ]
    }
   ],
   "source": [
    "!pip show pandas"
   ]
  },
  {
   "cell_type": "code",
   "execution_count": 2,
   "metadata": {},
   "outputs": [
    {
     "name": "stdout",
     "output_type": "stream",
     "text": [
      "Name: cx-Oracle\n",
      "Version: 8.1.0\n",
      "Summary: Python interface to Oracle\n",
      "Home-page: https://oracle.github.io/python-cx_Oracle\n",
      "Author: \"Anthony Tuininga\",\n",
      "Author-email: \"anthony.tuininga@gmail.com\",\n",
      "License: BSD License\n",
      "Location: c:\\programdata\\anaconda3\\envs\\pydata\\lib\\site-packages\n",
      "Requires: \n",
      "Required-by: \n"
     ]
    }
   ],
   "source": [
    "!pip show cx_oracle"
   ]
  },
  {
   "cell_type": "code",
   "execution_count": 3,
   "metadata": {},
   "outputs": [
    {
     "name": "stdout",
     "output_type": "stream",
     "text": [
      "Name: SQLAlchemy\n",
      "Version: 1.4.7\n",
      "Summary: Database Abstraction Library\n",
      "Home-page: http://www.sqlalchemy.org\n",
      "Author: Mike Bayer\n",
      "Author-email: mike_mp@zzzcomputing.com\n",
      "License: MIT\n",
      "Location: c:\\programdata\\anaconda3\\envs\\pydata\\lib\\site-packages\n",
      "Requires: greenlet, importlib-metadata\n",
      "Required-by: \n"
     ]
    }
   ],
   "source": [
    "!pip show sqlalchemy"
   ]
  },
  {
   "cell_type": "code",
   "execution_count": 12,
   "metadata": {},
   "outputs": [],
   "source": [
    "# Oracle -> Pandas\n",
    "import pandas as pd\n",
    "from sqlalchemy import create_engine"
   ]
  },
  {
   "cell_type": "code",
   "execution_count": 16,
   "metadata": {},
   "outputs": [],
   "source": [
    "conn = cx_Oracle.connect('hr/hr@127.0.0.1:1521/XE')"
   ]
  },
  {
   "cell_type": "code",
   "execution_count": 17,
   "metadata": {},
   "outputs": [],
   "source": [
    "sql = '''\n",
    "  SELECT no, name, phone, email, rdate\n",
    "  FROM crawling\n",
    "  ORDER BY no ASC\n",
    "'''"
   ]
  },
  {
   "cell_type": "code",
   "execution_count": 18,
   "metadata": {},
   "outputs": [],
   "source": [
    "df = pd.read_sql(sql, conn) #pd : 판다스 -> 판다스는 기본적으로 read_sql문을 갖고 있음\n",
    "                            #데이터를 데이터 프레임 안에 데리고 오는 것\n",
    "conn.close()"
   ]
  },
  {
   "cell_type": "code",
   "execution_count": 19,
   "metadata": {},
   "outputs": [
    {
     "data": {
      "text/html": [
       "<div>\n",
       "<style scoped>\n",
       "    .dataframe tbody tr th:only-of-type {\n",
       "        vertical-align: middle;\n",
       "    }\n",
       "\n",
       "    .dataframe tbody tr th {\n",
       "        vertical-align: top;\n",
       "    }\n",
       "\n",
       "    .dataframe thead th {\n",
       "        text-align: right;\n",
       "    }\n",
       "</style>\n",
       "<table border=\"1\" class=\"dataframe\">\n",
       "  <thead>\n",
       "    <tr style=\"text-align: right;\">\n",
       "      <th></th>\n",
       "      <th>NO</th>\n",
       "      <th>NAME</th>\n",
       "      <th>PHONE</th>\n",
       "      <th>EMAIL</th>\n",
       "      <th>RDATE</th>\n",
       "    </tr>\n",
       "  </thead>\n",
       "  <tbody>\n",
       "    <tr>\n",
       "      <th>0</th>\n",
       "      <td>2</td>\n",
       "      <td>나길순</td>\n",
       "      <td>010-1111-1111</td>\n",
       "      <td>mail2@mail.com</td>\n",
       "      <td>2021-04-13 09:26:45</td>\n",
       "    </tr>\n",
       "    <tr>\n",
       "      <th>1</th>\n",
       "      <td>3</td>\n",
       "      <td>다길동</td>\n",
       "      <td>010-1111-1112</td>\n",
       "      <td>mail3@mail.com</td>\n",
       "      <td>2021-04-13 09:26:45</td>\n",
       "    </tr>\n",
       "  </tbody>\n",
       "</table>\n",
       "</div>"
      ],
      "text/plain": [
       "   NO NAME          PHONE           EMAIL               RDATE\n",
       "0   2  나길순  010-1111-1111  mail2@mail.com 2021-04-13 09:26:45\n",
       "1   3  다길동  010-1111-1112  mail3@mail.com 2021-04-13 09:26:45"
      ]
     },
     "execution_count": 19,
     "metadata": {},
     "output_type": "execute_result"
    }
   ],
   "source": [
    "df #데이터 베이스에서 가져온 데이터 프레임"
   ]
  },
  {
   "cell_type": "code",
   "execution_count": 20,
   "metadata": {},
   "outputs": [
    {
     "data": {
      "text/plain": [
       "4"
      ]
     },
     "execution_count": 20,
     "metadata": {},
     "output_type": "execute_result"
    }
   ],
   "source": [
    "max_val = max(df['NO']) + 1 #데이터 프레임의 컬럼명은 대문자로 써야함\n",
    "max_val"
   ]
  },
  {
   "cell_type": "code",
   "execution_count": 21,
   "metadata": {},
   "outputs": [],
   "source": [
    "new_row = {\"NO\":max_val, \"NAME\":'아로미', \"PHONE\":'010-1111-1111', \"EMAIL\":'mail7@mail.com', \"RDATE\":'2021-04-13 10:35:00'}"
   ]
  },
  {
   "cell_type": "code",
   "execution_count": 22,
   "metadata": {},
   "outputs": [],
   "source": [
    "df2 = df.append(new_row, ignore_index = True) #데이터 프레임 안에 넣음"
   ]
  },
  {
   "cell_type": "code",
   "execution_count": 23,
   "metadata": {},
   "outputs": [
    {
     "data": {
      "text/html": [
       "<div>\n",
       "<style scoped>\n",
       "    .dataframe tbody tr th:only-of-type {\n",
       "        vertical-align: middle;\n",
       "    }\n",
       "\n",
       "    .dataframe tbody tr th {\n",
       "        vertical-align: top;\n",
       "    }\n",
       "\n",
       "    .dataframe thead th {\n",
       "        text-align: right;\n",
       "    }\n",
       "</style>\n",
       "<table border=\"1\" class=\"dataframe\">\n",
       "  <thead>\n",
       "    <tr style=\"text-align: right;\">\n",
       "      <th></th>\n",
       "      <th>NO</th>\n",
       "      <th>NAME</th>\n",
       "      <th>PHONE</th>\n",
       "      <th>EMAIL</th>\n",
       "      <th>RDATE</th>\n",
       "    </tr>\n",
       "  </thead>\n",
       "  <tbody>\n",
       "    <tr>\n",
       "      <th>0</th>\n",
       "      <td>2</td>\n",
       "      <td>나길순</td>\n",
       "      <td>010-1111-1111</td>\n",
       "      <td>mail2@mail.com</td>\n",
       "      <td>2021-04-13 09:26:45</td>\n",
       "    </tr>\n",
       "    <tr>\n",
       "      <th>1</th>\n",
       "      <td>3</td>\n",
       "      <td>다길동</td>\n",
       "      <td>010-1111-1112</td>\n",
       "      <td>mail3@mail.com</td>\n",
       "      <td>2021-04-13 09:26:45</td>\n",
       "    </tr>\n",
       "    <tr>\n",
       "      <th>2</th>\n",
       "      <td>4</td>\n",
       "      <td>아로미</td>\n",
       "      <td>010-1111-1111</td>\n",
       "      <td>mail7@mail.com</td>\n",
       "      <td>2021-04-13 10:35:00</td>\n",
       "    </tr>\n",
       "  </tbody>\n",
       "</table>\n",
       "</div>"
      ],
      "text/plain": [
       "   NO NAME          PHONE           EMAIL                RDATE\n",
       "0   2  나길순  010-1111-1111  mail2@mail.com  2021-04-13 09:26:45\n",
       "1   3  다길동  010-1111-1112  mail3@mail.com  2021-04-13 09:26:45\n",
       "2   4  아로미  010-1111-1111  mail7@mail.com  2021-04-13 10:35:00"
      ]
     },
     "execution_count": 23,
     "metadata": {},
     "output_type": "execute_result"
    }
   ],
   "source": [
    "df2 "
   ]
  },
  {
   "cell_type": "code",
   "execution_count": 26,
   "metadata": {},
   "outputs": [],
   "source": [
    "#오라클 테이블 생성\n",
    "conn = cx_Oracle.connect('hr/hr@127.0.0.1:1521/XE')\n",
    "cursor = conn.cursor()"
   ]
  },
  {
   "cell_type": "code",
   "execution_count": 27,
   "metadata": {},
   "outputs": [],
   "source": [
    "cursor.execute(\"drop table crawling\")"
   ]
  },
  {
   "cell_type": "code",
   "execution_count": 28,
   "metadata": {},
   "outputs": [],
   "source": [
    "cursor.execute('''\n",
    "CREATE table crawling(\n",
    "    no    number(7)   not null   primary key,\n",
    "    name  varchar(32) not null,\n",
    "    phone varchar(32) not null,\n",
    "    email varchar(32) not null,\n",
    "    rdate date        not null\n",
    ")\n",
    "''')"
   ]
  },
  {
   "cell_type": "code",
   "execution_count": 29,
   "metadata": {},
   "outputs": [],
   "source": [
    "df2['RDATE'] = pd.to_datetime(df2['RDATE']) #문자열(object)을 날짜 형태 타입으로 변환"
   ]
  },
  {
   "cell_type": "code",
   "execution_count": 31,
   "metadata": {},
   "outputs": [
    {
     "name": "stdout",
     "output_type": "stream",
     "text": [
      "<class 'pandas.core.frame.DataFrame'>\n",
      "RangeIndex: 3 entries, 0 to 2\n",
      "Data columns (total 5 columns):\n",
      " #   Column  Non-Null Count  Dtype         \n",
      "---  ------  --------------  -----         \n",
      " 0   NO      3 non-null      int64         \n",
      " 1   NAME    3 non-null      object        \n",
      " 2   PHONE   3 non-null      object        \n",
      " 3   EMAIL   3 non-null      object        \n",
      " 4   RDATE   3 non-null      datetime64[ns]\n",
      "dtypes: datetime64[ns](1), int64(1), object(3)\n",
      "memory usage: 248.0+ bytes\n"
     ]
    }
   ],
   "source": [
    "df2.info() #e데이터프레임 안의 데이터 타입을 보여주는 함수"
   ]
  },
  {
   "cell_type": "markdown",
   "metadata": {},
   "source": [
    "## df2를 crawling 테이블로 저장"
   ]
  },
  {
   "cell_type": "code",
   "execution_count": 40,
   "metadata": {},
   "outputs": [],
   "source": [
    "# Pandas -> Oracle\n",
    "engine = create_engine('oracle+cx_oracle://hr:hr@localhost:1521/?service_name=XE', echo=False)"
   ]
  },
  {
   "cell_type": "code",
   "execution_count": 42,
   "metadata": {},
   "outputs": [],
   "source": [
    "df2.to_sql(name='crawling', con=engine, if_exists='append', index=False) #to_sql 함수를 이용해 크롤링이라는 테이블에 연결"
   ]
  },
  {
   "cell_type": "code",
   "execution_count": 43,
   "metadata": {},
   "outputs": [],
   "source": [
    "#등록확인\n",
    "sql = '''\n",
    "SELECT no, name, phone, email, rdate\n",
    "FROM crawling\n",
    "ORDER BY no asc\n",
    "'''"
   ]
  },
  {
   "cell_type": "code",
   "execution_count": 44,
   "metadata": {},
   "outputs": [
    {
     "data": {
      "text/plain": [
       "<cx_Oracle.Cursor on <cx_Oracle.Connection to hr@127.0.0.1:1521/XE>>"
      ]
     },
     "execution_count": 44,
     "metadata": {},
     "output_type": "execute_result"
    }
   ],
   "source": [
    "cursor.execute(sql)"
   ]
  },
  {
   "cell_type": "code",
   "execution_count": 45,
   "metadata": {},
   "outputs": [],
   "source": [
    "rows = cursor.fetchall()"
   ]
  },
  {
   "cell_type": "code",
   "execution_count": 46,
   "metadata": {},
   "outputs": [
    {
     "name": "stdout",
     "output_type": "stream",
     "text": [
      "2, 나길순, 010-1111-1111, mail2@mail.com, 2021-04-13 09:26:45\n",
      "3, 다길동, 010-1111-1112, mail3@mail.com, 2021-04-13 09:26:45\n",
      "4, 아로미, 010-1111-1111, mail7@mail.com, 2021-04-13 10:35:00\n"
     ]
    }
   ],
   "source": [
    "for row in rows:\n",
    "    fmt = \"{}, {}, {}, {}, {}\"\n",
    "    print(fmt.format(row[0], row[1], row[2], row[3], row[4]))"
   ]
  },
  {
   "cell_type": "code",
   "execution_count": 47,
   "metadata": {},
   "outputs": [
    {
     "data": {
      "text/html": [
       "<div>\n",
       "<style scoped>\n",
       "    .dataframe tbody tr th:only-of-type {\n",
       "        vertical-align: middle;\n",
       "    }\n",
       "\n",
       "    .dataframe tbody tr th {\n",
       "        vertical-align: top;\n",
       "    }\n",
       "\n",
       "    .dataframe thead th {\n",
       "        text-align: right;\n",
       "    }\n",
       "</style>\n",
       "<table border=\"1\" class=\"dataframe\">\n",
       "  <thead>\n",
       "    <tr style=\"text-align: right;\">\n",
       "      <th></th>\n",
       "      <th>NO</th>\n",
       "      <th>NAME</th>\n",
       "      <th>PHONE</th>\n",
       "      <th>EMAIL</th>\n",
       "      <th>RDATE</th>\n",
       "    </tr>\n",
       "  </thead>\n",
       "  <tbody>\n",
       "    <tr>\n",
       "      <th>0</th>\n",
       "      <td>2</td>\n",
       "      <td>나길순</td>\n",
       "      <td>010-1111-1111</td>\n",
       "      <td>mail2@mail.com</td>\n",
       "      <td>2021-04-13 09:26:45</td>\n",
       "    </tr>\n",
       "    <tr>\n",
       "      <th>1</th>\n",
       "      <td>3</td>\n",
       "      <td>다길동</td>\n",
       "      <td>010-1111-1112</td>\n",
       "      <td>mail3@mail.com</td>\n",
       "      <td>2021-04-13 09:26:45</td>\n",
       "    </tr>\n",
       "    <tr>\n",
       "      <th>2</th>\n",
       "      <td>4</td>\n",
       "      <td>아로미</td>\n",
       "      <td>010-1111-1111</td>\n",
       "      <td>mail7@mail.com</td>\n",
       "      <td>2021-04-13 10:35:00</td>\n",
       "    </tr>\n",
       "  </tbody>\n",
       "</table>\n",
       "</div>"
      ],
      "text/plain": [
       "   NO NAME          PHONE           EMAIL               RDATE\n",
       "0   2  나길순  010-1111-1111  mail2@mail.com 2021-04-13 09:26:45\n",
       "1   3  다길동  010-1111-1112  mail3@mail.com 2021-04-13 09:26:45\n",
       "2   4  아로미  010-1111-1111  mail7@mail.com 2021-04-13 10:35:00"
      ]
     },
     "execution_count": 47,
     "metadata": {},
     "output_type": "execute_result"
    }
   ],
   "source": [
    "#데이터프레임으로 오라클 데이터 가져오기\n",
    "df3 = pd.read_sql(sql, conn)\n",
    "df3"
   ]
  },
  {
   "cell_type": "code",
   "execution_count": null,
   "metadata": {},
   "outputs": [],
   "source": []
  }
 ],
 "metadata": {
  "kernelspec": {
   "display_name": "pydata",
   "language": "python",
   "name": "pydata"
  },
  "language_info": {
   "codemirror_mode": {
    "name": "ipython",
    "version": 3
   },
   "file_extension": ".py",
   "mimetype": "text/x-python",
   "name": "python",
   "nbconvert_exporter": "python",
   "pygments_lexer": "ipython3",
   "version": "3.7.10"
  }
 },
 "nbformat": 4,
 "nbformat_minor": 4
}
