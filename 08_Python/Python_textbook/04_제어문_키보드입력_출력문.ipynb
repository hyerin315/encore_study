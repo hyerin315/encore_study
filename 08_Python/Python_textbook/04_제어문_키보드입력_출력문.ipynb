{
 "cells": [
  {
   "cell_type": "code",
   "execution_count": 2,
   "metadata": {},
   "outputs": [
    {
     "name": "stdout",
     "output_type": "stream",
     "text": [
      "x와 y는 서로 다릅니다.\n"
     ]
    }
   ],
   "source": [
    "# if-elif-else\n",
    "x = 3\n",
    "y = 5\n",
    "if x == y:\n",
    "    print('x는 y와 같습니다.')\n",
    "elif x > y:\n",
    "    print(\"x는 y보다 큽니다.\")\n",
    "else:\n",
    "    print(\"x와 y는 서로 다릅니다.\")"
   ]
  },
  {
   "cell_type": "code",
   "execution_count": 4,
   "metadata": {},
   "outputs": [
    {
     "name": "stdout",
     "output_type": "stream",
     "text": [
      "y is 7 less than x\n",
      "y is 6 less than x\n",
      "y is 5 less than x\n",
      "y is 4 less than x\n",
      "y is 3 less than x\n",
      "y is 2 less than x\n",
      "y is 1 less than x\n"
     ]
    }
   ],
   "source": [
    "#while\n",
    "x =9\n",
    "y = 2\n",
    "while y < x:\n",
    "    print('y is %d less than x' %(x-y))\n",
    "    y += 1"
   ]
  },
  {
   "cell_type": "code",
   "execution_count": 5,
   "metadata": {},
   "outputs": [
    {
     "name": "stdout",
     "output_type": "stream",
     "text": [
      "3\n",
      "4\n",
      "5\n",
      "6\n",
      "7\n",
      "8\n"
     ]
    }
   ],
   "source": [
    "#contine, break\n",
    "x = 0\n",
    "while x < 10:\n",
    "    x = x + 1\n",
    "    if x < 3:\n",
    "        continue  #다시 while문 첫번째로 이동, continue 아랫부분은 실행하지 않음\n",
    "    print(x)\n",
    "    if x > 7 :\n",
    "        break #while문을 완전히 빠져나온다\n"
   ]
  },
  {
   "cell_type": "code",
   "execution_count": 6,
   "metadata": {},
   "outputs": [
    {
     "name": "stdout",
     "output_type": "stream",
     "text": [
      "447\n",
      "100128\n"
     ]
    }
   ],
   "source": [
    "x = 1\n",
    "total = 0\n",
    "while 1: #무한반복 1 -> True\n",
    "    total = total + x\n",
    "    if total > 100000:\n",
    "        print(x)\n",
    "        print(total)\n",
    "        break\n",
    "    x = x + 1    "
   ]
  },
  {
   "cell_type": "code",
   "execution_count": 7,
   "metadata": {},
   "outputs": [
    {
     "name": "stdout",
     "output_type": "stream",
     "text": [
      "0\n",
      "1\n",
      "2\n",
      "3\n",
      "4\n",
      "5\n",
      "6\n",
      "7\n",
      "8\n",
      "9\n"
     ]
    }
   ],
   "source": [
    "for x in range(10):\n",
    "    print(x)"
   ]
  },
  {
   "cell_type": "code",
   "execution_count": 8,
   "metadata": {},
   "outputs": [
    {
     "name": "stdout",
     "output_type": "stream",
     "text": [
      "1\n",
      "2\n",
      "3\n",
      "4\n",
      "5\n"
     ]
    }
   ],
   "source": [
    "scope = [1,2,3,4,5]\n",
    "for x in scope:\n",
    "    print(x)"
   ]
  },
  {
   "cell_type": "code",
   "execution_count": 9,
   "metadata": {},
   "outputs": [
    {
     "name": "stdout",
     "output_type": "stream",
     "text": [
      "a\n",
      "b\n",
      "c\n",
      "d\n",
      "e\n",
      "f\n"
     ]
    }
   ],
   "source": [
    "str2 = 'abcdef'\n",
    "for c in str2:\n",
    "    print(c)"
   ]
  },
  {
   "cell_type": "code",
   "execution_count": 13,
   "metadata": {},
   "outputs": [
    {
     "name": "stdout",
     "output_type": "stream",
     "text": [
      "97 :\n",
      "98 :\n",
      "99 :\n"
     ]
    }
   ],
   "source": [
    "ascii_codes = {'a':97,'b':98, 'c':99}\n",
    "for c in ascii_codes.values():\n",
    "    print(c,\":\")"
   ]
  },
  {
   "cell_type": "code",
   "execution_count": 12,
   "metadata": {},
   "outputs": [
    {
     "data": {
      "text/plain": [
       "98"
      ]
     },
     "execution_count": 12,
     "metadata": {},
     "output_type": "execute_result"
    }
   ],
   "source": [
    "ord('b')"
   ]
  },
  {
   "cell_type": "code",
   "execution_count": 14,
   "metadata": {},
   "outputs": [
    {
     "name": "stdout",
     "output_type": "stream",
     "text": [
      "1\n",
      "2\n",
      "3\n"
     ]
    }
   ],
   "source": [
    "scope = [1,2,3,4,5]\n",
    "for x in scope:\n",
    "    print(x)\n",
    "    if x<3:\n",
    "        continue\n",
    "    else:\n",
    "        break"
   ]
  },
  {
   "cell_type": "code",
   "execution_count": 15,
   "metadata": {},
   "outputs": [
    {
     "name": "stdout",
     "output_type": "stream",
     "text": [
      "1\n",
      "2\n",
      "3\n",
      "Perfect\n"
     ]
    }
   ],
   "source": [
    "scope = [1,2,3]\n",
    "for x in scope:\n",
    "    print(x)\n",
    "else:\n",
    "    print(\"Perfect\") # for구문이 다 실행후 실행할 코드"
   ]
  },
  {
   "cell_type": "code",
   "execution_count": 1,
   "metadata": {},
   "outputs": [
    {
     "name": "stdout",
     "output_type": "stream",
     "text": [
      "Enter Your Name홍길동\n",
      "홍길동\n"
     ]
    }
   ],
   "source": [
    "name = input(\"Enter Your Name\")\n",
    "print(name)"
   ]
  },
  {
   "cell_type": "code",
   "execution_count": 2,
   "metadata": {},
   "outputs": [
    {
     "name": "stdout",
     "output_type": "stream",
     "text": [
      "Please provide an expression:4*12 = ?\n"
     ]
    },
    {
     "data": {
      "text/plain": [
       "'4*12 = ?'"
      ]
     },
     "execution_count": 2,
     "metadata": {},
     "output_type": "execute_result"
    }
   ],
   "source": [
    "val = input(\"Please provide an expression:\")\n",
    "val \n"
   ]
  },
  {
   "cell_type": "code",
   "execution_count": 3,
   "metadata": {},
   "outputs": [
    {
     "name": "stdout",
     "output_type": "stream",
     "text": [
      "This text will be printed to the command line\n"
     ]
    }
   ],
   "source": [
    "print ('This text will be printed to the command line')"
   ]
  },
  {
   "cell_type": "code",
   "execution_count": 4,
   "metadata": {},
   "outputs": [
    {
     "name": "stdout",
     "output_type": "stream",
     "text": [
      "I love programming in Jython\n"
     ]
    }
   ],
   "source": [
    "my_value = 'I love programming in Jython'\n",
    "print (my_value)"
   ]
  },
  {
   "cell_type": "code",
   "execution_count": 9,
   "metadata": {},
   "outputs": [
    {
     "name": "stdout",
     "output_type": "stream",
     "text": [
      "I am a fan of the number: 10\n"
     ]
    }
   ],
   "source": [
    "z = 10\n",
    "print ('I am a fan of the number: '+str(z))"
   ]
  },
  {
   "cell_type": "code",
   "execution_count": 10,
   "metadata": {},
   "outputs": [
    {
     "name": "stdout",
     "output_type": "stream",
     "text": [
      "내용 출력입니다.value값은:5, hello world, 그리고 3.998000\n"
     ]
    }
   ],
   "source": [
    "string_value=\"hello world\"\n",
    "float_value=3.998\n",
    "decimal_value=5\n",
    "print(\"내용 출력입니다.value값은:%d, %s, 그리고 %f\" %(decimal_value,string_value,float_value))"
   ]
  },
  {
   "cell_type": "code",
   "execution_count": 11,
   "metadata": {},
   "outputs": [
    {
     "name": "stdout",
     "output_type": "stream",
     "text": [
      "x+y=3\n"
     ]
    }
   ],
   "source": [
    "x=1\n",
    "y=2\n",
    "print(\"x+y=%d\" %(x+y))"
   ]
  },
  {
   "cell_type": "code",
   "execution_count": 12,
   "metadata": {},
   "outputs": [
    {
     "name": "stdout",
     "output_type": "stream",
     "text": [
      "2.3456\n",
      "2\n",
      "2.345600\n"
     ]
    }
   ],
   "source": [
    "x = 2.3456\n",
    "print('%s'%x)\n",
    "print('%d'%x)\n",
    "print('%f'%x)"
   ]
  },
  {
   "cell_type": "code",
   "execution_count": null,
   "metadata": {},
   "outputs": [],
   "source": []
  }
 ],
 "metadata": {
  "kernelspec": {
   "display_name": "pydata",
   "language": "python",
   "name": "pydata"
  },
  "language_info": {
   "codemirror_mode": {
    "name": "ipython",
    "version": 3
   },
   "file_extension": ".py",
   "mimetype": "text/x-python",
   "name": "python",
   "nbconvert_exporter": "python",
   "pygments_lexer": "ipython3",
   "version": "3.7.10"
  }
 },
 "nbformat": 4,
 "nbformat_minor": 5
}
