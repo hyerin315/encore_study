{
 "cells": [
  {
   "cell_type": "code",
   "execution_count": 1,
   "metadata": {},
   "outputs": [],
   "source": [
    "class Robot:\n",
    "    '''다양한 로봇을 만드는 클래스'''\n",
    "    def speak(self):\n",
    "        print('로봇이 말한다.')\n",
    "    def move(self):\n",
    "        print('로봇이 이동한다.')\n",
    "    def charge(self):\n",
    "        print('로봇이 충전한다.')"
   ]
  },
  {
   "cell_type": "code",
   "execution_count": 2,
   "metadata": {},
   "outputs": [],
   "source": [
    "class CleanRobot(Robot): #부모가 누구임을 명시, 객체 생성 시점에서 접근\n",
    "    def broom(self):\n",
    "        print('청소로봇이 먼지를 쓸어 담는다.')"
   ]
  },
  {
   "cell_type": "code",
   "execution_count": 3,
   "metadata": {},
   "outputs": [
    {
     "name": "stdout",
     "output_type": "stream",
     "text": [
      "로봇이 말한다.\n",
      "로봇이 이동한다.\n",
      "로봇이 충전한다.\n"
     ]
    }
   ],
   "source": [
    "robot = Robot() #부모 객체 생성\n",
    "robot.speak() #부모 메소드 사용\n",
    "robot.move()\n",
    "robot.charge()"
   ]
  },
  {
   "cell_type": "code",
   "execution_count": 4,
   "metadata": {},
   "outputs": [
    {
     "ename": "AttributeError",
     "evalue": "'Robot' object has no attribute 'broom'",
     "output_type": "error",
     "traceback": [
      "\u001b[1;31m---------------------------------------------------------------------------\u001b[0m",
      "\u001b[1;31mAttributeError\u001b[0m                            Traceback (most recent call last)",
      "\u001b[1;32m<ipython-input-4-d977eae3870d>\u001b[0m in \u001b[0;36m<module>\u001b[1;34m\u001b[0m\n\u001b[1;32m----> 1\u001b[1;33m \u001b[0mrobot\u001b[0m\u001b[1;33m.\u001b[0m\u001b[0mbroom\u001b[0m\u001b[1;33m(\u001b[0m\u001b[1;33m)\u001b[0m\u001b[1;33m\u001b[0m\u001b[1;33m\u001b[0m\u001b[0m\n\u001b[0m",
      "\u001b[1;31mAttributeError\u001b[0m: 'Robot' object has no attribute 'broom'"
     ]
    }
   ],
   "source": [
    "robot.broom()"
   ]
  },
  {
   "cell_type": "code",
   "execution_count": 13,
   "metadata": {
    "scrolled": true
   },
   "outputs": [
    {
     "name": "stdout",
     "output_type": "stream",
     "text": [
      "청소로봇이 먼지를 쓸어 담는다.\n",
      "로봇이 충전한다.\n",
      "로봇이 이동한다.\n",
      "로봇이 말한다.\n"
     ]
    }
   ],
   "source": [
    "clean = CleanRobot()\n",
    "clean.broom()\n",
    "clean.charge()\n",
    "clean.move()\n",
    "clean.speak() #부모의 것을 상속 받아 사용 가능"
   ]
  },
  {
   "cell_type": "code",
   "execution_count": 17,
   "metadata": {},
   "outputs": [],
   "source": [
    "class Parent:\n",
    "    def __init__(self, name):\n",
    "        self.name = name #부모 객체 속성"
   ]
  },
  {
   "cell_type": "code",
   "execution_count": 18,
   "metadata": {},
   "outputs": [],
   "source": [
    "class Child(Parent):\n",
    "    pass"
   ]
  },
  {
   "cell_type": "code",
   "execution_count": 19,
   "metadata": {},
   "outputs": [],
   "source": [
    "c = Child('홍길동') #부모부터 생성하고 있기 때문애, 부모의 매개변수가 없으면 오류"
   ]
  },
  {
   "cell_type": "code",
   "execution_count": 20,
   "metadata": {},
   "outputs": [
    {
     "data": {
      "text/plain": [
       "'홍길동'"
      ]
     },
     "execution_count": 20,
     "metadata": {},
     "output_type": "execute_result"
    }
   ],
   "source": [
    "c.name"
   ]
  },
  {
   "cell_type": "code",
   "execution_count": 29,
   "metadata": {},
   "outputs": [],
   "source": [
    "class Parent:\n",
    "    def __init__(self, name):\n",
    "        self.name = name\n",
    "        print('부모')"
   ]
  },
  {
   "cell_type": "code",
   "execution_count": 30,
   "metadata": {},
   "outputs": [],
   "source": [
    "class Child(Parent):\n",
    "    def __init__(self, name, age):\n",
    "        super().__init__(name)\n",
    "        self.age = age\n",
    "        print('자식')"
   ]
  },
  {
   "cell_type": "code",
   "execution_count": 31,
   "metadata": {},
   "outputs": [
    {
     "name": "stdout",
     "output_type": "stream",
     "text": [
      "부모\n",
      "자식\n"
     ]
    }
   ],
   "source": [
    "c = Child('김길동', 25)"
   ]
  },
  {
   "cell_type": "code",
   "execution_count": 34,
   "metadata": {},
   "outputs": [
    {
     "data": {
      "text/plain": [
       "('김길동', 25)"
      ]
     },
     "execution_count": 34,
     "metadata": {},
     "output_type": "execute_result"
    }
   ],
   "source": [
    "c.name, c.age"
   ]
  },
  {
   "cell_type": "code",
   "execution_count": 40,
   "metadata": {},
   "outputs": [],
   "source": [
    "class Robot:\n",
    "    '''다양한 로봇을 만드는 클래스'''\n",
    "    def __init__(self, name, pos):\n",
    "        self.name = name\n",
    "        self.pos = pos\n",
    "    \n",
    "    def move(self):\n",
    "        print('로봇이 이동한다')\n",
    "    \n",
    "    def charge(self):\n",
    "        print('로봇이 충전한다')"
   ]
  },
  {
   "cell_type": "code",
   "execution_count": 41,
   "metadata": {},
   "outputs": [],
   "source": [
    "class Child(Robot):\n",
    "    def __init__(self, name, pos, filtertype):\n",
    "        super().__init__(name, pos) #부모의 __init__ 호출\n",
    "        self.filtertype = filtertype\n",
    "    \n",
    "    def broom(self):\n",
    "        print('청소로봇이 먼지를 쓸어 담는다')\n",
    "    \n",
    "    def __str__(self): #객체 출력시, __str__()의 리턴값 출력\n",
    "        word = '{}를 장착한 {},{}에서 시작'\\\n",
    "                .format(self.filtertype, self.name, self.pos)\n",
    "        return word"
   ]
  },
  {
   "cell_type": "code",
   "execution_count": 42,
   "metadata": {},
   "outputs": [],
   "source": [
    "clean = Child('청소로봇', (20,45), '먼지필터')"
   ]
  },
  {
   "cell_type": "code",
   "execution_count": 43,
   "metadata": {},
   "outputs": [
    {
     "name": "stdout",
     "output_type": "stream",
     "text": [
      "먼지필터를 장착한 청소로봇,(20, 45)에서 시작\n"
     ]
    }
   ],
   "source": [
    "print(clean)"
   ]
  },
  {
   "cell_type": "code",
   "execution_count": 45,
   "metadata": {},
   "outputs": [
    {
     "name": "stdout",
     "output_type": "stream",
     "text": [
      "로봇이 이동한다\n",
      "청소로봇이 먼지를 쓸어 담는다\n"
     ]
    }
   ],
   "source": [
    "clean.move()\n",
    "clean.broom()"
   ]
  },
  {
   "cell_type": "code",
   "execution_count": 71,
   "metadata": {},
   "outputs": [],
   "source": [
    "class Parent:\n",
    "    name=\"Parent\"\n",
    "    def print_name(self) :\n",
    "        print(\"Parent\")"
   ]
  },
  {
   "cell_type": "code",
   "execution_count": 72,
   "metadata": {},
   "outputs": [],
   "source": [
    "class Child(Parent) :\n",
    "    name = \"Child\"\n",
    "    def print_name(self) :\n",
    "        print(\"Child\")"
   ]
  },
  {
   "cell_type": "code",
   "execution_count": 76,
   "metadata": {},
   "outputs": [],
   "source": [
    "c = Child()"
   ]
  },
  {
   "cell_type": "code",
   "execution_count": 77,
   "metadata": {},
   "outputs": [
    {
     "data": {
      "text/plain": [
       "'Child'"
      ]
     },
     "execution_count": 77,
     "metadata": {},
     "output_type": "execute_result"
    }
   ],
   "source": [
    "c.name"
   ]
  },
  {
   "cell_type": "code",
   "execution_count": 78,
   "metadata": {},
   "outputs": [
    {
     "name": "stdout",
     "output_type": "stream",
     "text": [
      "Child\n"
     ]
    }
   ],
   "source": [
    "c.print_name()"
   ]
  },
  {
   "cell_type": "code",
   "execution_count": 79,
   "metadata": {},
   "outputs": [],
   "source": [
    "class Animal:\n",
    "    def say(self, message):\n",
    "        return message"
   ]
  },
  {
   "cell_type": "code",
   "execution_count": 80,
   "metadata": {},
   "outputs": [],
   "source": [
    "class Dog(Animal):\n",
    "    def say(self, message):\n",
    "        print(\"강아지가 소리가 냅니다\", message)"
   ]
  },
  {
   "cell_type": "code",
   "execution_count": 81,
   "metadata": {},
   "outputs": [],
   "source": [
    "class Bird(Animal):\n",
    "    def say(self, message):\n",
    "        print(\"새가 노래를 부릅니다\", message)"
   ]
  },
  {
   "cell_type": "code",
   "execution_count": 84,
   "metadata": {},
   "outputs": [
    {
     "data": {
      "text/plain": [
       "'엉엉엉'"
      ]
     },
     "execution_count": 84,
     "metadata": {},
     "output_type": "execute_result"
    }
   ],
   "source": [
    "a = Animal()\n",
    "a.say(\"엉엉엉\")"
   ]
  },
  {
   "cell_type": "code",
   "execution_count": 87,
   "metadata": {},
   "outputs": [
    {
     "name": "stdout",
     "output_type": "stream",
     "text": [
      "강아지가 소리가 냅니다 멍멍멍\n"
     ]
    }
   ],
   "source": [
    "d = Dog()\n",
    "d.say(\"멍멍멍\")"
   ]
  },
  {
   "cell_type": "code",
   "execution_count": 89,
   "metadata": {},
   "outputs": [
    {
     "name": "stdout",
     "output_type": "stream",
     "text": [
      "새가 노래를 부릅니다 짹짹짹\n"
     ]
    }
   ],
   "source": [
    "b = Bird()\n",
    "b.say(\"짹짹짹\")"
   ]
  },
  {
   "cell_type": "code",
   "execution_count": 92,
   "metadata": {},
   "outputs": [],
   "source": [
    "class Robot:\n",
    "    '''다양한 로봇을 만드는 클래스'''\n",
    "    def move(self):\n",
    "        print('로봇이 이동한다')\n",
    "    \n",
    "    def charge(self):\n",
    "        print('로봇이 충전한다')"
   ]
  },
  {
   "cell_type": "code",
   "execution_count": 93,
   "metadata": {},
   "outputs": [],
   "source": [
    "class CleanRobot(Robot):\n",
    "    def move(self):\n",
    "        print('청소로봇이 이동한다')\n",
    "    \n",
    "    def charge(self):\n",
    "        print('청소로봇이 충전한다')"
   ]
  },
  {
   "cell_type": "code",
   "execution_count": 94,
   "metadata": {},
   "outputs": [
    {
     "name": "stdout",
     "output_type": "stream",
     "text": [
      "로봇이 이동한다\n",
      "로봇이 충전한다\n"
     ]
    }
   ],
   "source": [
    "robot = Robot() #부모 객체 생성\n",
    "robot.move()\n",
    "robot.charge()"
   ]
  },
  {
   "cell_type": "code",
   "execution_count": 95,
   "metadata": {},
   "outputs": [],
   "source": [
    "clean = CleanRobot() #자식과 부모가 각각 생김 -> 부모와 자식 모두 접근 가능 -> 메소드명이 동일해서 자식에 있는 메소드가 호출"
   ]
  },
  {
   "cell_type": "code",
   "execution_count": 96,
   "metadata": {},
   "outputs": [
    {
     "name": "stdout",
     "output_type": "stream",
     "text": [
      "청소로봇이 이동한다\n",
      "청소로봇이 충전한다\n"
     ]
    }
   ],
   "source": [
    "clean.move()\n",
    "clean.charge()"
   ]
  },
  {
   "cell_type": "code",
   "execution_count": 97,
   "metadata": {},
   "outputs": [],
   "source": [
    "class Association:\n",
    "    def other_init(self, other, name): #(self, other, name) : 매개변수로 client 같은 다른 객체의 속성을 생성, other : c(Client), name : 아로미\n",
    "        other.name = name #name이라는 영역속성을 만든다 = 메모리를 만든다, 객체안의 변수를 동적으로 만드는 중"
   ]
  },
  {
   "cell_type": "code",
   "execution_count": 99,
   "metadata": {},
   "outputs": [],
   "source": [
    "class Client:\n",
    "    def __init__(self, name, age): #name : 아로미, age : 25\n",
    "        _name = Association() #Client 객체가 생성 -> __init__호출 될때, Association 클래스 객체 생성\n",
    "                              # 속성값으로 Association의 객체를 할당한다, Association의 참조값 id가 들어감\n",
    "        _name.other_init(self, name) #(self = Client, name) 인자가 매개변수로 Association의 other, name으로 감\n",
    "        self.age = age"
   ]
  },
  {
   "cell_type": "code",
   "execution_count": 100,
   "metadata": {},
   "outputs": [],
   "source": [
    "c = Client('아로미', 25)"
   ]
  },
  {
   "cell_type": "code",
   "execution_count": 102,
   "metadata": {},
   "outputs": [
    {
     "data": {
      "text/plain": [
       "('아로미', 25)"
      ]
     },
     "execution_count": 102,
     "metadata": {},
     "output_type": "execute_result"
    }
   ],
   "source": [
    "c.name, c.age"
   ]
  },
  {
   "cell_type": "code",
   "execution_count": 103,
   "metadata": {},
   "outputs": [],
   "source": [
    "import random"
   ]
  },
  {
   "cell_type": "code",
   "execution_count": 114,
   "metadata": {},
   "outputs": [],
   "source": [
    "class Motor:\n",
    "    def __init__(self):\n",
    "        self.distance = 0\n",
    "        \n",
    "    def forword(self):\n",
    "        print('앞으로 이동한다')\n",
    "        self.distance += 1\n",
    "    \n",
    "    def backword(self):\n",
    "        print('뒤로 이동한다')\n",
    "        self.distance -= 1"
   ]
  },
  {
   "cell_type": "code",
   "execution_count": 115,
   "metadata": {},
   "outputs": [],
   "source": [
    "class Robot:\n",
    "    '''다양한 로봇을 만드는 클래스'''\n",
    "    def __init__(self):\n",
    "        self.drive = Motor() #객체 변수에 생성\n",
    "    \n",
    "    def __str__(self): #객체출력하면 보여줄 문자열\n",
    "        return '이동거리: {}'.format(self.drive.distance)"
   ]
  },
  {
   "cell_type": "code",
   "execution_count": 116,
   "metadata": {},
   "outputs": [],
   "source": [
    "robot = Robot()"
   ]
  },
  {
   "cell_type": "code",
   "execution_count": 117,
   "metadata": {},
   "outputs": [
    {
     "name": "stdout",
     "output_type": "stream",
     "text": [
      "이동거리: 0\n"
     ]
    }
   ],
   "source": [
    "print(robot)"
   ]
  },
  {
   "cell_type": "code",
   "execution_count": 119,
   "metadata": {},
   "outputs": [
    {
     "name": "stdout",
     "output_type": "stream",
     "text": [
      "앞으로 이동한다\n",
      "앞으로 이동한다\n",
      "뒤로 이동한다\n",
      "뒤로 이동한다\n",
      "앞으로 이동한다\n",
      "앞으로 이동한다\n",
      "앞으로 이동한다\n",
      "뒤로 이동한다\n",
      "뒤로 이동한다\n",
      "뒤로 이동한다\n"
     ]
    }
   ],
   "source": [
    "for i in range(10):\n",
    "    #randint(최소, 최대):최소부터 최대까지 중 임의의 정수를 리턴한다\n",
    "    #0,1 둘중 하나의 값이 임의로 나온다.\n",
    "    if random.randint(0,1): #0 : flase, 1 : true\n",
    "        robot.drive.forword()\n",
    "    else: #0일때\n",
    "        robot.drive.backword()"
   ]
  },
  {
   "cell_type": "code",
   "execution_count": 120,
   "metadata": {},
   "outputs": [
    {
     "name": "stdout",
     "output_type": "stream",
     "text": [
      "이동거리: 0\n"
     ]
    }
   ],
   "source": [
    "print(robot)"
   ]
  },
  {
   "cell_type": "code",
   "execution_count": 122,
   "metadata": {},
   "outputs": [
    {
     "name": "stdout",
     "output_type": "stream",
     "text": [
      "나눌 숫자를 입력하세요 ㅇ\n"
     ]
    },
    {
     "ename": "ValueError",
     "evalue": "invalid literal for int() with base 10: 'ㅇ'",
     "output_type": "error",
     "traceback": [
      "\u001b[1;31m---------------------------------------------------------------------------\u001b[0m",
      "\u001b[1;31mValueError\u001b[0m                                Traceback (most recent call last)",
      "\u001b[1;32m<ipython-input-122-366a1a8406cb>\u001b[0m in \u001b[0;36m<module>\u001b[1;34m\u001b[0m\n\u001b[0;32m      1\u001b[0m \u001b[1;31m#예외처리\u001b[0m\u001b[1;33m\u001b[0m\u001b[1;33m\u001b[0m\u001b[1;33m\u001b[0m\u001b[0m\n\u001b[1;32m----> 2\u001b[1;33m \u001b[0mnumber\u001b[0m \u001b[1;33m=\u001b[0m \u001b[0mint\u001b[0m\u001b[1;33m(\u001b[0m\u001b[0minput\u001b[0m\u001b[1;33m(\u001b[0m\u001b[1;34m'나눌 숫자를 입력하세요 '\u001b[0m\u001b[1;33m)\u001b[0m\u001b[1;33m)\u001b[0m \u001b[1;31m#0이 아닌숫자, 0, 문자입력\u001b[0m\u001b[1;33m\u001b[0m\u001b[1;33m\u001b[0m\u001b[0m\n\u001b[0m\u001b[0;32m      3\u001b[0m \u001b[1;33m\u001b[0m\u001b[0m\n\u001b[0;32m      4\u001b[0m \u001b[1;32mtry\u001b[0m\u001b[1;33m:\u001b[0m\u001b[1;33m\u001b[0m\u001b[1;33m\u001b[0m\u001b[0m\n\u001b[0;32m      5\u001b[0m     \u001b[0mresult\u001b[0m \u001b[1;33m=\u001b[0m \u001b[1;36m10\u001b[0m\u001b[1;33m/\u001b[0m\u001b[0mnumber\u001b[0m\u001b[1;33m\u001b[0m\u001b[1;33m\u001b[0m\u001b[0m\n",
      "\u001b[1;31mValueError\u001b[0m: invalid literal for int() with base 10: 'ㅇ'"
     ]
    }
   ],
   "source": [
    "#예외처리(강의 자료에 중복되었는데 복습차원에서 한 번 더 나감)\n",
    "number = int(input('나눌 숫자를 입력하세요 ')) #0이 아닌숫자, 0, 문자입력\n",
    " \n",
    "try:\n",
    "    result = 10/number\n",
    "except ZeroDivisionError: \n",
    "    print('0으로 나누면 안되요.')\n",
    "else:\n",
    "    print(result)\n",
    "    \n",
    "print(\"프로그램 정상 종료\")    "
   ]
  },
  {
   "cell_type": "code",
   "execution_count": 127,
   "metadata": {},
   "outputs": [
    {
     "name": "stdout",
     "output_type": "stream",
     "text": [
      "나눌 숫자를 입력하세요 a\n",
      "숫자만 입력하세요.\n"
     ]
    }
   ],
   "source": [
    "try:\n",
    "    number = int(input('나눌 숫자를 입력하세요 '))\n",
    "    result = 10/number\n",
    "except ValueError:\n",
    "    print('숫자만 입력하세요.')\n",
    "except ZeroDivisionError:\n",
    "    print('0으로 나누면 안되요.')\n",
    "except: #오류명 생략 -> 모든 종류의 오류 받을 수 있음\n",
    "    print('2가지 외에 개발자가 전혀 예측하지 못한 에러ㅠㅠ')\n",
    "else:\n",
    "    print(result)"
   ]
  },
  {
   "cell_type": "code",
   "execution_count": 135,
   "metadata": {},
   "outputs": [
    {
     "name": "stdout",
     "output_type": "stream",
     "text": [
      "나눌 숫자를 입력하세요 \n",
      "문자나 0으로 나누면 안돼요\n"
     ]
    }
   ],
   "source": [
    "try:\n",
    "    number = int(input('나눌 숫자를 입력하세요'))\n",
    "    result = 10/number\n",
    "except(ValueError, ZeroDivisionError): #두 개로 묶어 사용할 수 있음수 있음\n",
    "    print('문자나 0으로 나누면 안돼요')\n",
    "except:\n",
    "    print('2가지 외에 개발자가 전혀 예측하지 못한 에러...')\n",
    "else:\n",
    "    print(result)"
   ]
  },
  {
   "cell_type": "code",
   "execution_count": 136,
   "metadata": {},
   "outputs": [],
   "source": [
    "def openFile():\n",
    "    file = open('없는 파일.txt')\n",
    "    lint = file.readline()\n",
    "    number = int(line.strip()) #strip() 양쪽의 공백과 \\n은 없애준다"
   ]
  },
  {
   "cell_type": "code",
   "execution_count": 137,
   "metadata": {},
   "outputs": [
    {
     "name": "stdout",
     "output_type": "stream",
     "text": [
      "시스템 에러: [Errno 2] No such file or directory: '없는 파일.txt'\n"
     ]
    }
   ],
   "source": [
    "try:\n",
    "    openFile()\n",
    "except OSError as err:\n",
    "    print('시스템 에러:', err) #err : 에러메세지\n",
    "except:\n",
    "    print('내가 예측할 수 없는 에러...')\n",
    "else:\n",
    "    print(number)"
   ]
  },
  {
   "cell_type": "code",
   "execution_count": 150,
   "metadata": {},
   "outputs": [],
   "source": [
    "def writeFIle():\n",
    "    try:\n",
    "        f = open('file', 'w')\n",
    "        try:\n",
    "            f.write('Hello World!')\n",
    "        finally:\n",
    "            f.close()\n",
    "    except OSError:\n",
    "        print('oops!')"
   ]
  },
  {
   "cell_type": "code",
   "execution_count": 191,
   "metadata": {},
   "outputs": [],
   "source": [
    "def readFile():\n",
    "    try:\n",
    "        f = open('file', 'r')\n",
    "        line = f.readline()\n",
    "    except OSError:\n",
    "        print('오류가 났습니다!')\n",
    "    else:\n",
    "        print(line)\n",
    "    finally:\n",
    "        f.close()"
   ]
  },
  {
   "cell_type": "code",
   "execution_count": 192,
   "metadata": {},
   "outputs": [],
   "source": [
    "writeFIle()"
   ]
  },
  {
   "cell_type": "code",
   "execution_count": 193,
   "metadata": {},
   "outputs": [
    {
     "name": "stdout",
     "output_type": "stream",
     "text": [
      "Hello World!\n"
     ]
    }
   ],
   "source": [
    "readFile()"
   ]
  },
  {
   "cell_type": "code",
   "execution_count": 194,
   "metadata": {},
   "outputs": [],
   "source": [
    "import math"
   ]
  },
  {
   "cell_type": "code",
   "execution_count": 210,
   "metadata": {},
   "outputs": [
    {
     "name": "stdout",
     "output_type": "stream",
     "text": [
      "이차 방정식이 아니에요. (0, 100, 10)\n"
     ]
    }
   ],
   "source": [
    "class QuadError(Exception): #Exception 상속받는다.\n",
    "    pass\n",
    " \n",
    "    def quad(a,b,c):\n",
    "        if a == 0:\n",
    "            qe = QuadError(\"이차 방정식이 아니에요.\") #객체생성\n",
    "            qe.member= (a, b, c) #객체변수\n",
    "            raise qe #이차방정식이 아닐때 오류 발생\n",
    "        if b*b-4*a*c < 0:\n",
    "            qe = QuadError(\"방정식의 근이 없어요.\")\n",
    "            qe.member= (a, b, c)\n",
    "            raise qe\n",
    "        x1 = (-b+math.sqrt(b*b-4*a*c))/(2*a)\n",
    "        x2 = (-b-math.sqrt(b*b-4*a*c))/(2*a)\n",
    "        return (x1, x2)\n",
    " \n",
    "    def getQuad( a, b, c ):\n",
    "        try:\n",
    "            x1, x2 = quad( a, b, c )\n",
    "            print(\"방정식의 근은\", x1, x2)\n",
    "        except QuadError as err:\n",
    "            print(err, err.member)\n",
    " \n",
    "getQuad(0, 100, 10)"
   ]
  },
  {
   "cell_type": "code",
   "execution_count": null,
   "metadata": {},
   "outputs": [],
   "source": []
  }
 ],
 "metadata": {
  "kernelspec": {
   "display_name": "pydata",
   "language": "python",
   "name": "pydata"
  },
  "language_info": {
   "codemirror_mode": {
    "name": "ipython",
    "version": 3
   },
   "file_extension": ".py",
   "mimetype": "text/x-python",
   "name": "python",
   "nbconvert_exporter": "python",
   "pygments_lexer": "ipython3",
   "version": "3.7.10"
  }
 },
 "nbformat": 4,
 "nbformat_minor": 4
}
