{
 "cells": [
  {
   "cell_type": "code",
   "execution_count": 1,
   "metadata": {},
   "outputs": [],
   "source": [
    "#1\n",
    "txt1 = 'A tale that was not right'\n",
    "txt2 = '이 또한 지나가리라.'"
   ]
  },
  {
   "cell_type": "code",
   "execution_count": 2,
   "metadata": {},
   "outputs": [
    {
     "data": {
      "text/plain": [
       "('e', '라')"
      ]
     },
     "execution_count": 2,
     "metadata": {},
     "output_type": "execute_result"
    }
   ],
   "source": [
    "txt1[5], txt2[-2]"
   ]
  },
  {
   "cell_type": "code",
   "execution_count": 3,
   "metadata": {},
   "outputs": [
    {
     "data": {
      "text/plain": [
       "('ale ', 'A tale', '가리라.')"
      ]
     },
     "execution_count": 3,
     "metadata": {},
     "output_type": "execute_result"
    }
   ],
   "source": [
    "txt1[3:7], txt1[:6], txt2[-4:]"
   ]
  },
  {
   "cell_type": "code",
   "execution_count": 7,
   "metadata": {},
   "outputs": [
    {
     "name": "stdout",
     "output_type": "stream",
     "text": [
      "p\n",
      "py\n",
      "pyt\n",
      "pyth\n",
      "pytho\n",
      "python\n"
     ]
    }
   ],
   "source": [
    "#2\n",
    "txt = \"python\"\n",
    "\n",
    "for i in range(len(txt)):\n",
    "    print(txt[:i+1]) #0부터 1까지, 0부터 2까지....."
   ]
  },
  {
   "cell_type": "code",
   "execution_count": 8,
   "metadata": {},
   "outputs": [],
   "source": [
    "#3\n",
    "txt = 'aAbBcCdDeEfFgGhHiIjJkK'"
   ]
  },
  {
   "cell_type": "code",
   "execution_count": 9,
   "metadata": {},
   "outputs": [
    {
     "name": "stdout",
     "output_type": "stream",
     "text": [
      "abcdefghijk\n"
     ]
    }
   ],
   "source": [
    "print(txt[::2])"
   ]
  },
  {
   "cell_type": "code",
   "execution_count": 10,
   "metadata": {},
   "outputs": [
    {
     "name": "stdout",
     "output_type": "stream",
     "text": [
      "ABCDEFGHIJK\n"
     ]
    }
   ],
   "source": [
    "print(txt[1::2])"
   ]
  },
  {
   "cell_type": "code",
   "execution_count": 11,
   "metadata": {},
   "outputs": [],
   "source": [
    "txt = 'abcdefghijk'"
   ]
  },
  {
   "cell_type": "code",
   "execution_count": 18,
   "metadata": {},
   "outputs": [
    {
     "name": "stdout",
     "output_type": "stream",
     "text": [
      "kjihgfedcba\n"
     ]
    }
   ],
   "source": [
    "print(txt[::-1])"
   ]
  },
  {
   "cell_type": "code",
   "execution_count": 16,
   "metadata": {},
   "outputs": [
    {
     "name": "stdout",
     "output_type": "stream",
     "text": [
      "kigeca\n"
     ]
    }
   ],
   "source": [
    "print(txt[::-2])"
   ]
  },
  {
   "cell_type": "code",
   "execution_count": 19,
   "metadata": {},
   "outputs": [
    {
     "name": "stdout",
     "output_type": "stream",
     "text": [
      "jhfdb\n"
     ]
    }
   ],
   "source": [
    "print(txt[-2::-2])"
   ]
  },
  {
   "cell_type": "code",
   "execution_count": 22,
   "metadata": {},
   "outputs": [
    {
     "name": "stdout",
     "output_type": "stream",
     "text": [
      "저장할 파일 이름을 입력하세요: test\n",
      "당신이 저장한 파일은 <test.jpg> 입니다.\n"
     ]
    }
   ],
   "source": [
    "#4\n",
    "filename = input('저장할 파일 이름을 입력하세요: ')\n",
    "filename = filename + '.jpg'\n",
    "display_msg = '당신이 저장한 파일은 <' + filename + '> 입니다.'\n",
    "display_msg"
   ]
  },
  {
   "cell_type": "code",
   "execution_count": 25,
   "metadata": {},
   "outputs": [
    {
     "data": {
      "text/plain": [
       "'여러분,파이팅파이팅파이팅~!'"
      ]
     },
     "execution_count": 25,
     "metadata": {},
     "output_type": "execute_result"
    }
   ],
   "source": [
    "msg1 = '여러분'\n",
    "msg2 = '파이팅'\n",
    "display_msg = msg1 + ',' + msg2 * 3 + '~!'\n",
    "display_msg"
   ]
  },
  {
   "cell_type": "code",
   "execution_count": 26,
   "metadata": {},
   "outputs": [
    {
     "name": "stdout",
     "output_type": "stream",
     "text": [
      "문장입력I'm a student\n",
      "a 포함\n"
     ]
    }
   ],
   "source": [
    "#5\n",
    "msg = input('문장입력')\n",
    "if 'a' in msg:\n",
    "    print('a 포함')\n",
    "else:\n",
    "    print('a 안포함')"
   ]
  },
  {
   "cell_type": "code",
   "execution_count": 27,
   "metadata": {},
   "outputs": [
    {
     "name": "stdout",
     "output_type": "stream",
     "text": [
      "문장입력my name is\n",
      "is 포함\n"
     ]
    }
   ],
   "source": [
    "msg = input('문장입력')\n",
    "if 'is' in msg:\n",
    "    print('is 포함')\n",
    "else:\n",
    "    print('is 안포함')"
   ]
  },
  {
   "cell_type": "code",
   "execution_count": 28,
   "metadata": {},
   "outputs": [],
   "source": [
    "#6\n",
    "txt1 = 'A'\n",
    "txt2 = '안녕'\n",
    "txt3 = 'Warcraft Three'\n",
    "txt4 = '3PO'"
   ]
  },
  {
   "cell_type": "code",
   "execution_count": 32,
   "metadata": {},
   "outputs": [
    {
     "data": {
      "text/plain": [
       "True"
      ]
     },
     "execution_count": 32,
     "metadata": {},
     "output_type": "execute_result"
    }
   ],
   "source": [
    "txt1.isalpha()"
   ]
  },
  {
   "cell_type": "code",
   "execution_count": 33,
   "metadata": {},
   "outputs": [
    {
     "data": {
      "text/plain": [
       "True"
      ]
     },
     "execution_count": 33,
     "metadata": {},
     "output_type": "execute_result"
    }
   ],
   "source": [
    "txt2.isalpha()"
   ]
  },
  {
   "cell_type": "code",
   "execution_count": 34,
   "metadata": {},
   "outputs": [
    {
     "data": {
      "text/plain": [
       "False"
      ]
     },
     "execution_count": 34,
     "metadata": {},
     "output_type": "execute_result"
    }
   ],
   "source": [
    "txt3.isalpha()"
   ]
  },
  {
   "cell_type": "code",
   "execution_count": 35,
   "metadata": {},
   "outputs": [
    {
     "data": {
      "text/plain": [
       "False"
      ]
     },
     "execution_count": 35,
     "metadata": {},
     "output_type": "execute_result"
    }
   ],
   "source": [
    "txt4.isalpha()"
   ]
  },
  {
   "cell_type": "code",
   "execution_count": 36,
   "metadata": {},
   "outputs": [],
   "source": [
    "txt1 = '010-1234-5678'\n",
    "txt2 = 'R2D2'\n",
    "txt3 = '1212'"
   ]
  },
  {
   "cell_type": "code",
   "execution_count": 37,
   "metadata": {},
   "outputs": [
    {
     "data": {
      "text/plain": [
       "False"
      ]
     },
     "execution_count": 37,
     "metadata": {},
     "output_type": "execute_result"
    }
   ],
   "source": [
    "txt1.isdigit()"
   ]
  },
  {
   "cell_type": "code",
   "execution_count": 38,
   "metadata": {},
   "outputs": [
    {
     "data": {
      "text/plain": [
       "False"
      ]
     },
     "execution_count": 38,
     "metadata": {},
     "output_type": "execute_result"
    }
   ],
   "source": [
    "txt2.isdigit()"
   ]
  },
  {
   "cell_type": "code",
   "execution_count": 39,
   "metadata": {},
   "outputs": [
    {
     "data": {
      "text/plain": [
       "True"
      ]
     },
     "execution_count": 39,
     "metadata": {},
     "output_type": "execute_result"
    }
   ],
   "source": [
    "txt3.isdigit()"
   ]
  },
  {
   "cell_type": "code",
   "execution_count": 40,
   "metadata": {},
   "outputs": [],
   "source": [
    "txt1 = '안녕하세요?'\n",
    "txt2 = '1. Title-제목을 넣으세요'\n",
    "txt3 = '3피오R2D2'"
   ]
  },
  {
   "cell_type": "code",
   "execution_count": 41,
   "metadata": {},
   "outputs": [
    {
     "data": {
      "text/plain": [
       "False"
      ]
     },
     "execution_count": 41,
     "metadata": {},
     "output_type": "execute_result"
    }
   ],
   "source": [
    "txt1.isalnum()"
   ]
  },
  {
   "cell_type": "code",
   "execution_count": 42,
   "metadata": {},
   "outputs": [
    {
     "data": {
      "text/plain": [
       "False"
      ]
     },
     "execution_count": 42,
     "metadata": {},
     "output_type": "execute_result"
    }
   ],
   "source": [
    "txt2.isalnum()"
   ]
  },
  {
   "cell_type": "code",
   "execution_count": 43,
   "metadata": {},
   "outputs": [
    {
     "data": {
      "text/plain": [
       "True"
      ]
     },
     "execution_count": 43,
     "metadata": {},
     "output_type": "execute_result"
    }
   ],
   "source": [
    "txt3.isalnum()"
   ]
  },
  {
   "cell_type": "code",
   "execution_count": 44,
   "metadata": {},
   "outputs": [],
   "source": [
    "#7\n",
    "txt = '   양쪽에 공백이 있는 문자열입니다.   '"
   ]
  },
  {
   "cell_type": "code",
   "execution_count": 45,
   "metadata": {},
   "outputs": [
    {
     "data": {
      "text/plain": [
       "'<양쪽에 공백이 있는 문자열입니다.   >'"
      ]
     },
     "execution_count": 45,
     "metadata": {},
     "output_type": "execute_result"
    }
   ],
   "source": [
    "'<'+ txt.lstrip() + '>'"
   ]
  },
  {
   "cell_type": "code",
   "execution_count": 46,
   "metadata": {},
   "outputs": [
    {
     "data": {
      "text/plain": [
       "'<   양쪽에 공백이 있는 문자열입니다.>'"
      ]
     },
     "execution_count": 46,
     "metadata": {},
     "output_type": "execute_result"
    }
   ],
   "source": [
    "'<'+ txt.rstrip() + '>'"
   ]
  },
  {
   "cell_type": "code",
   "execution_count": 47,
   "metadata": {},
   "outputs": [
    {
     "data": {
      "text/plain": [
       "'<양쪽에 공백이 있는 문자열입니다.>'"
      ]
     },
     "execution_count": 47,
     "metadata": {},
     "output_type": "execute_result"
    }
   ],
   "source": [
    "'<'+ txt.strip() + '>'"
   ]
  },
  {
   "cell_type": "code",
   "execution_count": 48,
   "metadata": {},
   "outputs": [],
   "source": [
    "#8\n",
    "num1 = 1234\n",
    "num2 = 3.14"
   ]
  },
  {
   "cell_type": "code",
   "execution_count": 51,
   "metadata": {},
   "outputs": [
    {
     "name": "stdout",
     "output_type": "stream",
     "text": [
      "num1을 문자열로 변환한 값은 “1234” 입니다.\n",
      "num2를 문자열로 변환한 값은 “3.14” 입니다.\n"
     ]
    }
   ],
   "source": [
    "print('num1을 문자열로 변환한 값은 “%s” 입니다.' %str(num1))\n",
    "print('num2를 문자열로 변환한 값은 “%s” 입니다.' %str(num2))"
   ]
  },
  {
   "cell_type": "code",
   "execution_count": 53,
   "metadata": {},
   "outputs": [],
   "source": [
    "#9\n",
    "txt = 'A lot of things occur each day, every day.'"
   ]
  },
  {
   "cell_type": "code",
   "execution_count": 54,
   "metadata": {},
   "outputs": [
    {
     "data": {
      "text/plain": [
       "3"
      ]
     },
     "execution_count": 54,
     "metadata": {},
     "output_type": "execute_result"
    }
   ],
   "source": [
    "txt.count('o')"
   ]
  },
  {
   "cell_type": "code",
   "execution_count": 55,
   "metadata": {},
   "outputs": [
    {
     "data": {
      "text/plain": [
       "22"
      ]
     },
     "execution_count": 55,
     "metadata": {},
     "output_type": "execute_result"
    }
   ],
   "source": [
    "#10\n",
    "txt.find('e')"
   ]
  },
  {
   "cell_type": "code",
   "execution_count": 56,
   "metadata": {},
   "outputs": [
    {
     "data": {
      "text/plain": [
       "38"
      ]
     },
     "execution_count": 56,
     "metadata": {},
     "output_type": "execute_result"
    }
   ],
   "source": [
    "txt.find('day', 30) #string.find(value, start, end) = 30이후부터 찾아라 "
   ]
  },
  {
   "cell_type": "code",
   "execution_count": 57,
   "metadata": {},
   "outputs": [],
   "source": [
    "#11\n",
    "url = 'http://www.naver.com/news/today=20160831'\n",
    "log = 'name:홍길동 age:17 gender:남자 nation:한국'"
   ]
  },
  {
   "cell_type": "code",
   "execution_count": 58,
   "metadata": {},
   "outputs": [
    {
     "data": {
      "text/plain": [
       "['http:', '', 'www.naver.com', 'news', 'today=20160831']"
      ]
     },
     "execution_count": 58,
     "metadata": {},
     "output_type": "execute_result"
    }
   ],
   "source": [
    "url.split('/')"
   ]
  },
  {
   "cell_type": "code",
   "execution_count": 69,
   "metadata": {},
   "outputs": [
    {
     "name": "stdout",
     "output_type": "stream",
     "text": [
      "name -> 홍길동\n",
      "age -> 17\n",
      "gender -> 남자\n",
      "nation -> 한국\n"
     ]
    }
   ],
   "source": [
    "for data in log.split():\n",
    "    print(data.split(':')[0], '->', data.split(':')[1])"
   ]
  },
  {
   "cell_type": "code",
   "execution_count": 70,
   "metadata": {},
   "outputs": [],
   "source": [
    "#12\n",
    "loglist = ['2016/08/26 10:12:11', '200', 'OK', '이 또한 지나가리라']"
   ]
  },
  {
   "cell_type": "code",
   "execution_count": 72,
   "metadata": {},
   "outputs": [
    {
     "data": {
      "text/plain": [
       "'2016/08/26 10:12:11;200;OK;이 또한 지나가리라'"
      ]
     },
     "execution_count": 72,
     "metadata": {},
     "output_type": "execute_result"
    }
   ],
   "source": [
    "\";\".join(loglist)"
   ]
  },
  {
   "cell_type": "code",
   "execution_count": 73,
   "metadata": {},
   "outputs": [],
   "source": [
    "#13\n",
    "txt = \"my password is 1234\""
   ]
  },
  {
   "cell_type": "code",
   "execution_count": 74,
   "metadata": {},
   "outputs": [
    {
     "data": {
      "text/plain": [
       "'my password is 0234'"
      ]
     },
     "execution_count": 74,
     "metadata": {},
     "output_type": "execute_result"
    }
   ],
   "source": [
    "txt.replace('1','0')"
   ]
  },
  {
   "cell_type": "code",
   "execution_count": 75,
   "metadata": {},
   "outputs": [
    {
     "data": {
      "text/plain": [
       "'my password is python234'"
      ]
     },
     "execution_count": 75,
     "metadata": {},
     "output_type": "execute_result"
    }
   ],
   "source": [
    "txt.replace('1','python')"
   ]
  },
  {
   "cell_type": "code",
   "execution_count": 76,
   "metadata": {},
   "outputs": [],
   "source": [
    "txt = \"매일 많은 일들이 일어납니다\""
   ]
  },
  {
   "cell_type": "code",
   "execution_count": 77,
   "metadata": {},
   "outputs": [
    {
     "data": {
      "text/plain": [
       "'항상 많은 일들이 일어납니다'"
      ]
     },
     "execution_count": 77,
     "metadata": {},
     "output_type": "execute_result"
    }
   ],
   "source": [
    "txt.replace('매일', '항상')"
   ]
  },
  {
   "cell_type": "code",
   "execution_count": 78,
   "metadata": {},
   "outputs": [
    {
     "data": {
      "text/plain": [
       "'매사건 많은 사건들이 사건어납니다'"
      ]
     },
     "execution_count": 78,
     "metadata": {},
     "output_type": "execute_result"
    }
   ],
   "source": [
    "txt.replace('일','사건')"
   ]
  },
  {
   "cell_type": "code",
   "execution_count": 79,
   "metadata": {},
   "outputs": [],
   "source": [
    "#14\n",
    "u_txt = 'I love python'\n",
    "b_txt = u_txt.encode()"
   ]
  },
  {
   "cell_type": "code",
   "execution_count": 80,
   "metadata": {},
   "outputs": [
    {
     "data": {
      "text/plain": [
       "'I love python'"
      ]
     },
     "execution_count": 80,
     "metadata": {},
     "output_type": "execute_result"
    }
   ],
   "source": [
    "u_txt"
   ]
  },
  {
   "cell_type": "code",
   "execution_count": 81,
   "metadata": {},
   "outputs": [
    {
     "data": {
      "text/plain": [
       "b'I love python'"
      ]
     },
     "execution_count": 81,
     "metadata": {},
     "output_type": "execute_result"
    }
   ],
   "source": [
    "b_txt #바이트 객체는 문자열 앞에 b'를 붙여 출력된다."
   ]
  },
  {
   "cell_type": "code",
   "execution_count": 82,
   "metadata": {},
   "outputs": [
    {
     "name": "stdout",
     "output_type": "stream",
     "text": [
      "73\n"
     ]
    }
   ],
   "source": [
    "print(b_txt[0])"
   ]
  },
  {
   "cell_type": "code",
   "execution_count": 83,
   "metadata": {},
   "outputs": [
    {
     "name": "stdout",
     "output_type": "stream",
     "text": [
      "32\n"
     ]
    }
   ],
   "source": [
    "print(b_txt[1])"
   ]
  },
  {
   "cell_type": "code",
   "execution_count": 84,
   "metadata": {},
   "outputs": [
    {
     "name": "stdout",
     "output_type": "stream",
     "text": [
      "True\n",
      "False\n",
      "True\n"
     ]
    }
   ],
   "source": [
    "ret1 = 'I' == u_txt[0]\n",
    "ret2 = 'I' == b_txt[0]\n",
    "ret3 = 73 == b_txt[0]\n",
    "print(ret1)    # True가 출력됨\n",
    "print(ret2)    # False가 출력됨\n",
    "print(ret3)    # True 가 출력됨"
   ]
  },
  {
   "cell_type": "code",
   "execution_count": 86,
   "metadata": {},
   "outputs": [],
   "source": [
    "b_txt = b'A lot of things occur each day.'\n",
    "u_txt = b_txt.decode()"
   ]
  },
  {
   "cell_type": "code",
   "execution_count": 87,
   "metadata": {},
   "outputs": [
    {
     "name": "stdout",
     "output_type": "stream",
     "text": [
      "A lot of things occur each day.\n"
     ]
    }
   ],
   "source": [
    "print(u_txt)"
   ]
  },
  {
   "cell_type": "code",
   "execution_count": 95,
   "metadata": {},
   "outputs": [
    {
     "name": "stdout",
     "output_type": "stream",
     "text": [
      "정렬할 문자열을 입력하세요:     asdadadasdasd\n",
      "[' ', ' ', ' ', ' ', 'a', 'a', 'a', 'a', 'a', 'd', 'd', 'd', 'd', 'd', 's', 's', 's']\n"
     ]
    }
   ],
   "source": [
    "#15\n",
    "strdata = input('정렬할 문자열을 입력하세요: ')\n",
    "print(sorted(strdata))"
   ]
  },
  {
   "cell_type": "code",
   "execution_count": 96,
   "metadata": {},
   "outputs": [
    {
     "name": "stdout",
     "output_type": "stream",
     "text": [
      "['s', 's', 's', 'd', 'd', 'd', 'd', 'd', 'a', 'a', 'a', 'a', 'a', ' ', ' ', ' ', ' ']\n"
     ]
    }
   ],
   "source": [
    "print(sorted(strdata, reverse=True))"
   ]
  },
  {
   "cell_type": "code",
   "execution_count": 97,
   "metadata": {},
   "outputs": [
    {
     "data": {
      "text/plain": [
       "'<    aaaaadddddsss>'"
      ]
     },
     "execution_count": 97,
     "metadata": {},
     "output_type": "execute_result"
    }
   ],
   "source": [
    "'<' + \"\".join(sorted(strdata)) + '>'"
   ]
  },
  {
   "cell_type": "code",
   "execution_count": 98,
   "metadata": {},
   "outputs": [
    {
     "data": {
      "text/plain": [
       "'<sssdddddaaaaa    >'"
      ]
     },
     "execution_count": 98,
     "metadata": {},
     "output_type": "execute_result"
    }
   ],
   "source": [
    "'<' + \"\".join(sorted(strdata, reverse=True)) + '>'"
   ]
  },
  {
   "cell_type": "code",
   "execution_count": 99,
   "metadata": {},
   "outputs": [],
   "source": [
    "#16\n",
    "listdata = [1, 2, 'a', 'b', 'c', [4, 5, 6]]"
   ]
  },
  {
   "cell_type": "code",
   "execution_count": 100,
   "metadata": {},
   "outputs": [
    {
     "data": {
      "text/plain": [
       "2"
      ]
     },
     "execution_count": 100,
     "metadata": {},
     "output_type": "execute_result"
    }
   ],
   "source": [
    "listdata[1]"
   ]
  },
  {
   "cell_type": "code",
   "execution_count": 101,
   "metadata": {},
   "outputs": [
    {
     "data": {
      "text/plain": [
       "'b'"
      ]
     },
     "execution_count": 101,
     "metadata": {},
     "output_type": "execute_result"
    }
   ],
   "source": [
    "listdata[3]"
   ]
  },
  {
   "cell_type": "code",
   "execution_count": 102,
   "metadata": {},
   "outputs": [
    {
     "data": {
      "text/plain": [
       "5"
      ]
     },
     "execution_count": 102,
     "metadata": {},
     "output_type": "execute_result"
    }
   ],
   "source": [
    "listdata[5][1]"
   ]
  },
  {
   "cell_type": "code",
   "execution_count": 13,
   "metadata": {},
   "outputs": [],
   "source": [
    "solarsys = ['태양', '수성', '금성', '지구', '화성', '목성', '토성', '천왕성', '해왕성']"
   ]
  },
  {
   "cell_type": "code",
   "execution_count": 104,
   "metadata": {},
   "outputs": [
    {
     "data": {
      "text/plain": [
       "['수성', '금성', '지구']"
      ]
     },
     "execution_count": 104,
     "metadata": {},
     "output_type": "execute_result"
    }
   ],
   "source": [
    "solarsys[1:4]"
   ]
  },
  {
   "cell_type": "code",
   "execution_count": 105,
   "metadata": {},
   "outputs": [
    {
     "data": {
      "text/plain": [
       "['화성', '목성', '토성', '천왕성', '해왕성']"
      ]
     },
     "execution_count": 105,
     "metadata": {},
     "output_type": "execute_result"
    }
   ],
   "source": [
    "solarsys[4:]"
   ]
  },
  {
   "cell_type": "code",
   "execution_count": 119,
   "metadata": {},
   "outputs": [
    {
     "name": "stdout",
     "output_type": "stream",
     "text": [
      "['수성', '금성', '지구']\n",
      "['화성', '목성', '토성', '천왕성', '해왕성', '지구']\n"
     ]
    }
   ],
   "source": [
    "print(solarsys[1:4]);print(solarsys[4:])"
   ]
  },
  {
   "cell_type": "code",
   "execution_count": 125,
   "metadata": {},
   "outputs": [
    {
     "data": {
      "text/plain": [
       "['화성', '목성', '토성', '천왕성', '해왕성', '지구']"
      ]
     },
     "execution_count": 125,
     "metadata": {},
     "output_type": "execute_result"
    }
   ],
   "source": [
    "gas_planets = solarsys[4:]\n",
    "gas_planets"
   ]
  },
  {
   "cell_type": "code",
   "execution_count": 126,
   "metadata": {},
   "outputs": [
    {
     "name": "stdout",
     "output_type": "stream",
     "text": [
      "태양계의 암석형 행성: ['화성', '목성', '토성', '천왕성', '해왕성', '지구']\n"
     ]
    }
   ],
   "source": [
    "print('태양계의 암석형 행성: ', end=''); print(gas_planets)"
   ]
  },
  {
   "cell_type": "code",
   "execution_count": 127,
   "metadata": {},
   "outputs": [],
   "source": [
    "#17\n",
    "solarsys = ['태양', '수성', '금성', '지구', '화성', '목성', '토성', '천왕성', '해왕성', '지구']"
   ]
  },
  {
   "cell_type": "code",
   "execution_count": 128,
   "metadata": {},
   "outputs": [],
   "source": [
    "planet = '지구'\n",
    "pos = solarsys.index(planet)"
   ]
  },
  {
   "cell_type": "code",
   "execution_count": 130,
   "metadata": {},
   "outputs": [
    {
     "name": "stdout",
     "output_type": "stream",
     "text": [
      "지구는 태양계에서 3번째 위치하고 있다\n"
     ]
    }
   ],
   "source": [
    "print('{}는 태양계에서 {}번째 위치하고 있다'.format(planet,pos))"
   ]
  },
  {
   "cell_type": "code",
   "execution_count": 131,
   "metadata": {},
   "outputs": [],
   "source": [
    "pos = solarsys.index(planet, 5) #5번째 이상부터"
   ]
  },
  {
   "cell_type": "code",
   "execution_count": 132,
   "metadata": {},
   "outputs": [
    {
     "name": "stdout",
     "output_type": "stream",
     "text": [
      "지구는 태양계에서 9번째 위치하고 있다\n"
     ]
    }
   ],
   "source": [
    "print('{}는 태양계에서 {}번째 위치하고 있다'.format(planet,pos))"
   ]
  },
  {
   "cell_type": "code",
   "execution_count": 133,
   "metadata": {},
   "outputs": [],
   "source": [
    "planet='화성'\n",
    "pos = solarsys.index(planet)\n",
    "solarsys[pos] = 'Mars'"
   ]
  },
  {
   "cell_type": "code",
   "execution_count": 134,
   "metadata": {},
   "outputs": [
    {
     "data": {
      "text/plain": [
       "['태양', '수성', '금성', '지구', 'Mars', '목성', '토성', '천왕성', '해왕성', '지구']"
      ]
     },
     "execution_count": 134,
     "metadata": {},
     "output_type": "execute_result"
    }
   ],
   "source": [
    "solarsys"
   ]
  },
  {
   "cell_type": "code",
   "execution_count": 146,
   "metadata": {},
   "outputs": [
    {
     "data": {
      "text/plain": [
       "[0, 1, 2, 3, 4]"
      ]
     },
     "execution_count": 146,
     "metadata": {},
     "output_type": "execute_result"
    }
   ],
   "source": [
    "#18\n",
    "listdata = list(range(5))\n",
    "listdata"
   ]
  },
  {
   "cell_type": "code",
   "execution_count": 139,
   "metadata": {},
   "outputs": [
    {
     "data": {
      "text/plain": [
       "[4, 3, 2, 1, 0]"
      ]
     },
     "execution_count": 139,
     "metadata": {},
     "output_type": "execute_result"
    }
   ],
   "source": [
    "listdata.reverse() #데이터 순서를 바꿔서 리스트 안에 넣어주는 것\n",
    "listdata"
   ]
  },
  {
   "cell_type": "code",
   "execution_count": 148,
   "metadata": {},
   "outputs": [
    {
     "name": "stdout",
     "output_type": "stream",
     "text": [
      "원본데이터 :  [0, 1, 2, 3, 4]\n",
      "역순데이터 :  [4, 3, 2, 1, 0]\n"
     ]
    }
   ],
   "source": [
    "ret = reversed(listdata)\n",
    "print(\"원본데이터 : \", listdata)\n",
    "print(\"역순데이터 : \", list(ret)) #역순된 인자를 list에 다시 넣어서 확인한다"
   ]
  },
  {
   "cell_type": "code",
   "execution_count": 149,
   "metadata": {},
   "outputs": [
    {
     "data": {
      "text/plain": [
       "[4, 3, 2, 1, 0]"
      ]
     },
     "execution_count": 149,
     "metadata": {},
     "output_type": "execute_result"
    }
   ],
   "source": [
    "listdata[::-1] #순서대로 읽어오기 때문에 데이터 자체가 바뀌진 않음"
   ]
  },
  {
   "cell_type": "code",
   "execution_count": 6,
   "metadata": {},
   "outputs": [],
   "source": [
    "#19\n",
    "listdata1 = ['a', 'b', 'c', 'd', 'e']\n",
    "listdata2 = ['f', 'g', 'h', 'i', 'j']"
   ]
  },
  {
   "cell_type": "code",
   "execution_count": 7,
   "metadata": {},
   "outputs": [
    {
     "data": {
      "text/plain": [
       "['a', 'b', 'c', 'd', 'e', 'f', 'g', 'h', 'i', 'j']"
      ]
     },
     "execution_count": 7,
     "metadata": {},
     "output_type": "execute_result"
    }
   ],
   "source": [
    "listdata1 + listdata2"
   ]
  },
  {
   "cell_type": "code",
   "execution_count": 8,
   "metadata": {},
   "outputs": [
    {
     "data": {
      "text/plain": [
       "['f', 'g', 'h', 'i', 'j', 'a', 'b', 'c', 'd', 'e']"
      ]
     },
     "execution_count": 8,
     "metadata": {},
     "output_type": "execute_result"
    }
   ],
   "source": [
    "listdata2 + listdata1"
   ]
  },
  {
   "cell_type": "code",
   "execution_count": 9,
   "metadata": {},
   "outputs": [],
   "source": [
    "listdata = list(range(3))"
   ]
  },
  {
   "cell_type": "code",
   "execution_count": 10,
   "metadata": {},
   "outputs": [
    {
     "data": {
      "text/plain": [
       "[0, 1, 2, 0, 1, 2, 0, 1, 2]"
      ]
     },
     "execution_count": 10,
     "metadata": {},
     "output_type": "execute_result"
    }
   ],
   "source": [
    "listdata * 3"
   ]
  },
  {
   "cell_type": "code",
   "execution_count": 11,
   "metadata": {},
   "outputs": [
    {
     "name": "stdout",
     "output_type": "stream",
     "text": [
      "리스트에 추가할 값을 입력하세요[1/3]: 1\n",
      "[0, 1, 2, '1']\n",
      "리스트에 추가할 값을 입력하세요[2/3]: 2\n",
      "[0, 1, 2, '1', '2']\n",
      "리스트에 추가할 값을 입력하세요[3/3]: 3\n",
      "[0, 1, 2, '1', '2', '3']\n"
     ]
    }
   ],
   "source": [
    "#20\n",
    "for i in range(3):\n",
    "   txt = input('리스트에 추가할 값을 입력하세요[%d/3]: ' %(i+1))\n",
    "   listdata.append(txt)\n",
    "   print(listdata)"
   ]
  },
  {
   "cell_type": "code",
   "execution_count": 14,
   "metadata": {},
   "outputs": [
    {
     "data": {
      "text/plain": [
       "['태양', '수성', '금성', '지구', '화성', '목성', '토성', '천왕성', '해왕성']"
      ]
     },
     "execution_count": 14,
     "metadata": {},
     "output_type": "execute_result"
    }
   ],
   "source": [
    "solarsys"
   ]
  },
  {
   "cell_type": "code",
   "execution_count": 15,
   "metadata": {},
   "outputs": [
    {
     "data": {
      "text/plain": [
       "['태양', '수성', '금성', '지구', '화성', '소행성', '목성', '토성', '천왕성', '해왕성']"
      ]
     },
     "execution_count": 15,
     "metadata": {},
     "output_type": "execute_result"
    }
   ],
   "source": [
    "pos = solarsys.index('목성')\n",
    "solarsys.insert(pos, '소행성')\n",
    "solarsys"
   ]
  },
  {
   "cell_type": "code",
   "execution_count": 16,
   "metadata": {},
   "outputs": [
    {
     "data": {
      "text/plain": [
       "['수성', '금성', '지구', '화성', '소행성', '목성', '토성', '천왕성', '해왕성']"
      ]
     },
     "execution_count": 16,
     "metadata": {},
     "output_type": "execute_result"
    }
   ],
   "source": [
    "#21\n",
    "del solarsys[0]\n",
    "solarsys"
   ]
  },
  {
   "cell_type": "code",
   "execution_count": 17,
   "metadata": {},
   "outputs": [],
   "source": [
    "del solarsys[-2]\n",
    "solarsys"
   ]
  },
  {
   "cell_type": "code",
   "execution_count": 19,
   "metadata": {},
   "outputs": [
    {
     "data": {
      "text/plain": [
       "['수성', '화성', '소행성', '목성', '토성', '해왕성']"
      ]
     },
     "execution_count": 19,
     "metadata": {},
     "output_type": "execute_result"
    }
   ],
   "source": [
    "del solarsys[1:3]\n",
    "solarsys"
   ]
  },
  {
   "cell_type": "code",
   "execution_count": 21,
   "metadata": {},
   "outputs": [],
   "source": [
    "del solarsys"
   ]
  },
  {
   "cell_type": "code",
   "execution_count": 22,
   "metadata": {},
   "outputs": [
    {
     "ename": "NameError",
     "evalue": "name 'solarsys' is not defined",
     "output_type": "error",
     "traceback": [
      "\u001b[1;31m---------------------------------------------------------------------------\u001b[0m",
      "\u001b[1;31mNameError\u001b[0m                                 Traceback (most recent call last)",
      "\u001b[1;32m<ipython-input-22-0a8a95d9af38>\u001b[0m in \u001b[0;36m<module>\u001b[1;34m\u001b[0m\n\u001b[1;32m----> 1\u001b[1;33m \u001b[0msolarsys\u001b[0m\u001b[1;33m\u001b[0m\u001b[1;33m\u001b[0m\u001b[0m\n\u001b[0m",
      "\u001b[1;31mNameError\u001b[0m: name 'solarsys' is not defined"
     ]
    }
   ],
   "source": [
    "solarsys"
   ]
  },
  {
   "cell_type": "code",
   "execution_count": 23,
   "metadata": {},
   "outputs": [],
   "source": [
    "#22\n",
    "solarsys = ['태양', '수성', '금성', '지구', '화성', '목성', '토성', '천왕성', '해왕성']"
   ]
  },
  {
   "cell_type": "code",
   "execution_count": 24,
   "metadata": {},
   "outputs": [
    {
     "name": "stdout",
     "output_type": "stream",
     "text": [
      "['수성', '금성', '지구', '화성', '목성', '토성', '천왕성', '해왕성']\n"
     ]
    }
   ],
   "source": [
    "solarsys.remove('태양')\n",
    "print(solarsys)"
   ]
  },
  {
   "cell_type": "code",
   "execution_count": 25,
   "metadata": {},
   "outputs": [
    {
     "data": {
      "text/plain": [
       "15"
      ]
     },
     "execution_count": 25,
     "metadata": {},
     "output_type": "execute_result"
    }
   ],
   "source": [
    "#23\n",
    "listdata = [2, 2, 1, 3, 8, 5, 7, 6, 3, 6, 2, 3, 9, 4, 4]\n",
    "len(listdata)"
   ]
  },
  {
   "cell_type": "code",
   "execution_count": 29,
   "metadata": {},
   "outputs": [
    {
     "data": {
      "text/plain": [
       "3"
      ]
     },
     "execution_count": 29,
     "metadata": {},
     "output_type": "execute_result"
    }
   ],
   "source": [
    "listdata.count(2)"
   ]
  },
  {
   "cell_type": "code",
   "execution_count": 30,
   "metadata": {},
   "outputs": [
    {
     "data": {
      "text/plain": [
       "2"
      ]
     },
     "execution_count": 30,
     "metadata": {},
     "output_type": "execute_result"
    }
   ],
   "source": [
    "listdata.count(6)"
   ]
  },
  {
   "cell_type": "code",
   "execution_count": 31,
   "metadata": {},
   "outputs": [],
   "source": [
    "#24\n",
    "namelist = ['Mary', 'Sams', 'Aimy', 'Tom', 'Michale', 'Bob', 'Kelly']"
   ]
  },
  {
   "cell_type": "code",
   "execution_count": 32,
   "metadata": {},
   "outputs": [
    {
     "data": {
      "text/plain": [
       "['Aimy', 'Bob', 'Kelly', 'Mary', 'Michale', 'Sams', 'Tom']"
      ]
     },
     "execution_count": 32,
     "metadata": {},
     "output_type": "execute_result"
    }
   ],
   "source": [
    "namelist.sort() #원본이 바뀌는 것\n",
    "namelist"
   ]
  },
  {
   "cell_type": "code",
   "execution_count": 33,
   "metadata": {},
   "outputs": [],
   "source": [
    "ret1 = sorted(namelist)\n",
    "ret2 = sorted(namelist, reverse=True)"
   ]
  },
  {
   "cell_type": "code",
   "execution_count": 35,
   "metadata": {},
   "outputs": [
    {
     "name": "stdout",
     "output_type": "stream",
     "text": [
      "['Aimy', 'Bob', 'Kelly', 'Mary', 'Michale', 'Sams', 'Tom']\n",
      "['Aimy', 'Bob', 'Kelly', 'Mary', 'Michale', 'Sams', 'Tom']\n",
      "['Tom', 'Sams', 'Michale', 'Mary', 'Kelly', 'Bob', 'Aimy']\n"
     ]
    }
   ],
   "source": [
    "print(namelist)\n",
    "print(ret1)\n",
    "print(ret2)"
   ]
  },
  {
   "cell_type": "code",
   "execution_count": 37,
   "metadata": {},
   "outputs": [],
   "source": [
    "#25\n",
    "from random import shuffle"
   ]
  },
  {
   "cell_type": "code",
   "execution_count": 38,
   "metadata": {},
   "outputs": [
    {
     "name": "stdout",
     "output_type": "stream",
     "text": [
      "[9, 2, 4, 10, 7, 1, 8, 3, 6, 5]\n",
      "[10, 1, 8, 3, 2, 9, 5, 7, 4, 6]\n",
      "[7, 10, 1, 2, 6, 8, 4, 9, 5, 3]\n"
     ]
    }
   ],
   "source": [
    "listdata = list(range(1,11)) #1부터 10까지\n",
    "\n",
    "for i in range(3): #3번 반복\n",
    "    shuffle(listdata)\n",
    "    print(listdata)"
   ]
  },
  {
   "cell_type": "code",
   "execution_count": 39,
   "metadata": {},
   "outputs": [],
   "source": [
    "#26\n",
    "solarsys = ['태양', '수성', '금성', '지구', '화성', '목성', '토성', '천왕성', '해왕성']"
   ]
  },
  {
   "cell_type": "code",
   "execution_count": 40,
   "metadata": {},
   "outputs": [
    {
     "data": {
      "text/plain": [
       "[(0, '태양'),\n",
       " (1, '수성'),\n",
       " (2, '금성'),\n",
       " (3, '지구'),\n",
       " (4, '화성'),\n",
       " (5, '목성'),\n",
       " (6, '토성'),\n",
       " (7, '천왕성'),\n",
       " (8, '해왕성')]"
      ]
     },
     "execution_count": 40,
     "metadata": {},
     "output_type": "execute_result"
    }
   ],
   "source": [
    "ret = list(enumerate(solarsys))\n",
    "ret #튜플 모양"
   ]
  },
  {
   "cell_type": "code",
   "execution_count": 46,
   "metadata": {},
   "outputs": [
    {
     "name": "stdout",
     "output_type": "stream",
     "text": [
      "태양계의 0번째 천체: 태양\n",
      "태양계의 1번째 천체: 수성\n",
      "태양계의 2번째 천체: 금성\n",
      "태양계의 3번째 천체: 지구\n",
      "태양계의 4번째 천체: 화성\n",
      "태양계의 5번째 천체: 목성\n",
      "태양계의 6번째 천체: 토성\n",
      "태양계의 7번째 천체: 천왕성\n",
      "태양계의 8번째 천체: 해왕성\n"
     ]
    }
   ],
   "source": [
    "for i, body in enumerate(solarsys):\n",
    "    print(\"태양계의 {}번째 천체: {}\".format(i, body))"
   ]
  },
  {
   "cell_type": "code",
   "execution_count": 48,
   "metadata": {},
   "outputs": [
    {
     "name": "stdout",
     "output_type": "stream",
     "text": [
      "태양계의 0번째 천체: [태양]\n",
      "태양계의 1번째 천체: [수성]\n",
      "태양계의 2번째 천체: [금성]\n",
      "태양계의 3번째 천체: [지구]\n",
      "태양계의 4번째 천체: [화성]\n",
      "태양계의 5번째 천체: [목성]\n",
      "태양계의 6번째 천체: [토성]\n",
      "태양계의 7번째 천체: [천왕성]\n",
      "태양계의 8번째 천체: [해왕성]\n"
     ]
    }
   ],
   "source": [
    "#없는 예제(질문 받아서 만든 것)\n",
    "for body in ret:\n",
    "    print(\"태양계의 {0}번째 천체: [{1}]\".format(body[0], body[1])) #인자 안의 인자값"
   ]
  },
  {
   "cell_type": "code",
   "execution_count": 42,
   "metadata": {},
   "outputs": [
    {
     "data": {
      "text/plain": [
       "[7, 10, 1, 2, 6, 8, 4, 9, 5, 3]"
      ]
     },
     "execution_count": 42,
     "metadata": {},
     "output_type": "execute_result"
    }
   ],
   "source": [
    "listdata"
   ]
  },
  {
   "cell_type": "code",
   "execution_count": 43,
   "metadata": {},
   "outputs": [
    {
     "name": "stdout",
     "output_type": "stream",
     "text": [
      "55\n"
     ]
    }
   ],
   "source": [
    "print(sum(listdata))"
   ]
  },
  {
   "cell_type": "code",
   "execution_count": 44,
   "metadata": {},
   "outputs": [],
   "source": [
    "#27\n",
    "listdata1 = [0, 1, 2, 3, 4] #0만 False 0이상 True\n",
    "listdata2 = [True, True, True]\n",
    "listdata3 = ['', [], (), {}, None, False]"
   ]
  },
  {
   "cell_type": "code",
   "execution_count": 49,
   "metadata": {},
   "outputs": [
    {
     "data": {
      "text/plain": [
       "(False, True)"
      ]
     },
     "execution_count": 49,
     "metadata": {},
     "output_type": "execute_result"
    }
   ],
   "source": [
    "all(listdata1), any(listdata1)"
   ]
  },
  {
   "cell_type": "code",
   "execution_count": 50,
   "metadata": {},
   "outputs": [
    {
     "data": {
      "text/plain": [
       "(True, True)"
      ]
     },
     "execution_count": 50,
     "metadata": {},
     "output_type": "execute_result"
    }
   ],
   "source": [
    "all(listdata2), any(listdata2)"
   ]
  },
  {
   "cell_type": "code",
   "execution_count": 52,
   "metadata": {},
   "outputs": [],
   "source": [
    "#28\n",
    "solar1 = ['태양', '수성', '금성', '지구', '화성', '목성', '토성', '천왕성', '해왕성']\n",
    "solar2 = ['Sun', 'Mercury', 'Venus', 'Earth', 'Mars', 'Jupiter', 'Saturn', 'Uranus', 'Neptune']"
   ]
  },
  {
   "cell_type": "code",
   "execution_count": 53,
   "metadata": {},
   "outputs": [],
   "source": [
    "solardict = {}"
   ]
  },
  {
   "cell_type": "code",
   "execution_count": 54,
   "metadata": {},
   "outputs": [],
   "source": [
    "for i, k in enumerate(solar1): #튜플 형식\n",
    "    var = solar2[i]\n",
    "    solardict[k] = var"
   ]
  },
  {
   "cell_type": "code",
   "execution_count": 55,
   "metadata": {},
   "outputs": [
    {
     "data": {
      "text/plain": [
       "{'태양': 'Sun',\n",
       " '수성': 'Mercury',\n",
       " '금성': 'Venus',\n",
       " '지구': 'Earth',\n",
       " '화성': 'Mars',\n",
       " '목성': 'Jupiter',\n",
       " '토성': 'Saturn',\n",
       " '천왕성': 'Uranus',\n",
       " '해왕성': 'Neptune'}"
      ]
     },
     "execution_count": 55,
     "metadata": {},
     "output_type": "execute_result"
    }
   ],
   "source": [
    "solardict"
   ]
  },
  {
   "cell_type": "code",
   "execution_count": 56,
   "metadata": {},
   "outputs": [],
   "source": [
    "#29\n",
    "names = {'Mary':10999, 'Sams':2111, 'Aimy':9778, 'Tom':20245, 'Michale':27115, 'Bob':5887, 'Kelly':7855} #{아기이름:출생아 수}"
   ]
  },
  {
   "cell_type": "code",
   "execution_count": 57,
   "metadata": {},
   "outputs": [
    {
     "name": "stdout",
     "output_type": "stream",
     "text": [
      "{'Mary': 10999, 'Sams': 2111, 'Aimy': 10000, 'Tom': 20245, 'Michale': 27115, 'Bob': 5887, 'Kelly': 7855}\n"
     ]
    }
   ],
   "source": [
    "names['Aimy'] = 10000\n",
    "print(names)"
   ]
  },
  {
   "cell_type": "code",
   "execution_count": 58,
   "metadata": {},
   "outputs": [
    {
     "data": {
      "text/plain": [
       "{'Mary': 10999,\n",
       " 'Aimy': 10000,\n",
       " 'Tom': 20245,\n",
       " 'Michale': 27115,\n",
       " 'Bob': 5887,\n",
       " 'Kelly': 7855}"
      ]
     },
     "execution_count": 58,
     "metadata": {},
     "output_type": "execute_result"
    }
   ],
   "source": [
    "#30\n",
    "del names[\"Sams\"]\n",
    "names"
   ]
  },
  {
   "cell_type": "code",
   "execution_count": 59,
   "metadata": {},
   "outputs": [
    {
     "data": {
      "text/plain": [
       "{}"
      ]
     },
     "execution_count": 59,
     "metadata": {},
     "output_type": "execute_result"
    }
   ],
   "source": [
    "names.clear()\n",
    "names"
   ]
  },
  {
   "cell_type": "code",
   "execution_count": 60,
   "metadata": {},
   "outputs": [],
   "source": [
    "#31\n",
    "names = {'Mary':10999, 'Sams':2111, 'Aimy':9778, 'Tom':20245,'Michale':27115, 'Bob':5887, 'Kelly':7855}"
   ]
  },
  {
   "cell_type": "code",
   "execution_count": 61,
   "metadata": {},
   "outputs": [
    {
     "data": {
      "text/plain": [
       "dict_keys(['Mary', 'Sams', 'Aimy', 'Tom', 'Michale', 'Bob', 'Kelly'])"
      ]
     },
     "execution_count": 61,
     "metadata": {},
     "output_type": "execute_result"
    }
   ],
   "source": [
    "names.keys()"
   ]
  },
  {
   "cell_type": "code",
   "execution_count": 62,
   "metadata": {},
   "outputs": [
    {
     "data": {
      "text/plain": [
       "dict_values([10999, 2111, 9778, 20245, 27115, 5887, 7855])"
      ]
     },
     "execution_count": 62,
     "metadata": {},
     "output_type": "execute_result"
    }
   ],
   "source": [
    "names.values()"
   ]
  },
  {
   "cell_type": "code",
   "execution_count": 63,
   "metadata": {},
   "outputs": [
    {
     "name": "stdout",
     "output_type": "stream",
     "text": [
      "Key: Mary \tValue:10999\n",
      "Key: Sams \tValue:2111\n",
      "Key: Aimy \tValue:9778\n",
      "Key: Tom \tValue:20245\n",
      "Key: Michale \tValue:27115\n",
      "Key: Bob \tValue:5887\n",
      "Key: Kelly \tValue:7855\n"
     ]
    }
   ],
   "source": [
    "for k in names: #하나의 변수에 담으면 key값만 갖고와서 이렇게 써도 됨\n",
    "    print(\"Key: {} \\tValue:{}\".format(k, names[k]))"
   ]
  },
  {
   "cell_type": "code",
   "execution_count": 68,
   "metadata": {},
   "outputs": [
    {
     "name": "stdout",
     "output_type": "stream",
     "text": [
      "출생아수 총계 : 83990\n"
     ]
    }
   ],
   "source": [
    "print(\"출생아수 총계 : {}\".format(sum(names.values())))"
   ]
  },
  {
   "cell_type": "code",
   "execution_count": 71,
   "metadata": {},
   "outputs": [
    {
     "name": "stdout",
     "output_type": "stream",
     "text": [
      "dict_items([('Mary', 10999), ('Sams', 2111), ('Aimy', 9778), ('Tom', 20245), ('Michale', 27115), ('Bob', 5887), ('Kelly', 7855)])\n"
     ]
    }
   ],
   "source": [
    "#32\n",
    "names.items()"
   ]
  },
  {
   "cell_type": "code",
   "execution_count": 73,
   "metadata": {},
   "outputs": [
    {
     "data": {
      "text/plain": [
       "{'Mary': 10999,\n",
       " 'Sams': 2111,\n",
       " 'Aimy': 9778,\n",
       " 'Tom': 20245,\n",
       " 'Michale': 27115,\n",
       " 'Bob': 5887,\n",
       " 'Kelly': 7855}"
      ]
     },
     "execution_count": 73,
     "metadata": {},
     "output_type": "execute_result"
    }
   ],
   "source": [
    "#33\n",
    "names"
   ]
  },
  {
   "cell_type": "code",
   "execution_count": 79,
   "metadata": {},
   "outputs": [
    {
     "name": "stdout",
     "output_type": "stream",
     "text": [
      "이름을 입력하시오Mary\n"
     ]
    }
   ],
   "source": [
    "k = input('이름을 입력하시오')"
   ]
  },
  {
   "cell_type": "code",
   "execution_count": 80,
   "metadata": {},
   "outputs": [
    {
     "name": "stdout",
     "output_type": "stream",
     "text": [
      "이름이 Mary인 출생아수는 10999입니다.\n"
     ]
    }
   ],
   "source": [
    "if k in names:\n",
    "    print('이름이 {}인 출생아수는 {}입니다.'.format(k, names[k]))\n",
    "else:\n",
    "    print('자료에 {}인 이름이 존재하지 않습니다.'.format(k))"
   ]
  },
  {
   "cell_type": "code",
   "execution_count": 86,
   "metadata": {},
   "outputs": [
    {
     "name": "stdout",
     "output_type": "stream",
     "text": [
      "[2111, 5887, 7855, 9778, 10999, 20245, 27115]\n"
     ]
    }
   ],
   "source": [
    "#34\n",
    "ret1 = sorted(names.values())\n",
    "print(ret1)"
   ]
  },
  {
   "cell_type": "code",
   "execution_count": 87,
   "metadata": {},
   "outputs": [],
   "source": [
    "#35\n",
    "def f1(x):\n",
    "   return x[0] #names.items()결과에서 키만 리턴\n",
    " \n",
    "def f2(x):\n",
    "   return x[1] #names.items()결과에서 값만 리턴"
   ]
  },
  {
   "cell_type": "code",
   "execution_count": 95,
   "metadata": {},
   "outputs": [
    {
     "data": {
      "text/plain": [
       "[('Michale', 27115),\n",
       " ('Tom', 20245),\n",
       " ('Mary', 10999),\n",
       " ('Aimy', 9778),\n",
       " ('Kelly', 7855),\n",
       " ('Bob', 5887),\n",
       " ('Sams', 2111)]"
      ]
     },
     "execution_count": 95,
     "metadata": {},
     "output_type": "execute_result"
    }
   ],
   "source": [
    "ret2 = sorted(names.items(), key = f2, reverse=True) #값을 기준으로 오름차순으로 정렬\n",
    "ret2"
   ]
  },
  {
   "cell_type": "code",
   "execution_count": 100,
   "metadata": {},
   "outputs": [
    {
     "name": "stdout",
     "output_type": "stream",
     "text": [
      "문자 1개를 입력하세요 : 김\n",
      "문자 : 김 \t코드값 : 44608[0xae40]\n"
     ]
    }
   ],
   "source": [
    "#36\n",
    "ch = input('문자 1개를 입력하세요 : ')\n",
    "if len(ch) != 0:\n",
    "    ch = ch[0]\n",
    "    chv = ord(ch)\n",
    "    print('문자 : {} \\t코드값 : {}[{}]'.format(ch, chv, hex(chv)))"
   ]
  },
  {
   "cell_type": "code",
   "execution_count": 138,
   "metadata": {},
   "outputs": [
    {
     "name": "stdout",
     "output_type": "stream",
     "text": [
      "문자 코드값을 입력하세요 : !\n",
      "입력한 1에 대한 문자는 존재하지 않습니다.\n"
     ]
    }
   ],
   "source": [
    "ch = input('문자 코드값을 입력하세요 : ')\n",
    "try:\n",
    "    val = int(ch)\n",
    "    ch = chr(val)\n",
    "    print('코드값 : {}[{}], 문자 : {}'.format(val, hex(val), ch))\n",
    "except ValueError:\n",
    "    print('입력한 {}에 대한 문자는 존재하지 않습니다.'.format(val))"
   ]
  },
  {
   "cell_type": "code",
   "execution_count": 122,
   "metadata": {},
   "outputs": [],
   "source": [
    "#37\n",
    "expr1 = '2+3'\n",
    "expr2 = 'round(3.7)'"
   ]
  },
  {
   "cell_type": "code",
   "execution_count": 123,
   "metadata": {},
   "outputs": [],
   "source": [
    "ret1 = eval(expr1)\n",
    "ret2 = eval(expr2)"
   ]
  },
  {
   "cell_type": "code",
   "execution_count": 129,
   "metadata": {},
   "outputs": [
    {
     "name": "stdout",
     "output_type": "stream",
     "text": [
      "[2+3] 를 eval()로 실행한 결과 : 5\n"
     ]
    }
   ],
   "source": [
    "print(\"[{}] 를 eval()로 실행한 결과 : {}\".format(expr1, ret1))"
   ]
  },
  {
   "cell_type": "code",
   "execution_count": 130,
   "metadata": {},
   "outputs": [
    {
     "name": "stdout",
     "output_type": "stream",
     "text": [
      "[round(3.7)] 를 eval()로 실행한 결과 : 4\n"
     ]
    }
   ],
   "source": [
    "print(\"[{}] 를 eval()로 실행한 결과 : {}\".format(expr2, ret2))"
   ]
  },
  {
   "cell_type": "code",
   "execution_count": 1,
   "metadata": {},
   "outputs": [],
   "source": [
    "#38\n",
    "add = lambda x, y : x + y"
   ]
  },
  {
   "cell_type": "code",
   "execution_count": 2,
   "metadata": {},
   "outputs": [
    {
     "name": "stdout",
     "output_type": "stream",
     "text": [
      "5\n"
     ]
    }
   ],
   "source": [
    "ret = add(1,4)\n",
    "print(ret)"
   ]
  },
  {
   "cell_type": "code",
   "execution_count": 3,
   "metadata": {},
   "outputs": [],
   "source": [
    "funcs = [lambda x:x + '.pptx', lambda x:x + '.docx'] #list"
   ]
  },
  {
   "cell_type": "code",
   "execution_count": 5,
   "metadata": {},
   "outputs": [
    {
     "name": "stdout",
     "output_type": "stream",
     "text": [
      "intro.pptx\n"
     ]
    }
   ],
   "source": [
    "ret1 = funcs[0]('intro') #괄호 열면 함수 호출\n",
    "print(ret1)"
   ]
  },
  {
   "cell_type": "code",
   "execution_count": 7,
   "metadata": {},
   "outputs": [
    {
     "name": "stdout",
     "output_type": "stream",
     "text": [
      "Report.docx\n"
     ]
    }
   ],
   "source": [
    "ret2 = funcs[1]('Report')\n",
    "print(ret2)"
   ]
  },
  {
   "cell_type": "code",
   "execution_count": 8,
   "metadata": {},
   "outputs": [],
   "source": [
    "#39\n",
    "names = {'Mary':10999, 'Sams':2111, 'Aimy':9778, 'Tom':20245, 'Michale':27115,\n",
    "          'Bob':5887, 'Kelly':7855}"
   ]
  },
  {
   "cell_type": "code",
   "execution_count": 10,
   "metadata": {},
   "outputs": [
    {
     "name": "stdout",
     "output_type": "stream",
     "text": [
      "[('Aimy', 9778), ('Bob', 5887), ('Kelly', 7855), ('Mary', 10999), ('Michale', 27115), ('Sams', 2111), ('Tom', 20245)]\n"
     ]
    }
   ],
   "source": [
    "ret3 = sorted(names.items(), key=lambda x: x[0]) #x는 names의 items 키값\n",
    "print(ret3)"
   ]
  },
  {
   "cell_type": "code",
   "execution_count": 14,
   "metadata": {},
   "outputs": [
    {
     "name": "stdout",
     "output_type": "stream",
     "text": [
      "[1, 4, 9, 16]\n"
     ]
    }
   ],
   "source": [
    "#40\n",
    "f = lambda x: x * x\n",
    "args = [1,2,3,4]\n",
    "ret = map(f, args)\n",
    "print(list(ret)) #맵 객체를 리스트로 변형해서 출력"
   ]
  },
  {
   "cell_type": "code",
   "execution_count": 15,
   "metadata": {},
   "outputs": [
    {
     "name": "stdout",
     "output_type": "stream",
     "text": [
      "[11, 13, 17, 23, 31]\n"
     ]
    }
   ],
   "source": [
    "#41\n",
    "f = lambda x, y : x * x + y\n",
    "X = [1,2,3,4,5]\n",
    "Y = [10,9,8,7,6]\n",
    "ret = map(f, X, Y)\n",
    "print(list(ret))"
   ]
  },
  {
   "cell_type": "code",
   "execution_count": 16,
   "metadata": {},
   "outputs": [
    {
     "data": {
      "text/plain": [
       "[11, 13, 17, 23, 31]"
      ]
     },
     "execution_count": 16,
     "metadata": {},
     "output_type": "execute_result"
    }
   ],
   "source": [
    "[*map(f, X, Y)]"
   ]
  },
  {
   "cell_type": "code",
   "execution_count": null,
   "metadata": {},
   "outputs": [],
   "source": []
  }
 ],
 "metadata": {
  "kernelspec": {
   "display_name": "pydata",
   "language": "python",
   "name": "pydata"
  },
  "language_info": {
   "codemirror_mode": {
    "name": "ipython",
    "version": 3
   },
   "file_extension": ".py",
   "mimetype": "text/x-python",
   "name": "python",
   "nbconvert_exporter": "python",
   "pygments_lexer": "ipython3",
   "version": "3.7.10"
  }
 },
 "nbformat": 4,
 "nbformat_minor": 4
}
